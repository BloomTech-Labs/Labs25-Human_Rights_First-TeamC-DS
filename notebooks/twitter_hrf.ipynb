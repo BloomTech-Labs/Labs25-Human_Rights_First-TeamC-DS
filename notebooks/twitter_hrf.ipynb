{
  "nbformat": 4,
  "nbformat_minor": 0,
  "metadata": {
    "colab": {
      "name": "twitter_hrf.ipynb",
      "provenance": [],
      "collapsed_sections": []
    },
    "kernelspec": {
      "name": "python3",
      "display_name": "Python 3"
    }
  },
  "cells": [
    {
      "cell_type": "markdown",
      "metadata": {
        "id": "EVxmxsXsFU6R",
        "colab_type": "text"
      },
      "source": [
        "# Overview\n",
        "\n",
        "- import recent trending tweets using tweepy\n",
        "- run nlp model to identify police use of force\n",
        "  - limit to tweets to know hashtags with examples of police force for release 1\n",
        "- save scoped tweets into temp storage, ex: sqlite to avoid rate limits\n",
        "- run nlp/ner model on topic scoped tweets to find location of reported incident\n",
        "- use geopy or google rest api to get lat and lon of found gpe"
      ]
    },
    {
      "cell_type": "markdown",
      "metadata": {
        "id": "NPk2wHAsU_wS",
        "colab_type": "text"
      },
      "source": [
        "## tweepy config"
      ]
    },
    {
      "cell_type": "code",
      "metadata": {
        "id": "OgulOSHGPdr5",
        "colab_type": "code",
        "colab": {
          "base_uri": "https://localhost:8080/",
          "height": 201
        },
        "outputId": "d894df38-1b86-4756-b26b-efb2fe360e41"
      },
      "source": [
        "!pip install tweepy"
      ],
      "execution_count": 2,
      "outputs": [
        {
          "output_type": "stream",
          "text": [
            "Requirement already satisfied: tweepy in /usr/local/lib/python3.6/dist-packages (3.6.0)\n",
            "Requirement already satisfied: six>=1.10.0 in /usr/local/lib/python3.6/dist-packages (from tweepy) (1.15.0)\n",
            "Requirement already satisfied: requests-oauthlib>=0.7.0 in /usr/local/lib/python3.6/dist-packages (from tweepy) (1.3.0)\n",
            "Requirement already satisfied: PySocks>=1.5.7 in /usr/local/lib/python3.6/dist-packages (from tweepy) (1.7.1)\n",
            "Requirement already satisfied: requests>=2.11.1 in /usr/local/lib/python3.6/dist-packages (from tweepy) (2.23.0)\n",
            "Requirement already satisfied: oauthlib>=3.0.0 in /usr/local/lib/python3.6/dist-packages (from requests-oauthlib>=0.7.0->tweepy) (3.1.0)\n",
            "Requirement already satisfied: certifi>=2017.4.17 in /usr/local/lib/python3.6/dist-packages (from requests>=2.11.1->tweepy) (2020.6.20)\n",
            "Requirement already satisfied: idna<3,>=2.5 in /usr/local/lib/python3.6/dist-packages (from requests>=2.11.1->tweepy) (2.10)\n",
            "Requirement already satisfied: chardet<4,>=3.0.2 in /usr/local/lib/python3.6/dist-packages (from requests>=2.11.1->tweepy) (3.0.4)\n",
            "Requirement already satisfied: urllib3!=1.25.0,!=1.25.1,<1.26,>=1.21.1 in /usr/local/lib/python3.6/dist-packages (from requests>=2.11.1->tweepy) (1.24.3)\n"
          ],
          "name": "stdout"
        }
      ]
    },
    {
      "cell_type": "code",
      "metadata": {
        "id": "VYU6TaVYoS_p",
        "colab_type": "code",
        "colab": {}
      },
      "source": [
        "import tweepy\n",
        "import re\n",
        "import plotly.express as px\n",
        "import pandas as pd"
      ],
      "execution_count": 3,
      "outputs": []
    },
    {
      "cell_type": "code",
      "metadata": {
        "id": "Of-BRWDnW7dZ",
        "colab_type": "code",
        "colab": {}
      },
      "source": [
        "API_KEY = input('api_key: ')\n",
        "API_SECRET_KEY = input('api_secret_key: ')"
      ],
      "execution_count": null,
      "outputs": []
    },
    {
      "cell_type": "code",
      "metadata": {
        "id": "F0TXCIsGoa68",
        "colab_type": "code",
        "colab": {}
      },
      "source": [
        "auth = tweepy.OAuthHandler(API_KEY, API_SECRET_KEY)"
      ],
      "execution_count": 6,
      "outputs": []
    },
    {
      "cell_type": "code",
      "metadata": {
        "id": "xjkWANv0pFP3",
        "colab_type": "code",
        "colab": {}
      },
      "source": [
        "api = tweepy.API(auth)"
      ],
      "execution_count": 7,
      "outputs": []
    },
    {
      "cell_type": "markdown",
      "metadata": {
        "id": "fdhy_PfLVHJx",
        "colab_type": "text"
      },
      "source": [
        "## scoped tweets to keywords \"black lives matter"
      ]
    },
    {
      "cell_type": "code",
      "metadata": {
        "id": "DJVhWA5apRTD",
        "colab_type": "code",
        "colab": {}
      },
      "source": [
        "blm_search = api.search(\"black lives matter\",count=100)"
      ],
      "execution_count": 8,
      "outputs": []
    },
    {
      "cell_type": "code",
      "metadata": {
        "id": "ODNX2NBKs1Zb",
        "colab_type": "code",
        "colab": {}
      },
      "source": [
        "def extract_hash_tags(s):\n",
        "    return set(part[1:] for part in s.split() if part.startswith('#'))"
      ],
      "execution_count": 9,
      "outputs": []
    },
    {
      "cell_type": "code",
      "metadata": {
        "id": "FnuGQeO63wG3",
        "colab_type": "code",
        "colab": {
          "base_uri": "https://localhost:8080/",
          "height": 32
        },
        "outputId": "720fa00c-c173-4be3-c0a0-78ccee52fca1"
      },
      "source": [
        "blm_search.count"
      ],
      "execution_count": 10,
      "outputs": [
        {
          "output_type": "execute_result",
          "data": {
            "text/plain": [
              "100"
            ]
          },
          "metadata": {
            "tags": []
          },
          "execution_count": 10
        }
      ]
    },
    {
      "cell_type": "code",
      "metadata": {
        "id": "sOfpW1M5coyV",
        "colab_type": "code",
        "colab": {}
      },
      "source": [
        "dir(blm_search)"
      ],
      "execution_count": null,
      "outputs": []
    },
    {
      "cell_type": "code",
      "metadata": {
        "id": "azORTm4kpgth",
        "colab_type": "code",
        "colab": {}
      },
      "source": [
        "hashtags = []\n",
        "tweet_text = []\n",
        "user_name = []\n",
        "user_location = []\n",
        "for i in blm_search:\n",
        "  tweet_text.append(i.text)\n",
        "  user_name.append(i.user.name)\n",
        "  user_location.append(i.user.location)\n",
        "  hashtags.append(extract_hash_tags(i.text))\n"
      ],
      "execution_count": 11,
      "outputs": []
    },
    {
      "cell_type": "code",
      "metadata": {
        "id": "dFxnZe9TdtV0",
        "colab_type": "code",
        "colab": {}
      },
      "source": [
        "df = pd.DataFrame({'user_name': user_name,\n",
        "                   'user_location': user_location,\n",
        "                   'tweet_text':tweet_text,\n",
        "                   'tags': hashtags\n",
        "                   })\n"
      ],
      "execution_count": 12,
      "outputs": []
    },
    {
      "cell_type": "code",
      "metadata": {
        "id": "XgWwB2mOfWB7",
        "colab_type": "code",
        "colab": {
          "base_uri": "https://localhost:8080/",
          "height": 352
        },
        "outputId": "e81839b4-5f2e-46ab-c998-2f1547eefa10"
      },
      "source": [
        "df.head(10)"
      ],
      "execution_count": 13,
      "outputs": [
        {
          "output_type": "execute_result",
          "data": {
            "text/html": [
              "<div>\n",
              "<style scoped>\n",
              "    .dataframe tbody tr th:only-of-type {\n",
              "        vertical-align: middle;\n",
              "    }\n",
              "\n",
              "    .dataframe tbody tr th {\n",
              "        vertical-align: top;\n",
              "    }\n",
              "\n",
              "    .dataframe thead th {\n",
              "        text-align: right;\n",
              "    }\n",
              "</style>\n",
              "<table border=\"1\" class=\"dataframe\">\n",
              "  <thead>\n",
              "    <tr style=\"text-align: right;\">\n",
              "      <th></th>\n",
              "      <th>user_name</th>\n",
              "      <th>user_location</th>\n",
              "      <th>tweet_text</th>\n",
              "      <th>tags</th>\n",
              "    </tr>\n",
              "  </thead>\n",
              "  <tbody>\n",
              "    <tr>\n",
              "      <th>0</th>\n",
              "      <td>👤</td>\n",
              "      <td></td>\n",
              "      <td>RT @Lopez83__: lets not forget BLACK LIVES STI...</td>\n",
              "      <td>{}</td>\n",
              "    </tr>\n",
              "    <tr>\n",
              "      <th>1</th>\n",
              "      <td>AD&amp;D DM🧢</td>\n",
              "      <td>Banished To The Man Cave</td>\n",
              "      <td>Black Lives Matter DEFENDS Chicago Looters, Sa...</td>\n",
              "      <td>{}</td>\n",
              "    </tr>\n",
              "    <tr>\n",
              "      <th>2</th>\n",
              "      <td>dina🐉</td>\n",
              "      <td></td>\n",
              "      <td>RT @mushrxom_bby: black lives still matter. bl...</td>\n",
              "      <td>{}</td>\n",
              "    </tr>\n",
              "    <tr>\n",
              "      <th>3</th>\n",
              "      <td>▪︎</td>\n",
              "      <td></td>\n",
              "      <td>RT @Lopez83__: lets not forget BLACK LIVES STI...</td>\n",
              "      <td>{}</td>\n",
              "    </tr>\n",
              "    <tr>\n",
              "      <th>4</th>\n",
              "      <td>Steph Paul 🇭🇹</td>\n",
              "      <td>Georgia, USA</td>\n",
              "      <td>RT @jacquelinel0wry: black lives still matter....</td>\n",
              "      <td>{}</td>\n",
              "    </tr>\n",
              "    <tr>\n",
              "      <th>5</th>\n",
              "      <td>⟬⟭𝗠𝗮𝘂𝗿𝗲𝗲𝗻🥺♡⟭⟬⁷</td>\n",
              "      <td>🏳️‍🌈</td>\n",
              "      <td>RT @jacquelinel0wry: black lives still matter....</td>\n",
              "      <td>{}</td>\n",
              "    </tr>\n",
              "    <tr>\n",
              "      <th>6</th>\n",
              "      <td>SAGE 🦋</td>\n",
              "      <td></td>\n",
              "      <td>RT @morganmsk_: Good Afternoon \\nBlack Lives M...</td>\n",
              "      <td>{}</td>\n",
              "    </tr>\n",
              "    <tr>\n",
              "      <th>7</th>\n",
              "      <td>BNN - Breitbear News Network</td>\n",
              "      <td>Fuck Off Mountain</td>\n",
              "      <td>RT @CattHarmony: At Beverly Hills #WalkAway ra...</td>\n",
              "      <td>{WalkAway}</td>\n",
              "    </tr>\n",
              "    <tr>\n",
              "      <th>8</th>\n",
              "      <td>Jordyn</td>\n",
              "      <td></td>\n",
              "      <td>RT @Lopez83__: lets not forget BLACK LIVES STI...</td>\n",
              "      <td>{}</td>\n",
              "    </tr>\n",
              "    <tr>\n",
              "      <th>9</th>\n",
              "      <td>Elizabeth Lee 🇺🇸</td>\n",
              "      <td></td>\n",
              "      <td>RT @ScottPresler: @JoeBiden @KamalaHarris I’m ...</td>\n",
              "      <td>{}</td>\n",
              "    </tr>\n",
              "  </tbody>\n",
              "</table>\n",
              "</div>"
            ],
            "text/plain": [
              "                      user_name  ...        tags\n",
              "0                             👤  ...          {}\n",
              "1                      AD&D DM🧢  ...          {}\n",
              "2                         dina🐉  ...          {}\n",
              "3                            ▪︎  ...          {}\n",
              "4                 Steph Paul 🇭🇹  ...          {}\n",
              "5                ⟬⟭𝗠𝗮𝘂𝗿𝗲𝗲𝗻🥺♡⟭⟬⁷  ...          {}\n",
              "6                        SAGE 🦋  ...          {}\n",
              "7  BNN - Breitbear News Network  ...  {WalkAway}\n",
              "8                        Jordyn  ...          {}\n",
              "9              Elizabeth Lee 🇺🇸  ...          {}\n",
              "\n",
              "[10 rows x 4 columns]"
            ]
          },
          "metadata": {
            "tags": []
          },
          "execution_count": 13
        }
      ]
    },
    {
      "cell_type": "markdown",
      "metadata": {
        "id": "FbuyCwwmYZA0",
        "colab_type": "text"
      },
      "source": [
        "## nlp/ner: find location entities"
      ]
    },
    {
      "cell_type": "code",
      "metadata": {
        "id": "lfUFty48Yhtl",
        "colab_type": "code",
        "colab": {}
      },
      "source": [
        "# from google.colab import files\n",
        "# uploaded = files.upload()"
      ],
      "execution_count": null,
      "outputs": []
    },
    {
      "cell_type": "code",
      "metadata": {
        "id": "IW2Js-nWbK7u",
        "colab_type": "code",
        "colab": {}
      },
      "source": [
        "import spacy"
      ],
      "execution_count": null,
      "outputs": []
    },
    {
      "cell_type": "markdown",
      "metadata": {
        "id": "5KyjF__WaX8z",
        "colab_type": "text"
      },
      "source": [
        "## city to latitude and lon"
      ]
    },
    {
      "cell_type": "markdown",
      "metadata": {
        "id": "Tgo1Ok_QW8OH",
        "colab_type": "text"
      },
      "source": [
        "## twitter trends exploration"
      ]
    },
    {
      "cell_type": "code",
      "metadata": {
        "id": "spowQwoP-XjU",
        "colab_type": "code",
        "colab": {}
      },
      "source": [
        "trends = api.trends_available()"
      ],
      "execution_count": null,
      "outputs": []
    },
    {
      "cell_type": "code",
      "metadata": {
        "id": "Rr06FpKeDsUR",
        "colab_type": "code",
        "colab": {}
      },
      "source": [
        "for i in trends[:1]:\n",
        "  # print(dir(i))\n",
        "  result = api.trends_place(i.get('woeid'))"
      ],
      "execution_count": null,
      "outputs": []
    },
    {
      "cell_type": "code",
      "metadata": {
        "id": "JHxv21__IPoj",
        "colab_type": "code",
        "colab": {}
      },
      "source": [
        "from urllib.request import urlopen\n",
        "import json\n",
        "with urlopen('https://raw.githubusercontent.com/plotly/datasets/master/geojson-counties-fips.json') as response:\n",
        "    counties = json.load(response)\n",
        "\n",
        "counties[\"features\"][0]"
      ],
      "execution_count": null,
      "outputs": []
    },
    {
      "cell_type": "markdown",
      "metadata": {
        "id": "QP97xPRaX6BD",
        "colab_type": "text"
      },
      "source": [
        "## Mapping"
      ]
    },
    {
      "cell_type": "code",
      "metadata": {
        "id": "MIydH3QVatuw",
        "colab_type": "code",
        "colab": {}
      },
      "source": [
        "px.choropleth(locations=[\"CA\", \"TX\", \"NY\"], locationmode=\"USA-states\", color=[1,2,3], scope=\"usa\")"
      ],
      "execution_count": null,
      "outputs": []
    },
    {
      "cell_type": "code",
      "metadata": {
        "id": "JB8GH_nFes7j",
        "colab_type": "code",
        "colab": {}
      },
      "source": [
        "import plotly.graph_objects as go\n",
        "\n",
        "import pandas as pd\n",
        "\n",
        "df = pd.read_csv('https://raw.githubusercontent.com/plotly/datasets/master/2011_february_us_airport_traffic.csv')\n",
        "df['text'] = df['airport'] + '' + df['city'] + ', ' + df['state'] + '' + 'Arrivals: ' + df['cnt'].astype(str)\n",
        "\n",
        "fig = go.Figure(data=go.Scattergeo(\n",
        "        lon = df['long'],\n",
        "        lat = df['lat'],\n",
        "        text = df['text'],\n",
        "        mode = 'markers',\n",
        "        marker_color = df['cnt'],\n",
        "        ))\n",
        "\n",
        "fig.update_layout(\n",
        "        title = 'Most trafficked US airports<br>(Hover for airport names)',\n",
        "        geo_scope='usa',\n",
        "    )\n",
        "fig.show()"
      ],
      "execution_count": null,
      "outputs": []
    },
    {
      "cell_type": "code",
      "metadata": {
        "id": "pw7mRyCUi445",
        "colab_type": "code",
        "colab": {}
      },
      "source": [
        ""
      ],
      "execution_count": null,
      "outputs": []
    }
  ]
}