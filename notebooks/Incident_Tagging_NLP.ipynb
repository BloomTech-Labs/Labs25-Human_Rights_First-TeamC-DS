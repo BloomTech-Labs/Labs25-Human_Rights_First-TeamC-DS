{
  "nbformat": 4,
  "nbformat_minor": 0,
  "metadata": {
    "colab": {
      "name": "HRF - Incident Tagging NLP",
      "provenance": [],
      "collapsed_sections": [
        "yi4VfvUU5gpY",
        "8KInsGhOyCw2",
        "YMj2ogm118F7",
        "FYn8KFnTy2BO"
      ]
    },
    "kernelspec": {
      "name": "python3",
      "display_name": "Python 3"
    }
  },
  "cells": [
    {
      "cell_type": "markdown",
      "metadata": {
        "id": "mQC2FUlCftZB",
        "colab_type": "text"
      },
      "source": [
        "# Human Rights Considered NLP "
      ]
    },
    {
      "cell_type": "markdown",
      "metadata": {
        "id": "1cguupXpbtjH",
        "colab_type": "text"
      },
      "source": [
        "### **Overview**\n",
        "\n",
        "This notebook creates a training dataset using data sourced from the [Police Brutality 2020 API](https://github.com/2020PB/police-brutality) by adding category labels for types of force and the people involved in incidents using [Snorkel](https://www.snorkel.org/) for NLP. \n",
        "\n",
        "Build on original notebook by [Axel Corro](https://github.com/axefx) sourced from the HRD Team C DS [repository](https://github.com/Lambda-School-Labs/Labs25-Human_Rights_First-TeamC-DS/blob/main/notebooks/snorkel_hrf.ipynb).\n",
        "\n"
      ]
    },
    {
      "cell_type": "markdown",
      "metadata": {
        "id": "yi4VfvUU5gpY",
        "colab_type": "text"
      },
      "source": [
        "# Imports "
      ]
    },
    {
      "cell_type": "code",
      "metadata": {
        "id": "JDEOtrn6fu5h",
        "colab_type": "code",
        "colab": {
          "base_uri": "https://localhost:8080/",
          "height": 481
        },
        "outputId": "1dc0f1f6-a2bc-4244-d6cb-516d83ab3e47"
      },
      "source": [
        "!pip install snorkel"
      ],
      "execution_count": 268,
      "outputs": [
        {
          "output_type": "stream",
          "text": [
            "Requirement already satisfied: snorkel in /usr/local/lib/python3.6/dist-packages (0.9.6)\n",
            "Requirement already satisfied: tensorboard<2.0.0,>=1.14.0 in /usr/local/lib/python3.6/dist-packages (from snorkel) (1.15.0)\n",
            "Requirement already satisfied: networkx<2.4,>=2.2 in /usr/local/lib/python3.6/dist-packages (from snorkel) (2.3)\n",
            "Requirement already satisfied: numpy<2.0.0,>=1.16.0 in /usr/local/lib/python3.6/dist-packages (from snorkel) (1.18.5)\n",
            "Requirement already satisfied: tqdm<5.0.0,>=4.33.0 in /usr/local/lib/python3.6/dist-packages (from snorkel) (4.41.1)\n",
            "Requirement already satisfied: scikit-learn<0.22.0,>=0.20.2 in /usr/local/lib/python3.6/dist-packages (from snorkel) (0.21.3)\n",
            "Requirement already satisfied: pandas<2.0.0,>=0.25.0 in /usr/local/lib/python3.6/dist-packages (from snorkel) (1.0.5)\n",
            "Requirement already satisfied: torch<2.0.0,>=1.2.0 in /usr/local/lib/python3.6/dist-packages (from snorkel) (1.6.0+cu101)\n",
            "Requirement already satisfied: munkres>=1.0.6 in /usr/local/lib/python3.6/dist-packages (from snorkel) (1.1.2)\n",
            "Requirement already satisfied: scipy<2.0.0,>=1.2.0 in /usr/local/lib/python3.6/dist-packages (from snorkel) (1.4.1)\n",
            "Requirement already satisfied: six>=1.10.0 in /usr/local/lib/python3.6/dist-packages (from tensorboard<2.0.0,>=1.14.0->snorkel) (1.15.0)\n",
            "Requirement already satisfied: absl-py>=0.4 in /usr/local/lib/python3.6/dist-packages (from tensorboard<2.0.0,>=1.14.0->snorkel) (0.8.1)\n",
            "Requirement already satisfied: wheel>=0.26; python_version >= \"3\" in /usr/local/lib/python3.6/dist-packages (from tensorboard<2.0.0,>=1.14.0->snorkel) (0.35.1)\n",
            "Requirement already satisfied: protobuf>=3.6.0 in /usr/local/lib/python3.6/dist-packages (from tensorboard<2.0.0,>=1.14.0->snorkel) (3.12.4)\n",
            "Requirement already satisfied: setuptools>=41.0.0 in /usr/local/lib/python3.6/dist-packages (from tensorboard<2.0.0,>=1.14.0->snorkel) (49.6.0)\n",
            "Requirement already satisfied: markdown>=2.6.8 in /usr/local/lib/python3.6/dist-packages (from tensorboard<2.0.0,>=1.14.0->snorkel) (3.2.2)\n",
            "Requirement already satisfied: werkzeug>=0.11.15 in /usr/local/lib/python3.6/dist-packages (from tensorboard<2.0.0,>=1.14.0->snorkel) (1.0.1)\n",
            "Requirement already satisfied: grpcio>=1.6.3 in /usr/local/lib/python3.6/dist-packages (from tensorboard<2.0.0,>=1.14.0->snorkel) (1.31.0)\n",
            "Requirement already satisfied: decorator>=4.3.0 in /usr/local/lib/python3.6/dist-packages (from networkx<2.4,>=2.2->snorkel) (4.4.2)\n",
            "Requirement already satisfied: joblib>=0.11 in /usr/local/lib/python3.6/dist-packages (from scikit-learn<0.22.0,>=0.20.2->snorkel) (0.16.0)\n",
            "Requirement already satisfied: python-dateutil>=2.6.1 in /usr/local/lib/python3.6/dist-packages (from pandas<2.0.0,>=0.25.0->snorkel) (2.8.1)\n",
            "Requirement already satisfied: pytz>=2017.2 in /usr/local/lib/python3.6/dist-packages (from pandas<2.0.0,>=0.25.0->snorkel) (2018.9)\n",
            "Requirement already satisfied: future in /usr/local/lib/python3.6/dist-packages (from torch<2.0.0,>=1.2.0->snorkel) (0.16.0)\n",
            "Requirement already satisfied: importlib-metadata; python_version < \"3.8\" in /usr/local/lib/python3.6/dist-packages (from markdown>=2.6.8->tensorboard<2.0.0,>=1.14.0->snorkel) (1.7.0)\n",
            "Requirement already satisfied: zipp>=0.5 in /usr/local/lib/python3.6/dist-packages (from importlib-metadata; python_version < \"3.8\"->markdown>=2.6.8->tensorboard<2.0.0,>=1.14.0->snorkel) (3.1.0)\n"
          ],
          "name": "stdout"
        }
      ]
    },
    {
      "cell_type": "code",
      "metadata": {
        "id": "9obJ4iI_yp5L",
        "colab_type": "code",
        "colab": {}
      },
      "source": [
        "import pandas as pd\n",
        "\n",
        "from snorkel.labeling import labeling_function\n",
        "from snorkel.labeling.model import LabelModel\n",
        "from snorkel.labeling import PandasLFApplier\n",
        "\n",
        "import sys\n",
        "from google.colab import files"
      ],
      "execution_count": 269,
      "outputs": []
    },
    {
      "cell_type": "code",
      "metadata": {
        "id": "sMUDc7zjhF2n",
        "colab_type": "code",
        "colab": {}
      },
      "source": [
        "# using our cleaned processed data\n",
        "df = pd.read_csv('https://raw.githubusercontent.com/Lambda-School-Labs/Labs25-Human_Rights_First-TeamC-DS/main/Data/pv_incidents.csv', na_values=False)"
      ],
      "execution_count": 270,
      "outputs": []
    },
    {
      "cell_type": "code",
      "metadata": {
        "id": "Zcq6x7kYr7Ke",
        "colab_type": "code",
        "colab": {}
      },
      "source": [
        "df2 = df.filter(['text'], axis=1)"
      ],
      "execution_count": 271,
      "outputs": []
    },
    {
      "cell_type": "code",
      "metadata": {
        "id": "Zbs4hoEY4-87",
        "colab_type": "code",
        "colab": {}
      },
      "source": [
        "df2['text'] = df2['text'].astype(str)"
      ],
      "execution_count": 272,
      "outputs": []
    },
    {
      "cell_type": "markdown",
      "metadata": {
        "id": "HZZjsG9XqChL",
        "colab_type": "text"
      },
      "source": [
        "# Use of Force Tags"
      ]
    },
    {
      "cell_type": "markdown",
      "metadata": {
        "id": "CAosiUmAqEUH",
        "colab_type": "text"
      },
      "source": [
        "### Categories of force:\n",
        "\n",
        "- **Presence**: Police show up and their presence is enough to de-escalate. This is ideal. \n",
        "\n",
        "- **verbalization**: Police use voice commands, force is non-physical.\n",
        "\n",
        "- **empty-hand control soft technique**: Officers use grabs, holds and joint locks to restrain an individual. shove, chase, spit, raid, push\n",
        "\n",
        "- **empty-hand control hard technique**: Officers use punches and kicks to restrain an individual.\n",
        "\n",
        "- **blunt impact**: Officers may use a baton to immobilize a combative person, struck, shield, beat \n",
        "\n",
        "- **projectiles**: Projectiles shot or launched by police at civilians. Includes \"less lethal\" mutnitions such as rubber bullets, bean bag rounds, water hoses, and flash grenades, as well as deadly weapons such as firearms.\n",
        "\n",
        "- **chemical**: Officers use chemical sprays or projectiles embedded with chemicals to restrain an individual (e.g., pepper spray). \n",
        "\n",
        "- **conducted energy devices**: Officers may use CEDs to immobilize an individual. CEDs discharge a high-voltage, low-amperage jolt of electricity at a distance. \n",
        "\n",
        "- **miscillaneous**: LRAD (long-range audio device), sound cannon, sonic weapon"
      ]
    },
    {
      "cell_type": "markdown",
      "metadata": {
        "id": "pUHnjbcZdELm",
        "colab_type": "text"
      },
      "source": [
        "## Presence category\n",
        "\n",
        "Police presence is enough to de-escalate. This is ideal."
      ]
    },
    {
      "cell_type": "code",
      "metadata": {
        "id": "X-JgdmzggekB",
        "colab_type": "code",
        "colab": {}
      },
      "source": [
        "PRESENCE = 1\n",
        "NOT_PRESENCE = 0\n",
        "ABSTAIN = -1"
      ],
      "execution_count": 273,
      "outputs": []
    },
    {
      "cell_type": "code",
      "metadata": {
        "id": "tz8nR9Zmg06T",
        "colab_type": "code",
        "colab": {}
      },
      "source": [
        "@labeling_function()\n",
        "def lf_keyword_swarm(x):\n",
        "  return PRESENCE if 'swarm' in x.text.lower() else ABSTAIN"
      ],
      "execution_count": 274,
      "outputs": []
    },
    {
      "cell_type": "code",
      "metadata": {
        "id": "dPbC2Gv1iBQ3",
        "colab_type": "code",
        "colab": {}
      },
      "source": [
        "@labeling_function()\n",
        "def lf_keyword_show(x):\n",
        "  return PRESENCE if 'show' in x.text.lower() else ABSTAIN"
      ],
      "execution_count": 275,
      "outputs": []
    },
    {
      "cell_type": "code",
      "metadata": {
        "id": "8dssgEz9ijWf",
        "colab_type": "code",
        "colab": {}
      },
      "source": [
        "@labeling_function()\n",
        "def lf_keyword_arrive(x):\n",
        "  return PRESENCE if 'arrive' in x.text.lower() else ABSTAIN"
      ],
      "execution_count": 276,
      "outputs": []
    },
    {
      "cell_type": "code",
      "metadata": {
        "id": "FWDayGO0hV0t",
        "colab_type": "code",
        "colab": {
          "base_uri": "https://localhost:8080/",
          "height": 52
        },
        "outputId": "effe7111-5418-4aa7-b59f-ce68c1719656"
      },
      "source": [
        "from snorkel.labeling.model import LabelModel\n",
        "from snorkel.labeling import PandasLFApplier\n",
        "\n",
        "# Define the set of labeling functions (LFs)\n",
        "lfs = [lf_keyword_swarm, lf_keyword_show, lf_keyword_arrive]\n",
        "\n",
        "# Apply the LFs to the unlabeled training data\n",
        "applier = PandasLFApplier(lfs)\n",
        "L_train = applier.apply(df2)\n",
        "\n",
        "# Train the label model and compute the training labels\n",
        "label_model = LabelModel(cardinality=2, verbose=True)\n",
        "label_model.fit(L_train, n_epochs=500, log_freq=50, seed=123)\n",
        "df2[\"presence_label\"] = label_model.predict(L=L_train, tie_break_policy=\"abstain\")"
      ],
      "execution_count": 277,
      "outputs": [
        {
          "output_type": "stream",
          "text": [
            "\n",
            "100%|██████████| 1069/1069 [00:00<00:00, 18037.30it/s]\n"
          ],
          "name": "stderr"
        }
      ]
    },
    {
      "cell_type": "markdown",
      "metadata": {
        "id": "8mvtvTVJh1jb",
        "colab_type": "text"
      },
      "source": [
        "## Verbalization Category\n",
        "\n",
        "police use voice commands, force is non-physical"
      ]
    },
    {
      "cell_type": "code",
      "metadata": {
        "id": "WPMzD7Bnh6HI",
        "colab_type": "code",
        "colab": {}
      },
      "source": [
        "VERBAL = 1\n",
        "NOT_VERBAL = 0\n",
        "ABSTAIN = -1"
      ],
      "execution_count": 278,
      "outputs": []
    },
    {
      "cell_type": "code",
      "metadata": {
        "id": "zvFTIHjIi-7p",
        "colab_type": "code",
        "colab": {}
      },
      "source": [
        "@labeling_function()\n",
        "def lf_keyword_shout(x):\n",
        "  return VERBAL if 'shout' in x.text.lower() else ABSTAIN"
      ],
      "execution_count": 279,
      "outputs": []
    },
    {
      "cell_type": "code",
      "metadata": {
        "id": "gw9PJxRdjHJd",
        "colab_type": "code",
        "colab": {}
      },
      "source": [
        "@labeling_function()\n",
        "def lf_keyword_order(x):\n",
        "  return VERBAL if 'order' in x.text.lower() else ABSTAIN"
      ],
      "execution_count": 280,
      "outputs": []
    },
    {
      "cell_type": "code",
      "metadata": {
        "id": "-9dd8F5jjI9n",
        "colab_type": "code",
        "colab": {}
      },
      "source": [
        "@labeling_function()\n",
        "def lf_keyword_loudspeaker(x):\n",
        "  return VERBAL if 'loudspeaker' in x.text.lower() else ABSTAIN"
      ],
      "execution_count": 281,
      "outputs": []
    },
    {
      "cell_type": "code",
      "metadata": {
        "id": "hOH3VGeajS9Q",
        "colab_type": "code",
        "colab": {
          "base_uri": "https://localhost:8080/",
          "height": 52
        },
        "outputId": "cee586bb-a7f9-48e7-813d-58563325baf9"
      },
      "source": [
        "from snorkel.labeling.model import LabelModel\n",
        "from snorkel.labeling import PandasLFApplier\n",
        "\n",
        "# Define the set of labeling functions (LFs)\n",
        "lfs = [lf_keyword_shout, lf_keyword_order,lf_keyword_loudspeaker]\n",
        "\n",
        "# Apply the LFs to the unlabeled training data\n",
        "applier = PandasLFApplier(lfs)\n",
        "L_train = applier.apply(df2)\n",
        "\n",
        "# Train the label model and compute the training labels\n",
        "label_model = LabelModel(cardinality=2, verbose=True)\n",
        "label_model.fit(L_train, n_epochs=500, log_freq=50, seed=123)\n",
        "df2[\"verbal_label\"] = label_model.predict(L=L_train, tie_break_policy=\"abstain\")"
      ],
      "execution_count": 282,
      "outputs": [
        {
          "output_type": "stream",
          "text": [
            "\n",
            "100%|██████████| 1069/1069 [00:00<00:00, 13646.22it/s]\n"
          ],
          "name": "stderr"
        }
      ]
    },
    {
      "cell_type": "code",
      "metadata": {
        "id": "t0cAVTATjhAV",
        "colab_type": "code",
        "colab": {
          "base_uri": "https://localhost:8080/",
          "height": 70
        },
        "outputId": "738f3689-8e52-444a-cece-79a6b9a48a86"
      },
      "source": [
        "lf_keyword_shout, lf_keyword_order, lf_keyword_loudspeaker = (L_train != ABSTAIN).mean(axis=0)\n",
        "print(f\"lf_keyword_shout coverage: {lf_keyword_shout * 100:.1f}%\")\n",
        "print(f\"lf_keyword_order coverage: {lf_keyword_order * 100:.1f}%\")\n",
        "print(f\"lf_keyword_loudspeaker coverage: {lf_keyword_loudspeaker * 100:.1f}%\")"
      ],
      "execution_count": 283,
      "outputs": [
        {
          "output_type": "stream",
          "text": [
            "lf_keyword_shout coverage: 0.1%\n",
            "lf_keyword_order coverage: 0.3%\n",
            "lf_keyword_loudspeaker coverage: 0.0%\n"
          ],
          "name": "stdout"
        }
      ]
    },
    {
      "cell_type": "code",
      "metadata": {
        "id": "y2-g3wuyjwcG",
        "colab_type": "code",
        "colab": {
          "base_uri": "https://localhost:8080/",
          "height": 170
        },
        "outputId": "d93415fe-dc71-454e-af69-add52e371e36"
      },
      "source": [
        "df2[df2['verbal_label']==1]"
      ],
      "execution_count": 284,
      "outputs": [
        {
          "output_type": "execute_result",
          "data": {
            "text/html": [
              "<div>\n",
              "<style scoped>\n",
              "    .dataframe tbody tr th:only-of-type {\n",
              "        vertical-align: middle;\n",
              "    }\n",
              "\n",
              "    .dataframe tbody tr th {\n",
              "        vertical-align: top;\n",
              "    }\n",
              "\n",
              "    .dataframe thead th {\n",
              "        text-align: right;\n",
              "    }\n",
              "</style>\n",
              "<table border=\"1\" class=\"dataframe\">\n",
              "  <thead>\n",
              "    <tr style=\"text-align: right;\">\n",
              "      <th></th>\n",
              "      <th>text</th>\n",
              "      <th>presence_label</th>\n",
              "      <th>verbal_label</th>\n",
              "    </tr>\n",
              "  </thead>\n",
              "  <tbody>\n",
              "    <tr>\n",
              "      <th>70</th>\n",
              "      <td>police apply no assembly order to journalists</td>\n",
              "      <td>-1</td>\n",
              "      <td>1</td>\n",
              "    </tr>\n",
              "    <tr>\n",
              "      <th>284</th>\n",
              "      <td>officers shove press during dispersal order</td>\n",
              "      <td>-1</td>\n",
              "      <td>1</td>\n",
              "    </tr>\n",
              "    <tr>\n",
              "      <th>445</th>\n",
              "      <td>police selectively enforce curfew and dispersa...</td>\n",
              "      <td>-1</td>\n",
              "      <td>1</td>\n",
              "    </tr>\n",
              "    <tr>\n",
              "      <th>737</th>\n",
              "      <td>police charge into peaceful crowd shouting  gr...</td>\n",
              "      <td>-1</td>\n",
              "      <td>1</td>\n",
              "    </tr>\n",
              "  </tbody>\n",
              "</table>\n",
              "</div>"
            ],
            "text/plain": [
              "                                                  text  ...  verbal_label\n",
              "70       police apply no assembly order to journalists  ...             1\n",
              "284        officers shove press during dispersal order  ...             1\n",
              "445  police selectively enforce curfew and dispersa...  ...             1\n",
              "737  police charge into peaceful crowd shouting  gr...  ...             1\n",
              "\n",
              "[4 rows x 3 columns]"
            ]
          },
          "metadata": {
            "tags": []
          },
          "execution_count": 284
        }
      ]
    },
    {
      "cell_type": "markdown",
      "metadata": {
        "id": "e8c2Pz8LkCA5",
        "colab_type": "text"
      },
      "source": [
        "## Empty-hand Control - Soft Technique\n",
        "\n",
        "Officers use grabs, holds and joint locks to restrain an individual. shove, chase, spit, raid, push"
      ]
    },
    {
      "cell_type": "code",
      "metadata": {
        "id": "rf6gRsnY_Jbt",
        "colab_type": "code",
        "colab": {}
      },
      "source": [
        "EHCSOFT = 1\n",
        "NOT_EHCSOFT = 0\n",
        "ABSTAIN = -1"
      ],
      "execution_count": 285,
      "outputs": []
    },
    {
      "cell_type": "code",
      "metadata": {
        "id": "PVx3uS3zj_Fh",
        "colab_type": "code",
        "colab": {}
      },
      "source": [
        "@labeling_function()\n",
        "def lf_keyword_shove(x):\n",
        "  return EHCSOFT if 'shove' in x.text.lower() else ABSTAIN"
      ],
      "execution_count": 286,
      "outputs": []
    },
    {
      "cell_type": "code",
      "metadata": {
        "id": "C8JMwx8wk5Bm",
        "colab_type": "code",
        "colab": {}
      },
      "source": [
        "@labeling_function()\n",
        "def lf_keyword_grabs(x):\n",
        "  return EHCSOFT if 'grabs' in x.text.lower() else ABSTAIN"
      ],
      "execution_count": 287,
      "outputs": []
    },
    {
      "cell_type": "code",
      "metadata": {
        "id": "yZSwl9Bxk85r",
        "colab_type": "code",
        "colab": {}
      },
      "source": [
        "@labeling_function()\n",
        "def lf_keyword_holds(x):\n",
        "  return EHCSOFT if 'holds' in x.text.lower() else ABSTAIN"
      ],
      "execution_count": 288,
      "outputs": []
    },
    {
      "cell_type": "code",
      "metadata": {
        "id": "LUOz10ULHTpK",
        "colab_type": "code",
        "colab": {}
      },
      "source": [
        "@labeling_function()\n",
        "def lf_keyword_arrest(x):\n",
        "  return EHCSOFT if 'arrest' in x.text.lower() else ABSTAIN"
      ],
      "execution_count": 289,
      "outputs": []
    },
    {
      "cell_type": "code",
      "metadata": {
        "id": "mxE-cYHGrSvn",
        "colab_type": "code",
        "colab": {}
      },
      "source": [
        "@labeling_function()\n",
        "def lf_keyword_spit(x):\n",
        "  return EHCSOFT if 'spit' in x.text.lower() else ABSTAIN"
      ],
      "execution_count": 290,
      "outputs": []
    },
    {
      "cell_type": "code",
      "metadata": {
        "id": "dQlWc56KrmcY",
        "colab_type": "code",
        "colab": {}
      },
      "source": [
        "@labeling_function()\n",
        "def lf_keyword_raid(x):\n",
        "  return EHCSOFT if 'raid' in x.text.lower() else ABSTAIN"
      ],
      "execution_count": 291,
      "outputs": []
    },
    {
      "cell_type": "code",
      "metadata": {
        "id": "iGe3bnZnrpt-",
        "colab_type": "code",
        "colab": {}
      },
      "source": [
        "@labeling_function()\n",
        "def lf_keyword_push(x):\n",
        "  return EHCSOFT if 'push' in x.text.lower() else ABSTAIN"
      ],
      "execution_count": 292,
      "outputs": []
    },
    {
      "cell_type": "code",
      "metadata": {
        "id": "BLNmKSJIlEBK",
        "colab_type": "code",
        "colab": {
          "base_uri": "https://localhost:8080/",
          "height": 70
        },
        "outputId": "1988c03e-e17c-4d98-e20c-f04cdced8e67"
      },
      "source": [
        "from snorkel.labeling.model import LabelModel\n",
        "from snorkel.labeling import PandasLFApplier\n",
        "\n",
        "# Define the set of labeling functions (LFs)\n",
        "lfs = [lf_keyword_shove, lf_keyword_grabs, lf_keyword_spit, lf_keyword_raid,\n",
        "      lf_keyword_push, lf_keyword_holds, lf_keyword_arrest]\n",
        "\n",
        "# Apply the LFs to the unlabeled training data\n",
        "applier = PandasLFApplier(lfs)\n",
        "L_train = applier.apply(df2)\n",
        "\n",
        "# Train the label model and compute the training labels\n",
        "label_model = LabelModel(cardinality=2, verbose=True)\n",
        "label_model.fit(L_train, n_epochs=500, log_freq=50, seed=123)\n",
        "df2[\"ehc-soft_technique\"] = label_model.predict(L=L_train, tie_break_policy=\"abstain\")"
      ],
      "execution_count": 293,
      "outputs": [
        {
          "output_type": "stream",
          "text": [
            "\n",
            "  0%|          | 0/1069 [00:00<?, ?it/s]\u001b[A\n",
            "100%|██████████| 1069/1069 [00:00<00:00, 6709.15it/s]\n"
          ],
          "name": "stderr"
        }
      ]
    },
    {
      "cell_type": "code",
      "metadata": {
        "id": "URB9tHeblQFt",
        "colab_type": "code",
        "colab": {
          "base_uri": "https://localhost:8080/",
          "height": 411
        },
        "outputId": "d9d2802d-f13a-41b2-901d-013a17d617db"
      },
      "source": [
        "df2[df2['ehc-soft_technique']==1]"
      ],
      "execution_count": 294,
      "outputs": [
        {
          "output_type": "execute_result",
          "data": {
            "text/html": [
              "<div>\n",
              "<style scoped>\n",
              "    .dataframe tbody tr th:only-of-type {\n",
              "        vertical-align: middle;\n",
              "    }\n",
              "\n",
              "    .dataframe tbody tr th {\n",
              "        vertical-align: top;\n",
              "    }\n",
              "\n",
              "    .dataframe thead th {\n",
              "        text-align: right;\n",
              "    }\n",
              "</style>\n",
              "<table border=\"1\" class=\"dataframe\">\n",
              "  <thead>\n",
              "    <tr style=\"text-align: right;\">\n",
              "      <th></th>\n",
              "      <th>text</th>\n",
              "      <th>presence_label</th>\n",
              "      <th>verbal_label</th>\n",
              "      <th>ehc-soft_technique</th>\n",
              "    </tr>\n",
              "  </thead>\n",
              "  <tbody>\n",
              "    <tr>\n",
              "      <th>12</th>\n",
              "      <td>police violently arrest drummer</td>\n",
              "      <td>-1</td>\n",
              "      <td>-1</td>\n",
              "      <td>1</td>\n",
              "    </tr>\n",
              "    <tr>\n",
              "      <th>13</th>\n",
              "      <td>police kneel on mans neck to make arrest</td>\n",
              "      <td>-1</td>\n",
              "      <td>-1</td>\n",
              "      <td>1</td>\n",
              "    </tr>\n",
              "    <tr>\n",
              "      <th>14</th>\n",
              "      <td>police punch arrestee on ground</td>\n",
              "      <td>-1</td>\n",
              "      <td>-1</td>\n",
              "      <td>1</td>\n",
              "    </tr>\n",
              "    <tr>\n",
              "      <th>15</th>\n",
              "      <td>livestreamer arrested and punched</td>\n",
              "      <td>-1</td>\n",
              "      <td>-1</td>\n",
              "      <td>1</td>\n",
              "    </tr>\n",
              "    <tr>\n",
              "      <th>16</th>\n",
              "      <td>police shove and pepper spray protesters</td>\n",
              "      <td>-1</td>\n",
              "      <td>-1</td>\n",
              "      <td>1</td>\n",
              "    </tr>\n",
              "    <tr>\n",
              "      <th>...</th>\n",
              "      <td>...</td>\n",
              "      <td>...</td>\n",
              "      <td>...</td>\n",
              "      <td>...</td>\n",
              "    </tr>\n",
              "    <tr>\n",
              "      <th>1056</th>\n",
              "      <td>livestreamer arrested while filming protest</td>\n",
              "      <td>-1</td>\n",
              "      <td>-1</td>\n",
              "      <td>1</td>\n",
              "    </tr>\n",
              "    <tr>\n",
              "      <th>1057</th>\n",
              "      <td>lmpd bearcat strikes vehicle  police initially...</td>\n",
              "      <td>-1</td>\n",
              "      <td>-1</td>\n",
              "      <td>1</td>\n",
              "    </tr>\n",
              "    <tr>\n",
              "      <th>1063</th>\n",
              "      <td>police arrest protesters leaving scene</td>\n",
              "      <td>-1</td>\n",
              "      <td>-1</td>\n",
              "      <td>1</td>\n",
              "    </tr>\n",
              "    <tr>\n",
              "      <th>1067</th>\n",
              "      <td>peaceful protesters arrested for breaking curfew</td>\n",
              "      <td>-1</td>\n",
              "      <td>-1</td>\n",
              "      <td>1</td>\n",
              "    </tr>\n",
              "    <tr>\n",
              "      <th>1068</th>\n",
              "      <td>police officer shoves protester on bike  polic...</td>\n",
              "      <td>-1</td>\n",
              "      <td>-1</td>\n",
              "      <td>1</td>\n",
              "    </tr>\n",
              "  </tbody>\n",
              "</table>\n",
              "<p>292 rows × 4 columns</p>\n",
              "</div>"
            ],
            "text/plain": [
              "                                                   text  ...  ehc-soft_technique\n",
              "12                      police violently arrest drummer  ...                   1\n",
              "13             police kneel on mans neck to make arrest  ...                   1\n",
              "14                      police punch arrestee on ground  ...                   1\n",
              "15                    livestreamer arrested and punched  ...                   1\n",
              "16             police shove and pepper spray protesters  ...                   1\n",
              "...                                                 ...  ...                 ...\n",
              "1056        livestreamer arrested while filming protest  ...                   1\n",
              "1057  lmpd bearcat strikes vehicle  police initially...  ...                   1\n",
              "1063             police arrest protesters leaving scene  ...                   1\n",
              "1067   peaceful protesters arrested for breaking curfew  ...                   1\n",
              "1068  police officer shoves protester on bike  polic...  ...                   1\n",
              "\n",
              "[292 rows x 4 columns]"
            ]
          },
          "metadata": {
            "tags": []
          },
          "execution_count": 294
        }
      ]
    },
    {
      "cell_type": "markdown",
      "metadata": {
        "id": "mRqAL6nalgV9",
        "colab_type": "text"
      },
      "source": [
        "## Empty-hand Control - Hard Technique\n",
        "\n",
        "Officers use bodily force (punches and kicks or asphyxiation) to restrain an individual. "
      ]
    },
    {
      "cell_type": "code",
      "metadata": {
        "id": "gE0g3PQqH2u5",
        "colab_type": "code",
        "colab": {}
      },
      "source": [
        "EHCHARD = 1\n",
        "NOT_EHCHARD = 0\n",
        "ABSTAIN = -1"
      ],
      "execution_count": 295,
      "outputs": []
    },
    {
      "cell_type": "code",
      "metadata": {
        "id": "8vQmYlG_lk7O",
        "colab_type": "code",
        "colab": {}
      },
      "source": [
        "@labeling_function()\n",
        "def lf_keyword_beat(x):\n",
        "  return EHCHARD if 'beat' in x.text.lower() else ABSTAIN"
      ],
      "execution_count": 296,
      "outputs": []
    },
    {
      "cell_type": "code",
      "metadata": {
        "id": "xS3yXNDsl364",
        "colab_type": "code",
        "colab": {}
      },
      "source": [
        "@labeling_function()\n",
        "def lf_keyword_tackle(x):\n",
        "  return EHCHARD if 'tackle' in x.text.lower() else ABSTAIN"
      ],
      "execution_count": 297,
      "outputs": []
    },
    {
      "cell_type": "code",
      "metadata": {
        "id": "PRv7Ni_el7zr",
        "colab_type": "code",
        "colab": {}
      },
      "source": [
        "@labeling_function()\n",
        "def lf_keyword_punch(x):\n",
        "  return EHCHARD if 'punch' in x.text.lower() else ABSTAIN"
      ],
      "execution_count": 298,
      "outputs": []
    },
    {
      "cell_type": "code",
      "metadata": {
        "id": "0qGsAhchDZsz",
        "colab_type": "code",
        "colab": {}
      },
      "source": [
        "@labeling_function()\n",
        "def lf_keyword_assault(x):\n",
        "  return EHCHARD if 'assault' in x.text.lower() else ABSTAIN"
      ],
      "execution_count": 299,
      "outputs": []
    },
    {
      "cell_type": "code",
      "metadata": {
        "id": "XLySwb5XsGKP",
        "colab_type": "code",
        "colab": {}
      },
      "source": [
        "@labeling_function()\n",
        "def lf_keyword_choke(x):\n",
        "  return EHCHARD if 'choke' in x.text.lower() else ABSTAIN"
      ],
      "execution_count": 300,
      "outputs": []
    },
    {
      "cell_type": "code",
      "metadata": {
        "id": "b0TzXFqosWAJ",
        "colab_type": "code",
        "colab": {}
      },
      "source": [
        "@labeling_function()\n",
        "def lf_keyword_kick(x):\n",
        "  return EHCHARD if 'kick' in x.text.lower() else ABSTAIN"
      ],
      "execution_count": 301,
      "outputs": []
    },
    {
      "cell_type": "code",
      "metadata": {
        "id": "OZCCBUYgVtlB",
        "colab_type": "code",
        "colab": {}
      },
      "source": [
        "@labeling_function()\n",
        "def lf_keyword_kneel(x):\n",
        "  return EHCHARD if 'kneel' in x.text.lower() else ABSTAIN"
      ],
      "execution_count": 302,
      "outputs": []
    },
    {
      "cell_type": "code",
      "metadata": {
        "id": "LZIlHHBxl_wM",
        "colab_type": "code",
        "colab": {
          "base_uri": "https://localhost:8080/",
          "height": 70
        },
        "outputId": "4957458e-4a2c-4b4e-b41d-df40961907d4"
      },
      "source": [
        "from snorkel.labeling.model import LabelModel\n",
        "from snorkel.labeling import PandasLFApplier\n",
        "\n",
        "# Define the set of labeling functions (LFs)\n",
        "lfs = [lf_keyword_beat, lf_keyword_tackle, lf_keyword_choke,\n",
        "       lf_keyword_kick, lf_keyword_punch, lf_keyword_assault,\n",
        "       lf_keyword_kneel]\n",
        "\n",
        "# Apply the LFs to the unlabeled training data\n",
        "applier = PandasLFApplier(lfs)\n",
        "L_train = applier.apply(df2)\n",
        "\n",
        "# Train the label model and compute the training labels\n",
        "label_model = LabelModel(cardinality=2, verbose=True)\n",
        "label_model.fit(L_train, n_epochs=500, log_freq=50, seed=123)\n",
        "df2[\"ehc-hard_technique\"] = label_model.predict(L=L_train, tie_break_policy=\"abstain\")"
      ],
      "execution_count": 303,
      "outputs": [
        {
          "output_type": "stream",
          "text": [
            "\n",
            "  0%|          | 0/1069 [00:00<?, ?it/s]\u001b[A\n",
            "100%|██████████| 1069/1069 [00:00<00:00, 7306.95it/s]\n"
          ],
          "name": "stderr"
        }
      ]
    },
    {
      "cell_type": "code",
      "metadata": {
        "id": "qMm99StQmTgH",
        "colab_type": "code",
        "colab": {
          "base_uri": "https://localhost:8080/",
          "height": 411
        },
        "outputId": "f0f0310b-4119-4fad-8d7e-2dd423bde240"
      },
      "source": [
        "df2[df2['ehc-hard_technique']==1]"
      ],
      "execution_count": 304,
      "outputs": [
        {
          "output_type": "execute_result",
          "data": {
            "text/html": [
              "<div>\n",
              "<style scoped>\n",
              "    .dataframe tbody tr th:only-of-type {\n",
              "        vertical-align: middle;\n",
              "    }\n",
              "\n",
              "    .dataframe tbody tr th {\n",
              "        vertical-align: top;\n",
              "    }\n",
              "\n",
              "    .dataframe thead th {\n",
              "        text-align: right;\n",
              "    }\n",
              "</style>\n",
              "<table border=\"1\" class=\"dataframe\">\n",
              "  <thead>\n",
              "    <tr style=\"text-align: right;\">\n",
              "      <th></th>\n",
              "      <th>text</th>\n",
              "      <th>presence_label</th>\n",
              "      <th>verbal_label</th>\n",
              "      <th>ehc-soft_technique</th>\n",
              "      <th>ehc-hard_technique</th>\n",
              "    </tr>\n",
              "  </thead>\n",
              "  <tbody>\n",
              "    <tr>\n",
              "      <th>1</th>\n",
              "      <td>police assault protesters</td>\n",
              "      <td>-1</td>\n",
              "      <td>-1</td>\n",
              "      <td>-1</td>\n",
              "      <td>1</td>\n",
              "    </tr>\n",
              "    <tr>\n",
              "      <th>13</th>\n",
              "      <td>police kneel on mans neck to make arrest</td>\n",
              "      <td>-1</td>\n",
              "      <td>-1</td>\n",
              "      <td>1</td>\n",
              "      <td>1</td>\n",
              "    </tr>\n",
              "    <tr>\n",
              "      <th>14</th>\n",
              "      <td>police punch arrestee on ground</td>\n",
              "      <td>-1</td>\n",
              "      <td>-1</td>\n",
              "      <td>1</td>\n",
              "      <td>1</td>\n",
              "    </tr>\n",
              "    <tr>\n",
              "      <th>15</th>\n",
              "      <td>livestreamer arrested and punched</td>\n",
              "      <td>-1</td>\n",
              "      <td>-1</td>\n",
              "      <td>1</td>\n",
              "      <td>1</td>\n",
              "    </tr>\n",
              "    <tr>\n",
              "      <th>18</th>\n",
              "      <td>police officer tackles and knees man on the gr...</td>\n",
              "      <td>-1</td>\n",
              "      <td>-1</td>\n",
              "      <td>-1</td>\n",
              "      <td>1</td>\n",
              "    </tr>\n",
              "    <tr>\n",
              "      <th>...</th>\n",
              "      <td>...</td>\n",
              "      <td>...</td>\n",
              "      <td>...</td>\n",
              "      <td>...</td>\n",
              "      <td>...</td>\n",
              "    </tr>\n",
              "    <tr>\n",
              "      <th>1006</th>\n",
              "      <td>police choke man and push woman filming event ...</td>\n",
              "      <td>-1</td>\n",
              "      <td>-1</td>\n",
              "      <td>0</td>\n",
              "      <td>1</td>\n",
              "    </tr>\n",
              "    <tr>\n",
              "      <th>1047</th>\n",
              "      <td>police officers use batons to beat protester</td>\n",
              "      <td>-1</td>\n",
              "      <td>-1</td>\n",
              "      <td>-1</td>\n",
              "      <td>1</td>\n",
              "    </tr>\n",
              "    <tr>\n",
              "      <th>1048</th>\n",
              "      <td>louisville police swarm and beat a man screami...</td>\n",
              "      <td>1</td>\n",
              "      <td>-1</td>\n",
              "      <td>-1</td>\n",
              "      <td>1</td>\n",
              "    </tr>\n",
              "    <tr>\n",
              "      <th>1053</th>\n",
              "      <td>police tackle protester  then target witness</td>\n",
              "      <td>-1</td>\n",
              "      <td>-1</td>\n",
              "      <td>-1</td>\n",
              "      <td>1</td>\n",
              "    </tr>\n",
              "    <tr>\n",
              "      <th>1054</th>\n",
              "      <td>protester medic beaten and arrested</td>\n",
              "      <td>-1</td>\n",
              "      <td>-1</td>\n",
              "      <td>1</td>\n",
              "      <td>1</td>\n",
              "    </tr>\n",
              "  </tbody>\n",
              "</table>\n",
              "<p>137 rows × 5 columns</p>\n",
              "</div>"
            ],
            "text/plain": [
              "                                                   text  ...  ehc-hard_technique\n",
              "1                             police assault protesters  ...                   1\n",
              "13             police kneel on mans neck to make arrest  ...                   1\n",
              "14                      police punch arrestee on ground  ...                   1\n",
              "15                    livestreamer arrested and punched  ...                   1\n",
              "18    police officer tackles and knees man on the gr...  ...                   1\n",
              "...                                                 ...  ...                 ...\n",
              "1006  police choke man and push woman filming event ...  ...                   1\n",
              "1047       police officers use batons to beat protester  ...                   1\n",
              "1048  louisville police swarm and beat a man screami...  ...                   1\n",
              "1053       police tackle protester  then target witness  ...                   1\n",
              "1054                protester medic beaten and arrested  ...                   1\n",
              "\n",
              "[137 rows x 5 columns]"
            ]
          },
          "metadata": {
            "tags": []
          },
          "execution_count": 304
        }
      ]
    },
    {
      "cell_type": "markdown",
      "metadata": {
        "id": "So5AdK6qmhVV",
        "colab_type": "text"
      },
      "source": [
        "## Blunt Impact Category\n",
        "\n",
        "Officers may use tools like batons to immobilize a person."
      ]
    },
    {
      "cell_type": "code",
      "metadata": {
        "id": "pGBcz2QTH1NZ",
        "colab_type": "code",
        "colab": {}
      },
      "source": [
        "BLUNT = 1\n",
        "NOT_BLUNT = 0\n",
        "ABSTAIN = -1"
      ],
      "execution_count": 305,
      "outputs": []
    },
    {
      "cell_type": "code",
      "metadata": {
        "id": "X1ANfTFHmkUC",
        "colab_type": "code",
        "colab": {}
      },
      "source": [
        "@labeling_function()\n",
        "def lf_keyword_baton(x):\n",
        "  return BLUNT if 'baton' in x.text.lower() else ABSTAIN"
      ],
      "execution_count": 306,
      "outputs": []
    },
    {
      "cell_type": "code",
      "metadata": {
        "id": "P7ppyK6snD9A",
        "colab_type": "code",
        "colab": {}
      },
      "source": [
        "@labeling_function()\n",
        "def lf_keyword_club(x):\n",
        "  return BLUNT if 'club' in x.text.lower() else ABSTAIN"
      ],
      "execution_count": 307,
      "outputs": []
    },
    {
      "cell_type": "code",
      "metadata": {
        "id": "RnHT467inHZZ",
        "colab_type": "code",
        "colab": {}
      },
      "source": [
        "@labeling_function()\n",
        "def lf_keyword_shield(x):\n",
        "  return BLUNT if 'shield' in x.text.lower() else ABSTAIN"
      ],
      "execution_count": 308,
      "outputs": []
    },
    {
      "cell_type": "code",
      "metadata": {
        "id": "EUb6hakNOZfR",
        "colab_type": "code",
        "colab": {}
      },
      "source": [
        "@labeling_function()\n",
        "def lf_keyword_bike(x):\n",
        "  return BLUNT if 'bike' in x.text.lower() else ABSTAIN"
      ],
      "execution_count": 309,
      "outputs": []
    },
    {
      "cell_type": "code",
      "metadata": {
        "id": "6U5uiLqBu9IY",
        "colab_type": "code",
        "colab": {}
      },
      "source": [
        "@labeling_function()\n",
        "def lf_keyword_horse(x):\n",
        "  return BLUNT if 'horse' in x.text.lower() else ABSTAIN"
      ],
      "execution_count": 310,
      "outputs": []
    },
    {
      "cell_type": "code",
      "metadata": {
        "id": "dbguALkAvsjU",
        "colab_type": "code",
        "colab": {}
      },
      "source": [
        "@labeling_function()\n",
        "def lf_keyword_vehicle(x):\n",
        "  return BLUNT if 'vehicle' in x.text.lower() else ABSTAIN"
      ],
      "execution_count": 311,
      "outputs": []
    },
    {
      "cell_type": "code",
      "metadata": {
        "id": "1vYq61FkvxQi",
        "colab_type": "code",
        "colab": {}
      },
      "source": [
        "@labeling_function()\n",
        "def lf_keyword_car(x):\n",
        "  return BLUNT if 'car' in x.text.lower() else ABSTAIN"
      ],
      "execution_count": 312,
      "outputs": []
    },
    {
      "cell_type": "code",
      "metadata": {
        "id": "EoLnLCe5nNXc",
        "colab_type": "code",
        "colab": {
          "base_uri": "https://localhost:8080/",
          "height": 70
        },
        "outputId": "3b48c5ba-5cd4-4788-a4cc-908c5d4c2b76"
      },
      "source": [
        "from snorkel.labeling.model import LabelModel\n",
        "from snorkel.labeling import PandasLFApplier\n",
        "\n",
        "# Define the set of labeling functions (LFs)\n",
        "lfs = [lf_keyword_baton, lf_keyword_club, lf_keyword_horse, lf_keyword_vehicle,\n",
        "       lf_keyword_car, lf_keyword_shield, lf_keyword_bike]\n",
        "\n",
        "# Apply the LFs to the unlabeled training data\n",
        "applier = PandasLFApplier(lfs)\n",
        "L_train = applier.apply(df2)\n",
        "\n",
        "# Train the label model and compute the training labels\n",
        "label_model = LabelModel(cardinality=2, verbose=True)\n",
        "label_model.fit(L_train, n_epochs=500, log_freq=50, seed=123)\n",
        "df2[\"blunt_impact\"] = label_model.predict(L=L_train, tie_break_policy=\"abstain\")"
      ],
      "execution_count": 313,
      "outputs": [
        {
          "output_type": "stream",
          "text": [
            "\n",
            "  0%|          | 0/1069 [00:00<?, ?it/s]\u001b[A\n",
            "100%|██████████| 1069/1069 [00:00<00:00, 7216.13it/s]\n"
          ],
          "name": "stderr"
        }
      ]
    },
    {
      "cell_type": "code",
      "metadata": {
        "id": "LMrPSXo8naAC",
        "colab_type": "code",
        "colab": {
          "base_uri": "https://localhost:8080/",
          "height": 411
        },
        "outputId": "f60f655a-09ef-497a-8ad2-194f813f355a"
      },
      "source": [
        "df2[df2['blunt_impact']==1]"
      ],
      "execution_count": 314,
      "outputs": [
        {
          "output_type": "execute_result",
          "data": {
            "text/html": [
              "<div>\n",
              "<style scoped>\n",
              "    .dataframe tbody tr th:only-of-type {\n",
              "        vertical-align: middle;\n",
              "    }\n",
              "\n",
              "    .dataframe tbody tr th {\n",
              "        vertical-align: top;\n",
              "    }\n",
              "\n",
              "    .dataframe thead th {\n",
              "        text-align: right;\n",
              "    }\n",
              "</style>\n",
              "<table border=\"1\" class=\"dataframe\">\n",
              "  <thead>\n",
              "    <tr style=\"text-align: right;\">\n",
              "      <th></th>\n",
              "      <th>text</th>\n",
              "      <th>presence_label</th>\n",
              "      <th>verbal_label</th>\n",
              "      <th>ehc-soft_technique</th>\n",
              "      <th>ehc-hard_technique</th>\n",
              "      <th>blunt_impact</th>\n",
              "    </tr>\n",
              "  </thead>\n",
              "  <tbody>\n",
              "    <tr>\n",
              "      <th>6</th>\n",
              "      <td>police use horses as weapons</td>\n",
              "      <td>-1</td>\n",
              "      <td>-1</td>\n",
              "      <td>-1</td>\n",
              "      <td>-1</td>\n",
              "      <td>1</td>\n",
              "    </tr>\n",
              "    <tr>\n",
              "      <th>17</th>\n",
              "      <td>police push protesters with horses</td>\n",
              "      <td>-1</td>\n",
              "      <td>-1</td>\n",
              "      <td>0</td>\n",
              "      <td>-1</td>\n",
              "      <td>1</td>\n",
              "    </tr>\n",
              "    <tr>\n",
              "      <th>25</th>\n",
              "      <td>police trample protester with horse</td>\n",
              "      <td>-1</td>\n",
              "      <td>-1</td>\n",
              "      <td>-1</td>\n",
              "      <td>-1</td>\n",
              "      <td>1</td>\n",
              "    </tr>\n",
              "    <tr>\n",
              "      <th>27</th>\n",
              "      <td>police beat protester with batons  then pepper...</td>\n",
              "      <td>-1</td>\n",
              "      <td>-1</td>\n",
              "      <td>-1</td>\n",
              "      <td>1</td>\n",
              "      <td>1</td>\n",
              "    </tr>\n",
              "    <tr>\n",
              "      <th>43</th>\n",
              "      <td>officer shoots projectile from moving vehicle</td>\n",
              "      <td>-1</td>\n",
              "      <td>-1</td>\n",
              "      <td>-1</td>\n",
              "      <td>-1</td>\n",
              "      <td>1</td>\n",
              "    </tr>\n",
              "    <tr>\n",
              "      <th>...</th>\n",
              "      <td>...</td>\n",
              "      <td>...</td>\n",
              "      <td>...</td>\n",
              "      <td>...</td>\n",
              "      <td>...</td>\n",
              "      <td>...</td>\n",
              "    </tr>\n",
              "    <tr>\n",
              "      <th>1045</th>\n",
              "      <td>police shoot at cars in traffic from overpass</td>\n",
              "      <td>-1</td>\n",
              "      <td>-1</td>\n",
              "      <td>-1</td>\n",
              "      <td>-1</td>\n",
              "      <td>1</td>\n",
              "    </tr>\n",
              "    <tr>\n",
              "      <th>1047</th>\n",
              "      <td>police officers use batons to beat protester</td>\n",
              "      <td>-1</td>\n",
              "      <td>-1</td>\n",
              "      <td>-1</td>\n",
              "      <td>1</td>\n",
              "      <td>1</td>\n",
              "    </tr>\n",
              "    <tr>\n",
              "      <th>1057</th>\n",
              "      <td>lmpd bearcat strikes vehicle  police initially...</td>\n",
              "      <td>-1</td>\n",
              "      <td>-1</td>\n",
              "      <td>1</td>\n",
              "      <td>-1</td>\n",
              "      <td>1</td>\n",
              "    </tr>\n",
              "    <tr>\n",
              "      <th>1062</th>\n",
              "      <td>protester hit by police car</td>\n",
              "      <td>-1</td>\n",
              "      <td>-1</td>\n",
              "      <td>-1</td>\n",
              "      <td>-1</td>\n",
              "      <td>1</td>\n",
              "    </tr>\n",
              "    <tr>\n",
              "      <th>1068</th>\n",
              "      <td>police officer shoves protester on bike  polic...</td>\n",
              "      <td>-1</td>\n",
              "      <td>-1</td>\n",
              "      <td>1</td>\n",
              "      <td>-1</td>\n",
              "      <td>1</td>\n",
              "    </tr>\n",
              "  </tbody>\n",
              "</table>\n",
              "<p>116 rows × 6 columns</p>\n",
              "</div>"
            ],
            "text/plain": [
              "                                                   text  ...  blunt_impact\n",
              "6                          police use horses as weapons  ...             1\n",
              "17                   police push protesters with horses  ...             1\n",
              "25                  police trample protester with horse  ...             1\n",
              "27    police beat protester with batons  then pepper...  ...             1\n",
              "43        officer shoots projectile from moving vehicle  ...             1\n",
              "...                                                 ...  ...           ...\n",
              "1045      police shoot at cars in traffic from overpass  ...             1\n",
              "1047       police officers use batons to beat protester  ...             1\n",
              "1057  lmpd bearcat strikes vehicle  police initially...  ...             1\n",
              "1062                        protester hit by police car  ...             1\n",
              "1068  police officer shoves protester on bike  polic...  ...             1\n",
              "\n",
              "[116 rows x 6 columns]"
            ]
          },
          "metadata": {
            "tags": []
          },
          "execution_count": 314
        }
      ]
    },
    {
      "cell_type": "markdown",
      "metadata": {
        "id": "4sFO8YKMgSA8",
        "colab_type": "text"
      },
      "source": [
        "## Projectiles category\n",
        "\n",
        "Projectiles shot or launched by police at civilians. Includes \"less lethal\" mutnitions such as rubber bullets, bean bag rounds, water hoses, and flash grenades, as well as deadly weapons such as firearms. \n"
      ]
    },
    {
      "cell_type": "code",
      "metadata": {
        "id": "mDrwc6bIhzNm",
        "colab_type": "code",
        "colab": {}
      },
      "source": [
        "PROJECTILE = 1\n",
        "NOT_PROJECTILE = 0\n",
        "ABSTAIN = -1"
      ],
      "execution_count": 315,
      "outputs": []
    },
    {
      "cell_type": "code",
      "metadata": {
        "id": "03BoFU4R5_2M",
        "colab_type": "code",
        "colab": {}
      },
      "source": [
        "@labeling_function()\n",
        "def lf_keyword_pepper(x):\n",
        "  return PROJECTILE if 'pepper' in x.text else ABSTAIN"
      ],
      "execution_count": 316,
      "outputs": []
    },
    {
      "cell_type": "code",
      "metadata": {
        "id": "wY9E0lmE6FPr",
        "colab_type": "code",
        "colab": {}
      },
      "source": [
        "@labeling_function()\n",
        "def lf_keyword_rubber(x):\n",
        "  return PROJECTILE if 'rubber' in x.text else ABSTAIN"
      ],
      "execution_count": 317,
      "outputs": []
    },
    {
      "cell_type": "code",
      "metadata": {
        "id": "BpIZxC6FD1Yg",
        "colab_type": "code",
        "colab": {}
      },
      "source": [
        "@labeling_function()\n",
        "def lf_keyword_bean(x):\n",
        "  return PROJECTILE if 'bean' in x.text else ABSTAIN"
      ],
      "execution_count": 318,
      "outputs": []
    },
    {
      "cell_type": "code",
      "metadata": {
        "id": "HcCBB-qNEqYO",
        "colab_type": "code",
        "colab": {}
      },
      "source": [
        "@labeling_function()\n",
        "def lf_keyword_shoot(x):\n",
        "  return PROJECTILE if 'shoot' in x.text else ABSTAIN"
      ],
      "execution_count": 319,
      "outputs": []
    },
    {
      "cell_type": "code",
      "metadata": {
        "id": "QYhnBzTgE5I6",
        "colab_type": "code",
        "colab": {}
      },
      "source": [
        "@labeling_function()\n",
        "def lf_keyword_shot(x):\n",
        "  return PROJECTILE if 'shot' in x.text else ABSTAIN"
      ],
      "execution_count": 320,
      "outputs": []
    },
    {
      "cell_type": "code",
      "metadata": {
        "id": "teKO2JD2HAF8",
        "colab_type": "code",
        "colab": {}
      },
      "source": [
        "@labeling_function()\n",
        "def lf_keyword_fire(x):\n",
        "  return PROJECTILE if 'fire' in x.text else ABSTAIN"
      ],
      "execution_count": 321,
      "outputs": []
    },
    {
      "cell_type": "code",
      "metadata": {
        "id": "Q4hpi6wMxf9d",
        "colab_type": "code",
        "colab": {}
      },
      "source": [
        "@labeling_function()\n",
        "def lf_keyword_grenade(x):\n",
        "  return PROJECTILE if 'grenade' in x.text else ABSTAIN"
      ],
      "execution_count": 322,
      "outputs": []
    },
    {
      "cell_type": "code",
      "metadata": {
        "id": "5hPtwbYbw0s4",
        "colab_type": "code",
        "colab": {}
      },
      "source": [
        "@labeling_function()\n",
        "def lf_keyword_bullet(x):\n",
        "  return PROJECTILE if 'bullet' in x.text else ABSTAIN"
      ],
      "execution_count": 323,
      "outputs": []
    },
    {
      "cell_type": "code",
      "metadata": {
        "id": "-foAaNE3M9Cd",
        "colab_type": "code",
        "colab": {}
      },
      "source": [
        "@labeling_function()\n",
        "def lf_keyword_throw(x):\n",
        "  return PROJECTILE if 'throw' in x.text else ABSTAIN"
      ],
      "execution_count": 324,
      "outputs": []
    },
    {
      "cell_type": "code",
      "metadata": {
        "id": "3Hf8YiwsNE4Z",
        "colab_type": "code",
        "colab": {}
      },
      "source": [
        "@labeling_function()\n",
        "def lf_keyword_discharge(x):\n",
        "  return PROJECTILE if 'discharge' in x.text else ABSTAIN"
      ],
      "execution_count": 325,
      "outputs": []
    },
    {
      "cell_type": "code",
      "metadata": {
        "id": "nNPnayuGPL6S",
        "colab_type": "code",
        "colab": {}
      },
      "source": [
        "@labeling_function()\n",
        "def lf_keyword_projectile(x):\n",
        "  return PROJECTILE if 'projectile' in x.text else ABSTAIN"
      ],
      "execution_count": 326,
      "outputs": []
    },
    {
      "cell_type": "code",
      "metadata": {
        "id": "CT4-BbfAipHD",
        "colab_type": "code",
        "colab": {
          "base_uri": "https://localhost:8080/",
          "height": 70
        },
        "outputId": "7005d551-2939-4796-a11c-39a0a4b4dced"
      },
      "source": [
        "from snorkel.labeling.model import LabelModel\n",
        "from snorkel.labeling import PandasLFApplier\n",
        "\n",
        "# Define the set of labeling functions (LFs)\n",
        "lfs = [lf_keyword_pepper, lf_keyword_rubber, lf_keyword_bean,\n",
        "       lf_keyword_shoot, lf_keyword_shot, lf_keyword_fire, lf_keyword_grenade, \n",
        "       lf_keyword_bullet, lf_keyword_throw, lf_keyword_discharge, \n",
        "       lf_keyword_projectile]\n",
        "\n",
        "# Apply the LFs to the unlabeled training data\n",
        "applier = PandasLFApplier(lfs)\n",
        "L_train = applier.apply(df2)\n",
        "\n",
        "# Train the label model and compute the training labels\n",
        "label_model = LabelModel(cardinality=2, verbose=True)\n",
        "label_model.fit(L_train, n_epochs=500, log_freq=50, seed=123)\n",
        "df2[\"projectile\"] = label_model.predict(L=L_train, tie_break_policy=\"abstain\")"
      ],
      "execution_count": 327,
      "outputs": [
        {
          "output_type": "stream",
          "text": [
            "\n",
            "  0%|          | 0/1069 [00:00<?, ?it/s]\u001b[A\n",
            "100%|██████████| 1069/1069 [00:00<00:00, 5546.46it/s]\n"
          ],
          "name": "stderr"
        }
      ]
    },
    {
      "cell_type": "code",
      "metadata": {
        "id": "dbpVL3_exKX2",
        "colab_type": "code",
        "colab": {
          "base_uri": "https://localhost:8080/",
          "height": 411
        },
        "outputId": "7e32c3e7-a212-4bae-dd3b-ed7609551e42"
      },
      "source": [
        "df2[df2['projectile'] == 1]"
      ],
      "execution_count": 328,
      "outputs": [
        {
          "output_type": "execute_result",
          "data": {
            "text/html": [
              "<div>\n",
              "<style scoped>\n",
              "    .dataframe tbody tr th:only-of-type {\n",
              "        vertical-align: middle;\n",
              "    }\n",
              "\n",
              "    .dataframe tbody tr th {\n",
              "        vertical-align: top;\n",
              "    }\n",
              "\n",
              "    .dataframe thead th {\n",
              "        text-align: right;\n",
              "    }\n",
              "</style>\n",
              "<table border=\"1\" class=\"dataframe\">\n",
              "  <thead>\n",
              "    <tr style=\"text-align: right;\">\n",
              "      <th></th>\n",
              "      <th>text</th>\n",
              "      <th>presence_label</th>\n",
              "      <th>verbal_label</th>\n",
              "      <th>ehc-soft_technique</th>\n",
              "      <th>ehc-hard_technique</th>\n",
              "      <th>blunt_impact</th>\n",
              "      <th>projectile</th>\n",
              "    </tr>\n",
              "  </thead>\n",
              "  <tbody>\n",
              "    <tr>\n",
              "      <th>2</th>\n",
              "      <td>police shoot non violent protester in the head</td>\n",
              "      <td>-1</td>\n",
              "      <td>-1</td>\n",
              "      <td>-1</td>\n",
              "      <td>-1</td>\n",
              "      <td>-1</td>\n",
              "      <td>1</td>\n",
              "    </tr>\n",
              "    <tr>\n",
              "      <th>3</th>\n",
              "      <td>police use tear gas   rubber bullets on protes...</td>\n",
              "      <td>-1</td>\n",
              "      <td>-1</td>\n",
              "      <td>-1</td>\n",
              "      <td>-1</td>\n",
              "      <td>-1</td>\n",
              "      <td>1</td>\n",
              "    </tr>\n",
              "    <tr>\n",
              "      <th>4</th>\n",
              "      <td>police open fire on crowd with rubber bullets</td>\n",
              "      <td>-1</td>\n",
              "      <td>-1</td>\n",
              "      <td>-1</td>\n",
              "      <td>-1</td>\n",
              "      <td>-1</td>\n",
              "      <td>1</td>\n",
              "    </tr>\n",
              "    <tr>\n",
              "      <th>5</th>\n",
              "      <td>pregnant woman shot with bean bags by police</td>\n",
              "      <td>-1</td>\n",
              "      <td>-1</td>\n",
              "      <td>-1</td>\n",
              "      <td>-1</td>\n",
              "      <td>-1</td>\n",
              "      <td>1</td>\n",
              "    </tr>\n",
              "    <tr>\n",
              "      <th>8</th>\n",
              "      <td>police open fire on crowd after a protester th...</td>\n",
              "      <td>-1</td>\n",
              "      <td>-1</td>\n",
              "      <td>-1</td>\n",
              "      <td>-1</td>\n",
              "      <td>-1</td>\n",
              "      <td>1</td>\n",
              "    </tr>\n",
              "    <tr>\n",
              "      <th>...</th>\n",
              "      <td>...</td>\n",
              "      <td>...</td>\n",
              "      <td>...</td>\n",
              "      <td>...</td>\n",
              "      <td>...</td>\n",
              "      <td>...</td>\n",
              "      <td>...</td>\n",
              "    </tr>\n",
              "    <tr>\n",
              "      <th>1052</th>\n",
              "      <td>police shove woman and then fire pepper balls ...</td>\n",
              "      <td>-1</td>\n",
              "      <td>-1</td>\n",
              "      <td>1</td>\n",
              "      <td>-1</td>\n",
              "      <td>-1</td>\n",
              "      <td>1</td>\n",
              "    </tr>\n",
              "    <tr>\n",
              "      <th>1060</th>\n",
              "      <td>police fire at peaceful protesters</td>\n",
              "      <td>-1</td>\n",
              "      <td>-1</td>\n",
              "      <td>-1</td>\n",
              "      <td>-1</td>\n",
              "      <td>-1</td>\n",
              "      <td>1</td>\n",
              "    </tr>\n",
              "    <tr>\n",
              "      <th>1064</th>\n",
              "      <td>reporter shows tear gas canister fired at him ...</td>\n",
              "      <td>1</td>\n",
              "      <td>-1</td>\n",
              "      <td>-1</td>\n",
              "      <td>-1</td>\n",
              "      <td>-1</td>\n",
              "      <td>1</td>\n",
              "    </tr>\n",
              "    <tr>\n",
              "      <th>1065</th>\n",
              "      <td>woman bleeding from face after being shot by p...</td>\n",
              "      <td>-1</td>\n",
              "      <td>-1</td>\n",
              "      <td>-1</td>\n",
              "      <td>-1</td>\n",
              "      <td>-1</td>\n",
              "      <td>1</td>\n",
              "    </tr>\n",
              "    <tr>\n",
              "      <th>1066</th>\n",
              "      <td>police mace  shoot pepper bullets at protester...</td>\n",
              "      <td>-1</td>\n",
              "      <td>-1</td>\n",
              "      <td>-1</td>\n",
              "      <td>-1</td>\n",
              "      <td>-1</td>\n",
              "      <td>1</td>\n",
              "    </tr>\n",
              "  </tbody>\n",
              "</table>\n",
              "<p>257 rows × 7 columns</p>\n",
              "</div>"
            ],
            "text/plain": [
              "                                                   text  ...  projectile\n",
              "2        police shoot non violent protester in the head  ...           1\n",
              "3     police use tear gas   rubber bullets on protes...  ...           1\n",
              "4         police open fire on crowd with rubber bullets  ...           1\n",
              "5          pregnant woman shot with bean bags by police  ...           1\n",
              "8     police open fire on crowd after a protester th...  ...           1\n",
              "...                                                 ...  ...         ...\n",
              "1052  police shove woman and then fire pepper balls ...  ...           1\n",
              "1060                 police fire at peaceful protesters  ...           1\n",
              "1064  reporter shows tear gas canister fired at him ...  ...           1\n",
              "1065  woman bleeding from face after being shot by p...  ...           1\n",
              "1066  police mace  shoot pepper bullets at protester...  ...           1\n",
              "\n",
              "[257 rows x 7 columns]"
            ]
          },
          "metadata": {
            "tags": []
          },
          "execution_count": 328
        }
      ]
    },
    {
      "cell_type": "markdown",
      "metadata": {
        "id": "1d6p1c0TxSje",
        "colab_type": "text"
      },
      "source": [
        "## Chemical Agents\n",
        "\n",
        "Police use chemical agents including pepper pray, tear gas on civilians. "
      ]
    },
    {
      "cell_type": "code",
      "metadata": {
        "id": "Hp9cjK01MWy8",
        "colab_type": "code",
        "colab": {}
      },
      "source": [
        "CHEMICAL = 1\n",
        "NOT_CHEMICAL = 0\n",
        "ABSTAIN = -1"
      ],
      "execution_count": 329,
      "outputs": []
    },
    {
      "cell_type": "code",
      "metadata": {
        "id": "U0e0Ke4wnx_s",
        "colab_type": "code",
        "colab": {}
      },
      "source": [
        "@labeling_function()\n",
        "def lf_keyword_pepper(x):\n",
        "  return CHEMICAL if 'pepper' in x.text else ABSTAIN"
      ],
      "execution_count": 330,
      "outputs": []
    },
    {
      "cell_type": "code",
      "metadata": {
        "id": "hhlDF5i3oLba",
        "colab_type": "code",
        "colab": {}
      },
      "source": [
        "@labeling_function()\n",
        "def lf_keyword_gas(x):\n",
        "  return CHEMICAL if 'gas' in x.text else ABSTAIN"
      ],
      "execution_count": 331,
      "outputs": []
    },
    {
      "cell_type": "code",
      "metadata": {
        "id": "8a6vz1nKoQPk",
        "colab_type": "code",
        "colab": {}
      },
      "source": [
        "@labeling_function()\n",
        "def lf_keyword_smoke(x):\n",
        "  return CHEMICAL if 'pepper' in x.text else ABSTAIN"
      ],
      "execution_count": 332,
      "outputs": []
    },
    {
      "cell_type": "code",
      "metadata": {
        "id": "XRRrramTxMJx",
        "colab_type": "code",
        "colab": {}
      },
      "source": [
        "@labeling_function()\n",
        "def lf_keyword_mace(x):\n",
        "  return CHEMICAL if 'mace' in x.text else ABSTAIN"
      ],
      "execution_count": 333,
      "outputs": []
    },
    {
      "cell_type": "code",
      "metadata": {
        "id": "mRO50_GtxRF9",
        "colab_type": "code",
        "colab": {}
      },
      "source": [
        "@labeling_function()\n",
        "def lf_keyword_spray(x):\n",
        "  return CHEMICAL if 'spray' in x.text else ABSTAIN"
      ],
      "execution_count": 334,
      "outputs": []
    },
    {
      "cell_type": "code",
      "metadata": {
        "id": "e8vCRd-5oTuR",
        "colab_type": "code",
        "colab": {
          "base_uri": "https://localhost:8080/",
          "height": 52
        },
        "outputId": "fea3cf25-0892-416e-ea49-0880294beef7"
      },
      "source": [
        "from snorkel.labeling.model import LabelModel\n",
        "from snorkel.labeling import PandasLFApplier\n",
        "\n",
        "# Define the set of labeling functions (LFs)\n",
        "lfs = [lf_keyword_pepper, lf_keyword_gas, lf_keyword_smoke, \n",
        "       lf_keyword_spray, lf_keyword_mace]\n",
        "\n",
        "# Apply the LFs to the unlabeled training data\n",
        "applier = PandasLFApplier(lfs)\n",
        "L_train = applier.apply(df2)\n",
        "\n",
        "# Train the label model and compute the training labels\n",
        "label_model = LabelModel(cardinality=2, verbose=True)\n",
        "label_model.fit(L_train, n_epochs=500, log_freq=50, seed=123)\n",
        "df2[\"chemical\"] = label_model.predict(L=L_train, tie_break_policy=\"abstain\")"
      ],
      "execution_count": 335,
      "outputs": [
        {
          "output_type": "stream",
          "text": [
            "\n",
            "100%|██████████| 1069/1069 [00:00<00:00, 11118.27it/s]\n"
          ],
          "name": "stderr"
        }
      ]
    },
    {
      "cell_type": "code",
      "metadata": {
        "id": "SIhwUInjoeEp",
        "colab_type": "code",
        "colab": {
          "base_uri": "https://localhost:8080/",
          "height": 411
        },
        "outputId": "dc44bd0d-aeaa-4b98-bba8-26f60cee4d78"
      },
      "source": [
        "df2[df2['chemical']==1]"
      ],
      "execution_count": 336,
      "outputs": [
        {
          "output_type": "execute_result",
          "data": {
            "text/html": [
              "<div>\n",
              "<style scoped>\n",
              "    .dataframe tbody tr th:only-of-type {\n",
              "        vertical-align: middle;\n",
              "    }\n",
              "\n",
              "    .dataframe tbody tr th {\n",
              "        vertical-align: top;\n",
              "    }\n",
              "\n",
              "    .dataframe thead th {\n",
              "        text-align: right;\n",
              "    }\n",
              "</style>\n",
              "<table border=\"1\" class=\"dataframe\">\n",
              "  <thead>\n",
              "    <tr style=\"text-align: right;\">\n",
              "      <th></th>\n",
              "      <th>text</th>\n",
              "      <th>presence_label</th>\n",
              "      <th>verbal_label</th>\n",
              "      <th>ehc-soft_technique</th>\n",
              "      <th>ehc-hard_technique</th>\n",
              "      <th>blunt_impact</th>\n",
              "      <th>projectile</th>\n",
              "      <th>chemical</th>\n",
              "    </tr>\n",
              "  </thead>\n",
              "  <tbody>\n",
              "    <tr>\n",
              "      <th>9</th>\n",
              "      <td>police spray a man in the face while he stands...</td>\n",
              "      <td>-1</td>\n",
              "      <td>-1</td>\n",
              "      <td>-1</td>\n",
              "      <td>-1</td>\n",
              "      <td>-1</td>\n",
              "      <td>-1</td>\n",
              "      <td>1</td>\n",
              "    </tr>\n",
              "    <tr>\n",
              "      <th>16</th>\n",
              "      <td>police shove and pepper spray protesters</td>\n",
              "      <td>-1</td>\n",
              "      <td>-1</td>\n",
              "      <td>1</td>\n",
              "      <td>-1</td>\n",
              "      <td>-1</td>\n",
              "      <td>0</td>\n",
              "      <td>1</td>\n",
              "    </tr>\n",
              "    <tr>\n",
              "      <th>27</th>\n",
              "      <td>police beat protester with batons  then pepper...</td>\n",
              "      <td>-1</td>\n",
              "      <td>-1</td>\n",
              "      <td>-1</td>\n",
              "      <td>1</td>\n",
              "      <td>1</td>\n",
              "      <td>0</td>\n",
              "      <td>1</td>\n",
              "    </tr>\n",
              "    <tr>\n",
              "      <th>37</th>\n",
              "      <td>police officer pepper sprays protesters for no...</td>\n",
              "      <td>-1</td>\n",
              "      <td>-1</td>\n",
              "      <td>-1</td>\n",
              "      <td>-1</td>\n",
              "      <td>-1</td>\n",
              "      <td>0</td>\n",
              "      <td>1</td>\n",
              "    </tr>\n",
              "    <tr>\n",
              "      <th>46</th>\n",
              "      <td>officer pepper sprays protester</td>\n",
              "      <td>-1</td>\n",
              "      <td>-1</td>\n",
              "      <td>-1</td>\n",
              "      <td>-1</td>\n",
              "      <td>-1</td>\n",
              "      <td>0</td>\n",
              "      <td>1</td>\n",
              "    </tr>\n",
              "    <tr>\n",
              "      <th>...</th>\n",
              "      <td>...</td>\n",
              "      <td>...</td>\n",
              "      <td>...</td>\n",
              "      <td>...</td>\n",
              "      <td>...</td>\n",
              "      <td>...</td>\n",
              "      <td>...</td>\n",
              "      <td>...</td>\n",
              "    </tr>\n",
              "    <tr>\n",
              "      <th>1025</th>\n",
              "      <td>police fire pepper bullets into apartment</td>\n",
              "      <td>-1</td>\n",
              "      <td>-1</td>\n",
              "      <td>-1</td>\n",
              "      <td>-1</td>\n",
              "      <td>-1</td>\n",
              "      <td>1</td>\n",
              "      <td>1</td>\n",
              "    </tr>\n",
              "    <tr>\n",
              "      <th>1051</th>\n",
              "      <td>protesters in st  matthews shot with pepper ro...</td>\n",
              "      <td>-1</td>\n",
              "      <td>-1</td>\n",
              "      <td>-1</td>\n",
              "      <td>-1</td>\n",
              "      <td>-1</td>\n",
              "      <td>1</td>\n",
              "      <td>1</td>\n",
              "    </tr>\n",
              "    <tr>\n",
              "      <th>1052</th>\n",
              "      <td>police shove woman and then fire pepper balls ...</td>\n",
              "      <td>-1</td>\n",
              "      <td>-1</td>\n",
              "      <td>1</td>\n",
              "      <td>-1</td>\n",
              "      <td>-1</td>\n",
              "      <td>1</td>\n",
              "      <td>1</td>\n",
              "    </tr>\n",
              "    <tr>\n",
              "      <th>1061</th>\n",
              "      <td>protester pepper sprayed through open door</td>\n",
              "      <td>-1</td>\n",
              "      <td>-1</td>\n",
              "      <td>-1</td>\n",
              "      <td>-1</td>\n",
              "      <td>-1</td>\n",
              "      <td>0</td>\n",
              "      <td>1</td>\n",
              "    </tr>\n",
              "    <tr>\n",
              "      <th>1066</th>\n",
              "      <td>police mace  shoot pepper bullets at protester...</td>\n",
              "      <td>-1</td>\n",
              "      <td>-1</td>\n",
              "      <td>-1</td>\n",
              "      <td>-1</td>\n",
              "      <td>-1</td>\n",
              "      <td>1</td>\n",
              "      <td>1</td>\n",
              "    </tr>\n",
              "  </tbody>\n",
              "</table>\n",
              "<p>171 rows × 8 columns</p>\n",
              "</div>"
            ],
            "text/plain": [
              "                                                   text  ...  chemical\n",
              "9     police spray a man in the face while he stands...  ...         1\n",
              "16             police shove and pepper spray protesters  ...         1\n",
              "27    police beat protester with batons  then pepper...  ...         1\n",
              "37    police officer pepper sprays protesters for no...  ...         1\n",
              "46                      officer pepper sprays protester  ...         1\n",
              "...                                                 ...  ...       ...\n",
              "1025          police fire pepper bullets into apartment  ...         1\n",
              "1051  protesters in st  matthews shot with pepper ro...  ...         1\n",
              "1052  police shove woman and then fire pepper balls ...  ...         1\n",
              "1061         protester pepper sprayed through open door  ...         1\n",
              "1066  police mace  shoot pepper bullets at protester...  ...         1\n",
              "\n",
              "[171 rows x 8 columns]"
            ]
          },
          "metadata": {
            "tags": []
          },
          "execution_count": 336
        }
      ]
    },
    {
      "cell_type": "markdown",
      "metadata": {
        "id": "hiK1d0Jtor2-",
        "colab_type": "text"
      },
      "source": [
        "## Conducted energy devices\n",
        "\n",
        "Officers may use CEDs to immobilize an individual. CEDs discharge a high-voltage, low-amperage jolt of electricity at a distance. Most commonly tasers."
      ]
    },
    {
      "cell_type": "code",
      "metadata": {
        "id": "fTh7u0ZOMaWR",
        "colab_type": "code",
        "colab": {}
      },
      "source": [
        "CED = 1\n",
        "NOT_CED = 0\n",
        "ABSTAIN = -1"
      ],
      "execution_count": 337,
      "outputs": []
    },
    {
      "cell_type": "code",
      "metadata": {
        "id": "ZjdLFiyoos1r",
        "colab_type": "code",
        "colab": {}
      },
      "source": [
        "@labeling_function()\n",
        "def lf_keyword_taser(x):\n",
        "  return CED if 'taser' in x.text else ABSTAIN"
      ],
      "execution_count": 338,
      "outputs": []
    },
    {
      "cell_type": "code",
      "metadata": {
        "id": "XoTaEEkhpnqE",
        "colab_type": "code",
        "colab": {}
      },
      "source": [
        "@labeling_function()\n",
        "def lf_keyword_stun(x):\n",
        "  return CED if 'stun' in x.text else ABSTAIN"
      ],
      "execution_count": 339,
      "outputs": []
    },
    {
      "cell_type": "code",
      "metadata": {
        "id": "N4KAu8Ygprh9",
        "colab_type": "code",
        "colab": {}
      },
      "source": [
        "@labeling_function()\n",
        "def lf_keyword_stungun(x):\n",
        "  return CED if 'stungun' in x.text else ABSTAIN"
      ],
      "execution_count": 340,
      "outputs": []
    },
    {
      "cell_type": "code",
      "metadata": {
        "id": "x5yUdgIxyWak",
        "colab_type": "code",
        "colab": {}
      },
      "source": [
        "@labeling_function()\n",
        "def lf_keyword_taze(x):\n",
        "  return CED if 'taze' in x.text else ABSTAIN"
      ],
      "execution_count": 341,
      "outputs": []
    },
    {
      "cell_type": "code",
      "metadata": {
        "id": "mmu7_e4LpvW8",
        "colab_type": "code",
        "colab": {
          "base_uri": "https://localhost:8080/",
          "height": 70
        },
        "outputId": "cecc7390-4659-4284-c4f1-45e1fc0ce083"
      },
      "source": [
        "from snorkel.labeling.model import LabelModel\n",
        "from snorkel.labeling import PandasLFApplier\n",
        "\n",
        "# Define the set of labeling functions (LFs)\n",
        "lfs = [lf_keyword_taser, lf_keyword_stun, lf_keyword_stungun, lf_keyword_taze]\n",
        "\n",
        "# Apply the LFs to the unlabeled training data\n",
        "applier = PandasLFApplier(lfs)\n",
        "L_train = applier.apply(df2)\n",
        "\n",
        "# Train the label model and compute the training labels\n",
        "label_model = LabelModel(cardinality=2, verbose=True)\n",
        "label_model.fit(L_train, n_epochs=500, log_freq=50, seed=123)\n",
        "df2[\"ced_category\"] = label_model.predict(L=L_train, tie_break_policy=\"abstain\")"
      ],
      "execution_count": 342,
      "outputs": [
        {
          "output_type": "stream",
          "text": [
            "\n",
            "  0%|          | 0/1069 [00:00<?, ?it/s]\u001b[A\n",
            "100%|██████████| 1069/1069 [00:00<00:00, 9135.91it/s]\n"
          ],
          "name": "stderr"
        }
      ]
    },
    {
      "cell_type": "code",
      "metadata": {
        "id": "ZNPN74rHp06r",
        "colab_type": "code",
        "colab": {
          "base_uri": "https://localhost:8080/",
          "height": 261
        },
        "outputId": "7c65eeab-272e-4062-cdd5-8dadaeb6c958"
      },
      "source": [
        "df2[df2['ced_category']==1]"
      ],
      "execution_count": 343,
      "outputs": [
        {
          "output_type": "execute_result",
          "data": {
            "text/html": [
              "<div>\n",
              "<style scoped>\n",
              "    .dataframe tbody tr th:only-of-type {\n",
              "        vertical-align: middle;\n",
              "    }\n",
              "\n",
              "    .dataframe tbody tr th {\n",
              "        vertical-align: top;\n",
              "    }\n",
              "\n",
              "    .dataframe thead th {\n",
              "        text-align: right;\n",
              "    }\n",
              "</style>\n",
              "<table border=\"1\" class=\"dataframe\">\n",
              "  <thead>\n",
              "    <tr style=\"text-align: right;\">\n",
              "      <th></th>\n",
              "      <th>text</th>\n",
              "      <th>presence_label</th>\n",
              "      <th>verbal_label</th>\n",
              "      <th>ehc-soft_technique</th>\n",
              "      <th>ehc-hard_technique</th>\n",
              "      <th>blunt_impact</th>\n",
              "      <th>projectile</th>\n",
              "      <th>chemical</th>\n",
              "      <th>ced_category</th>\n",
              "    </tr>\n",
              "  </thead>\n",
              "  <tbody>\n",
              "    <tr>\n",
              "      <th>262</th>\n",
              "      <td>officers deploy tear gas and stun grenades aga...</td>\n",
              "      <td>-1</td>\n",
              "      <td>-1</td>\n",
              "      <td>-1</td>\n",
              "      <td>-1</td>\n",
              "      <td>-1</td>\n",
              "      <td>0</td>\n",
              "      <td>0</td>\n",
              "      <td>1</td>\n",
              "    </tr>\n",
              "    <tr>\n",
              "      <th>319</th>\n",
              "      <td>police throw stun grenade at retreating protes...</td>\n",
              "      <td>-1</td>\n",
              "      <td>-1</td>\n",
              "      <td>-1</td>\n",
              "      <td>-1</td>\n",
              "      <td>-1</td>\n",
              "      <td>0</td>\n",
              "      <td>-1</td>\n",
              "      <td>1</td>\n",
              "    </tr>\n",
              "    <tr>\n",
              "      <th>333</th>\n",
              "      <td>police respond to vandalism with tear gas and ...</td>\n",
              "      <td>-1</td>\n",
              "      <td>-1</td>\n",
              "      <td>-1</td>\n",
              "      <td>-1</td>\n",
              "      <td>-1</td>\n",
              "      <td>0</td>\n",
              "      <td>0</td>\n",
              "      <td>1</td>\n",
              "    </tr>\n",
              "    <tr>\n",
              "      <th>356</th>\n",
              "      <td>police throw stun grenades and tear gas canist...</td>\n",
              "      <td>-1</td>\n",
              "      <td>-1</td>\n",
              "      <td>-1</td>\n",
              "      <td>-1</td>\n",
              "      <td>-1</td>\n",
              "      <td>0</td>\n",
              "      <td>0</td>\n",
              "      <td>1</td>\n",
              "    </tr>\n",
              "    <tr>\n",
              "      <th>357</th>\n",
              "      <td>police throw stun grenade at independent journ...</td>\n",
              "      <td>-1</td>\n",
              "      <td>-1</td>\n",
              "      <td>-1</td>\n",
              "      <td>-1</td>\n",
              "      <td>-1</td>\n",
              "      <td>0</td>\n",
              "      <td>-1</td>\n",
              "      <td>1</td>\n",
              "    </tr>\n",
              "    <tr>\n",
              "      <th>367</th>\n",
              "      <td>officer throws stun grenade at protesters on s...</td>\n",
              "      <td>-1</td>\n",
              "      <td>-1</td>\n",
              "      <td>-1</td>\n",
              "      <td>-1</td>\n",
              "      <td>-1</td>\n",
              "      <td>0</td>\n",
              "      <td>-1</td>\n",
              "      <td>1</td>\n",
              "    </tr>\n",
              "    <tr>\n",
              "      <th>383</th>\n",
              "      <td>officer repeatedly uses stun gun on suspect wh...</td>\n",
              "      <td>-1</td>\n",
              "      <td>-1</td>\n",
              "      <td>-1</td>\n",
              "      <td>-1</td>\n",
              "      <td>-1</td>\n",
              "      <td>-1</td>\n",
              "      <td>-1</td>\n",
              "      <td>1</td>\n",
              "    </tr>\n",
              "  </tbody>\n",
              "</table>\n",
              "</div>"
            ],
            "text/plain": [
              "                                                  text  ...  ced_category\n",
              "262  officers deploy tear gas and stun grenades aga...  ...             1\n",
              "319  police throw stun grenade at retreating protes...  ...             1\n",
              "333  police respond to vandalism with tear gas and ...  ...             1\n",
              "356  police throw stun grenades and tear gas canist...  ...             1\n",
              "357  police throw stun grenade at independent journ...  ...             1\n",
              "367  officer throws stun grenade at protesters on s...  ...             1\n",
              "383  officer repeatedly uses stun gun on suspect wh...  ...             1\n",
              "\n",
              "[7 rows x 9 columns]"
            ]
          },
          "metadata": {
            "tags": []
          },
          "execution_count": 343
        }
      ]
    },
    {
      "cell_type": "markdown",
      "metadata": {
        "id": "WYZI2eyFyd3j",
        "colab_type": "text"
      },
      "source": [
        "# Add force tags to dataframe"
      ]
    },
    {
      "cell_type": "code",
      "metadata": {
        "id": "b1CjFujMrVfm",
        "colab_type": "code",
        "colab": {
          "base_uri": "https://localhost:8080/",
          "height": 88
        },
        "outputId": "d1099f2e-c2e7-4b95-aef7-afe0e149660b"
      },
      "source": [
        "df2.columns"
      ],
      "execution_count": 344,
      "outputs": [
        {
          "output_type": "execute_result",
          "data": {
            "text/plain": [
              "Index(['text', 'presence_label', 'verbal_label', 'ehc-soft_technique',\n",
              "       'ehc-hard_technique', 'blunt_impact', 'projectile', 'chemical',\n",
              "       'ced_category'],\n",
              "      dtype='object')"
            ]
          },
          "metadata": {
            "tags": []
          },
          "execution_count": 344
        }
      ]
    },
    {
      "cell_type": "code",
      "metadata": {
        "id": "Xmsvk2ngq9Zb",
        "colab_type": "code",
        "colab": {}
      },
      "source": [
        "def add_force_labels(row):\n",
        "  tags = []\n",
        "  if row['presence_label'] == 1:\n",
        "    tags.append('Presence')\n",
        "  if row['verbal_label'] == 1:\n",
        "    tags.append('Verbalization')\n",
        "  if row['ehc-soft_technique'] == 1:\n",
        "    tags.append('EHC Soft Technique')\n",
        "  if row['ehc-hard_technique'] == 1:\n",
        "    tags.append('EHC Hard Technique')\n",
        "  if row['blunt_impact'] == 1:\n",
        "    tags.append('Blunt Impact')\n",
        "  if row['projectile'] == 1 or row['projectile'] == 0:\n",
        "    tags.append('Projectiles')\n",
        "  if row['chemical'] == 1:\n",
        "    tags.append('Chemical')\n",
        "  if row['ced_category'] == 1:\n",
        "    tags.append('Conductive Energy')\n",
        "  if not tags:\n",
        "    tags.append('Other/Unknown')\n",
        "  return tags"
      ],
      "execution_count": 345,
      "outputs": []
    },
    {
      "cell_type": "code",
      "metadata": {
        "id": "vOHSAxQi1uT5",
        "colab_type": "code",
        "colab": {}
      },
      "source": [
        "# apply force tags to incident data\n",
        "df2['force_tags'] = df2.apply(add_force_labels,axis=1)"
      ],
      "execution_count": 346,
      "outputs": []
    },
    {
      "cell_type": "code",
      "metadata": {
        "id": "V4wSyBuR2ujL",
        "colab_type": "code",
        "colab": {
          "base_uri": "https://localhost:8080/",
          "height": 139
        },
        "outputId": "58b153de-1e9a-4f54-a2fa-3b01741ff1f9"
      },
      "source": [
        "# take a peek\n",
        "df2[['text','force_tags']].head(3)"
      ],
      "execution_count": 347,
      "outputs": [
        {
          "output_type": "execute_result",
          "data": {
            "text/html": [
              "<div>\n",
              "<style scoped>\n",
              "    .dataframe tbody tr th:only-of-type {\n",
              "        vertical-align: middle;\n",
              "    }\n",
              "\n",
              "    .dataframe tbody tr th {\n",
              "        vertical-align: top;\n",
              "    }\n",
              "\n",
              "    .dataframe thead th {\n",
              "        text-align: right;\n",
              "    }\n",
              "</style>\n",
              "<table border=\"1\" class=\"dataframe\">\n",
              "  <thead>\n",
              "    <tr style=\"text-align: right;\">\n",
              "      <th></th>\n",
              "      <th>text</th>\n",
              "      <th>force_tags</th>\n",
              "    </tr>\n",
              "  </thead>\n",
              "  <tbody>\n",
              "    <tr>\n",
              "      <th>0</th>\n",
              "      <td>police throw tear gas at protesters on a bridge</td>\n",
              "      <td>[Projectiles]</td>\n",
              "    </tr>\n",
              "    <tr>\n",
              "      <th>1</th>\n",
              "      <td>police assault protesters</td>\n",
              "      <td>[EHC Hard Technique]</td>\n",
              "    </tr>\n",
              "    <tr>\n",
              "      <th>2</th>\n",
              "      <td>police shoot non violent protester in the head</td>\n",
              "      <td>[Projectiles]</td>\n",
              "    </tr>\n",
              "  </tbody>\n",
              "</table>\n",
              "</div>"
            ],
            "text/plain": [
              "                                               text            force_tags\n",
              "0  police throw tear gas at protesters on a bridge          [Projectiles]\n",
              "1                         police assault protesters  [EHC Hard Technique]\n",
              "2    police shoot non violent protester in the head         [Projectiles]"
            ]
          },
          "metadata": {
            "tags": []
          },
          "execution_count": 347
        }
      ]
    },
    {
      "cell_type": "code",
      "metadata": {
        "id": "J5i9CNYJ2YzU",
        "colab_type": "code",
        "colab": {}
      },
      "source": [
        "# clean the tags column by seperating tags\n",
        "def join_tags(content):\n",
        "  return ', '.join(content)"
      ],
      "execution_count": 348,
      "outputs": []
    },
    {
      "cell_type": "code",
      "metadata": {
        "id": "J9cqNUbC2ekU",
        "colab_type": "code",
        "colab": {}
      },
      "source": [
        "# add column to main df\n",
        "df['force_tags'] = df2['force_tags'].apply(join_tags)"
      ],
      "execution_count": 349,
      "outputs": []
    },
    {
      "cell_type": "code",
      "metadata": {
        "id": "UvMrMShY3EpU",
        "colab_type": "code",
        "colab": {
          "base_uri": "https://localhost:8080/",
          "height": 604
        },
        "outputId": "7ccba0df-7f7d-40f9-e5af-e5b5baeb4cbe"
      },
      "source": [
        "df['force_tags'].value_counts()"
      ],
      "execution_count": 350,
      "outputs": [
        {
          "output_type": "execute_result",
          "data": {
            "text/plain": [
              "Other/Unknown                                                                  231\n",
              "Projectiles                                                                    231\n",
              "EHC Soft Technique                                                             202\n",
              "Projectiles, Chemical                                                          115\n",
              "EHC Hard Technique                                                              66\n",
              "Blunt Impact                                                                    44\n",
              "EHC Soft Technique, Blunt Impact                                                22\n",
              "EHC Hard Technique, Blunt Impact                                                22\n",
              "EHC Soft Technique, Projectiles, Chemical                                       22\n",
              "EHC Soft Technique, EHC Hard Technique                                          22\n",
              "EHC Hard Technique, Projectiles, Chemical                                       13\n",
              "EHC Soft Technique, Projectiles                                                 13\n",
              "Blunt Impact, Projectiles                                                       13\n",
              "Presence                                                                         8\n",
              "Chemical                                                                         7\n",
              "Blunt Impact, Projectiles, Chemical                                              6\n",
              "Projectiles, Conductive Energy                                                   6\n",
              "Verbalization                                                                    3\n",
              "EHC Hard Technique, Blunt Impact, Projectiles, Chemical                          3\n",
              "Presence, Projectiles                                                            3\n",
              "EHC Soft Technique, EHC Hard Technique, Blunt Impact                             2\n",
              "EHC Hard Technique, Projectiles                                                  2\n",
              "EHC Soft Technique, Chemical                                                     2\n",
              "EHC Soft Technique, Blunt Impact, Projectiles                                    2\n",
              "Presence, EHC Hard Technique                                                     2\n",
              "EHC Soft Technique, EHC Hard Technique, Blunt Impact, Projectiles, Chemical      1\n",
              "EHC Soft Technique, EHC Hard Technique, Projectiles, Chemical                    1\n",
              "Conductive Energy                                                                1\n",
              "EHC Soft Technique, EHC Hard Technique, Projectiles                              1\n",
              "EHC Soft Technique, EHC Hard Technique, Blunt Impact, Projectiles                1\n",
              "Verbalization, EHC Soft Technique                                                1\n",
              "EHC Hard Technique, Chemical                                                     1\n",
              "Name: force_tags, dtype: int64"
            ]
          },
          "metadata": {
            "tags": []
          },
          "execution_count": 350
        }
      ]
    },
    {
      "cell_type": "markdown",
      "metadata": {
        "id": "xhnXTi2Kx5uW",
        "colab_type": "text"
      },
      "source": [
        "# Human Categories\n",
        "\n"
      ]
    },
    {
      "cell_type": "markdown",
      "metadata": {
        "id": "8KInsGhOyCw2",
        "colab_type": "text"
      },
      "source": [
        "### Police Categories:\n",
        "\n",
        "police, officer, deputy, PD, cop\n",
        "\n",
        "federal, agent"
      ]
    },
    {
      "cell_type": "code",
      "metadata": {
        "id": "ntaJzAedDjn7",
        "colab_type": "code",
        "colab": {}
      },
      "source": [
        "POLICE = 1\n",
        "NOT_POLICE = 0\n",
        "ABSTAIN = -1"
      ],
      "execution_count": 351,
      "outputs": []
    },
    {
      "cell_type": "code",
      "metadata": {
        "id": "qUiEdza5x5_Z",
        "colab_type": "code",
        "colab": {}
      },
      "source": [
        "@labeling_function()\n",
        "def lf_keyword_police(x):\n",
        "  return POLICE if 'police' in x.text else ABSTAIN"
      ],
      "execution_count": 352,
      "outputs": []
    },
    {
      "cell_type": "code",
      "metadata": {
        "id": "yKEBVydbx6Bv",
        "colab_type": "code",
        "colab": {}
      },
      "source": [
        "@labeling_function()\n",
        "def lf_keyword_officer(x):\n",
        "  return POLICE if 'officer' in x.text else ABSTAIN"
      ],
      "execution_count": 353,
      "outputs": []
    },
    {
      "cell_type": "code",
      "metadata": {
        "id": "YkuRwIdXyPqX",
        "colab_type": "code",
        "colab": {}
      },
      "source": [
        "@labeling_function()\n",
        "def lf_keyword_deputy(x):\n",
        "  return POLICE if 'deputy' in x.text else ABSTAIN"
      ],
      "execution_count": 354,
      "outputs": []
    },
    {
      "cell_type": "code",
      "metadata": {
        "id": "Y--bOJvdyPtA",
        "colab_type": "code",
        "colab": {}
      },
      "source": [
        "@labeling_function()\n",
        "def lf_keyword_pd(x):\n",
        "  return POLICE if 'PD' in x.text else ABSTAIN"
      ],
      "execution_count": 355,
      "outputs": []
    },
    {
      "cell_type": "code",
      "metadata": {
        "id": "dcO-Emn_yd6y",
        "colab_type": "code",
        "colab": {}
      },
      "source": [
        "@labeling_function()\n",
        "def lf_keyword_cop(x):\n",
        "  return POLICE if 'cop' in x.text else ABSTAIN"
      ],
      "execution_count": 356,
      "outputs": []
    },
    {
      "cell_type": "code",
      "metadata": {
        "id": "Xsof4aMj1Kmb",
        "colab_type": "code",
        "colab": {}
      },
      "source": [
        "@labeling_function()\n",
        "def lf_keyword_enforcement(x):\n",
        "  return POLICE if 'enforcement' in x.text else ABSTAIN"
      ],
      "execution_count": 357,
      "outputs": []
    },
    {
      "cell_type": "code",
      "metadata": {
        "id": "yr6Yx-4x1Plh",
        "colab_type": "code",
        "colab": {}
      },
      "source": [
        "@labeling_function()\n",
        "def lf_keyword_leo(x):\n",
        "  return POLICE if 'LEO' in x.text else ABSTAIN"
      ],
      "execution_count": 358,
      "outputs": []
    },
    {
      "cell_type": "code",
      "metadata": {
        "id": "XpYIyPTod18S",
        "colab_type": "code",
        "colab": {}
      },
      "source": [
        "@labeling_function()\n",
        "def lf_keyword_swat(x):\n",
        "  return POLICE if 'SWAT' in x.text else ABSTAIN"
      ],
      "execution_count": 359,
      "outputs": []
    },
    {
      "cell_type": "code",
      "metadata": {
        "id": "bahGwPx-ypGz",
        "colab_type": "code",
        "colab": {
          "base_uri": "https://localhost:8080/",
          "height": 70
        },
        "outputId": "baeae0c4-bc85-4c59-e2fa-91f8d54cc1ef"
      },
      "source": [
        "# Define the set of labeling functions (LFs)\n",
        "lfs = [lf_keyword_police, lf_keyword_officer, lf_keyword_deputy, lf_keyword_pd,\n",
        "       lf_keyword_cop, lf_keyword_enforcement, lf_keyword_swat, lf_keyword_leo]\n",
        "\n",
        "# Apply the LFs to the unlabeled training data\n",
        "applier = PandasLFApplier(lfs)\n",
        "L_train = applier.apply(df2)\n",
        "\n",
        "# Train the label model and compute the training labels\n",
        "label_model = LabelModel(cardinality=2, verbose=True)\n",
        "label_model.fit(L_train, n_epochs=500, log_freq=50, seed=123)\n",
        "df2['police_label'] = label_model.predict(L=L_train, tie_break_policy='abstain')"
      ],
      "execution_count": 360,
      "outputs": [
        {
          "output_type": "stream",
          "text": [
            "\n",
            "  0%|          | 0/1069 [00:00<?, ?it/s]\u001b[A\n",
            "100%|██████████| 1069/1069 [00:00<00:00, 5978.15it/s]\n"
          ],
          "name": "stderr"
        }
      ]
    },
    {
      "cell_type": "code",
      "metadata": {
        "id": "iiBr7-5hDpOR",
        "colab_type": "code",
        "colab": {
          "base_uri": "https://localhost:8080/",
          "height": 598
        },
        "outputId": "b2453411-c568-4f62-9dd5-929ebb480425"
      },
      "source": [
        "df2[df2['police_label']==1]"
      ],
      "execution_count": 361,
      "outputs": [
        {
          "output_type": "execute_result",
          "data": {
            "text/html": [
              "<div>\n",
              "<style scoped>\n",
              "    .dataframe tbody tr th:only-of-type {\n",
              "        vertical-align: middle;\n",
              "    }\n",
              "\n",
              "    .dataframe tbody tr th {\n",
              "        vertical-align: top;\n",
              "    }\n",
              "\n",
              "    .dataframe thead th {\n",
              "        text-align: right;\n",
              "    }\n",
              "</style>\n",
              "<table border=\"1\" class=\"dataframe\">\n",
              "  <thead>\n",
              "    <tr style=\"text-align: right;\">\n",
              "      <th></th>\n",
              "      <th>text</th>\n",
              "      <th>presence_label</th>\n",
              "      <th>verbal_label</th>\n",
              "      <th>ehc-soft_technique</th>\n",
              "      <th>ehc-hard_technique</th>\n",
              "      <th>blunt_impact</th>\n",
              "      <th>projectile</th>\n",
              "      <th>chemical</th>\n",
              "      <th>ced_category</th>\n",
              "      <th>force_tags</th>\n",
              "      <th>police_label</th>\n",
              "    </tr>\n",
              "  </thead>\n",
              "  <tbody>\n",
              "    <tr>\n",
              "      <th>0</th>\n",
              "      <td>police throw tear gas at protesters on a bridge</td>\n",
              "      <td>-1</td>\n",
              "      <td>-1</td>\n",
              "      <td>-1</td>\n",
              "      <td>-1</td>\n",
              "      <td>-1</td>\n",
              "      <td>0</td>\n",
              "      <td>0</td>\n",
              "      <td>-1</td>\n",
              "      <td>[Projectiles]</td>\n",
              "      <td>1</td>\n",
              "    </tr>\n",
              "    <tr>\n",
              "      <th>1</th>\n",
              "      <td>police assault protesters</td>\n",
              "      <td>-1</td>\n",
              "      <td>-1</td>\n",
              "      <td>-1</td>\n",
              "      <td>1</td>\n",
              "      <td>-1</td>\n",
              "      <td>-1</td>\n",
              "      <td>-1</td>\n",
              "      <td>-1</td>\n",
              "      <td>[EHC Hard Technique]</td>\n",
              "      <td>1</td>\n",
              "    </tr>\n",
              "    <tr>\n",
              "      <th>2</th>\n",
              "      <td>police shoot non violent protester in the head</td>\n",
              "      <td>-1</td>\n",
              "      <td>-1</td>\n",
              "      <td>-1</td>\n",
              "      <td>-1</td>\n",
              "      <td>-1</td>\n",
              "      <td>1</td>\n",
              "      <td>-1</td>\n",
              "      <td>-1</td>\n",
              "      <td>[Projectiles]</td>\n",
              "      <td>1</td>\n",
              "    </tr>\n",
              "    <tr>\n",
              "      <th>3</th>\n",
              "      <td>police use tear gas   rubber bullets on protes...</td>\n",
              "      <td>-1</td>\n",
              "      <td>-1</td>\n",
              "      <td>-1</td>\n",
              "      <td>-1</td>\n",
              "      <td>-1</td>\n",
              "      <td>1</td>\n",
              "      <td>0</td>\n",
              "      <td>-1</td>\n",
              "      <td>[Projectiles]</td>\n",
              "      <td>1</td>\n",
              "    </tr>\n",
              "    <tr>\n",
              "      <th>4</th>\n",
              "      <td>police open fire on crowd with rubber bullets</td>\n",
              "      <td>-1</td>\n",
              "      <td>-1</td>\n",
              "      <td>-1</td>\n",
              "      <td>-1</td>\n",
              "      <td>-1</td>\n",
              "      <td>1</td>\n",
              "      <td>-1</td>\n",
              "      <td>-1</td>\n",
              "      <td>[Projectiles]</td>\n",
              "      <td>1</td>\n",
              "    </tr>\n",
              "    <tr>\n",
              "      <th>...</th>\n",
              "      <td>...</td>\n",
              "      <td>...</td>\n",
              "      <td>...</td>\n",
              "      <td>...</td>\n",
              "      <td>...</td>\n",
              "      <td>...</td>\n",
              "      <td>...</td>\n",
              "      <td>...</td>\n",
              "      <td>...</td>\n",
              "      <td>...</td>\n",
              "      <td>...</td>\n",
              "    </tr>\n",
              "    <tr>\n",
              "      <th>1062</th>\n",
              "      <td>protester hit by police car</td>\n",
              "      <td>-1</td>\n",
              "      <td>-1</td>\n",
              "      <td>-1</td>\n",
              "      <td>-1</td>\n",
              "      <td>1</td>\n",
              "      <td>-1</td>\n",
              "      <td>-1</td>\n",
              "      <td>-1</td>\n",
              "      <td>[Blunt Impact]</td>\n",
              "      <td>1</td>\n",
              "    </tr>\n",
              "    <tr>\n",
              "      <th>1063</th>\n",
              "      <td>police arrest protesters leaving scene</td>\n",
              "      <td>-1</td>\n",
              "      <td>-1</td>\n",
              "      <td>1</td>\n",
              "      <td>-1</td>\n",
              "      <td>-1</td>\n",
              "      <td>-1</td>\n",
              "      <td>-1</td>\n",
              "      <td>-1</td>\n",
              "      <td>[EHC Soft Technique]</td>\n",
              "      <td>1</td>\n",
              "    </tr>\n",
              "    <tr>\n",
              "      <th>1064</th>\n",
              "      <td>reporter shows tear gas canister fired at him ...</td>\n",
              "      <td>1</td>\n",
              "      <td>-1</td>\n",
              "      <td>-1</td>\n",
              "      <td>-1</td>\n",
              "      <td>-1</td>\n",
              "      <td>1</td>\n",
              "      <td>0</td>\n",
              "      <td>-1</td>\n",
              "      <td>[Presence, Projectiles]</td>\n",
              "      <td>1</td>\n",
              "    </tr>\n",
              "    <tr>\n",
              "      <th>1065</th>\n",
              "      <td>woman bleeding from face after being shot by p...</td>\n",
              "      <td>-1</td>\n",
              "      <td>-1</td>\n",
              "      <td>-1</td>\n",
              "      <td>-1</td>\n",
              "      <td>-1</td>\n",
              "      <td>1</td>\n",
              "      <td>-1</td>\n",
              "      <td>-1</td>\n",
              "      <td>[Projectiles]</td>\n",
              "      <td>1</td>\n",
              "    </tr>\n",
              "    <tr>\n",
              "      <th>1066</th>\n",
              "      <td>police mace  shoot pepper bullets at protester...</td>\n",
              "      <td>-1</td>\n",
              "      <td>-1</td>\n",
              "      <td>-1</td>\n",
              "      <td>-1</td>\n",
              "      <td>-1</td>\n",
              "      <td>1</td>\n",
              "      <td>1</td>\n",
              "      <td>-1</td>\n",
              "      <td>[Projectiles, Chemical]</td>\n",
              "      <td>1</td>\n",
              "    </tr>\n",
              "  </tbody>\n",
              "</table>\n",
              "<p>619 rows × 11 columns</p>\n",
              "</div>"
            ],
            "text/plain": [
              "                                                   text  ...  police_label\n",
              "0      police throw tear gas at protesters on a bridge   ...             1\n",
              "1                             police assault protesters  ...             1\n",
              "2        police shoot non violent protester in the head  ...             1\n",
              "3     police use tear gas   rubber bullets on protes...  ...             1\n",
              "4         police open fire on crowd with rubber bullets  ...             1\n",
              "...                                                 ...  ...           ...\n",
              "1062                        protester hit by police car  ...             1\n",
              "1063             police arrest protesters leaving scene  ...             1\n",
              "1064  reporter shows tear gas canister fired at him ...  ...             1\n",
              "1065  woman bleeding from face after being shot by p...  ...             1\n",
              "1066  police mace  shoot pepper bullets at protester...  ...             1\n",
              "\n",
              "[619 rows x 11 columns]"
            ]
          },
          "metadata": {
            "tags": []
          },
          "execution_count": 361
        }
      ]
    },
    {
      "cell_type": "markdown",
      "metadata": {
        "id": "YMj2ogm118F7",
        "colab_type": "text"
      },
      "source": [
        "### Federal Agent Category"
      ]
    },
    {
      "cell_type": "code",
      "metadata": {
        "id": "vyXiERkPNC9o",
        "colab_type": "code",
        "colab": {}
      },
      "source": [
        "FEDERAL = 1\n",
        "NOT_FEDERAL = 0\n",
        "ABSTAIN = -1"
      ],
      "execution_count": 362,
      "outputs": []
    },
    {
      "cell_type": "code",
      "metadata": {
        "id": "Nt6SnXuF16YN",
        "colab_type": "code",
        "colab": {}
      },
      "source": [
        "@labeling_function()\n",
        "def lf_keyword_federal(x):\n",
        "  return FEDERAL if 'federal' in x.text else ABSTAIN"
      ],
      "execution_count": 363,
      "outputs": []
    },
    {
      "cell_type": "code",
      "metadata": {
        "id": "ETFEwFQI2Gq8",
        "colab_type": "code",
        "colab": {}
      },
      "source": [
        "@labeling_function()\n",
        "def lf_keyword_feds(x):\n",
        "  return FEDERAL if 'feds' in x.text else ABSTAIN"
      ],
      "execution_count": 364,
      "outputs": []
    },
    {
      "cell_type": "code",
      "metadata": {
        "id": "hJ-h4GD72YGE",
        "colab_type": "code",
        "colab": {}
      },
      "source": [
        "# national guard\n",
        "@labeling_function()\n",
        "def lf_keyword_guard(x):\n",
        "  return FEDERAL if 'guard' in x.text else ABSTAIN"
      ],
      "execution_count": 365,
      "outputs": []
    },
    {
      "cell_type": "code",
      "metadata": {
        "id": "eYPElKpt16bW",
        "colab_type": "code",
        "colab": {
          "base_uri": "https://localhost:8080/",
          "height": 52
        },
        "outputId": "341bb2ed-8fa7-4be4-9d75-760019c773a0"
      },
      "source": [
        "# Define the set of labeling functions (LFs)\n",
        "lfs = [lf_keyword_federal, lf_keyword_feds, lf_keyword_guard]\n",
        "\n",
        "# Apply the LFs to the unlabeled training data\n",
        "applier = PandasLFApplier(lfs)\n",
        "L_train = applier.apply(df2)\n",
        "\n",
        "# Train the label model and compute the training labels\n",
        "label_model = LabelModel(cardinality=2, verbose=True)\n",
        "label_model.fit(L_train, n_epochs=500, log_freq=50, seed=123)\n",
        "df2['federal_label'] = label_model.predict(L=L_train, tie_break_policy='abstain')"
      ],
      "execution_count": 366,
      "outputs": [
        {
          "output_type": "stream",
          "text": [
            "\n",
            "100%|██████████| 1069/1069 [00:00<00:00, 13972.39it/s]\n"
          ],
          "name": "stderr"
        }
      ]
    },
    {
      "cell_type": "code",
      "metadata": {
        "id": "87buQSomDrzB",
        "colab_type": "code",
        "colab": {
          "base_uri": "https://localhost:8080/",
          "height": 1000
        },
        "outputId": "32280d72-de1d-43b4-c6ae-88a09cb37061"
      },
      "source": [
        "df2[df2['federal_label']==1]"
      ],
      "execution_count": 367,
      "outputs": [
        {
          "output_type": "execute_result",
          "data": {
            "text/html": [
              "<div>\n",
              "<style scoped>\n",
              "    .dataframe tbody tr th:only-of-type {\n",
              "        vertical-align: middle;\n",
              "    }\n",
              "\n",
              "    .dataframe tbody tr th {\n",
              "        vertical-align: top;\n",
              "    }\n",
              "\n",
              "    .dataframe thead th {\n",
              "        text-align: right;\n",
              "    }\n",
              "</style>\n",
              "<table border=\"1\" class=\"dataframe\">\n",
              "  <thead>\n",
              "    <tr style=\"text-align: right;\">\n",
              "      <th></th>\n",
              "      <th>text</th>\n",
              "      <th>presence_label</th>\n",
              "      <th>verbal_label</th>\n",
              "      <th>ehc-soft_technique</th>\n",
              "      <th>ehc-hard_technique</th>\n",
              "      <th>blunt_impact</th>\n",
              "      <th>projectile</th>\n",
              "      <th>chemical</th>\n",
              "      <th>ced_category</th>\n",
              "      <th>force_tags</th>\n",
              "      <th>police_label</th>\n",
              "      <th>federal_label</th>\n",
              "    </tr>\n",
              "  </thead>\n",
              "  <tbody>\n",
              "    <tr>\n",
              "      <th>95</th>\n",
              "      <td>local and federal police fire on protesters  s...</td>\n",
              "      <td>-1</td>\n",
              "      <td>-1</td>\n",
              "      <td>1</td>\n",
              "      <td>-1</td>\n",
              "      <td>-1</td>\n",
              "      <td>1</td>\n",
              "      <td>-1</td>\n",
              "      <td>-1</td>\n",
              "      <td>[EHC Soft Technique, Projectiles]</td>\n",
              "      <td>1</td>\n",
              "      <td>1</td>\n",
              "    </tr>\n",
              "    <tr>\n",
              "      <th>102</th>\n",
              "      <td>badgeless federal agents deployed to portland ...</td>\n",
              "      <td>-1</td>\n",
              "      <td>-1</td>\n",
              "      <td>-1</td>\n",
              "      <td>-1</td>\n",
              "      <td>-1</td>\n",
              "      <td>-1</td>\n",
              "      <td>0</td>\n",
              "      <td>-1</td>\n",
              "      <td>[Other/Unknown]</td>\n",
              "      <td>-1</td>\n",
              "      <td>1</td>\n",
              "    </tr>\n",
              "    <tr>\n",
              "      <th>103</th>\n",
              "      <td>confirmed report of u s  federal agents kneeli...</td>\n",
              "      <td>-1</td>\n",
              "      <td>-1</td>\n",
              "      <td>-1</td>\n",
              "      <td>1</td>\n",
              "      <td>-1</td>\n",
              "      <td>-1</td>\n",
              "      <td>-1</td>\n",
              "      <td>-1</td>\n",
              "      <td>[EHC Hard Technique]</td>\n",
              "      <td>-1</td>\n",
              "      <td>1</td>\n",
              "    </tr>\n",
              "    <tr>\n",
              "      <th>104</th>\n",
              "      <td>federal officers raid vigil for slain protester</td>\n",
              "      <td>-1</td>\n",
              "      <td>-1</td>\n",
              "      <td>0</td>\n",
              "      <td>-1</td>\n",
              "      <td>-1</td>\n",
              "      <td>-1</td>\n",
              "      <td>-1</td>\n",
              "      <td>-1</td>\n",
              "      <td>[Other/Unknown]</td>\n",
              "      <td>0</td>\n",
              "      <td>1</td>\n",
              "    </tr>\n",
              "    <tr>\n",
              "      <th>105</th>\n",
              "      <td>federal agents fire tear gas during shift change</td>\n",
              "      <td>-1</td>\n",
              "      <td>-1</td>\n",
              "      <td>-1</td>\n",
              "      <td>-1</td>\n",
              "      <td>-1</td>\n",
              "      <td>1</td>\n",
              "      <td>0</td>\n",
              "      <td>-1</td>\n",
              "      <td>[Projectiles]</td>\n",
              "      <td>-1</td>\n",
              "      <td>1</td>\n",
              "    </tr>\n",
              "    <tr>\n",
              "      <th>...</th>\n",
              "      <td>...</td>\n",
              "      <td>...</td>\n",
              "      <td>...</td>\n",
              "      <td>...</td>\n",
              "      <td>...</td>\n",
              "      <td>...</td>\n",
              "      <td>...</td>\n",
              "      <td>...</td>\n",
              "      <td>...</td>\n",
              "      <td>...</td>\n",
              "      <td>...</td>\n",
              "      <td>...</td>\n",
              "    </tr>\n",
              "    <tr>\n",
              "      <th>547</th>\n",
              "      <td>police and national guard use tear gas and lra...</td>\n",
              "      <td>-1</td>\n",
              "      <td>-1</td>\n",
              "      <td>-1</td>\n",
              "      <td>-1</td>\n",
              "      <td>-1</td>\n",
              "      <td>-1</td>\n",
              "      <td>0</td>\n",
              "      <td>-1</td>\n",
              "      <td>[Other/Unknown]</td>\n",
              "      <td>1</td>\n",
              "      <td>1</td>\n",
              "    </tr>\n",
              "    <tr>\n",
              "      <th>697</th>\n",
              "      <td>unmarked federal agents aid police</td>\n",
              "      <td>-1</td>\n",
              "      <td>-1</td>\n",
              "      <td>-1</td>\n",
              "      <td>-1</td>\n",
              "      <td>-1</td>\n",
              "      <td>-1</td>\n",
              "      <td>-1</td>\n",
              "      <td>-1</td>\n",
              "      <td>[Other/Unknown]</td>\n",
              "      <td>1</td>\n",
              "      <td>1</td>\n",
              "    </tr>\n",
              "    <tr>\n",
              "      <th>698</th>\n",
              "      <td>unmarked federal agents aid police</td>\n",
              "      <td>-1</td>\n",
              "      <td>-1</td>\n",
              "      <td>-1</td>\n",
              "      <td>-1</td>\n",
              "      <td>-1</td>\n",
              "      <td>-1</td>\n",
              "      <td>-1</td>\n",
              "      <td>-1</td>\n",
              "      <td>[Other/Unknown]</td>\n",
              "      <td>1</td>\n",
              "      <td>1</td>\n",
              "    </tr>\n",
              "    <tr>\n",
              "      <th>703</th>\n",
              "      <td>unknown federal agents aid police</td>\n",
              "      <td>-1</td>\n",
              "      <td>-1</td>\n",
              "      <td>-1</td>\n",
              "      <td>-1</td>\n",
              "      <td>-1</td>\n",
              "      <td>-1</td>\n",
              "      <td>-1</td>\n",
              "      <td>-1</td>\n",
              "      <td>[Other/Unknown]</td>\n",
              "      <td>1</td>\n",
              "      <td>1</td>\n",
              "    </tr>\n",
              "    <tr>\n",
              "      <th>704</th>\n",
              "      <td>unknown federal agents aid police</td>\n",
              "      <td>-1</td>\n",
              "      <td>-1</td>\n",
              "      <td>-1</td>\n",
              "      <td>-1</td>\n",
              "      <td>-1</td>\n",
              "      <td>-1</td>\n",
              "      <td>-1</td>\n",
              "      <td>-1</td>\n",
              "      <td>[Other/Unknown]</td>\n",
              "      <td>1</td>\n",
              "      <td>1</td>\n",
              "    </tr>\n",
              "  </tbody>\n",
              "</table>\n",
              "<p>75 rows × 12 columns</p>\n",
              "</div>"
            ],
            "text/plain": [
              "                                                  text  ...  federal_label\n",
              "95   local and federal police fire on protesters  s...  ...              1\n",
              "102  badgeless federal agents deployed to portland ...  ...              1\n",
              "103  confirmed report of u s  federal agents kneeli...  ...              1\n",
              "104    federal officers raid vigil for slain protester  ...              1\n",
              "105   federal agents fire tear gas during shift change  ...              1\n",
              "..                                                 ...  ...            ...\n",
              "547  police and national guard use tear gas and lra...  ...              1\n",
              "697                 unmarked federal agents aid police  ...              1\n",
              "698                 unmarked federal agents aid police  ...              1\n",
              "703                  unknown federal agents aid police  ...              1\n",
              "704                  unknown federal agents aid police  ...              1\n",
              "\n",
              "[75 rows x 12 columns]"
            ]
          },
          "metadata": {
            "tags": []
          },
          "execution_count": 367
        }
      ]
    },
    {
      "cell_type": "markdown",
      "metadata": {
        "id": "FYn8KFnTy2BO",
        "colab_type": "text"
      },
      "source": [
        "### Civilian Categories:\n",
        "\n",
        "protesters, medic, \n",
        "\n",
        "reporter, journalist, \n",
        "\n",
        "minor, child"
      ]
    },
    {
      "cell_type": "code",
      "metadata": {
        "id": "Qf8nYux5NHB6",
        "colab_type": "code",
        "colab": {}
      },
      "source": [
        "PROTESTER = 1\n",
        "NOT_PROTESTER = 0\n",
        "ABSTAIN = -1"
      ],
      "execution_count": 368,
      "outputs": []
    },
    {
      "cell_type": "code",
      "metadata": {
        "id": "auOOw4iFzCjZ",
        "colab_type": "code",
        "colab": {}
      },
      "source": [
        "@labeling_function()\n",
        "def lf_keyword_protester(x):\n",
        "  return PROTESTER if 'protester' in x.text else ABSTAIN"
      ],
      "execution_count": 369,
      "outputs": []
    },
    {
      "cell_type": "code",
      "metadata": {
        "id": "YdYx2_6ENeZD",
        "colab_type": "code",
        "colab": {}
      },
      "source": [
        "# adding the mispelling 'protestor'\n",
        "@labeling_function()\n",
        "def lf_keyword_protestor(x):\n",
        "  return PROTESTER if 'protestor' in x.text else ABSTAIN"
      ],
      "execution_count": 370,
      "outputs": []
    },
    {
      "cell_type": "code",
      "metadata": {
        "id": "GqYEYG_WzCmJ",
        "colab_type": "code",
        "colab": {}
      },
      "source": [
        "@labeling_function()\n",
        "def lf_keyword_medic(x):\n",
        "  return PROTESTER if 'medic' in x.text else ABSTAIN"
      ],
      "execution_count": 371,
      "outputs": []
    },
    {
      "cell_type": "code",
      "metadata": {
        "id": "14QkymWH29Mn",
        "colab_type": "code",
        "colab": {
          "base_uri": "https://localhost:8080/",
          "height": 52
        },
        "outputId": "7699d6e3-fdf7-4b08-dc48-b0dc8ca35890"
      },
      "source": [
        "# Define the set of labeling functions (LFs)\n",
        "lfs = [lf_keyword_protester, lf_keyword_protestor, lf_keyword_medic]\n",
        "\n",
        "# Apply the LFs to the unlabeled training data\n",
        "applier = PandasLFApplier(lfs)\n",
        "L_train = applier.apply(df2)\n",
        "\n",
        "# Train the label model and compute the training labels\n",
        "label_model = LabelModel(cardinality=2, verbose=True)\n",
        "label_model.fit(L_train, n_epochs=500, log_freq=50, seed=123)\n",
        "df2['protester_label'] = label_model.predict(L=L_train, tie_break_policy='abstain')"
      ],
      "execution_count": 372,
      "outputs": [
        {
          "output_type": "stream",
          "text": [
            "\n",
            "100%|██████████| 1069/1069 [00:00<00:00, 15372.28it/s]\n"
          ],
          "name": "stderr"
        }
      ]
    },
    {
      "cell_type": "code",
      "metadata": {
        "id": "-IQWLDJ4DuFy",
        "colab_type": "code",
        "colab": {
          "base_uri": "https://localhost:8080/",
          "height": 1000
        },
        "outputId": "2b2cd162-a6b5-4bef-f29d-459f42467c6e"
      },
      "source": [
        "df2[df2['protester_label']==1]"
      ],
      "execution_count": 373,
      "outputs": [
        {
          "output_type": "execute_result",
          "data": {
            "text/html": [
              "<div>\n",
              "<style scoped>\n",
              "    .dataframe tbody tr th:only-of-type {\n",
              "        vertical-align: middle;\n",
              "    }\n",
              "\n",
              "    .dataframe tbody tr th {\n",
              "        vertical-align: top;\n",
              "    }\n",
              "\n",
              "    .dataframe thead th {\n",
              "        text-align: right;\n",
              "    }\n",
              "</style>\n",
              "<table border=\"1\" class=\"dataframe\">\n",
              "  <thead>\n",
              "    <tr style=\"text-align: right;\">\n",
              "      <th></th>\n",
              "      <th>text</th>\n",
              "      <th>presence_label</th>\n",
              "      <th>verbal_label</th>\n",
              "      <th>ehc-soft_technique</th>\n",
              "      <th>ehc-hard_technique</th>\n",
              "      <th>blunt_impact</th>\n",
              "      <th>projectile</th>\n",
              "      <th>chemical</th>\n",
              "      <th>ced_category</th>\n",
              "      <th>force_tags</th>\n",
              "      <th>police_label</th>\n",
              "      <th>federal_label</th>\n",
              "      <th>protester_label</th>\n",
              "    </tr>\n",
              "  </thead>\n",
              "  <tbody>\n",
              "    <tr>\n",
              "      <th>0</th>\n",
              "      <td>police throw tear gas at protesters on a bridge</td>\n",
              "      <td>-1</td>\n",
              "      <td>-1</td>\n",
              "      <td>-1</td>\n",
              "      <td>-1</td>\n",
              "      <td>-1</td>\n",
              "      <td>0</td>\n",
              "      <td>0</td>\n",
              "      <td>-1</td>\n",
              "      <td>[Projectiles]</td>\n",
              "      <td>1</td>\n",
              "      <td>-1</td>\n",
              "      <td>1</td>\n",
              "    </tr>\n",
              "    <tr>\n",
              "      <th>1</th>\n",
              "      <td>police assault protesters</td>\n",
              "      <td>-1</td>\n",
              "      <td>-1</td>\n",
              "      <td>-1</td>\n",
              "      <td>1</td>\n",
              "      <td>-1</td>\n",
              "      <td>-1</td>\n",
              "      <td>-1</td>\n",
              "      <td>-1</td>\n",
              "      <td>[EHC Hard Technique]</td>\n",
              "      <td>1</td>\n",
              "      <td>-1</td>\n",
              "      <td>1</td>\n",
              "    </tr>\n",
              "    <tr>\n",
              "      <th>2</th>\n",
              "      <td>police shoot non violent protester in the head</td>\n",
              "      <td>-1</td>\n",
              "      <td>-1</td>\n",
              "      <td>-1</td>\n",
              "      <td>-1</td>\n",
              "      <td>-1</td>\n",
              "      <td>1</td>\n",
              "      <td>-1</td>\n",
              "      <td>-1</td>\n",
              "      <td>[Projectiles]</td>\n",
              "      <td>1</td>\n",
              "      <td>-1</td>\n",
              "      <td>1</td>\n",
              "    </tr>\n",
              "    <tr>\n",
              "      <th>3</th>\n",
              "      <td>police use tear gas   rubber bullets on protes...</td>\n",
              "      <td>-1</td>\n",
              "      <td>-1</td>\n",
              "      <td>-1</td>\n",
              "      <td>-1</td>\n",
              "      <td>-1</td>\n",
              "      <td>1</td>\n",
              "      <td>0</td>\n",
              "      <td>-1</td>\n",
              "      <td>[Projectiles]</td>\n",
              "      <td>1</td>\n",
              "      <td>-1</td>\n",
              "      <td>1</td>\n",
              "    </tr>\n",
              "    <tr>\n",
              "      <th>7</th>\n",
              "      <td>police critically injure    year old black pro...</td>\n",
              "      <td>-1</td>\n",
              "      <td>-1</td>\n",
              "      <td>-1</td>\n",
              "      <td>-1</td>\n",
              "      <td>-1</td>\n",
              "      <td>-1</td>\n",
              "      <td>-1</td>\n",
              "      <td>-1</td>\n",
              "      <td>[Other/Unknown]</td>\n",
              "      <td>1</td>\n",
              "      <td>-1</td>\n",
              "      <td>1</td>\n",
              "    </tr>\n",
              "    <tr>\n",
              "      <th>...</th>\n",
              "      <td>...</td>\n",
              "      <td>...</td>\n",
              "      <td>...</td>\n",
              "      <td>...</td>\n",
              "      <td>...</td>\n",
              "      <td>...</td>\n",
              "      <td>...</td>\n",
              "      <td>...</td>\n",
              "      <td>...</td>\n",
              "      <td>...</td>\n",
              "      <td>...</td>\n",
              "      <td>...</td>\n",
              "      <td>...</td>\n",
              "    </tr>\n",
              "    <tr>\n",
              "      <th>1062</th>\n",
              "      <td>protester hit by police car</td>\n",
              "      <td>-1</td>\n",
              "      <td>-1</td>\n",
              "      <td>-1</td>\n",
              "      <td>-1</td>\n",
              "      <td>1</td>\n",
              "      <td>-1</td>\n",
              "      <td>-1</td>\n",
              "      <td>-1</td>\n",
              "      <td>[Blunt Impact]</td>\n",
              "      <td>1</td>\n",
              "      <td>-1</td>\n",
              "      <td>1</td>\n",
              "    </tr>\n",
              "    <tr>\n",
              "      <th>1063</th>\n",
              "      <td>police arrest protesters leaving scene</td>\n",
              "      <td>-1</td>\n",
              "      <td>-1</td>\n",
              "      <td>1</td>\n",
              "      <td>-1</td>\n",
              "      <td>-1</td>\n",
              "      <td>-1</td>\n",
              "      <td>-1</td>\n",
              "      <td>-1</td>\n",
              "      <td>[EHC Soft Technique]</td>\n",
              "      <td>1</td>\n",
              "      <td>-1</td>\n",
              "      <td>1</td>\n",
              "    </tr>\n",
              "    <tr>\n",
              "      <th>1066</th>\n",
              "      <td>police mace  shoot pepper bullets at protester...</td>\n",
              "      <td>-1</td>\n",
              "      <td>-1</td>\n",
              "      <td>-1</td>\n",
              "      <td>-1</td>\n",
              "      <td>-1</td>\n",
              "      <td>1</td>\n",
              "      <td>1</td>\n",
              "      <td>-1</td>\n",
              "      <td>[Projectiles, Chemical]</td>\n",
              "      <td>1</td>\n",
              "      <td>-1</td>\n",
              "      <td>1</td>\n",
              "    </tr>\n",
              "    <tr>\n",
              "      <th>1067</th>\n",
              "      <td>peaceful protesters arrested for breaking curfew</td>\n",
              "      <td>-1</td>\n",
              "      <td>-1</td>\n",
              "      <td>1</td>\n",
              "      <td>-1</td>\n",
              "      <td>-1</td>\n",
              "      <td>-1</td>\n",
              "      <td>-1</td>\n",
              "      <td>-1</td>\n",
              "      <td>[EHC Soft Technique]</td>\n",
              "      <td>-1</td>\n",
              "      <td>-1</td>\n",
              "      <td>1</td>\n",
              "    </tr>\n",
              "    <tr>\n",
              "      <th>1068</th>\n",
              "      <td>police officer shoves protester on bike  polic...</td>\n",
              "      <td>-1</td>\n",
              "      <td>-1</td>\n",
              "      <td>1</td>\n",
              "      <td>-1</td>\n",
              "      <td>1</td>\n",
              "      <td>-1</td>\n",
              "      <td>-1</td>\n",
              "      <td>-1</td>\n",
              "      <td>[EHC Soft Technique, Blunt Impact]</td>\n",
              "      <td>0</td>\n",
              "      <td>-1</td>\n",
              "      <td>1</td>\n",
              "    </tr>\n",
              "  </tbody>\n",
              "</table>\n",
              "<p>546 rows × 13 columns</p>\n",
              "</div>"
            ],
            "text/plain": [
              "                                                   text  ...  protester_label\n",
              "0      police throw tear gas at protesters on a bridge   ...                1\n",
              "1                             police assault protesters  ...                1\n",
              "2        police shoot non violent protester in the head  ...                1\n",
              "3     police use tear gas   rubber bullets on protes...  ...                1\n",
              "7     police critically injure    year old black pro...  ...                1\n",
              "...                                                 ...  ...              ...\n",
              "1062                        protester hit by police car  ...                1\n",
              "1063             police arrest protesters leaving scene  ...                1\n",
              "1066  police mace  shoot pepper bullets at protester...  ...                1\n",
              "1067   peaceful protesters arrested for breaking curfew  ...                1\n",
              "1068  police officer shoves protester on bike  polic...  ...                1\n",
              "\n",
              "[546 rows x 13 columns]"
            ]
          },
          "metadata": {
            "tags": []
          },
          "execution_count": 373
        }
      ]
    },
    {
      "cell_type": "markdown",
      "metadata": {
        "id": "hGU787qc3LT9",
        "colab_type": "text"
      },
      "source": [
        " Press "
      ]
    },
    {
      "cell_type": "code",
      "metadata": {
        "id": "42OT1VOWNT8v",
        "colab_type": "code",
        "colab": {}
      },
      "source": [
        "PRESS = 1\n",
        "NOT_PRESS = 0\n",
        "ABSTAIN = -1"
      ],
      "execution_count": 374,
      "outputs": []
    },
    {
      "cell_type": "code",
      "metadata": {
        "id": "UrGTrjdBzCom",
        "colab_type": "code",
        "colab": {}
      },
      "source": [
        "@labeling_function()\n",
        "def lf_keyword_reporter(x):\n",
        "  return PRESS if 'reporter' in x.text else ABSTAIN"
      ],
      "execution_count": 375,
      "outputs": []
    },
    {
      "cell_type": "code",
      "metadata": {
        "id": "usdWCuPENrhR",
        "colab_type": "code",
        "colab": {}
      },
      "source": [
        "@labeling_function()\n",
        "def lf_keyword_press(x):\n",
        "  return PRESS if 'press' in x.text else ABSTAIN"
      ],
      "execution_count": 376,
      "outputs": []
    },
    {
      "cell_type": "code",
      "metadata": {
        "id": "oSqBalPczCtv",
        "colab_type": "code",
        "colab": {}
      },
      "source": [
        "@labeling_function()\n",
        "def lf_keyword_journalist(x):\n",
        "  return PRESS if 'journalist' in x.text else ABSTAIN"
      ],
      "execution_count": 377,
      "outputs": []
    },
    {
      "cell_type": "code",
      "metadata": {
        "id": "quAN7h793cMe",
        "colab_type": "code",
        "colab": {
          "base_uri": "https://localhost:8080/",
          "height": 52
        },
        "outputId": "e2d61156-530b-495e-9b37-93b9589c49dd"
      },
      "source": [
        "# Define the set of labeling functions (LFs)\n",
        "lfs = [lf_keyword_reporter, lf_keyword_press, lf_keyword_journalist]\n",
        "\n",
        "# Apply the LFs to the unlabeled training data\n",
        "applier = PandasLFApplier(lfs)\n",
        "L_train = applier.apply(df2)\n",
        "\n",
        "# Train the label model and compute the training labels\n",
        "label_model = LabelModel(cardinality=2, verbose=True)\n",
        "label_model.fit(L_train, n_epochs=500, log_freq=50, seed=123)\n",
        "df2['press_label'] = label_model.predict(L=L_train, tie_break_policy='abstain')"
      ],
      "execution_count": 378,
      "outputs": [
        {
          "output_type": "stream",
          "text": [
            "\n",
            "100%|██████████| 1069/1069 [00:00<00:00, 11431.10it/s]\n"
          ],
          "name": "stderr"
        }
      ]
    },
    {
      "cell_type": "code",
      "metadata": {
        "id": "HGknaAtbD1em",
        "colab_type": "code",
        "colab": {
          "base_uri": "https://localhost:8080/",
          "height": 942
        },
        "outputId": "9deba066-4ec2-4cc3-e93d-14268071eb47"
      },
      "source": [
        "df2[df2['press_label']==1]"
      ],
      "execution_count": 379,
      "outputs": [
        {
          "output_type": "execute_result",
          "data": {
            "text/html": [
              "<div>\n",
              "<style scoped>\n",
              "    .dataframe tbody tr th:only-of-type {\n",
              "        vertical-align: middle;\n",
              "    }\n",
              "\n",
              "    .dataframe tbody tr th {\n",
              "        vertical-align: top;\n",
              "    }\n",
              "\n",
              "    .dataframe thead th {\n",
              "        text-align: right;\n",
              "    }\n",
              "</style>\n",
              "<table border=\"1\" class=\"dataframe\">\n",
              "  <thead>\n",
              "    <tr style=\"text-align: right;\">\n",
              "      <th></th>\n",
              "      <th>text</th>\n",
              "      <th>presence_label</th>\n",
              "      <th>verbal_label</th>\n",
              "      <th>ehc-soft_technique</th>\n",
              "      <th>ehc-hard_technique</th>\n",
              "      <th>blunt_impact</th>\n",
              "      <th>projectile</th>\n",
              "      <th>chemical</th>\n",
              "      <th>ced_category</th>\n",
              "      <th>force_tags</th>\n",
              "      <th>police_label</th>\n",
              "      <th>federal_label</th>\n",
              "      <th>protester_label</th>\n",
              "      <th>press_label</th>\n",
              "    </tr>\n",
              "  </thead>\n",
              "  <tbody>\n",
              "    <tr>\n",
              "      <th>34</th>\n",
              "      <td>police arrest two reporters</td>\n",
              "      <td>-1</td>\n",
              "      <td>-1</td>\n",
              "      <td>1</td>\n",
              "      <td>-1</td>\n",
              "      <td>-1</td>\n",
              "      <td>-1</td>\n",
              "      <td>-1</td>\n",
              "      <td>-1</td>\n",
              "      <td>[EHC Soft Technique]</td>\n",
              "      <td>1</td>\n",
              "      <td>-1</td>\n",
              "      <td>-1</td>\n",
              "      <td>1</td>\n",
              "    </tr>\n",
              "    <tr>\n",
              "      <th>35</th>\n",
              "      <td>police arrest journalist michael harriot</td>\n",
              "      <td>-1</td>\n",
              "      <td>-1</td>\n",
              "      <td>1</td>\n",
              "      <td>-1</td>\n",
              "      <td>-1</td>\n",
              "      <td>-1</td>\n",
              "      <td>-1</td>\n",
              "      <td>-1</td>\n",
              "      <td>[EHC Soft Technique]</td>\n",
              "      <td>1</td>\n",
              "      <td>-1</td>\n",
              "      <td>-1</td>\n",
              "      <td>1</td>\n",
              "    </tr>\n",
              "    <tr>\n",
              "      <th>38</th>\n",
              "      <td>police tear gas reporters</td>\n",
              "      <td>-1</td>\n",
              "      <td>-1</td>\n",
              "      <td>-1</td>\n",
              "      <td>-1</td>\n",
              "      <td>-1</td>\n",
              "      <td>-1</td>\n",
              "      <td>0</td>\n",
              "      <td>-1</td>\n",
              "      <td>[Other/Unknown]</td>\n",
              "      <td>1</td>\n",
              "      <td>-1</td>\n",
              "      <td>-1</td>\n",
              "      <td>1</td>\n",
              "    </tr>\n",
              "    <tr>\n",
              "      <th>42</th>\n",
              "      <td>reporter shot with tear gas canister</td>\n",
              "      <td>-1</td>\n",
              "      <td>-1</td>\n",
              "      <td>-1</td>\n",
              "      <td>-1</td>\n",
              "      <td>-1</td>\n",
              "      <td>1</td>\n",
              "      <td>0</td>\n",
              "      <td>-1</td>\n",
              "      <td>[Projectiles]</td>\n",
              "      <td>-1</td>\n",
              "      <td>-1</td>\n",
              "      <td>-1</td>\n",
              "      <td>1</td>\n",
              "    </tr>\n",
              "    <tr>\n",
              "      <th>53</th>\n",
              "      <td>police shove member of the press</td>\n",
              "      <td>-1</td>\n",
              "      <td>-1</td>\n",
              "      <td>1</td>\n",
              "      <td>-1</td>\n",
              "      <td>-1</td>\n",
              "      <td>-1</td>\n",
              "      <td>-1</td>\n",
              "      <td>-1</td>\n",
              "      <td>[EHC Soft Technique]</td>\n",
              "      <td>1</td>\n",
              "      <td>-1</td>\n",
              "      <td>-1</td>\n",
              "      <td>1</td>\n",
              "    </tr>\n",
              "    <tr>\n",
              "      <th>...</th>\n",
              "      <td>...</td>\n",
              "      <td>...</td>\n",
              "      <td>...</td>\n",
              "      <td>...</td>\n",
              "      <td>...</td>\n",
              "      <td>...</td>\n",
              "      <td>...</td>\n",
              "      <td>...</td>\n",
              "      <td>...</td>\n",
              "      <td>...</td>\n",
              "      <td>...</td>\n",
              "      <td>...</td>\n",
              "      <td>...</td>\n",
              "      <td>...</td>\n",
              "    </tr>\n",
              "    <tr>\n",
              "      <th>1010</th>\n",
              "      <td>student journalist shot and tear gassed</td>\n",
              "      <td>-1</td>\n",
              "      <td>-1</td>\n",
              "      <td>-1</td>\n",
              "      <td>-1</td>\n",
              "      <td>-1</td>\n",
              "      <td>1</td>\n",
              "      <td>0</td>\n",
              "      <td>-1</td>\n",
              "      <td>[Projectiles]</td>\n",
              "      <td>-1</td>\n",
              "      <td>-1</td>\n",
              "      <td>-1</td>\n",
              "      <td>1</td>\n",
              "    </tr>\n",
              "    <tr>\n",
              "      <th>1027</th>\n",
              "      <td>reporter shot with rubber bullets</td>\n",
              "      <td>-1</td>\n",
              "      <td>-1</td>\n",
              "      <td>-1</td>\n",
              "      <td>-1</td>\n",
              "      <td>-1</td>\n",
              "      <td>1</td>\n",
              "      <td>-1</td>\n",
              "      <td>-1</td>\n",
              "      <td>[Projectiles]</td>\n",
              "      <td>-1</td>\n",
              "      <td>-1</td>\n",
              "      <td>-1</td>\n",
              "      <td>1</td>\n",
              "    </tr>\n",
              "    <tr>\n",
              "      <th>1042</th>\n",
              "      <td>police shoot rubber bullets at reporter</td>\n",
              "      <td>-1</td>\n",
              "      <td>-1</td>\n",
              "      <td>-1</td>\n",
              "      <td>-1</td>\n",
              "      <td>-1</td>\n",
              "      <td>1</td>\n",
              "      <td>-1</td>\n",
              "      <td>-1</td>\n",
              "      <td>[Projectiles]</td>\n",
              "      <td>1</td>\n",
              "      <td>-1</td>\n",
              "      <td>-1</td>\n",
              "      <td>1</td>\n",
              "    </tr>\n",
              "    <tr>\n",
              "      <th>1058</th>\n",
              "      <td>police target independent journalists and live...</td>\n",
              "      <td>-1</td>\n",
              "      <td>-1</td>\n",
              "      <td>-1</td>\n",
              "      <td>-1</td>\n",
              "      <td>-1</td>\n",
              "      <td>-1</td>\n",
              "      <td>-1</td>\n",
              "      <td>-1</td>\n",
              "      <td>[Other/Unknown]</td>\n",
              "      <td>1</td>\n",
              "      <td>-1</td>\n",
              "      <td>-1</td>\n",
              "      <td>1</td>\n",
              "    </tr>\n",
              "    <tr>\n",
              "      <th>1064</th>\n",
              "      <td>reporter shows tear gas canister fired at him ...</td>\n",
              "      <td>1</td>\n",
              "      <td>-1</td>\n",
              "      <td>-1</td>\n",
              "      <td>-1</td>\n",
              "      <td>-1</td>\n",
              "      <td>1</td>\n",
              "      <td>0</td>\n",
              "      <td>-1</td>\n",
              "      <td>[Presence, Projectiles]</td>\n",
              "      <td>1</td>\n",
              "      <td>-1</td>\n",
              "      <td>-1</td>\n",
              "      <td>1</td>\n",
              "    </tr>\n",
              "  </tbody>\n",
              "</table>\n",
              "<p>127 rows × 14 columns</p>\n",
              "</div>"
            ],
            "text/plain": [
              "                                                   text  ...  press_label\n",
              "34                          police arrest two reporters  ...            1\n",
              "35             police arrest journalist michael harriot  ...            1\n",
              "38                            police tear gas reporters  ...            1\n",
              "42                 reporter shot with tear gas canister  ...            1\n",
              "53                     police shove member of the press  ...            1\n",
              "...                                                 ...  ...          ...\n",
              "1010            student journalist shot and tear gassed  ...            1\n",
              "1027                  reporter shot with rubber bullets  ...            1\n",
              "1042            police shoot rubber bullets at reporter  ...            1\n",
              "1058  police target independent journalists and live...  ...            1\n",
              "1064  reporter shows tear gas canister fired at him ...  ...            1\n",
              "\n",
              "[127 rows x 14 columns]"
            ]
          },
          "metadata": {
            "tags": []
          },
          "execution_count": 379
        }
      ]
    },
    {
      "cell_type": "markdown",
      "metadata": {
        "id": "EfQ_dCQg34XA",
        "colab_type": "text"
      },
      "source": [
        "Minors"
      ]
    },
    {
      "cell_type": "code",
      "metadata": {
        "id": "3bLzOqHYNXR9",
        "colab_type": "code",
        "colab": {}
      },
      "source": [
        "MINOR = 1\n",
        "NOT_MINOR = 0\n",
        "ABSTAIN = -1"
      ],
      "execution_count": 380,
      "outputs": []
    },
    {
      "cell_type": "code",
      "metadata": {
        "id": "zT6zY0Q3zCzi",
        "colab_type": "code",
        "colab": {}
      },
      "source": [
        "@labeling_function()\n",
        "def lf_keyword_minor(x):\n",
        "  return MINOR if 'minor' in x.text else ABSTAIN"
      ],
      "execution_count": 381,
      "outputs": []
    },
    {
      "cell_type": "code",
      "metadata": {
        "id": "wis5xxktPYlw",
        "colab_type": "code",
        "colab": {}
      },
      "source": [
        "@labeling_function()\n",
        "def lf_keyword_underage(x):\n",
        "  return MINOR if 'underage' in x.text else ABSTAIN"
      ],
      "execution_count": 382,
      "outputs": []
    },
    {
      "cell_type": "code",
      "metadata": {
        "id": "P3l_0NpqPbyl",
        "colab_type": "code",
        "colab": {}
      },
      "source": [
        "@labeling_function()\n",
        "def lf_keyword_teen(x):\n",
        "  return MINOR if 'teen' in x.text else ABSTAIN"
      ],
      "execution_count": 383,
      "outputs": []
    },
    {
      "cell_type": "code",
      "metadata": {
        "id": "4-d2jlGTzCrL",
        "colab_type": "code",
        "colab": {}
      },
      "source": [
        "@labeling_function()\n",
        "def lf_keyword_child(x):\n",
        "  return MINOR if 'child' in x.text else ABSTAIN"
      ],
      "execution_count": 384,
      "outputs": []
    },
    {
      "cell_type": "code",
      "metadata": {
        "id": "laSTV_sa3lVr",
        "colab_type": "code",
        "colab": {}
      },
      "source": [
        "@labeling_function()\n",
        "def lf_keyword_baby(x):\n",
        "  return MINOR if 'baby' in x.text else ABSTAIN"
      ],
      "execution_count": 385,
      "outputs": []
    },
    {
      "cell_type": "code",
      "metadata": {
        "id": "solk7aCl3oFp",
        "colab_type": "code",
        "colab": {}
      },
      "source": [
        "@labeling_function()\n",
        "def lf_keyword_toddler(x):\n",
        "  return MINOR if 'toddler' in x.text else ABSTAIN"
      ],
      "execution_count": 386,
      "outputs": []
    },
    {
      "cell_type": "code",
      "metadata": {
        "id": "SCZnsBxz0kcS",
        "colab_type": "code",
        "colab": {
          "base_uri": "https://localhost:8080/",
          "height": 70
        },
        "outputId": "213c3bff-6a79-4e94-a391-a31d5a04c3e9"
      },
      "source": [
        "# Define the set of labeling functions (LFs)\n",
        "lfs = [lf_keyword_minor, lf_keyword_child, lf_keyword_baby, \n",
        "       lf_keyword_underage, lf_keyword_teen, lf_keyword_toddler]\n",
        "\n",
        "# Apply the LFs to the unlabeled training data\n",
        "applier = PandasLFApplier(lfs)\n",
        "L_train = applier.apply(df2)\n",
        "\n",
        "# Train the label model and compute the training labels\n",
        "label_model = LabelModel(cardinality=2, verbose=True)\n",
        "label_model.fit(L_train, n_epochs=500, log_freq=50, seed=123)\n",
        "df2['minor_label'] = label_model.predict(L=L_train, tie_break_policy='abstain')"
      ],
      "execution_count": 387,
      "outputs": [
        {
          "output_type": "stream",
          "text": [
            "\n",
            "  0%|          | 0/1069 [00:00<?, ?it/s]\u001b[A\n",
            "100%|██████████| 1069/1069 [00:00<00:00, 9304.83it/s]\n"
          ],
          "name": "stderr"
        }
      ]
    },
    {
      "cell_type": "code",
      "metadata": {
        "id": "BL1-QLpeD5Qm",
        "colab_type": "code",
        "colab": {
          "base_uri": "https://localhost:8080/",
          "height": 411
        },
        "outputId": "0f31ca9a-aefa-42a0-ddbe-623b5ef7732f"
      },
      "source": [
        "df2[df2['minor_label']==1]"
      ],
      "execution_count": 388,
      "outputs": [
        {
          "output_type": "execute_result",
          "data": {
            "text/html": [
              "<div>\n",
              "<style scoped>\n",
              "    .dataframe tbody tr th:only-of-type {\n",
              "        vertical-align: middle;\n",
              "    }\n",
              "\n",
              "    .dataframe tbody tr th {\n",
              "        vertical-align: top;\n",
              "    }\n",
              "\n",
              "    .dataframe thead th {\n",
              "        text-align: right;\n",
              "    }\n",
              "</style>\n",
              "<table border=\"1\" class=\"dataframe\">\n",
              "  <thead>\n",
              "    <tr style=\"text-align: right;\">\n",
              "      <th></th>\n",
              "      <th>text</th>\n",
              "      <th>presence_label</th>\n",
              "      <th>verbal_label</th>\n",
              "      <th>ehc-soft_technique</th>\n",
              "      <th>ehc-hard_technique</th>\n",
              "      <th>blunt_impact</th>\n",
              "      <th>projectile</th>\n",
              "      <th>chemical</th>\n",
              "      <th>ced_category</th>\n",
              "      <th>force_tags</th>\n",
              "      <th>police_label</th>\n",
              "      <th>federal_label</th>\n",
              "      <th>protester_label</th>\n",
              "      <th>press_label</th>\n",
              "      <th>minor_label</th>\n",
              "    </tr>\n",
              "  </thead>\n",
              "  <tbody>\n",
              "    <tr>\n",
              "      <th>44</th>\n",
              "      <td>underage protester tackled and arrested</td>\n",
              "      <td>-1</td>\n",
              "      <td>-1</td>\n",
              "      <td>1</td>\n",
              "      <td>1</td>\n",
              "      <td>-1</td>\n",
              "      <td>-1</td>\n",
              "      <td>-1</td>\n",
              "      <td>-1</td>\n",
              "      <td>[EHC Soft Technique, EHC Hard Technique]</td>\n",
              "      <td>-1</td>\n",
              "      <td>-1</td>\n",
              "      <td>1</td>\n",
              "      <td>-1</td>\n",
              "      <td>1</td>\n",
              "    </tr>\n",
              "    <tr>\n",
              "      <th>411</th>\n",
              "      <td>toddler tear gassed by police</td>\n",
              "      <td>-1</td>\n",
              "      <td>-1</td>\n",
              "      <td>-1</td>\n",
              "      <td>-1</td>\n",
              "      <td>-1</td>\n",
              "      <td>-1</td>\n",
              "      <td>0</td>\n",
              "      <td>-1</td>\n",
              "      <td>[Other/Unknown]</td>\n",
              "      <td>1</td>\n",
              "      <td>-1</td>\n",
              "      <td>-1</td>\n",
              "      <td>-1</td>\n",
              "      <td>1</td>\n",
              "    </tr>\n",
              "    <tr>\n",
              "      <th>771</th>\n",
              "      <td>police pepper spray young child</td>\n",
              "      <td>-1</td>\n",
              "      <td>-1</td>\n",
              "      <td>-1</td>\n",
              "      <td>-1</td>\n",
              "      <td>-1</td>\n",
              "      <td>0</td>\n",
              "      <td>1</td>\n",
              "      <td>-1</td>\n",
              "      <td>[Projectiles, Chemical]</td>\n",
              "      <td>1</td>\n",
              "      <td>-1</td>\n",
              "      <td>-1</td>\n",
              "      <td>-1</td>\n",
              "      <td>1</td>\n",
              "    </tr>\n",
              "    <tr>\n",
              "      <th>943</th>\n",
              "      <td>law enforcement gas teenagers at a park</td>\n",
              "      <td>-1</td>\n",
              "      <td>-1</td>\n",
              "      <td>-1</td>\n",
              "      <td>-1</td>\n",
              "      <td>-1</td>\n",
              "      <td>-1</td>\n",
              "      <td>0</td>\n",
              "      <td>-1</td>\n",
              "      <td>[Other/Unknown]</td>\n",
              "      <td>0</td>\n",
              "      <td>-1</td>\n",
              "      <td>-1</td>\n",
              "      <td>-1</td>\n",
              "      <td>1</td>\n",
              "    </tr>\n",
              "  </tbody>\n",
              "</table>\n",
              "</div>"
            ],
            "text/plain": [
              "                                        text  ...  minor_label\n",
              "44   underage protester tackled and arrested  ...            1\n",
              "411            toddler tear gassed by police  ...            1\n",
              "771          police pepper spray young child  ...            1\n",
              "943  law enforcement gas teenagers at a park  ...            1\n",
              "\n",
              "[4 rows x 15 columns]"
            ]
          },
          "metadata": {
            "tags": []
          },
          "execution_count": 388
        }
      ]
    },
    {
      "cell_type": "markdown",
      "metadata": {
        "id": "ro_mv3qj0zxA",
        "colab_type": "text"
      },
      "source": [
        "# Add human tags to Dataframe"
      ]
    },
    {
      "cell_type": "code",
      "metadata": {
        "id": "-0T1N8B00z37",
        "colab_type": "code",
        "colab": {
          "base_uri": "https://localhost:8080/",
          "height": 106
        },
        "outputId": "093a0d13-157b-4ef7-bfb3-203fdf16c944"
      },
      "source": [
        "df2.columns"
      ],
      "execution_count": 389,
      "outputs": [
        {
          "output_type": "execute_result",
          "data": {
            "text/plain": [
              "Index(['text', 'presence_label', 'verbal_label', 'ehc-soft_technique',\n",
              "       'ehc-hard_technique', 'blunt_impact', 'projectile', 'chemical',\n",
              "       'ced_category', 'force_tags', 'police_label', 'federal_label',\n",
              "       'protester_label', 'press_label', 'minor_label'],\n",
              "      dtype='object')"
            ]
          },
          "metadata": {
            "tags": []
          },
          "execution_count": 389
        }
      ]
    },
    {
      "cell_type": "code",
      "metadata": {
        "id": "IaVUSriR0z2U",
        "colab_type": "code",
        "colab": {}
      },
      "source": [
        "def add_human_labels(row):\n",
        "  tags = []\n",
        "  if row['police_label'] == 1 or row['police_label'] == 0:\n",
        "    tags.append('Police')\n",
        "  if row['federal_label'] == 1:\n",
        "    tags.append('Federal')\n",
        "  if row['protester_label'] == 1:\n",
        "    tags.append('Protester')\n",
        "  if row['press_label'] == 1:\n",
        "    tags.append('Press')\n",
        "  if row['minor_label'] == 1:\n",
        "    tags.append('Minor')\n",
        "  if not tags:\n",
        "    tags.append('Other/Unknown')\n",
        "  return tags"
      ],
      "execution_count": 390,
      "outputs": []
    },
    {
      "cell_type": "code",
      "metadata": {
        "id": "j7QTk3_-JVNz",
        "colab_type": "code",
        "colab": {}
      },
      "source": [
        "# apply human tags to incident data\n",
        "df2['human_tags'] = df2.apply(add_human_labels,axis=1)"
      ],
      "execution_count": 391,
      "outputs": []
    },
    {
      "cell_type": "code",
      "metadata": {
        "id": "nWNmB2x129bZ",
        "colab_type": "code",
        "colab": {
          "base_uri": "https://localhost:8080/",
          "height": 139
        },
        "outputId": "61e76983-9015-44fc-dd22-3232b9d83fcf"
      },
      "source": [
        "# take a peek\n",
        "df2[['text','force_tags', 'human_tags']].head(3)"
      ],
      "execution_count": 392,
      "outputs": [
        {
          "output_type": "execute_result",
          "data": {
            "text/html": [
              "<div>\n",
              "<style scoped>\n",
              "    .dataframe tbody tr th:only-of-type {\n",
              "        vertical-align: middle;\n",
              "    }\n",
              "\n",
              "    .dataframe tbody tr th {\n",
              "        vertical-align: top;\n",
              "    }\n",
              "\n",
              "    .dataframe thead th {\n",
              "        text-align: right;\n",
              "    }\n",
              "</style>\n",
              "<table border=\"1\" class=\"dataframe\">\n",
              "  <thead>\n",
              "    <tr style=\"text-align: right;\">\n",
              "      <th></th>\n",
              "      <th>text</th>\n",
              "      <th>force_tags</th>\n",
              "      <th>human_tags</th>\n",
              "    </tr>\n",
              "  </thead>\n",
              "  <tbody>\n",
              "    <tr>\n",
              "      <th>0</th>\n",
              "      <td>police throw tear gas at protesters on a bridge</td>\n",
              "      <td>[Projectiles]</td>\n",
              "      <td>[Police, Protester]</td>\n",
              "    </tr>\n",
              "    <tr>\n",
              "      <th>1</th>\n",
              "      <td>police assault protesters</td>\n",
              "      <td>[EHC Hard Technique]</td>\n",
              "      <td>[Police, Protester]</td>\n",
              "    </tr>\n",
              "    <tr>\n",
              "      <th>2</th>\n",
              "      <td>police shoot non violent protester in the head</td>\n",
              "      <td>[Projectiles]</td>\n",
              "      <td>[Police, Protester]</td>\n",
              "    </tr>\n",
              "  </tbody>\n",
              "</table>\n",
              "</div>"
            ],
            "text/plain": [
              "                                               text  ...           human_tags\n",
              "0  police throw tear gas at protesters on a bridge   ...  [Police, Protester]\n",
              "1                         police assault protesters  ...  [Police, Protester]\n",
              "2    police shoot non violent protester in the head  ...  [Police, Protester]\n",
              "\n",
              "[3 rows x 3 columns]"
            ]
          },
          "metadata": {
            "tags": []
          },
          "execution_count": 392
        }
      ]
    },
    {
      "cell_type": "code",
      "metadata": {
        "id": "8q8kt30nJbtw",
        "colab_type": "code",
        "colab": {}
      },
      "source": [
        "# clean the tags column by seperating tags\n",
        "def join_tags(content):\n",
        "  return ', '.join(content)"
      ],
      "execution_count": 393,
      "outputs": []
    },
    {
      "cell_type": "code",
      "metadata": {
        "id": "Qi5TJwpeJkQr",
        "colab_type": "code",
        "colab": {}
      },
      "source": [
        "# add column to main df\n",
        "df['human_tags'] = df2['human_tags'].apply(join_tags)"
      ],
      "execution_count": 394,
      "outputs": []
    },
    {
      "cell_type": "code",
      "metadata": {
        "id": "bFM8ZqPfJlyV",
        "colab_type": "code",
        "colab": {
          "base_uri": "https://localhost:8080/",
          "height": 319
        },
        "outputId": "8b849a51-15e6-426d-c2df-3ac0f46a4c6c"
      },
      "source": [
        "df['human_tags'].value_counts()"
      ],
      "execution_count": 395,
      "outputs": [
        {
          "output_type": "execute_result",
          "data": {
            "text/plain": [
              "Police, Protester                    430\n",
              "Police                               286\n",
              "Other/Unknown                         85\n",
              "Protester                             69\n",
              "Police, Press                         67\n",
              "Press                                 45\n",
              "Police, Federal                       32\n",
              "Police, Federal, Protester            26\n",
              "Federal, Protester                     8\n",
              "Police, Protester, Press               5\n",
              "Police, Federal, Protester, Press      4\n",
              "Police, Federal, Press                 3\n",
              "Protester, Press                       3\n",
              "Police, Minor                          3\n",
              "Federal                                2\n",
              "Protester, Minor                       1\n",
              "Name: human_tags, dtype: int64"
            ]
          },
          "metadata": {
            "tags": []
          },
          "execution_count": 395
        }
      ]
    },
    {
      "cell_type": "code",
      "metadata": {
        "id": "n8c3WokD3Sti",
        "colab_type": "code",
        "colab": {
          "base_uri": "https://localhost:8080/",
          "height": 381
        },
        "outputId": "7dea17a4-57a3-4be6-8418-ffa1563e8f76"
      },
      "source": [
        "# last check\n",
        "df.head(3)"
      ],
      "execution_count": 396,
      "outputs": [
        {
          "output_type": "execute_result",
          "data": {
            "text/html": [
              "<div>\n",
              "<style scoped>\n",
              "    .dataframe tbody tr th:only-of-type {\n",
              "        vertical-align: middle;\n",
              "    }\n",
              "\n",
              "    .dataframe tbody tr th {\n",
              "        vertical-align: top;\n",
              "    }\n",
              "\n",
              "    .dataframe thead th {\n",
              "        text-align: right;\n",
              "    }\n",
              "</style>\n",
              "<table border=\"1\" class=\"dataframe\">\n",
              "  <thead>\n",
              "    <tr style=\"text-align: right;\">\n",
              "      <th></th>\n",
              "      <th>Unnamed: 0</th>\n",
              "      <th>STATE_NAME</th>\n",
              "      <th>edit_at</th>\n",
              "      <th>CITY</th>\n",
              "      <th>text</th>\n",
              "      <th>date</th>\n",
              "      <th>date_text</th>\n",
              "      <th>id</th>\n",
              "      <th>Link 1</th>\n",
              "      <th>Link 2</th>\n",
              "      <th>Link 3</th>\n",
              "      <th>Link 4</th>\n",
              "      <th>Link 5</th>\n",
              "      <th>Link 6</th>\n",
              "      <th>Link 7</th>\n",
              "      <th>Link 8</th>\n",
              "      <th>Link 9</th>\n",
              "      <th>Link 10</th>\n",
              "      <th>Link 11</th>\n",
              "      <th>Link 12</th>\n",
              "      <th>Link 13</th>\n",
              "      <th>Link 14</th>\n",
              "      <th>Link 15</th>\n",
              "      <th>Link 16</th>\n",
              "      <th>Link 17</th>\n",
              "      <th>Link 18</th>\n",
              "      <th>Link 19</th>\n",
              "      <th>Link 20</th>\n",
              "      <th>STATE_CODE</th>\n",
              "      <th>COUNTY</th>\n",
              "      <th>LATITUDE</th>\n",
              "      <th>LONGITUDE</th>\n",
              "      <th>force_tags</th>\n",
              "      <th>human_tags</th>\n",
              "    </tr>\n",
              "  </thead>\n",
              "  <tbody>\n",
              "    <tr>\n",
              "      <th>0</th>\n",
              "      <td>NaN</td>\n",
              "      <td>Louisiana</td>\n",
              "      <td>https://github.com/2020PB/police-brutality/blo...</td>\n",
              "      <td>New Orleans</td>\n",
              "      <td>police throw tear gas at protesters on a bridge</td>\n",
              "      <td>2020-06-03</td>\n",
              "      <td>June 3rd</td>\n",
              "      <td>la-neworleans-1</td>\n",
              "      <td>https://twitter.com/misaacstein/status/1268381...</td>\n",
              "      <td>https://twitter.com/ckm_news/status/1268382403...</td>\n",
              "      <td>https://twitter.com/brynstole/status/126838134...</td>\n",
              "      <td>https://twitter.com/xxnthe/status/126842775987...</td>\n",
              "      <td>https://twitter.com/greg_doucette/status/12685...</td>\n",
              "      <td>https://www.wdsu.com/article/protesters-on-i-1...</td>\n",
              "      <td>NaN</td>\n",
              "      <td>NaN</td>\n",
              "      <td>NaN</td>\n",
              "      <td>NaN</td>\n",
              "      <td>NaN</td>\n",
              "      <td>NaN</td>\n",
              "      <td>NaN</td>\n",
              "      <td>NaN</td>\n",
              "      <td>NaN</td>\n",
              "      <td>NaN</td>\n",
              "      <td>NaN</td>\n",
              "      <td>NaN</td>\n",
              "      <td>NaN</td>\n",
              "      <td>NaN</td>\n",
              "      <td>LA</td>\n",
              "      <td>Jefferson</td>\n",
              "      <td>29.963071</td>\n",
              "      <td>-90.160953</td>\n",
              "      <td>Projectiles</td>\n",
              "      <td>Police, Protester</td>\n",
              "    </tr>\n",
              "    <tr>\n",
              "      <th>1</th>\n",
              "      <td>1.0</td>\n",
              "      <td>Texas</td>\n",
              "      <td>https://github.com/2020PB/police-brutality/blo...</td>\n",
              "      <td>Austin</td>\n",
              "      <td>police assault protesters</td>\n",
              "      <td>2020-05-30</td>\n",
              "      <td>May 30th</td>\n",
              "      <td>tx-austin-2</td>\n",
              "      <td>https://gfycat.com/tautimaginativedore</td>\n",
              "      <td>https://www.reddit.com/r/2020PoliceBrutality/c...</td>\n",
              "      <td>NaN</td>\n",
              "      <td>NaN</td>\n",
              "      <td>NaN</td>\n",
              "      <td>NaN</td>\n",
              "      <td>NaN</td>\n",
              "      <td>NaN</td>\n",
              "      <td>NaN</td>\n",
              "      <td>NaN</td>\n",
              "      <td>NaN</td>\n",
              "      <td>NaN</td>\n",
              "      <td>NaN</td>\n",
              "      <td>NaN</td>\n",
              "      <td>NaN</td>\n",
              "      <td>NaN</td>\n",
              "      <td>NaN</td>\n",
              "      <td>NaN</td>\n",
              "      <td>NaN</td>\n",
              "      <td>NaN</td>\n",
              "      <td>TX</td>\n",
              "      <td>Hays</td>\n",
              "      <td>30.210692</td>\n",
              "      <td>-97.942749</td>\n",
              "      <td>EHC Hard Technique</td>\n",
              "      <td>Police, Protester</td>\n",
              "    </tr>\n",
              "    <tr>\n",
              "      <th>2</th>\n",
              "      <td>2.0</td>\n",
              "      <td>Texas</td>\n",
              "      <td>https://github.com/2020PB/police-brutality/blo...</td>\n",
              "      <td>Austin</td>\n",
              "      <td>police shoot non violent protester in the head</td>\n",
              "      <td>2020-05-30</td>\n",
              "      <td>May 30th</td>\n",
              "      <td>tx-austin-3</td>\n",
              "      <td>https://www.reddit.com/r/PublicFreakout/commen...</td>\n",
              "      <td>https://www.instagram.com/p/CA6TCIGnuWm/</td>\n",
              "      <td>https://www.youtube.com/watch?v=-BGyTi-KdKc (a...</td>\n",
              "      <td>https://streamable.com/o1uqgy (aftermath)</td>\n",
              "      <td>https://cbsaustin.com/news/local/austin-teen-h...</td>\n",
              "      <td>NaN</td>\n",
              "      <td>NaN</td>\n",
              "      <td>NaN</td>\n",
              "      <td>NaN</td>\n",
              "      <td>NaN</td>\n",
              "      <td>NaN</td>\n",
              "      <td>NaN</td>\n",
              "      <td>NaN</td>\n",
              "      <td>NaN</td>\n",
              "      <td>NaN</td>\n",
              "      <td>NaN</td>\n",
              "      <td>NaN</td>\n",
              "      <td>NaN</td>\n",
              "      <td>NaN</td>\n",
              "      <td>NaN</td>\n",
              "      <td>TX</td>\n",
              "      <td>Hays</td>\n",
              "      <td>30.210692</td>\n",
              "      <td>-97.942749</td>\n",
              "      <td>Projectiles</td>\n",
              "      <td>Police, Protester</td>\n",
              "    </tr>\n",
              "  </tbody>\n",
              "</table>\n",
              "</div>"
            ],
            "text/plain": [
              "   Unnamed: 0 STATE_NAME  ...          force_tags         human_tags\n",
              "0         NaN  Louisiana  ...         Projectiles  Police, Protester\n",
              "1         1.0      Texas  ...  EHC Hard Technique  Police, Protester\n",
              "2         2.0      Texas  ...         Projectiles  Police, Protester\n",
              "\n",
              "[3 rows x 34 columns]"
            ]
          },
          "metadata": {
            "tags": []
          },
          "execution_count": 396
        }
      ]
    },
    {
      "cell_type": "code",
      "metadata": {
        "id": "638S1I0W1bf3",
        "colab_type": "code",
        "colab": {
          "base_uri": "https://localhost:8080/",
          "height": 17
        },
        "outputId": "c60a5a37-44ba-4a41-e7a2-76e59962f90c"
      },
      "source": [
        "# exporting the dataframe \n",
        "df.to_csv('training_data.csv')\n",
        "files.download('training_data.csv')"
      ],
      "execution_count": 397,
      "outputs": [
        {
          "output_type": "display_data",
          "data": {
            "application/javascript": [
              "\n",
              "    async function download(id, filename, size) {\n",
              "      if (!google.colab.kernel.accessAllowed) {\n",
              "        return;\n",
              "      }\n",
              "      const div = document.createElement('div');\n",
              "      const label = document.createElement('label');\n",
              "      label.textContent = `Downloading \"${filename}\": `;\n",
              "      div.appendChild(label);\n",
              "      const progress = document.createElement('progress');\n",
              "      progress.max = size;\n",
              "      div.appendChild(progress);\n",
              "      document.body.appendChild(div);\n",
              "\n",
              "      const buffers = [];\n",
              "      let downloaded = 0;\n",
              "\n",
              "      const channel = await google.colab.kernel.comms.open(id);\n",
              "      // Send a message to notify the kernel that we're ready.\n",
              "      channel.send({})\n",
              "\n",
              "      for await (const message of channel.messages) {\n",
              "        // Send a message to notify the kernel that we're ready.\n",
              "        channel.send({})\n",
              "        if (message.buffers) {\n",
              "          for (const buffer of message.buffers) {\n",
              "            buffers.push(buffer);\n",
              "            downloaded += buffer.byteLength;\n",
              "            progress.value = downloaded;\n",
              "          }\n",
              "        }\n",
              "      }\n",
              "      const blob = new Blob(buffers, {type: 'application/binary'});\n",
              "      const a = document.createElement('a');\n",
              "      a.href = window.URL.createObjectURL(blob);\n",
              "      a.download = filename;\n",
              "      div.appendChild(a);\n",
              "      a.click();\n",
              "      div.remove();\n",
              "    }\n",
              "  "
            ],
            "text/plain": [
              "<IPython.core.display.Javascript object>"
            ]
          },
          "metadata": {
            "tags": []
          }
        },
        {
          "output_type": "display_data",
          "data": {
            "application/javascript": [
              "download(\"download_cbc679b6-66d3-4e64-b9b6-826122e8fe6b\", \"training_data.csv\", 479359)"
            ],
            "text/plain": [
              "<IPython.core.display.Javascript object>"
            ]
          },
          "metadata": {
            "tags": []
          }
        }
      ]
    }
  ]
}