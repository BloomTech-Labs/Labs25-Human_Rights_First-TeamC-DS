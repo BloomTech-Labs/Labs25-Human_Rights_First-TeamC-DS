{
  "nbformat": 4,
  "nbformat_minor": 0,
  "metadata": {
    "colab": {
      "name": "snorkel_hrf",
      "provenance": [],
      "collapsed_sections": []
    },
    "kernelspec": {
      "name": "python3",
      "display_name": "Python 3"
    }
  },
  "cells": [
    {
      "cell_type": "markdown",
      "metadata": {
        "id": "1cguupXpbtjH",
        "colab_type": "text"
      },
      "source": [
        "# Overview\n",
        "\n",
        "use PB2020 api data to create a training dataset\n",
        "- add category labels for type of force\n",
        "- use dataset with categories training data on logistic regression\n",
        "- pickle trained model to upload\n"
      ]
    },
    {
      "cell_type": "markdown",
      "metadata": {
        "id": "gTF7no2FdRtZ",
        "colab_type": "text"
      },
      "source": [
        "- **Presence**: police show up and their presence is enough to de-escalate. This is ideal\n",
        "- **verbalization**: police use voice commands, force is non-physical\n",
        "- **empty-hand control soft technique**: Officers use grabs, holds and joint locks to restrain an individual. shove, chase, spit, raid, push\n",
        "- **empty-hand control hard technique**: Officers use punches and kicks to restrain an individual. injured, charge at, kneel, drag, beat, tackle,  \n",
        "- **blunt impact**: Officers may use a baton to immobilize a combative person, struck, shield, beat \n",
        "- **projectiles**: bean bags, rubber bullets, water hose, deadly weapons such as firearms, shot, munitions, shoot, explosives, throw, launched, fired at, flashbangs, gun\n",
        "- **chemical**: Officers may use chemical sprays or projectiles embedded with chemicals to restrain an individual (e.g., pepper spray) fire, gassed, smoke, \n",
        "- **conducted energy devices**: Officers may use CEDs to immobilize an individual. CEDs discharge a high-voltage, low-amperage jolt of electricity at a distance.\n",
        "- **miscillaneous**: LRD long range audio device, lrad,  sound cannon, sonic weapon"
      ]
    },
    {
      "cell_type": "code",
      "metadata": {
        "id": "JDEOtrn6fu5h",
        "colab_type": "code",
        "colab": {
          "base_uri": "https://localhost:8080/",
          "height": 481
        },
        "outputId": "7a820394-85b6-441c-ec3e-e392f0876672"
      },
      "source": [
        "!pip install snorkel"
      ],
      "execution_count": 483,
      "outputs": [
        {
          "output_type": "stream",
          "text": [
            "Requirement already satisfied: snorkel in /usr/local/lib/python3.6/dist-packages (0.9.6)\n",
            "Requirement already satisfied: torch<2.0.0,>=1.2.0 in /usr/local/lib/python3.6/dist-packages (from snorkel) (1.6.0+cu101)\n",
            "Requirement already satisfied: tensorboard<2.0.0,>=1.14.0 in /usr/local/lib/python3.6/dist-packages (from snorkel) (1.15.0)\n",
            "Requirement already satisfied: tqdm<5.0.0,>=4.33.0 in /usr/local/lib/python3.6/dist-packages (from snorkel) (4.41.1)\n",
            "Requirement already satisfied: numpy<2.0.0,>=1.16.0 in /usr/local/lib/python3.6/dist-packages (from snorkel) (1.18.5)\n",
            "Requirement already satisfied: scipy<2.0.0,>=1.2.0 in /usr/local/lib/python3.6/dist-packages (from snorkel) (1.4.1)\n",
            "Requirement already satisfied: networkx<2.4,>=2.2 in /usr/local/lib/python3.6/dist-packages (from snorkel) (2.3)\n",
            "Requirement already satisfied: scikit-learn<0.22.0,>=0.20.2 in /usr/local/lib/python3.6/dist-packages (from snorkel) (0.21.3)\n",
            "Requirement already satisfied: munkres>=1.0.6 in /usr/local/lib/python3.6/dist-packages (from snorkel) (1.1.2)\n",
            "Requirement already satisfied: pandas<2.0.0,>=0.25.0 in /usr/local/lib/python3.6/dist-packages (from snorkel) (1.0.5)\n",
            "Requirement already satisfied: future in /usr/local/lib/python3.6/dist-packages (from torch<2.0.0,>=1.2.0->snorkel) (0.16.0)\n",
            "Requirement already satisfied: werkzeug>=0.11.15 in /usr/local/lib/python3.6/dist-packages (from tensorboard<2.0.0,>=1.14.0->snorkel) (1.0.1)\n",
            "Requirement already satisfied: wheel>=0.26; python_version >= \"3\" in /usr/local/lib/python3.6/dist-packages (from tensorboard<2.0.0,>=1.14.0->snorkel) (0.34.2)\n",
            "Requirement already satisfied: markdown>=2.6.8 in /usr/local/lib/python3.6/dist-packages (from tensorboard<2.0.0,>=1.14.0->snorkel) (3.2.2)\n",
            "Requirement already satisfied: six>=1.10.0 in /usr/local/lib/python3.6/dist-packages (from tensorboard<2.0.0,>=1.14.0->snorkel) (1.15.0)\n",
            "Requirement already satisfied: absl-py>=0.4 in /usr/local/lib/python3.6/dist-packages (from tensorboard<2.0.0,>=1.14.0->snorkel) (0.9.0)\n",
            "Requirement already satisfied: grpcio>=1.6.3 in /usr/local/lib/python3.6/dist-packages (from tensorboard<2.0.0,>=1.14.0->snorkel) (1.31.0)\n",
            "Requirement already satisfied: protobuf>=3.6.0 in /usr/local/lib/python3.6/dist-packages (from tensorboard<2.0.0,>=1.14.0->snorkel) (3.12.4)\n",
            "Requirement already satisfied: setuptools>=41.0.0 in /usr/local/lib/python3.6/dist-packages (from tensorboard<2.0.0,>=1.14.0->snorkel) (49.2.0)\n",
            "Requirement already satisfied: decorator>=4.3.0 in /usr/local/lib/python3.6/dist-packages (from networkx<2.4,>=2.2->snorkel) (4.4.2)\n",
            "Requirement already satisfied: joblib>=0.11 in /usr/local/lib/python3.6/dist-packages (from scikit-learn<0.22.0,>=0.20.2->snorkel) (0.16.0)\n",
            "Requirement already satisfied: pytz>=2017.2 in /usr/local/lib/python3.6/dist-packages (from pandas<2.0.0,>=0.25.0->snorkel) (2018.9)\n",
            "Requirement already satisfied: python-dateutil>=2.6.1 in /usr/local/lib/python3.6/dist-packages (from pandas<2.0.0,>=0.25.0->snorkel) (2.8.1)\n",
            "Requirement already satisfied: importlib-metadata; python_version < \"3.8\" in /usr/local/lib/python3.6/dist-packages (from markdown>=2.6.8->tensorboard<2.0.0,>=1.14.0->snorkel) (1.7.0)\n",
            "Requirement already satisfied: zipp>=0.5 in /usr/local/lib/python3.6/dist-packages (from importlib-metadata; python_version < \"3.8\"->markdown>=2.6.8->tensorboard<2.0.0,>=1.14.0->snorkel) (3.1.0)\n"
          ],
          "name": "stdout"
        }
      ]
    },
    {
      "cell_type": "code",
      "metadata": {
        "id": "sMUDc7zjhF2n",
        "colab_type": "code",
        "colab": {}
      },
      "source": [
        "import pandas as pd\n",
        "\n",
        "df = pd.read_csv('https://raw.githubusercontent.com/Lambda-School-Labs/Labs25-Human_Rights_First-TeamC-DS/main/Data/pv_incidents.csv', na_values=False)"
      ],
      "execution_count": 484,
      "outputs": []
    },
    {
      "cell_type": "code",
      "metadata": {
        "id": "Zcq6x7kYr7Ke",
        "colab_type": "code",
        "colab": {}
      },
      "source": [
        "df2 = df[['name']]"
      ],
      "execution_count": 485,
      "outputs": []
    },
    {
      "cell_type": "code",
      "metadata": {
        "id": "orahr2Ar4nDb",
        "colab_type": "code",
        "colab": {}
      },
      "source": [
        "df2 = df2.rename(columns={'name':'text'})"
      ],
      "execution_count": 486,
      "outputs": []
    },
    {
      "cell_type": "code",
      "metadata": {
        "id": "Zbs4hoEY4-87",
        "colab_type": "code",
        "colab": {}
      },
      "source": [
        "df2['text'] = df2['text'].astype(str)"
      ],
      "execution_count": 487,
      "outputs": []
    },
    {
      "cell_type": "markdown",
      "metadata": {
        "id": "pUHnjbcZdELm",
        "colab_type": "text"
      },
      "source": [
        "## presence category"
      ]
    },
    {
      "cell_type": "code",
      "metadata": {
        "id": "X-JgdmzggekB",
        "colab_type": "code",
        "colab": {}
      },
      "source": [
        "PRESENCE = 1\n",
        "NOT_PRESENCE = 0\n",
        "ABSTAIN = -1"
      ],
      "execution_count": 488,
      "outputs": []
    },
    {
      "cell_type": "code",
      "metadata": {
        "id": "fUuIbbFJgceG",
        "colab_type": "code",
        "colab": {}
      },
      "source": [
        "from snorkel.labeling import labeling_function"
      ],
      "execution_count": 489,
      "outputs": []
    },
    {
      "cell_type": "code",
      "metadata": {
        "id": "tz8nR9Zmg06T",
        "colab_type": "code",
        "colab": {}
      },
      "source": [
        "@labeling_function()\n",
        "def lf_keyword_swarm(x):\n",
        "  return PROJECTILE if 'swarm' in x.text.lower() else ABSTAIN"
      ],
      "execution_count": 490,
      "outputs": []
    },
    {
      "cell_type": "code",
      "metadata": {
        "id": "dPbC2Gv1iBQ3",
        "colab_type": "code",
        "colab": {}
      },
      "source": [
        "@labeling_function()\n",
        "def lf_keyword_show(x):\n",
        "  return PROJECTILE if 'show' in x.text.lower() else ABSTAIN"
      ],
      "execution_count": 491,
      "outputs": []
    },
    {
      "cell_type": "code",
      "metadata": {
        "id": "8dssgEz9ijWf",
        "colab_type": "code",
        "colab": {}
      },
      "source": [
        "@labeling_function()\n",
        "def lf_keyword_arrive(x):\n",
        "  return PROJECTILE if 'arrive' in x.text.lower() else ABSTAIN"
      ],
      "execution_count": 492,
      "outputs": []
    },
    {
      "cell_type": "code",
      "metadata": {
        "id": "FWDayGO0hV0t",
        "colab_type": "code",
        "colab": {
          "base_uri": "https://localhost:8080/",
          "height": 0
        },
        "outputId": "601e06e0-1802-429c-9f76-db7a67f6511d"
      },
      "source": [
        "from snorkel.labeling.model import LabelModel\n",
        "from snorkel.labeling import PandasLFApplier\n",
        "\n",
        "# Define the set of labeling functions (LFs)\n",
        "lfs = [lf_keyword_swarm, lf_keyword_show,lf_keyword_arrive]\n",
        "\n",
        "# Apply the LFs to the unlabeled training data\n",
        "applier = PandasLFApplier(lfs)\n",
        "L_train = applier.apply(df2)\n",
        "\n",
        "# Train the label model and compute the training labels\n",
        "label_model = LabelModel(cardinality=2, verbose=True)\n",
        "label_model.fit(L_train, n_epochs=500, log_freq=50, seed=123)\n",
        "df2[\"presence_label\"] = label_model.predict(L=L_train, tie_break_policy=\"abstain\")"
      ],
      "execution_count": 493,
      "outputs": [
        {
          "output_type": "stream",
          "text": [
            "100%|██████████| 1703/1703 [00:00<00:00, 14624.47it/s]\n"
          ],
          "name": "stderr"
        }
      ]
    },
    {
      "cell_type": "code",
      "metadata": {
        "id": "vi8GztjdiuIb",
        "colab_type": "code",
        "colab": {
          "base_uri": "https://localhost:8080/",
          "height": 0
        },
        "outputId": "7355fdb4-5097-421e-df6e-6d02b61a3642"
      },
      "source": [
        "df2[df2['presence_label']==1]"
      ],
      "execution_count": 494,
      "outputs": [
        {
          "output_type": "execute_result",
          "data": {
            "text/html": [
              "<div>\n",
              "<style scoped>\n",
              "    .dataframe tbody tr th:only-of-type {\n",
              "        vertical-align: middle;\n",
              "    }\n",
              "\n",
              "    .dataframe tbody tr th {\n",
              "        vertical-align: top;\n",
              "    }\n",
              "\n",
              "    .dataframe thead th {\n",
              "        text-align: right;\n",
              "    }\n",
              "</style>\n",
              "<table border=\"1\" class=\"dataframe\">\n",
              "  <thead>\n",
              "    <tr style=\"text-align: right;\">\n",
              "      <th></th>\n",
              "      <th>text</th>\n",
              "      <th>presence_label</th>\n",
              "    </tr>\n",
              "  </thead>\n",
              "  <tbody>\n",
              "    <tr>\n",
              "      <th>305</th>\n",
              "      <td>Photojournalist shows wounds from less-lethal ...</td>\n",
              "      <td>1</td>\n",
              "    </tr>\n",
              "    <tr>\n",
              "      <th>306</th>\n",
              "      <td>Photojournalist shows wounds from less-lethal ...</td>\n",
              "      <td>1</td>\n",
              "    </tr>\n",
              "    <tr>\n",
              "      <th>307</th>\n",
              "      <td>Photojournalist shows wounds from less-lethal ...</td>\n",
              "      <td>1</td>\n",
              "    </tr>\n",
              "    <tr>\n",
              "      <th>344</th>\n",
              "      <td>Protester shows wound left by less-lethal round</td>\n",
              "      <td>1</td>\n",
              "    </tr>\n",
              "    <tr>\n",
              "      <th>345</th>\n",
              "      <td>Protester shows wound left by less-lethal round</td>\n",
              "      <td>1</td>\n",
              "    </tr>\n",
              "    <tr>\n",
              "      <th>346</th>\n",
              "      <td>Protester shows wound left by less-lethal round</td>\n",
              "      <td>1</td>\n",
              "    </tr>\n",
              "    <tr>\n",
              "      <th>356</th>\n",
              "      <td>Medic shows rubber bullet wound</td>\n",
              "      <td>1</td>\n",
              "    </tr>\n",
              "    <tr>\n",
              "      <th>357</th>\n",
              "      <td>Medic shows rubber bullet wound</td>\n",
              "      <td>1</td>\n",
              "    </tr>\n",
              "    <tr>\n",
              "      <th>358</th>\n",
              "      <td>Medic shows rubber bullet wound</td>\n",
              "      <td>1</td>\n",
              "    </tr>\n",
              "    <tr>\n",
              "      <th>407</th>\n",
              "      <td>Journalist shows wound from impact munition</td>\n",
              "      <td>1</td>\n",
              "    </tr>\n",
              "    <tr>\n",
              "      <th>408</th>\n",
              "      <td>Journalist shows wound from impact munition</td>\n",
              "      <td>1</td>\n",
              "    </tr>\n",
              "    <tr>\n",
              "      <th>409</th>\n",
              "      <td>Journalist shows wound from impact munition</td>\n",
              "      <td>1</td>\n",
              "    </tr>\n",
              "    <tr>\n",
              "      <th>623</th>\n",
              "      <td>Image shows effect of stinger grenade</td>\n",
              "      <td>1</td>\n",
              "    </tr>\n",
              "    <tr>\n",
              "      <th>624</th>\n",
              "      <td>Image shows effect of stinger grenade</td>\n",
              "      <td>1</td>\n",
              "    </tr>\n",
              "    <tr>\n",
              "      <th>625</th>\n",
              "      <td>Image shows effect of stinger grenade</td>\n",
              "      <td>1</td>\n",
              "    </tr>\n",
              "    <tr>\n",
              "      <th>1410</th>\n",
              "      <td>Video showing CPD officer punching protester i...</td>\n",
              "      <td>1</td>\n",
              "    </tr>\n",
              "    <tr>\n",
              "      <th>1454</th>\n",
              "      <td>Police storm gas station, attacking reporters ...</td>\n",
              "      <td>1</td>\n",
              "    </tr>\n",
              "    <tr>\n",
              "      <th>1455</th>\n",
              "      <td>Police storm gas station, attacking reporters ...</td>\n",
              "      <td>1</td>\n",
              "    </tr>\n",
              "    <tr>\n",
              "      <th>1622</th>\n",
              "      <td>Protester shows wound inflicted by less-lethal...</td>\n",
              "      <td>1</td>\n",
              "    </tr>\n",
              "    <tr>\n",
              "      <th>1667</th>\n",
              "      <td>Police swarm a woman without provocation</td>\n",
              "      <td>1</td>\n",
              "    </tr>\n",
              "    <tr>\n",
              "      <th>1681</th>\n",
              "      <td>Louisville police swarm and beat a man screami...</td>\n",
              "      <td>1</td>\n",
              "    </tr>\n",
              "    <tr>\n",
              "      <th>1695</th>\n",
              "      <td>Reporter shows tear gas canister fired at him ...</td>\n",
              "      <td>1</td>\n",
              "    </tr>\n",
              "  </tbody>\n",
              "</table>\n",
              "</div>"
            ],
            "text/plain": [
              "                                                   text  presence_label\n",
              "305   Photojournalist shows wounds from less-lethal ...               1\n",
              "306   Photojournalist shows wounds from less-lethal ...               1\n",
              "307   Photojournalist shows wounds from less-lethal ...               1\n",
              "344     Protester shows wound left by less-lethal round               1\n",
              "345     Protester shows wound left by less-lethal round               1\n",
              "346     Protester shows wound left by less-lethal round               1\n",
              "356                     Medic shows rubber bullet wound               1\n",
              "357                     Medic shows rubber bullet wound               1\n",
              "358                     Medic shows rubber bullet wound               1\n",
              "407         Journalist shows wound from impact munition               1\n",
              "408         Journalist shows wound from impact munition               1\n",
              "409         Journalist shows wound from impact munition               1\n",
              "623               Image shows effect of stinger grenade               1\n",
              "624               Image shows effect of stinger grenade               1\n",
              "625               Image shows effect of stinger grenade               1\n",
              "1410  Video showing CPD officer punching protester i...               1\n",
              "1454  Police storm gas station, attacking reporters ...               1\n",
              "1455  Police storm gas station, attacking reporters ...               1\n",
              "1622  Protester shows wound inflicted by less-lethal...               1\n",
              "1667           Police swarm a woman without provocation               1\n",
              "1681  Louisville police swarm and beat a man screami...               1\n",
              "1695  Reporter shows tear gas canister fired at him ...               1"
            ]
          },
          "metadata": {
            "tags": []
          },
          "execution_count": 494
        }
      ]
    },
    {
      "cell_type": "markdown",
      "metadata": {
        "id": "8mvtvTVJh1jb",
        "colab_type": "text"
      },
      "source": [
        "## verbalization category"
      ]
    },
    {
      "cell_type": "code",
      "metadata": {
        "id": "WPMzD7Bnh6HI",
        "colab_type": "code",
        "colab": {}
      },
      "source": [
        "PRESENCE = 1\n",
        "NOT_PRESENCE = 0\n",
        "ABSTAIN = -1"
      ],
      "execution_count": 495,
      "outputs": []
    },
    {
      "cell_type": "code",
      "metadata": {
        "id": "zvFTIHjIi-7p",
        "colab_type": "code",
        "colab": {}
      },
      "source": [
        "@labeling_function()\n",
        "def lf_keyword_shout(x):\n",
        "  return PROJECTILE if 'shout' in x.text.lower() else ABSTAIN"
      ],
      "execution_count": 496,
      "outputs": []
    },
    {
      "cell_type": "code",
      "metadata": {
        "id": "gw9PJxRdjHJd",
        "colab_type": "code",
        "colab": {}
      },
      "source": [
        "@labeling_function()\n",
        "def lf_keyword_order(x):\n",
        "  return PROJECTILE if 'order' in x.text.lower() else ABSTAIN"
      ],
      "execution_count": 497,
      "outputs": []
    },
    {
      "cell_type": "code",
      "metadata": {
        "id": "-9dd8F5jjI9n",
        "colab_type": "code",
        "colab": {}
      },
      "source": [
        "@labeling_function()\n",
        "def lf_keyword_loudspeaker(x):\n",
        "  return PROJECTILE if 'loudspeaker' in x.text.lower() else ABSTAIN"
      ],
      "execution_count": 498,
      "outputs": []
    },
    {
      "cell_type": "code",
      "metadata": {
        "id": "hOH3VGeajS9Q",
        "colab_type": "code",
        "colab": {
          "base_uri": "https://localhost:8080/",
          "height": 0
        },
        "outputId": "08523c24-d9c9-41db-ee33-eaca03f3f7b0"
      },
      "source": [
        "from snorkel.labeling.model import LabelModel\n",
        "from snorkel.labeling import PandasLFApplier\n",
        "\n",
        "# Define the set of labeling functions (LFs)\n",
        "lfs = [lf_keyword_shout, lf_keyword_order,lf_keyword_loudspeaker]\n",
        "\n",
        "# Apply the LFs to the unlabeled training data\n",
        "applier = PandasLFApplier(lfs)\n",
        "L_train = applier.apply(df2)\n",
        "\n",
        "# Train the label model and compute the training labels\n",
        "label_model = LabelModel(cardinality=2, verbose=True)\n",
        "label_model.fit(L_train, n_epochs=500, log_freq=50, seed=123)\n",
        "df2[\"verbal_label\"] = label_model.predict(L=L_train, tie_break_policy=\"abstain\")"
      ],
      "execution_count": 499,
      "outputs": [
        {
          "output_type": "stream",
          "text": [
            "100%|██████████| 1703/1703 [00:00<00:00, 15139.74it/s]\n"
          ],
          "name": "stderr"
        }
      ]
    },
    {
      "cell_type": "code",
      "metadata": {
        "id": "t0cAVTATjhAV",
        "colab_type": "code",
        "colab": {
          "base_uri": "https://localhost:8080/",
          "height": 0
        },
        "outputId": "e34eba0d-62fe-4cc9-c0e7-1e37e9f72197"
      },
      "source": [
        "lf_keyword_shout, lf_keyword_order, lf_keyword_loudspeaker = (L_train != ABSTAIN).mean(axis=0)\n",
        "print(f\"lf_keyword_shout coverage: {lf_keyword_shout * 100:.1f}%\")\n",
        "print(f\"lf_keyword_order coverage: {lf_keyword_order * 100:.1f}%\")\n",
        "print(f\"lf_keyword_loudspeaker coverage: {lf_keyword_loudspeaker * 100:.1f}%\")"
      ],
      "execution_count": 500,
      "outputs": [
        {
          "output_type": "stream",
          "text": [
            "lf_keyword_shout coverage: 0.1%\n",
            "lf_keyword_order coverage: 0.5%\n",
            "lf_keyword_loudspeaker coverage: 0.0%\n"
          ],
          "name": "stdout"
        }
      ]
    },
    {
      "cell_type": "code",
      "metadata": {
        "id": "y2-g3wuyjwcG",
        "colab_type": "code",
        "colab": {
          "base_uri": "https://localhost:8080/",
          "height": 0
        },
        "outputId": "5c7e19c0-8a43-46b5-f04c-e7e1fbf6b2ac"
      },
      "source": [
        "df2[df2['verbal_label']==1]"
      ],
      "execution_count": 501,
      "outputs": [
        {
          "output_type": "execute_result",
          "data": {
            "text/html": [
              "<div>\n",
              "<style scoped>\n",
              "    .dataframe tbody tr th:only-of-type {\n",
              "        vertical-align: middle;\n",
              "    }\n",
              "\n",
              "    .dataframe tbody tr th {\n",
              "        vertical-align: top;\n",
              "    }\n",
              "\n",
              "    .dataframe thead th {\n",
              "        text-align: right;\n",
              "    }\n",
              "</style>\n",
              "<table border=\"1\" class=\"dataframe\">\n",
              "  <thead>\n",
              "    <tr style=\"text-align: right;\">\n",
              "      <th></th>\n",
              "      <th>text</th>\n",
              "      <th>presence_label</th>\n",
              "      <th>verbal_label</th>\n",
              "    </tr>\n",
              "  </thead>\n",
              "  <tbody>\n",
              "    <tr>\n",
              "      <th>170</th>\n",
              "      <td>Police apply no-assembly order to journalists</td>\n",
              "      <td>-1</td>\n",
              "      <td>1</td>\n",
              "    </tr>\n",
              "    <tr>\n",
              "      <th>171</th>\n",
              "      <td>Police apply no-assembly order to journalists</td>\n",
              "      <td>-1</td>\n",
              "      <td>1</td>\n",
              "    </tr>\n",
              "    <tr>\n",
              "      <th>172</th>\n",
              "      <td>Police apply no-assembly order to journalists</td>\n",
              "      <td>-1</td>\n",
              "      <td>1</td>\n",
              "    </tr>\n",
              "    <tr>\n",
              "      <th>812</th>\n",
              "      <td>Officers shove press during dispersal order</td>\n",
              "      <td>-1</td>\n",
              "      <td>1</td>\n",
              "    </tr>\n",
              "    <tr>\n",
              "      <th>813</th>\n",
              "      <td>Officers shove press during dispersal order</td>\n",
              "      <td>-1</td>\n",
              "      <td>1</td>\n",
              "    </tr>\n",
              "    <tr>\n",
              "      <th>814</th>\n",
              "      <td>Officers shove press during dispersal order</td>\n",
              "      <td>-1</td>\n",
              "      <td>1</td>\n",
              "    </tr>\n",
              "    <tr>\n",
              "      <th>1082</th>\n",
              "      <td>Police selectively enforce curfew and dispersa...</td>\n",
              "      <td>-1</td>\n",
              "      <td>1</td>\n",
              "    </tr>\n",
              "    <tr>\n",
              "      <th>1083</th>\n",
              "      <td>Police selectively enforce curfew and dispersa...</td>\n",
              "      <td>-1</td>\n",
              "      <td>1</td>\n",
              "    </tr>\n",
              "    <tr>\n",
              "      <th>1444</th>\n",
              "      <td>Police charge into peaceful crowd shouting \"gr...</td>\n",
              "      <td>-1</td>\n",
              "      <td>1</td>\n",
              "    </tr>\n",
              "  </tbody>\n",
              "</table>\n",
              "</div>"
            ],
            "text/plain": [
              "                                                   text  ...  verbal_label\n",
              "170       Police apply no-assembly order to journalists  ...             1\n",
              "171       Police apply no-assembly order to journalists  ...             1\n",
              "172       Police apply no-assembly order to journalists  ...             1\n",
              "812         Officers shove press during dispersal order  ...             1\n",
              "813         Officers shove press during dispersal order  ...             1\n",
              "814         Officers shove press during dispersal order  ...             1\n",
              "1082  Police selectively enforce curfew and dispersa...  ...             1\n",
              "1083  Police selectively enforce curfew and dispersa...  ...             1\n",
              "1444  Police charge into peaceful crowd shouting \"gr...  ...             1\n",
              "\n",
              "[9 rows x 3 columns]"
            ]
          },
          "metadata": {
            "tags": []
          },
          "execution_count": 501
        }
      ]
    },
    {
      "cell_type": "markdown",
      "metadata": {
        "id": "e8c2Pz8LkCA5",
        "colab_type": "text"
      },
      "source": [
        "## empty-hand control soft technique"
      ]
    },
    {
      "cell_type": "code",
      "metadata": {
        "id": "PVx3uS3zj_Fh",
        "colab_type": "code",
        "colab": {}
      },
      "source": [
        "@labeling_function()\n",
        "def lf_keyword_shove(x):\n",
        "  return PROJECTILE if 'shove' in x.text.lower() else ABSTAIN"
      ],
      "execution_count": 502,
      "outputs": []
    },
    {
      "cell_type": "code",
      "metadata": {
        "id": "C8JMwx8wk5Bm",
        "colab_type": "code",
        "colab": {}
      },
      "source": [
        "@labeling_function()\n",
        "def lf_keyword_grabs(x):\n",
        "  return PROJECTILE if 'grabs' in x.text.lower() else ABSTAIN"
      ],
      "execution_count": 503,
      "outputs": []
    },
    {
      "cell_type": "code",
      "metadata": {
        "id": "yZSwl9Bxk85r",
        "colab_type": "code",
        "colab": {}
      },
      "source": [
        "@labeling_function()\n",
        "def lf_keyword_holds(x):\n",
        "  return PROJECTILE if 'holds' in x.text.lower() else ABSTAIN"
      ],
      "execution_count": 504,
      "outputs": []
    },
    {
      "cell_type": "code",
      "metadata": {
        "id": "LUOz10ULHTpK",
        "colab_type": "code",
        "colab": {}
      },
      "source": [
        "@labeling_function()\n",
        "def lf_keyword_arrest(x):\n",
        "  return PROJECTILE if 'arrest' in x.text.lower() else ABSTAIN"
      ],
      "execution_count": 576,
      "outputs": []
    },
    {
      "cell_type": "code",
      "metadata": {
        "id": "BLNmKSJIlEBK",
        "colab_type": "code",
        "colab": {
          "base_uri": "https://localhost:8080/",
          "height": 34
        },
        "outputId": "56709ab2-642c-4963-e311-357b2966f99f"
      },
      "source": [
        "from snorkel.labeling.model import LabelModel\n",
        "from snorkel.labeling import PandasLFApplier\n",
        "\n",
        "# Define the set of labeling functions (LFs)\n",
        "lfs = [lf_keyword_shove, lf_keyword_grabs,lf_keyword_holds, lf_keyword_arrest]\n",
        "\n",
        "# Apply the LFs to the unlabeled training data\n",
        "applier = PandasLFApplier(lfs)\n",
        "L_train = applier.apply(df2)\n",
        "\n",
        "# Train the label model and compute the training labels\n",
        "label_model = LabelModel(cardinality=2, verbose=True)\n",
        "label_model.fit(L_train, n_epochs=500, log_freq=50, seed=123)\n",
        "df2[\"ehc-soft_technique\"] = label_model.predict(L=L_train, tie_break_policy=\"abstain\")"
      ],
      "execution_count": 577,
      "outputs": [
        {
          "output_type": "stream",
          "text": [
            "100%|██████████| 1703/1703 [00:00<00:00, 13372.11it/s]\n"
          ],
          "name": "stderr"
        }
      ]
    },
    {
      "cell_type": "code",
      "metadata": {
        "id": "URB9tHeblQFt",
        "colab_type": "code",
        "colab": {
          "base_uri": "https://localhost:8080/",
          "height": 406
        },
        "outputId": "50d931cc-f26c-4c95-c465-3e70104ee9dd"
      },
      "source": [
        "df2[df2['ehc-soft_technique']==1]"
      ],
      "execution_count": 506,
      "outputs": [
        {
          "output_type": "execute_result",
          "data": {
            "text/html": [
              "<div>\n",
              "<style scoped>\n",
              "    .dataframe tbody tr th:only-of-type {\n",
              "        vertical-align: middle;\n",
              "    }\n",
              "\n",
              "    .dataframe tbody tr th {\n",
              "        vertical-align: top;\n",
              "    }\n",
              "\n",
              "    .dataframe thead th {\n",
              "        text-align: right;\n",
              "    }\n",
              "</style>\n",
              "<table border=\"1\" class=\"dataframe\">\n",
              "  <thead>\n",
              "    <tr style=\"text-align: right;\">\n",
              "      <th></th>\n",
              "      <th>text</th>\n",
              "      <th>presence_label</th>\n",
              "      <th>verbal_label</th>\n",
              "      <th>ehc-soft_technique</th>\n",
              "    </tr>\n",
              "  </thead>\n",
              "  <tbody>\n",
              "    <tr>\n",
              "      <th>47</th>\n",
              "      <td>Police shove and pepper spray protesters</td>\n",
              "      <td>-1</td>\n",
              "      <td>-1</td>\n",
              "      <td>1</td>\n",
              "    </tr>\n",
              "    <tr>\n",
              "      <th>48</th>\n",
              "      <td>Police shove and pepper spray protesters</td>\n",
              "      <td>-1</td>\n",
              "      <td>-1</td>\n",
              "      <td>1</td>\n",
              "    </tr>\n",
              "    <tr>\n",
              "      <th>49</th>\n",
              "      <td>Police shove and pepper spray protesters</td>\n",
              "      <td>-1</td>\n",
              "      <td>-1</td>\n",
              "      <td>1</td>\n",
              "    </tr>\n",
              "    <tr>\n",
              "      <th>67</th>\n",
              "      <td>Officers shove a woman to the pavement</td>\n",
              "      <td>-1</td>\n",
              "      <td>-1</td>\n",
              "      <td>1</td>\n",
              "    </tr>\n",
              "    <tr>\n",
              "      <th>68</th>\n",
              "      <td>Officers shove a woman to the pavement</td>\n",
              "      <td>-1</td>\n",
              "      <td>-1</td>\n",
              "      <td>1</td>\n",
              "    </tr>\n",
              "    <tr>\n",
              "      <th>...</th>\n",
              "      <td>...</td>\n",
              "      <td>...</td>\n",
              "      <td>...</td>\n",
              "      <td>...</td>\n",
              "    </tr>\n",
              "    <tr>\n",
              "      <th>1646</th>\n",
              "      <td>San Francisco law enforcement shove man off th...</td>\n",
              "      <td>-1</td>\n",
              "      <td>-1</td>\n",
              "      <td>1</td>\n",
              "    </tr>\n",
              "    <tr>\n",
              "      <th>1674</th>\n",
              "      <td>Protesters shoved down stairs and arrested</td>\n",
              "      <td>-1</td>\n",
              "      <td>-1</td>\n",
              "      <td>1</td>\n",
              "    </tr>\n",
              "    <tr>\n",
              "      <th>1685</th>\n",
              "      <td>Police shove woman and then fire pepper balls ...</td>\n",
              "      <td>-1</td>\n",
              "      <td>-1</td>\n",
              "      <td>1</td>\n",
              "    </tr>\n",
              "    <tr>\n",
              "      <th>1701</th>\n",
              "      <td>Police officer shoves protester on bike; polic...</td>\n",
              "      <td>-1</td>\n",
              "      <td>-1</td>\n",
              "      <td>1</td>\n",
              "    </tr>\n",
              "    <tr>\n",
              "      <th>1702</th>\n",
              "      <td>Police officer shoves protester on bike; polic...</td>\n",
              "      <td>-1</td>\n",
              "      <td>-1</td>\n",
              "      <td>1</td>\n",
              "    </tr>\n",
              "  </tbody>\n",
              "</table>\n",
              "<p>173 rows × 4 columns</p>\n",
              "</div>"
            ],
            "text/plain": [
              "                                                   text  ...  ehc-soft_technique\n",
              "47             Police shove and pepper spray protesters  ...                   1\n",
              "48             Police shove and pepper spray protesters  ...                   1\n",
              "49             Police shove and pepper spray protesters  ...                   1\n",
              "67               Officers shove a woman to the pavement  ...                   1\n",
              "68               Officers shove a woman to the pavement  ...                   1\n",
              "...                                                 ...  ...                 ...\n",
              "1646  San Francisco law enforcement shove man off th...  ...                   1\n",
              "1674         Protesters shoved down stairs and arrested  ...                   1\n",
              "1685  Police shove woman and then fire pepper balls ...  ...                   1\n",
              "1701  Police officer shoves protester on bike; polic...  ...                   1\n",
              "1702  Police officer shoves protester on bike; polic...  ...                   1\n",
              "\n",
              "[173 rows x 4 columns]"
            ]
          },
          "metadata": {
            "tags": []
          },
          "execution_count": 506
        }
      ]
    },
    {
      "cell_type": "markdown",
      "metadata": {
        "id": "mRqAL6nalgV9",
        "colab_type": "text"
      },
      "source": [
        "## empty-hand control hard technique"
      ]
    },
    {
      "cell_type": "markdown",
      "metadata": {
        "id": "5WLyIbVjlyKZ",
        "colab_type": "text"
      },
      "source": [
        "beat, tackle, punch"
      ]
    },
    {
      "cell_type": "code",
      "metadata": {
        "id": "8vQmYlG_lk7O",
        "colab_type": "code",
        "colab": {}
      },
      "source": [
        "@labeling_function()\n",
        "def lf_keyword_beat(x):\n",
        "  return PROJECTILE if 'beat' in x.text.lower() else ABSTAIN"
      ],
      "execution_count": 507,
      "outputs": []
    },
    {
      "cell_type": "code",
      "metadata": {
        "id": "xS3yXNDsl364",
        "colab_type": "code",
        "colab": {}
      },
      "source": [
        "@labeling_function()\n",
        "def lf_keyword_tackle(x):\n",
        "  return PROJECTILE if 'tackle' in x.text.lower() else ABSTAIN"
      ],
      "execution_count": 508,
      "outputs": []
    },
    {
      "cell_type": "code",
      "metadata": {
        "id": "PRv7Ni_el7zr",
        "colab_type": "code",
        "colab": {}
      },
      "source": [
        "@labeling_function()\n",
        "def lf_keyword_punch(x):\n",
        "  return PROJECTILE if 'punch' in x.text.lower() else ABSTAIN"
      ],
      "execution_count": 509,
      "outputs": []
    },
    {
      "cell_type": "code",
      "metadata": {
        "id": "0qGsAhchDZsz",
        "colab_type": "code",
        "colab": {}
      },
      "source": [
        "@labeling_function()\n",
        "def lf_keyword_assault(x):\n",
        "  return PROJECTILE if 'assault' in x.text.lower() else ABSTAIN"
      ],
      "execution_count": 510,
      "outputs": []
    },
    {
      "cell_type": "code",
      "metadata": {
        "id": "LZIlHHBxl_wM",
        "colab_type": "code",
        "colab": {
          "base_uri": "https://localhost:8080/",
          "height": 34
        },
        "outputId": "1068aa49-5101-4ec0-8790-5731c36b2c2b"
      },
      "source": [
        "from snorkel.labeling.model import LabelModel\n",
        "from snorkel.labeling import PandasLFApplier\n",
        "\n",
        "# Define the set of labeling functions (LFs)\n",
        "lfs = [lf_keyword_beat, lf_keyword_tackle,lf_keyword_punch,lf_keyword_assault]\n",
        "\n",
        "# Apply the LFs to the unlabeled training data\n",
        "applier = PandasLFApplier(lfs)\n",
        "L_train = applier.apply(df2)\n",
        "\n",
        "# Train the label model and compute the training labels\n",
        "label_model = LabelModel(cardinality=2, verbose=True)\n",
        "label_model.fit(L_train, n_epochs=500, log_freq=50, seed=123)\n",
        "df2[\"ehc-hard_technique\"] = label_model.predict(L=L_train, tie_break_policy=\"abstain\")"
      ],
      "execution_count": 511,
      "outputs": [
        {
          "output_type": "stream",
          "text": [
            "100%|██████████| 1703/1703 [00:00<00:00, 12587.43it/s]\n"
          ],
          "name": "stderr"
        }
      ]
    },
    {
      "cell_type": "code",
      "metadata": {
        "id": "qMm99StQmTgH",
        "colab_type": "code",
        "colab": {
          "base_uri": "https://localhost:8080/",
          "height": 440
        },
        "outputId": "7f240c1a-a011-454a-8457-7b894e7df12e"
      },
      "source": [
        "df2[df2['ehc-hard_technique']==1]"
      ],
      "execution_count": 512,
      "outputs": [
        {
          "output_type": "execute_result",
          "data": {
            "text/html": [
              "<div>\n",
              "<style scoped>\n",
              "    .dataframe tbody tr th:only-of-type {\n",
              "        vertical-align: middle;\n",
              "    }\n",
              "\n",
              "    .dataframe tbody tr th {\n",
              "        vertical-align: top;\n",
              "    }\n",
              "\n",
              "    .dataframe thead th {\n",
              "        text-align: right;\n",
              "    }\n",
              "</style>\n",
              "<table border=\"1\" class=\"dataframe\">\n",
              "  <thead>\n",
              "    <tr style=\"text-align: right;\">\n",
              "      <th></th>\n",
              "      <th>text</th>\n",
              "      <th>presence_label</th>\n",
              "      <th>verbal_label</th>\n",
              "      <th>ehc-soft_technique</th>\n",
              "      <th>ehc-hard_technique</th>\n",
              "    </tr>\n",
              "  </thead>\n",
              "  <tbody>\n",
              "    <tr>\n",
              "      <th>2</th>\n",
              "      <td>Police assault protesters</td>\n",
              "      <td>-1</td>\n",
              "      <td>-1</td>\n",
              "      <td>-1</td>\n",
              "      <td>1</td>\n",
              "    </tr>\n",
              "    <tr>\n",
              "      <th>3</th>\n",
              "      <td>Police assault protesters</td>\n",
              "      <td>-1</td>\n",
              "      <td>-1</td>\n",
              "      <td>-1</td>\n",
              "      <td>1</td>\n",
              "    </tr>\n",
              "    <tr>\n",
              "      <th>4</th>\n",
              "      <td>Police assault protesters</td>\n",
              "      <td>-1</td>\n",
              "      <td>-1</td>\n",
              "      <td>-1</td>\n",
              "      <td>1</td>\n",
              "    </tr>\n",
              "    <tr>\n",
              "      <th>41</th>\n",
              "      <td>Police punch arrestee on ground</td>\n",
              "      <td>-1</td>\n",
              "      <td>-1</td>\n",
              "      <td>-1</td>\n",
              "      <td>1</td>\n",
              "    </tr>\n",
              "    <tr>\n",
              "      <th>42</th>\n",
              "      <td>Police punch arrestee on ground</td>\n",
              "      <td>-1</td>\n",
              "      <td>-1</td>\n",
              "      <td>-1</td>\n",
              "      <td>1</td>\n",
              "    </tr>\n",
              "    <tr>\n",
              "      <th>...</th>\n",
              "      <td>...</td>\n",
              "      <td>...</td>\n",
              "      <td>...</td>\n",
              "      <td>...</td>\n",
              "      <td>...</td>\n",
              "    </tr>\n",
              "    <tr>\n",
              "      <th>1612</th>\n",
              "      <td>Police beat and pepper spray protesters</td>\n",
              "      <td>-1</td>\n",
              "      <td>-1</td>\n",
              "      <td>-1</td>\n",
              "      <td>1</td>\n",
              "    </tr>\n",
              "    <tr>\n",
              "      <th>1680</th>\n",
              "      <td>5 police officers use batons to beat protester</td>\n",
              "      <td>-1</td>\n",
              "      <td>-1</td>\n",
              "      <td>-1</td>\n",
              "      <td>1</td>\n",
              "    </tr>\n",
              "    <tr>\n",
              "      <th>1681</th>\n",
              "      <td>Louisville police swarm and beat a man screami...</td>\n",
              "      <td>1</td>\n",
              "      <td>-1</td>\n",
              "      <td>-1</td>\n",
              "      <td>1</td>\n",
              "    </tr>\n",
              "    <tr>\n",
              "      <th>1686</th>\n",
              "      <td>Police tackle protester, then target witness</td>\n",
              "      <td>-1</td>\n",
              "      <td>-1</td>\n",
              "      <td>-1</td>\n",
              "      <td>1</td>\n",
              "    </tr>\n",
              "    <tr>\n",
              "      <th>1687</th>\n",
              "      <td>Protester medic beaten and arrested</td>\n",
              "      <td>-1</td>\n",
              "      <td>-1</td>\n",
              "      <td>-1</td>\n",
              "      <td>1</td>\n",
              "    </tr>\n",
              "  </tbody>\n",
              "</table>\n",
              "<p>150 rows × 5 columns</p>\n",
              "</div>"
            ],
            "text/plain": [
              "                                                   text  ...  ehc-hard_technique\n",
              "2                             Police assault protesters  ...                   1\n",
              "3                             Police assault protesters  ...                   1\n",
              "4                             Police assault protesters  ...                   1\n",
              "41                      Police punch arrestee on ground  ...                   1\n",
              "42                      Police punch arrestee on ground  ...                   1\n",
              "...                                                 ...  ...                 ...\n",
              "1612            Police beat and pepper spray protesters  ...                   1\n",
              "1680     5 police officers use batons to beat protester  ...                   1\n",
              "1681  Louisville police swarm and beat a man screami...  ...                   1\n",
              "1686       Police tackle protester, then target witness  ...                   1\n",
              "1687                Protester medic beaten and arrested  ...                   1\n",
              "\n",
              "[150 rows x 5 columns]"
            ]
          },
          "metadata": {
            "tags": []
          },
          "execution_count": 512
        }
      ]
    },
    {
      "cell_type": "markdown",
      "metadata": {
        "id": "So5AdK6qmhVV",
        "colab_type": "text"
      },
      "source": [
        "## blunt impact"
      ]
    },
    {
      "cell_type": "markdown",
      "metadata": {
        "id": "SS6oSB_nm5b3",
        "colab_type": "text"
      },
      "source": [
        "baton, club, shield"
      ]
    },
    {
      "cell_type": "code",
      "metadata": {
        "id": "X1ANfTFHmkUC",
        "colab_type": "code",
        "colab": {}
      },
      "source": [
        "@labeling_function()\n",
        "def lf_keyword_baton(x):\n",
        "  return PROJECTILE if 'baton' in x.text.lower() else ABSTAIN"
      ],
      "execution_count": 513,
      "outputs": []
    },
    {
      "cell_type": "code",
      "metadata": {
        "id": "P7ppyK6snD9A",
        "colab_type": "code",
        "colab": {}
      },
      "source": [
        "@labeling_function()\n",
        "def lf_keyword_club(x):\n",
        "  return PROJECTILE if 'club' in x.text.lower() else ABSTAIN"
      ],
      "execution_count": 514,
      "outputs": []
    },
    {
      "cell_type": "code",
      "metadata": {
        "id": "RnHT467inHZZ",
        "colab_type": "code",
        "colab": {}
      },
      "source": [
        "@labeling_function()\n",
        "def lf_keyword_shield(x):\n",
        "  return PROJECTILE if 'shield' in x.text.lower() else ABSTAIN"
      ],
      "execution_count": 515,
      "outputs": []
    },
    {
      "cell_type": "code",
      "metadata": {
        "id": "EoLnLCe5nNXc",
        "colab_type": "code",
        "colab": {
          "base_uri": "https://localhost:8080/",
          "height": 0
        },
        "outputId": "c2ce0560-f7b3-4f07-f882-b8a8aa88775e"
      },
      "source": [
        "from snorkel.labeling.model import LabelModel\n",
        "from snorkel.labeling import PandasLFApplier\n",
        "\n",
        "# Define the set of labeling functions (LFs)\n",
        "lfs = [lf_keyword_baton, lf_keyword_club,lf_keyword_shield]\n",
        "\n",
        "# Apply the LFs to the unlabeled training data\n",
        "applier = PandasLFApplier(lfs)\n",
        "L_train = applier.apply(df2)\n",
        "\n",
        "# Train the label model and compute the training labels\n",
        "label_model = LabelModel(cardinality=2, verbose=True)\n",
        "label_model.fit(L_train, n_epochs=500, log_freq=50, seed=123)\n",
        "df2[\"blunt_impact\"] = label_model.predict(L=L_train, tie_break_policy=\"abstain\")"
      ],
      "execution_count": 516,
      "outputs": [
        {
          "output_type": "stream",
          "text": [
            "100%|██████████| 1703/1703 [00:00<00:00, 16304.45it/s]\n"
          ],
          "name": "stderr"
        }
      ]
    },
    {
      "cell_type": "code",
      "metadata": {
        "id": "LMrPSXo8naAC",
        "colab_type": "code",
        "colab": {
          "base_uri": "https://localhost:8080/",
          "height": 0
        },
        "outputId": "cc85fd2e-b75e-4fe2-9fd6-e518ceebca5f"
      },
      "source": [
        "df2[df2['blunt_impact']==1]"
      ],
      "execution_count": 517,
      "outputs": [
        {
          "output_type": "execute_result",
          "data": {
            "text/html": [
              "<div>\n",
              "<style scoped>\n",
              "    .dataframe tbody tr th:only-of-type {\n",
              "        vertical-align: middle;\n",
              "    }\n",
              "\n",
              "    .dataframe tbody tr th {\n",
              "        vertical-align: top;\n",
              "    }\n",
              "\n",
              "    .dataframe thead th {\n",
              "        text-align: right;\n",
              "    }\n",
              "</style>\n",
              "<table border=\"1\" class=\"dataframe\">\n",
              "  <thead>\n",
              "    <tr style=\"text-align: right;\">\n",
              "      <th></th>\n",
              "      <th>text</th>\n",
              "      <th>presence_label</th>\n",
              "      <th>verbal_label</th>\n",
              "      <th>ehc-soft_technique</th>\n",
              "      <th>ehc-hard_technique</th>\n",
              "      <th>blunt_impact</th>\n",
              "    </tr>\n",
              "  </thead>\n",
              "  <tbody>\n",
              "    <tr>\n",
              "      <th>71</th>\n",
              "      <td>Police beat protester with batons, then pepper...</td>\n",
              "      <td>-1</td>\n",
              "      <td>-1</td>\n",
              "      <td>-1</td>\n",
              "      <td>1</td>\n",
              "      <td>1</td>\n",
              "    </tr>\n",
              "    <tr>\n",
              "      <th>72</th>\n",
              "      <td>Police beat protester with batons, then pepper...</td>\n",
              "      <td>-1</td>\n",
              "      <td>-1</td>\n",
              "      <td>-1</td>\n",
              "      <td>1</td>\n",
              "      <td>1</td>\n",
              "    </tr>\n",
              "    <tr>\n",
              "      <th>128</th>\n",
              "      <td>Officer attacks photographer with baton and pe...</td>\n",
              "      <td>-1</td>\n",
              "      <td>-1</td>\n",
              "      <td>-1</td>\n",
              "      <td>-1</td>\n",
              "      <td>1</td>\n",
              "    </tr>\n",
              "    <tr>\n",
              "      <th>129</th>\n",
              "      <td>Officer attacks photographer with baton and pe...</td>\n",
              "      <td>-1</td>\n",
              "      <td>-1</td>\n",
              "      <td>-1</td>\n",
              "      <td>-1</td>\n",
              "      <td>1</td>\n",
              "    </tr>\n",
              "    <tr>\n",
              "      <th>130</th>\n",
              "      <td>Officer attacks photographer with baton and pe...</td>\n",
              "      <td>-1</td>\n",
              "      <td>-1</td>\n",
              "      <td>-1</td>\n",
              "      <td>-1</td>\n",
              "      <td>1</td>\n",
              "    </tr>\n",
              "    <tr>\n",
              "      <th>140</th>\n",
              "      <td>Officer chases man filming, beats with baton a...</td>\n",
              "      <td>-1</td>\n",
              "      <td>-1</td>\n",
              "      <td>-1</td>\n",
              "      <td>1</td>\n",
              "      <td>1</td>\n",
              "    </tr>\n",
              "    <tr>\n",
              "      <th>141</th>\n",
              "      <td>Officer chases man filming, beats with baton a...</td>\n",
              "      <td>-1</td>\n",
              "      <td>-1</td>\n",
              "      <td>-1</td>\n",
              "      <td>1</td>\n",
              "      <td>1</td>\n",
              "    </tr>\n",
              "    <tr>\n",
              "      <th>142</th>\n",
              "      <td>Officer chases man filming, beats with baton a...</td>\n",
              "      <td>-1</td>\n",
              "      <td>-1</td>\n",
              "      <td>-1</td>\n",
              "      <td>1</td>\n",
              "      <td>1</td>\n",
              "    </tr>\n",
              "    <tr>\n",
              "      <th>167</th>\n",
              "      <td>Officer strikes journalist with baton</td>\n",
              "      <td>-1</td>\n",
              "      <td>-1</td>\n",
              "      <td>-1</td>\n",
              "      <td>-1</td>\n",
              "      <td>1</td>\n",
              "    </tr>\n",
              "    <tr>\n",
              "      <th>168</th>\n",
              "      <td>Officer strikes journalist with baton</td>\n",
              "      <td>-1</td>\n",
              "      <td>-1</td>\n",
              "      <td>-1</td>\n",
              "      <td>-1</td>\n",
              "      <td>1</td>\n",
              "    </tr>\n",
              "    <tr>\n",
              "      <th>169</th>\n",
              "      <td>Officer strikes journalist with baton</td>\n",
              "      <td>-1</td>\n",
              "      <td>-1</td>\n",
              "      <td>-1</td>\n",
              "      <td>-1</td>\n",
              "      <td>1</td>\n",
              "    </tr>\n",
              "    <tr>\n",
              "      <th>194</th>\n",
              "      <td>Police charge protesters, shoving them and bea...</td>\n",
              "      <td>-1</td>\n",
              "      <td>-1</td>\n",
              "      <td>-1</td>\n",
              "      <td>1</td>\n",
              "      <td>1</td>\n",
              "    </tr>\n",
              "    <tr>\n",
              "      <th>195</th>\n",
              "      <td>Police charge protesters, shoving them and bea...</td>\n",
              "      <td>-1</td>\n",
              "      <td>-1</td>\n",
              "      <td>-1</td>\n",
              "      <td>1</td>\n",
              "      <td>1</td>\n",
              "    </tr>\n",
              "    <tr>\n",
              "      <th>196</th>\n",
              "      <td>Police charge protesters, shoving them and bea...</td>\n",
              "      <td>-1</td>\n",
              "      <td>-1</td>\n",
              "      <td>-1</td>\n",
              "      <td>1</td>\n",
              "      <td>1</td>\n",
              "    </tr>\n",
              "    <tr>\n",
              "      <th>308</th>\n",
              "      <td>Protest medics shoved and struck by batons aft...</td>\n",
              "      <td>-1</td>\n",
              "      <td>-1</td>\n",
              "      <td>1</td>\n",
              "      <td>-1</td>\n",
              "      <td>1</td>\n",
              "    </tr>\n",
              "    <tr>\n",
              "      <th>309</th>\n",
              "      <td>Protest medics shoved and struck by batons aft...</td>\n",
              "      <td>-1</td>\n",
              "      <td>-1</td>\n",
              "      <td>1</td>\n",
              "      <td>-1</td>\n",
              "      <td>1</td>\n",
              "    </tr>\n",
              "    <tr>\n",
              "      <th>310</th>\n",
              "      <td>Protest medics shoved and struck by batons aft...</td>\n",
              "      <td>-1</td>\n",
              "      <td>-1</td>\n",
              "      <td>1</td>\n",
              "      <td>-1</td>\n",
              "      <td>1</td>\n",
              "    </tr>\n",
              "    <tr>\n",
              "      <th>821</th>\n",
              "      <td>Officers strike individual with batons</td>\n",
              "      <td>-1</td>\n",
              "      <td>-1</td>\n",
              "      <td>-1</td>\n",
              "      <td>-1</td>\n",
              "      <td>1</td>\n",
              "    </tr>\n",
              "    <tr>\n",
              "      <th>822</th>\n",
              "      <td>Officers strike individual with batons</td>\n",
              "      <td>-1</td>\n",
              "      <td>-1</td>\n",
              "      <td>-1</td>\n",
              "      <td>-1</td>\n",
              "      <td>1</td>\n",
              "    </tr>\n",
              "    <tr>\n",
              "      <th>823</th>\n",
              "      <td>Officers strike individual with batons</td>\n",
              "      <td>-1</td>\n",
              "      <td>-1</td>\n",
              "      <td>-1</td>\n",
              "      <td>-1</td>\n",
              "      <td>1</td>\n",
              "    </tr>\n",
              "    <tr>\n",
              "      <th>860</th>\n",
              "      <td>Police assault protesters with batons</td>\n",
              "      <td>-1</td>\n",
              "      <td>-1</td>\n",
              "      <td>-1</td>\n",
              "      <td>1</td>\n",
              "      <td>1</td>\n",
              "    </tr>\n",
              "    <tr>\n",
              "      <th>861</th>\n",
              "      <td>Police assault protesters with batons</td>\n",
              "      <td>-1</td>\n",
              "      <td>-1</td>\n",
              "      <td>-1</td>\n",
              "      <td>1</td>\n",
              "      <td>1</td>\n",
              "    </tr>\n",
              "    <tr>\n",
              "      <th>862</th>\n",
              "      <td>Police assault protesters with batons</td>\n",
              "      <td>-1</td>\n",
              "      <td>-1</td>\n",
              "      <td>-1</td>\n",
              "      <td>1</td>\n",
              "      <td>1</td>\n",
              "    </tr>\n",
              "    <tr>\n",
              "      <th>875</th>\n",
              "      <td>Police charge at and beat protesters with shields</td>\n",
              "      <td>-1</td>\n",
              "      <td>-1</td>\n",
              "      <td>-1</td>\n",
              "      <td>1</td>\n",
              "      <td>1</td>\n",
              "    </tr>\n",
              "    <tr>\n",
              "      <th>876</th>\n",
              "      <td>Police charge at and beat protesters with shields</td>\n",
              "      <td>-1</td>\n",
              "      <td>-1</td>\n",
              "      <td>-1</td>\n",
              "      <td>1</td>\n",
              "      <td>1</td>\n",
              "    </tr>\n",
              "    <tr>\n",
              "      <th>877</th>\n",
              "      <td>Police charge at and beat protesters with shields</td>\n",
              "      <td>-1</td>\n",
              "      <td>-1</td>\n",
              "      <td>-1</td>\n",
              "      <td>1</td>\n",
              "      <td>1</td>\n",
              "    </tr>\n",
              "    <tr>\n",
              "      <th>878</th>\n",
              "      <td>Officer stomps on protester trapped under shield</td>\n",
              "      <td>-1</td>\n",
              "      <td>-1</td>\n",
              "      <td>-1</td>\n",
              "      <td>-1</td>\n",
              "      <td>1</td>\n",
              "    </tr>\n",
              "    <tr>\n",
              "      <th>879</th>\n",
              "      <td>Officer stomps on protester trapped under shield</td>\n",
              "      <td>-1</td>\n",
              "      <td>-1</td>\n",
              "      <td>-1</td>\n",
              "      <td>-1</td>\n",
              "      <td>1</td>\n",
              "    </tr>\n",
              "    <tr>\n",
              "      <th>880</th>\n",
              "      <td>Officer stomps on protester trapped under shield</td>\n",
              "      <td>-1</td>\n",
              "      <td>-1</td>\n",
              "      <td>-1</td>\n",
              "      <td>-1</td>\n",
              "      <td>1</td>\n",
              "    </tr>\n",
              "    <tr>\n",
              "      <th>905</th>\n",
              "      <td>Police charge protesters with shields</td>\n",
              "      <td>-1</td>\n",
              "      <td>-1</td>\n",
              "      <td>-1</td>\n",
              "      <td>-1</td>\n",
              "      <td>1</td>\n",
              "    </tr>\n",
              "    <tr>\n",
              "      <th>906</th>\n",
              "      <td>Police charge protesters with shields</td>\n",
              "      <td>-1</td>\n",
              "      <td>-1</td>\n",
              "      <td>-1</td>\n",
              "      <td>-1</td>\n",
              "      <td>1</td>\n",
              "    </tr>\n",
              "    <tr>\n",
              "      <th>907</th>\n",
              "      <td>Police charge protesters with shields</td>\n",
              "      <td>-1</td>\n",
              "      <td>-1</td>\n",
              "      <td>-1</td>\n",
              "      <td>-1</td>\n",
              "      <td>1</td>\n",
              "    </tr>\n",
              "    <tr>\n",
              "      <th>911</th>\n",
              "      <td>Officer shoots then clubs protester</td>\n",
              "      <td>-1</td>\n",
              "      <td>-1</td>\n",
              "      <td>-1</td>\n",
              "      <td>-1</td>\n",
              "      <td>1</td>\n",
              "    </tr>\n",
              "    <tr>\n",
              "      <th>912</th>\n",
              "      <td>Officer shoots then clubs protester</td>\n",
              "      <td>-1</td>\n",
              "      <td>-1</td>\n",
              "      <td>-1</td>\n",
              "      <td>-1</td>\n",
              "      <td>1</td>\n",
              "    </tr>\n",
              "    <tr>\n",
              "      <th>913</th>\n",
              "      <td>Officer shoots then clubs protester</td>\n",
              "      <td>-1</td>\n",
              "      <td>-1</td>\n",
              "      <td>-1</td>\n",
              "      <td>-1</td>\n",
              "      <td>1</td>\n",
              "    </tr>\n",
              "    <tr>\n",
              "      <th>1029</th>\n",
              "      <td>Police beat woman with batons and shoot pepper...</td>\n",
              "      <td>-1</td>\n",
              "      <td>-1</td>\n",
              "      <td>1</td>\n",
              "      <td>1</td>\n",
              "      <td>1</td>\n",
              "    </tr>\n",
              "    <tr>\n",
              "      <th>1030</th>\n",
              "      <td>Police beat woman with batons and shoot pepper...</td>\n",
              "      <td>-1</td>\n",
              "      <td>-1</td>\n",
              "      <td>1</td>\n",
              "      <td>1</td>\n",
              "      <td>1</td>\n",
              "    </tr>\n",
              "    <tr>\n",
              "      <th>1070</th>\n",
              "      <td>Philadelphia cops beat man and forcefully put ...</td>\n",
              "      <td>-1</td>\n",
              "      <td>-1</td>\n",
              "      <td>-1</td>\n",
              "      <td>1</td>\n",
              "      <td>1</td>\n",
              "    </tr>\n",
              "    <tr>\n",
              "      <th>1071</th>\n",
              "      <td>Philadelphia cops beat man and forcefully put ...</td>\n",
              "      <td>-1</td>\n",
              "      <td>-1</td>\n",
              "      <td>-1</td>\n",
              "      <td>1</td>\n",
              "      <td>1</td>\n",
              "    </tr>\n",
              "    <tr>\n",
              "      <th>1078</th>\n",
              "      <td>Police shove protesters and strike man across ...</td>\n",
              "      <td>-1</td>\n",
              "      <td>-1</td>\n",
              "      <td>1</td>\n",
              "      <td>-1</td>\n",
              "      <td>1</td>\n",
              "    </tr>\n",
              "    <tr>\n",
              "      <th>1079</th>\n",
              "      <td>Police shove protesters and strike man across ...</td>\n",
              "      <td>-1</td>\n",
              "      <td>-1</td>\n",
              "      <td>1</td>\n",
              "      <td>-1</td>\n",
              "      <td>1</td>\n",
              "    </tr>\n",
              "    <tr>\n",
              "      <th>1116</th>\n",
              "      <td>Officer swings baton at protesters, beats one ...</td>\n",
              "      <td>-1</td>\n",
              "      <td>-1</td>\n",
              "      <td>-1</td>\n",
              "      <td>1</td>\n",
              "      <td>1</td>\n",
              "    </tr>\n",
              "    <tr>\n",
              "      <th>1340</th>\n",
              "      <td>Man beaten with baton while being taken into c...</td>\n",
              "      <td>-1</td>\n",
              "      <td>-1</td>\n",
              "      <td>-1</td>\n",
              "      <td>1</td>\n",
              "      <td>1</td>\n",
              "    </tr>\n",
              "    <tr>\n",
              "      <th>1414</th>\n",
              "      <td>Police hit several protesters with batons</td>\n",
              "      <td>-1</td>\n",
              "      <td>-1</td>\n",
              "      <td>-1</td>\n",
              "      <td>-1</td>\n",
              "      <td>1</td>\n",
              "    </tr>\n",
              "    <tr>\n",
              "      <th>1418</th>\n",
              "      <td>Police strike protester with baton while attem...</td>\n",
              "      <td>-1</td>\n",
              "      <td>-1</td>\n",
              "      <td>-1</td>\n",
              "      <td>-1</td>\n",
              "      <td>1</td>\n",
              "    </tr>\n",
              "    <tr>\n",
              "      <th>1448</th>\n",
              "      <td>Police hit press in neck and head with wooden ...</td>\n",
              "      <td>-1</td>\n",
              "      <td>-1</td>\n",
              "      <td>-1</td>\n",
              "      <td>-1</td>\n",
              "      <td>1</td>\n",
              "    </tr>\n",
              "    <tr>\n",
              "      <th>1449</th>\n",
              "      <td>Police hit press in neck and head with wooden ...</td>\n",
              "      <td>-1</td>\n",
              "      <td>-1</td>\n",
              "      <td>-1</td>\n",
              "      <td>-1</td>\n",
              "      <td>1</td>\n",
              "    </tr>\n",
              "    <tr>\n",
              "      <th>1498</th>\n",
              "      <td>Journalists pepper sprayed and hit with flashb...</td>\n",
              "      <td>-1</td>\n",
              "      <td>-1</td>\n",
              "      <td>-1</td>\n",
              "      <td>-1</td>\n",
              "      <td>1</td>\n",
              "    </tr>\n",
              "    <tr>\n",
              "      <th>1499</th>\n",
              "      <td>Journalists pepper sprayed and hit with flashb...</td>\n",
              "      <td>-1</td>\n",
              "      <td>-1</td>\n",
              "      <td>-1</td>\n",
              "      <td>-1</td>\n",
              "      <td>1</td>\n",
              "    </tr>\n",
              "    <tr>\n",
              "      <th>1572</th>\n",
              "      <td>Police beat protesters with shields and batons</td>\n",
              "      <td>-1</td>\n",
              "      <td>-1</td>\n",
              "      <td>-1</td>\n",
              "      <td>1</td>\n",
              "      <td>1</td>\n",
              "    </tr>\n",
              "    <tr>\n",
              "      <th>1594</th>\n",
              "      <td>Los Angeles law enforcement beat protesters wi...</td>\n",
              "      <td>-1</td>\n",
              "      <td>-1</td>\n",
              "      <td>-1</td>\n",
              "      <td>1</td>\n",
              "      <td>1</td>\n",
              "    </tr>\n",
              "    <tr>\n",
              "      <th>1596</th>\n",
              "      <td>Police beat protesters with batons</td>\n",
              "      <td>-1</td>\n",
              "      <td>-1</td>\n",
              "      <td>-1</td>\n",
              "      <td>1</td>\n",
              "      <td>1</td>\n",
              "    </tr>\n",
              "    <tr>\n",
              "      <th>1597</th>\n",
              "      <td>Los Angeles law enforcement beat protesters wi...</td>\n",
              "      <td>-1</td>\n",
              "      <td>-1</td>\n",
              "      <td>-1</td>\n",
              "      <td>1</td>\n",
              "      <td>1</td>\n",
              "    </tr>\n",
              "    <tr>\n",
              "      <th>1607</th>\n",
              "      <td>Police tackle and arrest protester, indiscrimi...</td>\n",
              "      <td>-1</td>\n",
              "      <td>-1</td>\n",
              "      <td>-1</td>\n",
              "      <td>1</td>\n",
              "      <td>1</td>\n",
              "    </tr>\n",
              "    <tr>\n",
              "      <th>1621</th>\n",
              "      <td>Officer strikes peaceful crowd with baton, pol...</td>\n",
              "      <td>-1</td>\n",
              "      <td>-1</td>\n",
              "      <td>-1</td>\n",
              "      <td>-1</td>\n",
              "      <td>1</td>\n",
              "    </tr>\n",
              "    <tr>\n",
              "      <th>1680</th>\n",
              "      <td>5 police officers use batons to beat protester</td>\n",
              "      <td>-1</td>\n",
              "      <td>-1</td>\n",
              "      <td>-1</td>\n",
              "      <td>1</td>\n",
              "      <td>1</td>\n",
              "    </tr>\n",
              "  </tbody>\n",
              "</table>\n",
              "</div>"
            ],
            "text/plain": [
              "                                                   text  ...  blunt_impact\n",
              "71    Police beat protester with batons, then pepper...  ...             1\n",
              "72    Police beat protester with batons, then pepper...  ...             1\n",
              "128   Officer attacks photographer with baton and pe...  ...             1\n",
              "129   Officer attacks photographer with baton and pe...  ...             1\n",
              "130   Officer attacks photographer with baton and pe...  ...             1\n",
              "140   Officer chases man filming, beats with baton a...  ...             1\n",
              "141   Officer chases man filming, beats with baton a...  ...             1\n",
              "142   Officer chases man filming, beats with baton a...  ...             1\n",
              "167               Officer strikes journalist with baton  ...             1\n",
              "168               Officer strikes journalist with baton  ...             1\n",
              "169               Officer strikes journalist with baton  ...             1\n",
              "194   Police charge protesters, shoving them and bea...  ...             1\n",
              "195   Police charge protesters, shoving them and bea...  ...             1\n",
              "196   Police charge protesters, shoving them and bea...  ...             1\n",
              "308   Protest medics shoved and struck by batons aft...  ...             1\n",
              "309   Protest medics shoved and struck by batons aft...  ...             1\n",
              "310   Protest medics shoved and struck by batons aft...  ...             1\n",
              "821              Officers strike individual with batons  ...             1\n",
              "822              Officers strike individual with batons  ...             1\n",
              "823              Officers strike individual with batons  ...             1\n",
              "860               Police assault protesters with batons  ...             1\n",
              "861               Police assault protesters with batons  ...             1\n",
              "862               Police assault protesters with batons  ...             1\n",
              "875   Police charge at and beat protesters with shields  ...             1\n",
              "876   Police charge at and beat protesters with shields  ...             1\n",
              "877   Police charge at and beat protesters with shields  ...             1\n",
              "878    Officer stomps on protester trapped under shield  ...             1\n",
              "879    Officer stomps on protester trapped under shield  ...             1\n",
              "880    Officer stomps on protester trapped under shield  ...             1\n",
              "905               Police charge protesters with shields  ...             1\n",
              "906               Police charge protesters with shields  ...             1\n",
              "907               Police charge protesters with shields  ...             1\n",
              "911                 Officer shoots then clubs protester  ...             1\n",
              "912                 Officer shoots then clubs protester  ...             1\n",
              "913                 Officer shoots then clubs protester  ...             1\n",
              "1029  Police beat woman with batons and shoot pepper...  ...             1\n",
              "1030  Police beat woman with batons and shoot pepper...  ...             1\n",
              "1070  Philadelphia cops beat man and forcefully put ...  ...             1\n",
              "1071  Philadelphia cops beat man and forcefully put ...  ...             1\n",
              "1078  Police shove protesters and strike man across ...  ...             1\n",
              "1079  Police shove protesters and strike man across ...  ...             1\n",
              "1116  Officer swings baton at protesters, beats one ...  ...             1\n",
              "1340  Man beaten with baton while being taken into c...  ...             1\n",
              "1414          Police hit several protesters with batons  ...             1\n",
              "1418  Police strike protester with baton while attem...  ...             1\n",
              "1448  Police hit press in neck and head with wooden ...  ...             1\n",
              "1449  Police hit press in neck and head with wooden ...  ...             1\n",
              "1498  Journalists pepper sprayed and hit with flashb...  ...             1\n",
              "1499  Journalists pepper sprayed and hit with flashb...  ...             1\n",
              "1572     Police beat protesters with shields and batons  ...             1\n",
              "1594  Los Angeles law enforcement beat protesters wi...  ...             1\n",
              "1596                 Police beat protesters with batons  ...             1\n",
              "1597  Los Angeles law enforcement beat protesters wi...  ...             1\n",
              "1607  Police tackle and arrest protester, indiscrimi...  ...             1\n",
              "1621  Officer strikes peaceful crowd with baton, pol...  ...             1\n",
              "1680     5 police officers use batons to beat protester  ...             1\n",
              "\n",
              "[56 rows x 6 columns]"
            ]
          },
          "metadata": {
            "tags": []
          },
          "execution_count": 517
        }
      ]
    },
    {
      "cell_type": "markdown",
      "metadata": {
        "id": "4sFO8YKMgSA8",
        "colab_type": "text"
      },
      "source": [
        "## projectiles category"
      ]
    },
    {
      "cell_type": "code",
      "metadata": {
        "id": "m71Zsaq2gMRH",
        "colab_type": "code",
        "colab": {}
      },
      "source": [
        "from snorkel.labeling import labeling_function"
      ],
      "execution_count": 518,
      "outputs": []
    },
    {
      "cell_type": "code",
      "metadata": {
        "id": "mDrwc6bIhzNm",
        "colab_type": "code",
        "colab": {}
      },
      "source": [
        "PROJECTILE = 1\n",
        "NOT_PROJECTILE = 0\n",
        "ABSTAIN = -1"
      ],
      "execution_count": 519,
      "outputs": []
    },
    {
      "cell_type": "code",
      "metadata": {
        "id": "w_j8ayXTggqY",
        "colab_type": "code",
        "colab": {}
      },
      "source": [
        "@labeling_function()\n",
        "def lf_keyword_gas(x):\n",
        "  return PROJECTILE if 'gas' in x.text else ABSTAIN"
      ],
      "execution_count": 520,
      "outputs": []
    },
    {
      "cell_type": "code",
      "metadata": {
        "id": "03BoFU4R5_2M",
        "colab_type": "code",
        "colab": {}
      },
      "source": [
        "@labeling_function()\n",
        "def lf_keyword_pepper(x):\n",
        "  return PROJECTILE if 'pepper' in x.text else ABSTAIN"
      ],
      "execution_count": 521,
      "outputs": []
    },
    {
      "cell_type": "code",
      "metadata": {
        "id": "wY9E0lmE6FPr",
        "colab_type": "code",
        "colab": {}
      },
      "source": [
        "@labeling_function()\n",
        "def lf_keyword_rubber(x):\n",
        "  return PROJECTILE if 'rubber' in x.text else ABSTAIN"
      ],
      "execution_count": 522,
      "outputs": []
    },
    {
      "cell_type": "code",
      "metadata": {
        "id": "BpIZxC6FD1Yg",
        "colab_type": "code",
        "colab": {}
      },
      "source": [
        "@labeling_function()\n",
        "def lf_keyword_bean(x):\n",
        "  return PROJECTILE if 'bean' in x.text else ABSTAIN"
      ],
      "execution_count": 523,
      "outputs": []
    },
    {
      "cell_type": "code",
      "metadata": {
        "id": "HcCBB-qNEqYO",
        "colab_type": "code",
        "colab": {}
      },
      "source": [
        "@labeling_function()\n",
        "def lf_keyword_shoot(x):\n",
        "  return PROJECTILE if 'shoot' in x.text else ABSTAIN"
      ],
      "execution_count": 524,
      "outputs": []
    },
    {
      "cell_type": "code",
      "metadata": {
        "id": "QYhnBzTgE5I6",
        "colab_type": "code",
        "colab": {}
      },
      "source": [
        "@labeling_function()\n",
        "def lf_keyword_shot(x):\n",
        "  return PROJECTILE if 'shot' in x.text else ABSTAIN"
      ],
      "execution_count": 525,
      "outputs": []
    },
    {
      "cell_type": "code",
      "metadata": {
        "id": "teKO2JD2HAF8",
        "colab_type": "code",
        "colab": {}
      },
      "source": [
        "@labeling_function()\n",
        "def lf_keyword_fire(x):\n",
        "  return PROJECTILE if 'fire' in x.text else ABSTAIN"
      ],
      "execution_count": 569,
      "outputs": []
    },
    {
      "cell_type": "code",
      "metadata": {
        "id": "CT4-BbfAipHD",
        "colab_type": "code",
        "colab": {
          "base_uri": "https://localhost:8080/",
          "height": 34
        },
        "outputId": "c1a9c6d4-2a02-4823-ecde-31e2bfbd27d7"
      },
      "source": [
        "from snorkel.labeling.model import LabelModel\n",
        "from snorkel.labeling import PandasLFApplier\n",
        "\n",
        "# Define the set of labeling functions (LFs)\n",
        "lfs = [lf_keyword_gas, lf_keyword_pepper, lf_keyword_rubber, lf_keyword_bean,lf_keyword_shoot,lf_keyword_shot, lf_keyword_fire]\n",
        "\n",
        "# Apply the LFs to the unlabeled training data\n",
        "applier = PandasLFApplier(lfs)\n",
        "L_train = applier.apply(df2)\n",
        "\n",
        "# Train the label model and compute the training labels\n",
        "label_model = LabelModel(cardinality=2, verbose=True)\n",
        "label_model.fit(L_train, n_epochs=500, log_freq=50, seed=123)\n",
        "df2[\"projectile\"] = label_model.predict(L=L_train, tie_break_policy=\"abstain\")"
      ],
      "execution_count": 570,
      "outputs": [
        {
          "output_type": "stream",
          "text": [
            "100%|██████████| 1703/1703 [00:00<00:00, 5665.43it/s]\n"
          ],
          "name": "stderr"
        }
      ]
    },
    {
      "cell_type": "code",
      "metadata": {
        "id": "AswAo6w5jM_k",
        "colab_type": "code",
        "colab": {
          "base_uri": "https://localhost:8080/",
          "height": 806
        },
        "outputId": "7e73f49a-a580-4c32-a2bf-bd723fb47715"
      },
      "source": [
        "\n",
        "df2[df2['projectile'] == -1]"
      ],
      "execution_count": 528,
      "outputs": [
        {
          "output_type": "execute_result",
          "data": {
            "text/html": [
              "<div>\n",
              "<style scoped>\n",
              "    .dataframe tbody tr th:only-of-type {\n",
              "        vertical-align: middle;\n",
              "    }\n",
              "\n",
              "    .dataframe tbody tr th {\n",
              "        vertical-align: top;\n",
              "    }\n",
              "\n",
              "    .dataframe thead th {\n",
              "        text-align: right;\n",
              "    }\n",
              "</style>\n",
              "<table border=\"1\" class=\"dataframe\">\n",
              "  <thead>\n",
              "    <tr style=\"text-align: right;\">\n",
              "      <th></th>\n",
              "      <th>text</th>\n",
              "      <th>presence_label</th>\n",
              "      <th>verbal_label</th>\n",
              "      <th>ehc-soft_technique</th>\n",
              "      <th>ehc-hard_technique</th>\n",
              "      <th>blunt_impact</th>\n",
              "      <th>projectile</th>\n",
              "    </tr>\n",
              "  </thead>\n",
              "  <tbody>\n",
              "    <tr>\n",
              "      <th>2</th>\n",
              "      <td>Police assault protesters</td>\n",
              "      <td>-1</td>\n",
              "      <td>-1</td>\n",
              "      <td>-1</td>\n",
              "      <td>1</td>\n",
              "      <td>-1</td>\n",
              "      <td>-1</td>\n",
              "    </tr>\n",
              "    <tr>\n",
              "      <th>3</th>\n",
              "      <td>Police assault protesters</td>\n",
              "      <td>-1</td>\n",
              "      <td>-1</td>\n",
              "      <td>-1</td>\n",
              "      <td>1</td>\n",
              "      <td>-1</td>\n",
              "      <td>-1</td>\n",
              "    </tr>\n",
              "    <tr>\n",
              "      <th>4</th>\n",
              "      <td>Police assault protesters</td>\n",
              "      <td>-1</td>\n",
              "      <td>-1</td>\n",
              "      <td>-1</td>\n",
              "      <td>1</td>\n",
              "      <td>-1</td>\n",
              "      <td>-1</td>\n",
              "    </tr>\n",
              "    <tr>\n",
              "      <th>17</th>\n",
              "      <td>Police use horses as weapons</td>\n",
              "      <td>-1</td>\n",
              "      <td>-1</td>\n",
              "      <td>-1</td>\n",
              "      <td>-1</td>\n",
              "      <td>-1</td>\n",
              "      <td>-1</td>\n",
              "    </tr>\n",
              "    <tr>\n",
              "      <th>18</th>\n",
              "      <td>Police use horses as weapons</td>\n",
              "      <td>-1</td>\n",
              "      <td>-1</td>\n",
              "      <td>-1</td>\n",
              "      <td>-1</td>\n",
              "      <td>-1</td>\n",
              "      <td>-1</td>\n",
              "    </tr>\n",
              "    <tr>\n",
              "      <th>...</th>\n",
              "      <td>...</td>\n",
              "      <td>...</td>\n",
              "      <td>...</td>\n",
              "      <td>...</td>\n",
              "      <td>...</td>\n",
              "      <td>...</td>\n",
              "      <td>...</td>\n",
              "    </tr>\n",
              "    <tr>\n",
              "      <th>1694</th>\n",
              "      <td>Police arrest protesters leaving scene</td>\n",
              "      <td>-1</td>\n",
              "      <td>-1</td>\n",
              "      <td>-1</td>\n",
              "      <td>-1</td>\n",
              "      <td>-1</td>\n",
              "      <td>-1</td>\n",
              "    </tr>\n",
              "    <tr>\n",
              "      <th>1699</th>\n",
              "      <td>Peaceful protesters arrested for breaking curfew</td>\n",
              "      <td>-1</td>\n",
              "      <td>-1</td>\n",
              "      <td>-1</td>\n",
              "      <td>-1</td>\n",
              "      <td>-1</td>\n",
              "      <td>-1</td>\n",
              "    </tr>\n",
              "    <tr>\n",
              "      <th>1700</th>\n",
              "      <td>Peaceful protesters arrested for breaking curfew</td>\n",
              "      <td>-1</td>\n",
              "      <td>-1</td>\n",
              "      <td>-1</td>\n",
              "      <td>-1</td>\n",
              "      <td>-1</td>\n",
              "      <td>-1</td>\n",
              "    </tr>\n",
              "    <tr>\n",
              "      <th>1701</th>\n",
              "      <td>Police officer shoves protester on bike; polic...</td>\n",
              "      <td>-1</td>\n",
              "      <td>-1</td>\n",
              "      <td>1</td>\n",
              "      <td>-1</td>\n",
              "      <td>-1</td>\n",
              "      <td>-1</td>\n",
              "    </tr>\n",
              "    <tr>\n",
              "      <th>1702</th>\n",
              "      <td>Police officer shoves protester on bike; polic...</td>\n",
              "      <td>-1</td>\n",
              "      <td>-1</td>\n",
              "      <td>1</td>\n",
              "      <td>-1</td>\n",
              "      <td>-1</td>\n",
              "      <td>-1</td>\n",
              "    </tr>\n",
              "  </tbody>\n",
              "</table>\n",
              "<p>863 rows × 7 columns</p>\n",
              "</div>"
            ],
            "text/plain": [
              "                                                   text  ...  projectile\n",
              "2                             Police assault protesters  ...          -1\n",
              "3                             Police assault protesters  ...          -1\n",
              "4                             Police assault protesters  ...          -1\n",
              "17                         Police use horses as weapons  ...          -1\n",
              "18                         Police use horses as weapons  ...          -1\n",
              "...                                                 ...  ...         ...\n",
              "1694             Police arrest protesters leaving scene  ...          -1\n",
              "1699   Peaceful protesters arrested for breaking curfew  ...          -1\n",
              "1700   Peaceful protesters arrested for breaking curfew  ...          -1\n",
              "1701  Police officer shoves protester on bike; polic...  ...          -1\n",
              "1702  Police officer shoves protester on bike; polic...  ...          -1\n",
              "\n",
              "[863 rows x 7 columns]"
            ]
          },
          "metadata": {
            "tags": []
          },
          "execution_count": 528
        }
      ]
    },
    {
      "cell_type": "code",
      "metadata": {
        "id": "wlRpgg666h4_",
        "colab_type": "code",
        "colab": {
          "base_uri": "https://localhost:8080/",
          "height": 227
        },
        "outputId": "daeea407-10fa-4839-aac8-ec764551688e"
      },
      "source": [
        "from snorkel.labeling import LFAnalysis\n",
        "\n",
        "LFAnalysis(L=L_train, lfs=lfs).lf_summary()"
      ],
      "execution_count": 529,
      "outputs": [
        {
          "output_type": "execute_result",
          "data": {
            "text/html": [
              "<div>\n",
              "<style scoped>\n",
              "    .dataframe tbody tr th:only-of-type {\n",
              "        vertical-align: middle;\n",
              "    }\n",
              "\n",
              "    .dataframe tbody tr th {\n",
              "        vertical-align: top;\n",
              "    }\n",
              "\n",
              "    .dataframe thead th {\n",
              "        text-align: right;\n",
              "    }\n",
              "</style>\n",
              "<table border=\"1\" class=\"dataframe\">\n",
              "  <thead>\n",
              "    <tr style=\"text-align: right;\">\n",
              "      <th></th>\n",
              "      <th>j</th>\n",
              "      <th>Polarity</th>\n",
              "      <th>Coverage</th>\n",
              "      <th>Overlaps</th>\n",
              "      <th>Conflicts</th>\n",
              "    </tr>\n",
              "  </thead>\n",
              "  <tbody>\n",
              "    <tr>\n",
              "      <th>lf_keyword_gas</th>\n",
              "      <td>0</td>\n",
              "      <td>[1]</td>\n",
              "      <td>0.221961</td>\n",
              "      <td>0.048150</td>\n",
              "      <td>0.0</td>\n",
              "    </tr>\n",
              "    <tr>\n",
              "      <th>lf_keyword_pepper</th>\n",
              "      <td>1</td>\n",
              "      <td>[1]</td>\n",
              "      <td>0.156195</td>\n",
              "      <td>0.027011</td>\n",
              "      <td>0.0</td>\n",
              "    </tr>\n",
              "    <tr>\n",
              "      <th>lf_keyword_rubber</th>\n",
              "      <td>2</td>\n",
              "      <td>[1]</td>\n",
              "      <td>0.038168</td>\n",
              "      <td>0.027011</td>\n",
              "      <td>0.0</td>\n",
              "    </tr>\n",
              "    <tr>\n",
              "      <th>lf_keyword_bean</th>\n",
              "      <td>3</td>\n",
              "      <td>[1]</td>\n",
              "      <td>0.004698</td>\n",
              "      <td>0.004698</td>\n",
              "      <td>0.0</td>\n",
              "    </tr>\n",
              "    <tr>\n",
              "      <th>lf_keyword_shoot</th>\n",
              "      <td>4</td>\n",
              "      <td>[1]</td>\n",
              "      <td>0.074574</td>\n",
              "      <td>0.031122</td>\n",
              "      <td>0.0</td>\n",
              "    </tr>\n",
              "    <tr>\n",
              "      <th>lf_keyword_shot</th>\n",
              "      <td>5</td>\n",
              "      <td>[1]</td>\n",
              "      <td>0.081033</td>\n",
              "      <td>0.025837</td>\n",
              "      <td>0.0</td>\n",
              "    </tr>\n",
              "  </tbody>\n",
              "</table>\n",
              "</div>"
            ],
            "text/plain": [
              "                   j Polarity  Coverage  Overlaps  Conflicts\n",
              "lf_keyword_gas     0      [1]  0.221961  0.048150        0.0\n",
              "lf_keyword_pepper  1      [1]  0.156195  0.027011        0.0\n",
              "lf_keyword_rubber  2      [1]  0.038168  0.027011        0.0\n",
              "lf_keyword_bean    3      [1]  0.004698  0.004698        0.0\n",
              "lf_keyword_shoot   4      [1]  0.074574  0.031122        0.0\n",
              "lf_keyword_shot    5      [1]  0.081033  0.025837        0.0"
            ]
          },
          "metadata": {
            "tags": []
          },
          "execution_count": 529
        }
      ]
    },
    {
      "cell_type": "code",
      "metadata": {
        "id": "PGzReJ548RK_",
        "colab_type": "code",
        "colab": {
          "base_uri": "https://localhost:8080/",
          "height": 914
        },
        "outputId": "6fef74c8-6c51-444f-a87c-1eacfea879b6"
      },
      "source": [
        "df2.iloc[L_train[:, 1] == PROJECTILE].sample(10, random_state=1)"
      ],
      "execution_count": 530,
      "outputs": [
        {
          "output_type": "execute_result",
          "data": {
            "text/html": [
              "<div>\n",
              "<style scoped>\n",
              "    .dataframe tbody tr th:only-of-type {\n",
              "        vertical-align: middle;\n",
              "    }\n",
              "\n",
              "    .dataframe tbody tr th {\n",
              "        vertical-align: top;\n",
              "    }\n",
              "\n",
              "    .dataframe thead th {\n",
              "        text-align: right;\n",
              "    }\n",
              "</style>\n",
              "<table border=\"1\" class=\"dataframe\">\n",
              "  <thead>\n",
              "    <tr style=\"text-align: right;\">\n",
              "      <th></th>\n",
              "      <th>text</th>\n",
              "      <th>presence_label</th>\n",
              "      <th>verbal_label</th>\n",
              "      <th>ehc-soft_technique</th>\n",
              "      <th>ehc-hard_technique</th>\n",
              "      <th>blunt_impact</th>\n",
              "      <th>projectile</th>\n",
              "    </tr>\n",
              "  </thead>\n",
              "  <tbody>\n",
              "    <tr>\n",
              "      <th>799</th>\n",
              "      <td>Officer singles out and pepper sprays proteste...</td>\n",
              "      <td>-1</td>\n",
              "      <td>-1</td>\n",
              "      <td>-1</td>\n",
              "      <td>-1</td>\n",
              "      <td>-1</td>\n",
              "      <td>0</td>\n",
              "    </tr>\n",
              "    <tr>\n",
              "      <th>128</th>\n",
              "      <td>Officer attacks photographer with baton and pe...</td>\n",
              "      <td>-1</td>\n",
              "      <td>-1</td>\n",
              "      <td>-1</td>\n",
              "      <td>-1</td>\n",
              "      <td>1</td>\n",
              "      <td>0</td>\n",
              "    </tr>\n",
              "    <tr>\n",
              "      <th>1252</th>\n",
              "      <td>Police fire pepper balls at car with pregnant ...</td>\n",
              "      <td>-1</td>\n",
              "      <td>-1</td>\n",
              "      <td>-1</td>\n",
              "      <td>-1</td>\n",
              "      <td>-1</td>\n",
              "      <td>0</td>\n",
              "    </tr>\n",
              "    <tr>\n",
              "      <th>1077</th>\n",
              "      <td>Police officer pepper-sprays three people on t...</td>\n",
              "      <td>-1</td>\n",
              "      <td>-1</td>\n",
              "      <td>-1</td>\n",
              "      <td>-1</td>\n",
              "      <td>-1</td>\n",
              "      <td>0</td>\n",
              "    </tr>\n",
              "    <tr>\n",
              "      <th>491</th>\n",
              "      <td>Protester bowing on sidewalk is pepper sprayed</td>\n",
              "      <td>-1</td>\n",
              "      <td>-1</td>\n",
              "      <td>-1</td>\n",
              "      <td>-1</td>\n",
              "      <td>-1</td>\n",
              "      <td>0</td>\n",
              "    </tr>\n",
              "    <tr>\n",
              "      <th>1436</th>\n",
              "      <td>Protests at Trump rally met with pepper spray</td>\n",
              "      <td>-1</td>\n",
              "      <td>-1</td>\n",
              "      <td>-1</td>\n",
              "      <td>-1</td>\n",
              "      <td>-1</td>\n",
              "      <td>0</td>\n",
              "    </tr>\n",
              "    <tr>\n",
              "      <th>1391</th>\n",
              "      <td>Police shove and pepper spray protesters</td>\n",
              "      <td>-1</td>\n",
              "      <td>-1</td>\n",
              "      <td>1</td>\n",
              "      <td>-1</td>\n",
              "      <td>-1</td>\n",
              "      <td>0</td>\n",
              "    </tr>\n",
              "    <tr>\n",
              "      <th>1153</th>\n",
              "      <td>Police casually pepper spray passers by</td>\n",
              "      <td>-1</td>\n",
              "      <td>-1</td>\n",
              "      <td>-1</td>\n",
              "      <td>-1</td>\n",
              "      <td>-1</td>\n",
              "      <td>0</td>\n",
              "    </tr>\n",
              "    <tr>\n",
              "      <th>755</th>\n",
              "      <td>Journalist shoved and pepper-sprayed</td>\n",
              "      <td>-1</td>\n",
              "      <td>-1</td>\n",
              "      <td>1</td>\n",
              "      <td>-1</td>\n",
              "      <td>-1</td>\n",
              "      <td>0</td>\n",
              "    </tr>\n",
              "    <tr>\n",
              "      <th>1141</th>\n",
              "      <td>Police pepper spray two kneeling protesters</td>\n",
              "      <td>-1</td>\n",
              "      <td>-1</td>\n",
              "      <td>-1</td>\n",
              "      <td>-1</td>\n",
              "      <td>-1</td>\n",
              "      <td>0</td>\n",
              "    </tr>\n",
              "  </tbody>\n",
              "</table>\n",
              "</div>"
            ],
            "text/plain": [
              "                                                   text  ...  projectile\n",
              "799   Officer singles out and pepper sprays proteste...  ...           0\n",
              "128   Officer attacks photographer with baton and pe...  ...           0\n",
              "1252  Police fire pepper balls at car with pregnant ...  ...           0\n",
              "1077  Police officer pepper-sprays three people on t...  ...           0\n",
              "491      Protester bowing on sidewalk is pepper sprayed  ...           0\n",
              "1436      Protests at Trump rally met with pepper spray  ...           0\n",
              "1391           Police shove and pepper spray protesters  ...           0\n",
              "1153            Police casually pepper spray passers by  ...           0\n",
              "755                Journalist shoved and pepper-sprayed  ...           0\n",
              "1141        Police pepper spray two kneeling protesters  ...           0\n",
              "\n",
              "[10 rows x 7 columns]"
            ]
          },
          "metadata": {
            "tags": []
          },
          "execution_count": 530
        }
      ]
    },
    {
      "cell_type": "code",
      "metadata": {
        "id": "Fn7ERsh_8nXo",
        "colab_type": "code",
        "colab": {
          "base_uri": "https://localhost:8080/",
          "height": 864
        },
        "outputId": "960d0365-a5df-4f38-9442-9292a9546f35"
      },
      "source": [
        "from snorkel.analysis import get_label_buckets\n",
        "\n",
        "buckets = get_label_buckets(L_train[:, 0], L_train[:, 1])\n",
        "df2.iloc[buckets[(ABSTAIN, PROJECTILE)]].sample(10, random_state=1)"
      ],
      "execution_count": 531,
      "outputs": [
        {
          "output_type": "execute_result",
          "data": {
            "text/html": [
              "<div>\n",
              "<style scoped>\n",
              "    .dataframe tbody tr th:only-of-type {\n",
              "        vertical-align: middle;\n",
              "    }\n",
              "\n",
              "    .dataframe tbody tr th {\n",
              "        vertical-align: top;\n",
              "    }\n",
              "\n",
              "    .dataframe thead th {\n",
              "        text-align: right;\n",
              "    }\n",
              "</style>\n",
              "<table border=\"1\" class=\"dataframe\">\n",
              "  <thead>\n",
              "    <tr style=\"text-align: right;\">\n",
              "      <th></th>\n",
              "      <th>text</th>\n",
              "      <th>presence_label</th>\n",
              "      <th>verbal_label</th>\n",
              "      <th>ehc-soft_technique</th>\n",
              "      <th>ehc-hard_technique</th>\n",
              "      <th>blunt_impact</th>\n",
              "      <th>projectile</th>\n",
              "    </tr>\n",
              "  </thead>\n",
              "  <tbody>\n",
              "    <tr>\n",
              "      <th>1659</th>\n",
              "      <td>Police fire pepper bullets into apartment</td>\n",
              "      <td>-1</td>\n",
              "      <td>-1</td>\n",
              "      <td>-1</td>\n",
              "      <td>-1</td>\n",
              "      <td>-1</td>\n",
              "      <td>0</td>\n",
              "    </tr>\n",
              "    <tr>\n",
              "      <th>1359</th>\n",
              "      <td>Police pepper spray protesters during arrest</td>\n",
              "      <td>-1</td>\n",
              "      <td>-1</td>\n",
              "      <td>-1</td>\n",
              "      <td>-1</td>\n",
              "      <td>-1</td>\n",
              "      <td>0</td>\n",
              "    </tr>\n",
              "    <tr>\n",
              "      <th>825</th>\n",
              "      <td>Individual held on the ground, pepper sprayed,...</td>\n",
              "      <td>-1</td>\n",
              "      <td>-1</td>\n",
              "      <td>-1</td>\n",
              "      <td>1</td>\n",
              "      <td>-1</td>\n",
              "      <td>0</td>\n",
              "    </tr>\n",
              "    <tr>\n",
              "      <th>976</th>\n",
              "      <td>Police pepper spray protesters on sidewalk</td>\n",
              "      <td>-1</td>\n",
              "      <td>-1</td>\n",
              "      <td>-1</td>\n",
              "      <td>-1</td>\n",
              "      <td>-1</td>\n",
              "      <td>0</td>\n",
              "    </tr>\n",
              "    <tr>\n",
              "      <th>1511</th>\n",
              "      <td>Police pepper spray crowd</td>\n",
              "      <td>-1</td>\n",
              "      <td>-1</td>\n",
              "      <td>-1</td>\n",
              "      <td>-1</td>\n",
              "      <td>-1</td>\n",
              "      <td>0</td>\n",
              "    </tr>\n",
              "    <tr>\n",
              "      <th>72</th>\n",
              "      <td>Police beat protester with batons, then pepper...</td>\n",
              "      <td>-1</td>\n",
              "      <td>-1</td>\n",
              "      <td>-1</td>\n",
              "      <td>1</td>\n",
              "      <td>1</td>\n",
              "      <td>0</td>\n",
              "    </tr>\n",
              "    <tr>\n",
              "      <th>974</th>\n",
              "      <td>Police pepper spray protesters on sidewalk</td>\n",
              "      <td>-1</td>\n",
              "      <td>-1</td>\n",
              "      <td>-1</td>\n",
              "      <td>-1</td>\n",
              "      <td>-1</td>\n",
              "      <td>0</td>\n",
              "    </tr>\n",
              "    <tr>\n",
              "      <th>326</th>\n",
              "      <td>Police pepper spray protesters with hands up</td>\n",
              "      <td>-1</td>\n",
              "      <td>-1</td>\n",
              "      <td>-1</td>\n",
              "      <td>-1</td>\n",
              "      <td>-1</td>\n",
              "      <td>0</td>\n",
              "    </tr>\n",
              "    <tr>\n",
              "      <th>1250</th>\n",
              "      <td>Police fire pepper balls at car with pregnant ...</td>\n",
              "      <td>-1</td>\n",
              "      <td>-1</td>\n",
              "      <td>-1</td>\n",
              "      <td>-1</td>\n",
              "      <td>-1</td>\n",
              "      <td>0</td>\n",
              "    </tr>\n",
              "    <tr>\n",
              "      <th>1693</th>\n",
              "      <td>Protester pepper sprayed through open door</td>\n",
              "      <td>-1</td>\n",
              "      <td>-1</td>\n",
              "      <td>-1</td>\n",
              "      <td>-1</td>\n",
              "      <td>-1</td>\n",
              "      <td>0</td>\n",
              "    </tr>\n",
              "  </tbody>\n",
              "</table>\n",
              "</div>"
            ],
            "text/plain": [
              "                                                   text  ...  projectile\n",
              "1659          Police fire pepper bullets into apartment  ...           0\n",
              "1359       Police pepper spray protesters during arrest  ...           0\n",
              "825   Individual held on the ground, pepper sprayed,...  ...           0\n",
              "976          Police pepper spray protesters on sidewalk  ...           0\n",
              "1511                          Police pepper spray crowd  ...           0\n",
              "72    Police beat protester with batons, then pepper...  ...           0\n",
              "974          Police pepper spray protesters on sidewalk  ...           0\n",
              "326        Police pepper spray protesters with hands up  ...           0\n",
              "1250  Police fire pepper balls at car with pregnant ...  ...           0\n",
              "1693         Protester pepper sprayed through open door  ...           0\n",
              "\n",
              "[10 rows x 7 columns]"
            ]
          },
          "metadata": {
            "tags": []
          },
          "execution_count": 531
        }
      ]
    },
    {
      "cell_type": "code",
      "metadata": {
        "id": "CIC45Cdw9c3u",
        "colab_type": "code",
        "colab": {}
      },
      "source": [
        "from snorkel.labeling.model import MajorityLabelVoter\n",
        "\n",
        "majority_model = MajorityLabelVoter()\n",
        "preds_train = majority_model.predict(L=L_train)"
      ],
      "execution_count": 532,
      "outputs": []
    },
    {
      "cell_type": "code",
      "metadata": {
        "id": "7TkWVBk2-7Pn",
        "colab_type": "code",
        "colab": {
          "base_uri": "https://localhost:8080/",
          "height": 34
        },
        "outputId": "cd2bbc38-c476-4d78-cc46-512bc2414c34"
      },
      "source": [
        "preds_train"
      ],
      "execution_count": 533,
      "outputs": [
        {
          "output_type": "execute_result",
          "data": {
            "text/plain": [
              "array([ 1,  1, -1, ..., -1, -1, -1])"
            ]
          },
          "metadata": {
            "tags": []
          },
          "execution_count": 533
        }
      ]
    },
    {
      "cell_type": "code",
      "metadata": {
        "id": "KmNli-rYCiL1",
        "colab_type": "code",
        "colab": {}
      },
      "source": [
        "from sklearn.model_selection import train_test_split\n",
        "\n",
        "df_train, df_test = train_test_split(df2, test_size=0.33, random_state=42)"
      ],
      "execution_count": 534,
      "outputs": []
    },
    {
      "cell_type": "code",
      "metadata": {
        "id": "zZjH2wCT-8JT",
        "colab_type": "code",
        "colab": {}
      },
      "source": [
        "from snorkel.labeling.model import LabelModel\n",
        "\n",
        "label_model = LabelModel(cardinality=2, verbose=True)\n",
        "label_model.fit(L_train=L_train, n_epochs=500, log_freq=100, seed=123)"
      ],
      "execution_count": 535,
      "outputs": []
    },
    {
      "cell_type": "code",
      "metadata": {
        "id": "YwfDlsYG_IPE",
        "colab_type": "code",
        "colab": {}
      },
      "source": [
        "from snorkel.labeling import filter_unlabeled_dataframe\n",
        "\n",
        "df_train_filtered, probs_train_filtered = filter_unlabeled_dataframe(\n",
        "    X=df2, y=preds_train, L=L_train\n",
        ")"
      ],
      "execution_count": 536,
      "outputs": []
    },
    {
      "cell_type": "code",
      "metadata": {
        "id": "pUBTe_Dn_V_3",
        "colab_type": "code",
        "colab": {
          "base_uri": "https://localhost:8080/",
          "height": 956
        },
        "outputId": "2be4ee49-afe0-4485-bc25-eddaab828b82"
      },
      "source": [
        "df_train_filtered"
      ],
      "execution_count": 537,
      "outputs": [
        {
          "output_type": "execute_result",
          "data": {
            "text/html": [
              "<div>\n",
              "<style scoped>\n",
              "    .dataframe tbody tr th:only-of-type {\n",
              "        vertical-align: middle;\n",
              "    }\n",
              "\n",
              "    .dataframe tbody tr th {\n",
              "        vertical-align: top;\n",
              "    }\n",
              "\n",
              "    .dataframe thead th {\n",
              "        text-align: right;\n",
              "    }\n",
              "</style>\n",
              "<table border=\"1\" class=\"dataframe\">\n",
              "  <thead>\n",
              "    <tr style=\"text-align: right;\">\n",
              "      <th></th>\n",
              "      <th>text</th>\n",
              "      <th>presence_label</th>\n",
              "      <th>verbal_label</th>\n",
              "      <th>ehc-soft_technique</th>\n",
              "      <th>ehc-hard_technique</th>\n",
              "      <th>blunt_impact</th>\n",
              "      <th>projectile</th>\n",
              "    </tr>\n",
              "  </thead>\n",
              "  <tbody>\n",
              "    <tr>\n",
              "      <th>0</th>\n",
              "      <td>Police throw tear-gas at protesters on a bridge.</td>\n",
              "      <td>-1</td>\n",
              "      <td>-1</td>\n",
              "      <td>-1</td>\n",
              "      <td>-1</td>\n",
              "      <td>-1</td>\n",
              "      <td>1</td>\n",
              "    </tr>\n",
              "    <tr>\n",
              "      <th>1</th>\n",
              "      <td>Police throw tear-gas at protesters on a bridge.</td>\n",
              "      <td>-1</td>\n",
              "      <td>-1</td>\n",
              "      <td>-1</td>\n",
              "      <td>-1</td>\n",
              "      <td>-1</td>\n",
              "      <td>1</td>\n",
              "    </tr>\n",
              "    <tr>\n",
              "      <th>5</th>\n",
              "      <td>Police shoot non-violent protester in the head</td>\n",
              "      <td>-1</td>\n",
              "      <td>-1</td>\n",
              "      <td>-1</td>\n",
              "      <td>-1</td>\n",
              "      <td>-1</td>\n",
              "      <td>1</td>\n",
              "    </tr>\n",
              "    <tr>\n",
              "      <th>6</th>\n",
              "      <td>Police shoot non-violent protester in the head</td>\n",
              "      <td>-1</td>\n",
              "      <td>-1</td>\n",
              "      <td>-1</td>\n",
              "      <td>-1</td>\n",
              "      <td>-1</td>\n",
              "      <td>1</td>\n",
              "    </tr>\n",
              "    <tr>\n",
              "      <th>7</th>\n",
              "      <td>Police shoot non-violent protester in the head</td>\n",
              "      <td>-1</td>\n",
              "      <td>-1</td>\n",
              "      <td>-1</td>\n",
              "      <td>-1</td>\n",
              "      <td>-1</td>\n",
              "      <td>1</td>\n",
              "    </tr>\n",
              "    <tr>\n",
              "      <th>...</th>\n",
              "      <td>...</td>\n",
              "      <td>...</td>\n",
              "      <td>...</td>\n",
              "      <td>...</td>\n",
              "      <td>...</td>\n",
              "      <td>...</td>\n",
              "      <td>...</td>\n",
              "    </tr>\n",
              "    <tr>\n",
              "      <th>1693</th>\n",
              "      <td>Protester pepper sprayed through open door</td>\n",
              "      <td>-1</td>\n",
              "      <td>-1</td>\n",
              "      <td>-1</td>\n",
              "      <td>-1</td>\n",
              "      <td>-1</td>\n",
              "      <td>0</td>\n",
              "    </tr>\n",
              "    <tr>\n",
              "      <th>1695</th>\n",
              "      <td>Reporter shows tear gas canister fired at him ...</td>\n",
              "      <td>1</td>\n",
              "      <td>-1</td>\n",
              "      <td>-1</td>\n",
              "      <td>-1</td>\n",
              "      <td>-1</td>\n",
              "      <td>1</td>\n",
              "    </tr>\n",
              "    <tr>\n",
              "      <th>1696</th>\n",
              "      <td>Woman bleeding from face after being shot by p...</td>\n",
              "      <td>-1</td>\n",
              "      <td>-1</td>\n",
              "      <td>-1</td>\n",
              "      <td>-1</td>\n",
              "      <td>-1</td>\n",
              "      <td>0</td>\n",
              "    </tr>\n",
              "    <tr>\n",
              "      <th>1697</th>\n",
              "      <td>Police Mace, shoot pepper bullets at protester...</td>\n",
              "      <td>-1</td>\n",
              "      <td>-1</td>\n",
              "      <td>-1</td>\n",
              "      <td>-1</td>\n",
              "      <td>-1</td>\n",
              "      <td>1</td>\n",
              "    </tr>\n",
              "    <tr>\n",
              "      <th>1698</th>\n",
              "      <td>Police Mace, shoot pepper bullets at protester...</td>\n",
              "      <td>-1</td>\n",
              "      <td>-1</td>\n",
              "      <td>-1</td>\n",
              "      <td>-1</td>\n",
              "      <td>-1</td>\n",
              "      <td>1</td>\n",
              "    </tr>\n",
              "  </tbody>\n",
              "</table>\n",
              "<p>840 rows × 7 columns</p>\n",
              "</div>"
            ],
            "text/plain": [
              "                                                   text  ...  projectile\n",
              "0      Police throw tear-gas at protesters on a bridge.  ...           1\n",
              "1      Police throw tear-gas at protesters on a bridge.  ...           1\n",
              "5        Police shoot non-violent protester in the head  ...           1\n",
              "6        Police shoot non-violent protester in the head  ...           1\n",
              "7        Police shoot non-violent protester in the head  ...           1\n",
              "...                                                 ...  ...         ...\n",
              "1693         Protester pepper sprayed through open door  ...           0\n",
              "1695  Reporter shows tear gas canister fired at him ...  ...           1\n",
              "1696  Woman bleeding from face after being shot by p...  ...           0\n",
              "1697  Police Mace, shoot pepper bullets at protester...  ...           1\n",
              "1698  Police Mace, shoot pepper bullets at protester...  ...           1\n",
              "\n",
              "[840 rows x 7 columns]"
            ]
          },
          "metadata": {
            "tags": []
          },
          "execution_count": 537
        }
      ]
    },
    {
      "cell_type": "code",
      "metadata": {
        "id": "dyAmsh4G_rcA",
        "colab_type": "code",
        "colab": {}
      },
      "source": [
        "from sklearn.feature_extraction.text import CountVectorizer\n",
        "\n",
        "vectorizer = CountVectorizer(ngram_range=(1, 5))\n",
        "X_train = vectorizer.fit_transform(df_train_filtered.text.tolist())\n",
        "X_test = vectorizer.transform(df2.text.tolist())"
      ],
      "execution_count": 538,
      "outputs": []
    },
    {
      "cell_type": "code",
      "metadata": {
        "id": "1Y-wvMfV_4LQ",
        "colab_type": "code",
        "colab": {}
      },
      "source": [
        ""
      ],
      "execution_count": 538,
      "outputs": []
    },
    {
      "cell_type": "markdown",
      "metadata": {
        "id": "jdqxgsvRnwEd",
        "colab_type": "text"
      },
      "source": [
        "## chemical"
      ]
    },
    {
      "cell_type": "markdown",
      "metadata": {
        "id": "1E4sQGL9oED8",
        "colab_type": "text"
      },
      "source": [
        "pepper, gas, smoke"
      ]
    },
    {
      "cell_type": "code",
      "metadata": {
        "id": "U0e0Ke4wnx_s",
        "colab_type": "code",
        "colab": {}
      },
      "source": [
        "@labeling_function()\n",
        "def lf_keyword_pepper(x):\n",
        "  return PROJECTILE if 'pepper' in x.text else ABSTAIN"
      ],
      "execution_count": 539,
      "outputs": []
    },
    {
      "cell_type": "code",
      "metadata": {
        "id": "hhlDF5i3oLba",
        "colab_type": "code",
        "colab": {}
      },
      "source": [
        "@labeling_function()\n",
        "def lf_keyword_gas(x):\n",
        "  return PROJECTILE if 'gas' in x.text else ABSTAIN"
      ],
      "execution_count": 540,
      "outputs": []
    },
    {
      "cell_type": "code",
      "metadata": {
        "id": "8a6vz1nKoQPk",
        "colab_type": "code",
        "colab": {}
      },
      "source": [
        "@labeling_function()\n",
        "def lf_keyword_smoke(x):\n",
        "  return PROJECTILE if 'pepper' in x.text else ABSTAIN"
      ],
      "execution_count": 541,
      "outputs": []
    },
    {
      "cell_type": "code",
      "metadata": {
        "id": "e8vCRd-5oTuR",
        "colab_type": "code",
        "colab": {
          "base_uri": "https://localhost:8080/",
          "height": 0
        },
        "outputId": "7f1be126-7d89-4480-be0f-196734af62a7"
      },
      "source": [
        "from snorkel.labeling.model import LabelModel\n",
        "from snorkel.labeling import PandasLFApplier\n",
        "\n",
        "# Define the set of labeling functions (LFs)\n",
        "lfs = [lf_keyword_pepper, lf_keyword_gas,lf_keyword_smoke]\n",
        "\n",
        "# Apply the LFs to the unlabeled training data\n",
        "applier = PandasLFApplier(lfs)\n",
        "L_train = applier.apply(df2)\n",
        "\n",
        "# Train the label model and compute the training labels\n",
        "label_model = LabelModel(cardinality=2, verbose=True)\n",
        "label_model.fit(L_train, n_epochs=500, log_freq=50, seed=123)\n",
        "df2[\"chemical\"] = label_model.predict(L=L_train, tie_break_policy=\"abstain\")"
      ],
      "execution_count": 542,
      "outputs": [
        {
          "output_type": "stream",
          "text": [
            "100%|██████████| 1703/1703 [00:00<00:00, 15238.64it/s]\n"
          ],
          "name": "stderr"
        }
      ]
    },
    {
      "cell_type": "code",
      "metadata": {
        "id": "SIhwUInjoeEp",
        "colab_type": "code",
        "colab": {
          "base_uri": "https://localhost:8080/",
          "height": 0
        },
        "outputId": "7c8525f0-93a3-4562-e275-2c896bfce5cf"
      },
      "source": [
        "df2[df2['chemical']==1]"
      ],
      "execution_count": 543,
      "outputs": [
        {
          "output_type": "execute_result",
          "data": {
            "text/html": [
              "<div>\n",
              "<style scoped>\n",
              "    .dataframe tbody tr th:only-of-type {\n",
              "        vertical-align: middle;\n",
              "    }\n",
              "\n",
              "    .dataframe tbody tr th {\n",
              "        vertical-align: top;\n",
              "    }\n",
              "\n",
              "    .dataframe thead th {\n",
              "        text-align: right;\n",
              "    }\n",
              "</style>\n",
              "<table border=\"1\" class=\"dataframe\">\n",
              "  <thead>\n",
              "    <tr style=\"text-align: right;\">\n",
              "      <th></th>\n",
              "      <th>text</th>\n",
              "      <th>presence_label</th>\n",
              "      <th>verbal_label</th>\n",
              "      <th>ehc-soft_technique</th>\n",
              "      <th>ehc-hard_technique</th>\n",
              "      <th>blunt_impact</th>\n",
              "      <th>projectile</th>\n",
              "      <th>chemical</th>\n",
              "    </tr>\n",
              "  </thead>\n",
              "  <tbody>\n",
              "    <tr>\n",
              "      <th>47</th>\n",
              "      <td>Police shove and pepper spray protesters</td>\n",
              "      <td>-1</td>\n",
              "      <td>-1</td>\n",
              "      <td>1</td>\n",
              "      <td>-1</td>\n",
              "      <td>-1</td>\n",
              "      <td>0</td>\n",
              "      <td>1</td>\n",
              "    </tr>\n",
              "    <tr>\n",
              "      <th>48</th>\n",
              "      <td>Police shove and pepper spray protesters</td>\n",
              "      <td>-1</td>\n",
              "      <td>-1</td>\n",
              "      <td>1</td>\n",
              "      <td>-1</td>\n",
              "      <td>-1</td>\n",
              "      <td>0</td>\n",
              "      <td>1</td>\n",
              "    </tr>\n",
              "    <tr>\n",
              "      <th>49</th>\n",
              "      <td>Police shove and pepper spray protesters</td>\n",
              "      <td>-1</td>\n",
              "      <td>-1</td>\n",
              "      <td>1</td>\n",
              "      <td>-1</td>\n",
              "      <td>-1</td>\n",
              "      <td>0</td>\n",
              "      <td>1</td>\n",
              "    </tr>\n",
              "    <tr>\n",
              "      <th>71</th>\n",
              "      <td>Police beat protester with batons, then pepper...</td>\n",
              "      <td>-1</td>\n",
              "      <td>-1</td>\n",
              "      <td>-1</td>\n",
              "      <td>1</td>\n",
              "      <td>1</td>\n",
              "      <td>0</td>\n",
              "      <td>1</td>\n",
              "    </tr>\n",
              "    <tr>\n",
              "      <th>72</th>\n",
              "      <td>Police beat protester with batons, then pepper...</td>\n",
              "      <td>-1</td>\n",
              "      <td>-1</td>\n",
              "      <td>-1</td>\n",
              "      <td>1</td>\n",
              "      <td>1</td>\n",
              "      <td>0</td>\n",
              "      <td>1</td>\n",
              "    </tr>\n",
              "    <tr>\n",
              "      <th>...</th>\n",
              "      <td>...</td>\n",
              "      <td>...</td>\n",
              "      <td>...</td>\n",
              "      <td>...</td>\n",
              "      <td>...</td>\n",
              "      <td>...</td>\n",
              "      <td>...</td>\n",
              "      <td>...</td>\n",
              "    </tr>\n",
              "    <tr>\n",
              "      <th>1684</th>\n",
              "      <td>Protesters in St. Matthews shot with pepper ro...</td>\n",
              "      <td>-1</td>\n",
              "      <td>-1</td>\n",
              "      <td>-1</td>\n",
              "      <td>-1</td>\n",
              "      <td>-1</td>\n",
              "      <td>0</td>\n",
              "      <td>1</td>\n",
              "    </tr>\n",
              "    <tr>\n",
              "      <th>1685</th>\n",
              "      <td>Police shove woman and then fire pepper balls ...</td>\n",
              "      <td>-1</td>\n",
              "      <td>-1</td>\n",
              "      <td>1</td>\n",
              "      <td>-1</td>\n",
              "      <td>-1</td>\n",
              "      <td>0</td>\n",
              "      <td>1</td>\n",
              "    </tr>\n",
              "    <tr>\n",
              "      <th>1693</th>\n",
              "      <td>Protester pepper sprayed through open door</td>\n",
              "      <td>-1</td>\n",
              "      <td>-1</td>\n",
              "      <td>-1</td>\n",
              "      <td>-1</td>\n",
              "      <td>-1</td>\n",
              "      <td>0</td>\n",
              "      <td>1</td>\n",
              "    </tr>\n",
              "    <tr>\n",
              "      <th>1697</th>\n",
              "      <td>Police Mace, shoot pepper bullets at protester...</td>\n",
              "      <td>-1</td>\n",
              "      <td>-1</td>\n",
              "      <td>-1</td>\n",
              "      <td>-1</td>\n",
              "      <td>-1</td>\n",
              "      <td>1</td>\n",
              "      <td>1</td>\n",
              "    </tr>\n",
              "    <tr>\n",
              "      <th>1698</th>\n",
              "      <td>Police Mace, shoot pepper bullets at protester...</td>\n",
              "      <td>-1</td>\n",
              "      <td>-1</td>\n",
              "      <td>-1</td>\n",
              "      <td>-1</td>\n",
              "      <td>-1</td>\n",
              "      <td>1</td>\n",
              "      <td>1</td>\n",
              "    </tr>\n",
              "  </tbody>\n",
              "</table>\n",
              "<p>266 rows × 8 columns</p>\n",
              "</div>"
            ],
            "text/plain": [
              "                                                   text  ...  chemical\n",
              "47             Police shove and pepper spray protesters  ...         1\n",
              "48             Police shove and pepper spray protesters  ...         1\n",
              "49             Police shove and pepper spray protesters  ...         1\n",
              "71    Police beat protester with batons, then pepper...  ...         1\n",
              "72    Police beat protester with batons, then pepper...  ...         1\n",
              "...                                                 ...  ...       ...\n",
              "1684  Protesters in St. Matthews shot with pepper ro...  ...         1\n",
              "1685  Police shove woman and then fire pepper balls ...  ...         1\n",
              "1693         Protester pepper sprayed through open door  ...         1\n",
              "1697  Police Mace, shoot pepper bullets at protester...  ...         1\n",
              "1698  Police Mace, shoot pepper bullets at protester...  ...         1\n",
              "\n",
              "[266 rows x 8 columns]"
            ]
          },
          "metadata": {
            "tags": []
          },
          "execution_count": 543
        }
      ]
    },
    {
      "cell_type": "code",
      "metadata": {
        "id": "VkNyKFQHohZs",
        "colab_type": "code",
        "colab": {}
      },
      "source": [
        ""
      ],
      "execution_count": 543,
      "outputs": []
    },
    {
      "cell_type": "markdown",
      "metadata": {
        "id": "hiK1d0Jtor2-",
        "colab_type": "text"
      },
      "source": [
        "## conducted energy devices"
      ]
    },
    {
      "cell_type": "markdown",
      "metadata": {
        "id": "EGLckMOyo30p",
        "colab_type": "text"
      },
      "source": [
        "tazer, stun, taser, stungun"
      ]
    },
    {
      "cell_type": "code",
      "metadata": {
        "id": "ZjdLFiyoos1r",
        "colab_type": "code",
        "colab": {}
      },
      "source": [
        "@labeling_function()\n",
        "def lf_keyword_taser(x):\n",
        "  return PROJECTILE if 'taser' in x.text else ABSTAIN"
      ],
      "execution_count": 544,
      "outputs": []
    },
    {
      "cell_type": "code",
      "metadata": {
        "id": "XoTaEEkhpnqE",
        "colab_type": "code",
        "colab": {}
      },
      "source": [
        "@labeling_function()\n",
        "def lf_keyword_stun(x):\n",
        "  return PROJECTILE if 'stun' in x.text else ABSTAIN"
      ],
      "execution_count": 545,
      "outputs": []
    },
    {
      "cell_type": "code",
      "metadata": {
        "id": "N4KAu8Ygprh9",
        "colab_type": "code",
        "colab": {}
      },
      "source": [
        "@labeling_function()\n",
        "def lf_keyword_stungun(x):\n",
        "  return PROJECTILE if 'stungun' in x.text else ABSTAIN"
      ],
      "execution_count": 546,
      "outputs": []
    },
    {
      "cell_type": "code",
      "metadata": {
        "id": "mmu7_e4LpvW8",
        "colab_type": "code",
        "colab": {
          "base_uri": "https://localhost:8080/",
          "height": 0
        },
        "outputId": "293f4306-8549-4c9f-fa35-7ed876f69341"
      },
      "source": [
        "from snorkel.labeling.model import LabelModel\n",
        "from snorkel.labeling import PandasLFApplier\n",
        "\n",
        "# Define the set of labeling functions (LFs)\n",
        "lfs = [lf_keyword_taser, lf_keyword_stun,lf_keyword_stungun]\n",
        "\n",
        "# Apply the LFs to the unlabeled training data\n",
        "applier = PandasLFApplier(lfs)\n",
        "L_train = applier.apply(df2)\n",
        "\n",
        "# Train the label model and compute the training labels\n",
        "label_model = LabelModel(cardinality=2, verbose=True)\n",
        "label_model.fit(L_train, n_epochs=500, log_freq=50, seed=123)\n",
        "df2[\"ced_category\"] = label_model.predict(L=L_train, tie_break_policy=\"abstain\")"
      ],
      "execution_count": 547,
      "outputs": [
        {
          "output_type": "stream",
          "text": [
            "100%|██████████| 1703/1703 [00:00<00:00, 14740.94it/s]\n"
          ],
          "name": "stderr"
        }
      ]
    },
    {
      "cell_type": "code",
      "metadata": {
        "id": "ZNPN74rHp06r",
        "colab_type": "code",
        "colab": {
          "base_uri": "https://localhost:8080/",
          "height": 0
        },
        "outputId": "452492cf-07ae-4612-eaa6-e9cb8c0d0de0"
      },
      "source": [
        "df2[df2['ced_category']==1]"
      ],
      "execution_count": 548,
      "outputs": [
        {
          "output_type": "execute_result",
          "data": {
            "text/html": [
              "<div>\n",
              "<style scoped>\n",
              "    .dataframe tbody tr th:only-of-type {\n",
              "        vertical-align: middle;\n",
              "    }\n",
              "\n",
              "    .dataframe tbody tr th {\n",
              "        vertical-align: top;\n",
              "    }\n",
              "\n",
              "    .dataframe thead th {\n",
              "        text-align: right;\n",
              "    }\n",
              "</style>\n",
              "<table border=\"1\" class=\"dataframe\">\n",
              "  <thead>\n",
              "    <tr style=\"text-align: right;\">\n",
              "      <th></th>\n",
              "      <th>text</th>\n",
              "      <th>presence_label</th>\n",
              "      <th>verbal_label</th>\n",
              "      <th>ehc-soft_technique</th>\n",
              "      <th>ehc-hard_technique</th>\n",
              "      <th>blunt_impact</th>\n",
              "      <th>projectile</th>\n",
              "      <th>chemical</th>\n",
              "      <th>ced_category</th>\n",
              "    </tr>\n",
              "  </thead>\n",
              "  <tbody>\n",
              "    <tr>\n",
              "      <th>746</th>\n",
              "      <td>Officers deploy tear gas and stun grenades aga...</td>\n",
              "      <td>-1</td>\n",
              "      <td>-1</td>\n",
              "      <td>-1</td>\n",
              "      <td>-1</td>\n",
              "      <td>-1</td>\n",
              "      <td>1</td>\n",
              "      <td>0</td>\n",
              "      <td>1</td>\n",
              "    </tr>\n",
              "    <tr>\n",
              "      <th>747</th>\n",
              "      <td>Officers deploy tear gas and stun grenades aga...</td>\n",
              "      <td>-1</td>\n",
              "      <td>-1</td>\n",
              "      <td>-1</td>\n",
              "      <td>-1</td>\n",
              "      <td>-1</td>\n",
              "      <td>1</td>\n",
              "      <td>0</td>\n",
              "      <td>1</td>\n",
              "    </tr>\n",
              "    <tr>\n",
              "      <th>748</th>\n",
              "      <td>Officers deploy tear gas and stun grenades aga...</td>\n",
              "      <td>-1</td>\n",
              "      <td>-1</td>\n",
              "      <td>-1</td>\n",
              "      <td>-1</td>\n",
              "      <td>-1</td>\n",
              "      <td>1</td>\n",
              "      <td>0</td>\n",
              "      <td>1</td>\n",
              "    </tr>\n",
              "    <tr>\n",
              "      <th>914</th>\n",
              "      <td>Police throw stun grenade at retreating protes...</td>\n",
              "      <td>-1</td>\n",
              "      <td>-1</td>\n",
              "      <td>-1</td>\n",
              "      <td>-1</td>\n",
              "      <td>-1</td>\n",
              "      <td>-1</td>\n",
              "      <td>-1</td>\n",
              "      <td>1</td>\n",
              "    </tr>\n",
              "    <tr>\n",
              "      <th>915</th>\n",
              "      <td>Police throw stun grenade at retreating protes...</td>\n",
              "      <td>-1</td>\n",
              "      <td>-1</td>\n",
              "      <td>-1</td>\n",
              "      <td>-1</td>\n",
              "      <td>-1</td>\n",
              "      <td>-1</td>\n",
              "      <td>-1</td>\n",
              "      <td>1</td>\n",
              "    </tr>\n",
              "    <tr>\n",
              "      <th>916</th>\n",
              "      <td>Police throw stun grenade at retreating protes...</td>\n",
              "      <td>-1</td>\n",
              "      <td>-1</td>\n",
              "      <td>-1</td>\n",
              "      <td>-1</td>\n",
              "      <td>-1</td>\n",
              "      <td>-1</td>\n",
              "      <td>-1</td>\n",
              "      <td>1</td>\n",
              "    </tr>\n",
              "    <tr>\n",
              "      <th>948</th>\n",
              "      <td>Officer repeatedly uses stun gun on suspect wh...</td>\n",
              "      <td>-1</td>\n",
              "      <td>-1</td>\n",
              "      <td>-1</td>\n",
              "      <td>-1</td>\n",
              "      <td>-1</td>\n",
              "      <td>-1</td>\n",
              "      <td>-1</td>\n",
              "      <td>1</td>\n",
              "    </tr>\n",
              "    <tr>\n",
              "      <th>949</th>\n",
              "      <td>Officer repeatedly uses stun gun on suspect wh...</td>\n",
              "      <td>-1</td>\n",
              "      <td>-1</td>\n",
              "      <td>-1</td>\n",
              "      <td>-1</td>\n",
              "      <td>-1</td>\n",
              "      <td>-1</td>\n",
              "      <td>-1</td>\n",
              "      <td>1</td>\n",
              "    </tr>\n",
              "  </tbody>\n",
              "</table>\n",
              "</div>"
            ],
            "text/plain": [
              "                                                  text  ...  ced_category\n",
              "746  Officers deploy tear gas and stun grenades aga...  ...             1\n",
              "747  Officers deploy tear gas and stun grenades aga...  ...             1\n",
              "748  Officers deploy tear gas and stun grenades aga...  ...             1\n",
              "914  Police throw stun grenade at retreating protes...  ...             1\n",
              "915  Police throw stun grenade at retreating protes...  ...             1\n",
              "916  Police throw stun grenade at retreating protes...  ...             1\n",
              "948  Officer repeatedly uses stun gun on suspect wh...  ...             1\n",
              "949  Officer repeatedly uses stun gun on suspect wh...  ...             1\n",
              "\n",
              "[8 rows x 9 columns]"
            ]
          },
          "metadata": {
            "tags": []
          },
          "execution_count": 548
        }
      ]
    },
    {
      "cell_type": "code",
      "metadata": {
        "id": "yk3j_6C-p_kR",
        "colab_type": "code",
        "colab": {}
      },
      "source": [
        ""
      ],
      "execution_count": 548,
      "outputs": []
    },
    {
      "cell_type": "code",
      "metadata": {
        "id": "8wCr0fsvqiAf",
        "colab_type": "code",
        "colab": {}
      },
      "source": [
        ""
      ],
      "execution_count": 548,
      "outputs": []
    },
    {
      "cell_type": "markdown",
      "metadata": {
        "id": "AHZCmdh1quZ_",
        "colab_type": "text"
      },
      "source": [
        "## summary"
      ]
    },
    {
      "cell_type": "code",
      "metadata": {
        "id": "b1CjFujMrVfm",
        "colab_type": "code",
        "colab": {
          "base_uri": "https://localhost:8080/",
          "height": 87
        },
        "outputId": "c6bd42f4-c1dc-4b7c-d272-73e42ecc0217"
      },
      "source": [
        "df2.columns"
      ],
      "execution_count": 549,
      "outputs": [
        {
          "output_type": "execute_result",
          "data": {
            "text/plain": [
              "Index(['text', 'presence_label', 'verbal_label', 'ehc-soft_technique',\n",
              "       'ehc-hard_technique', 'blunt_impact', 'projectile', 'chemical',\n",
              "       'ced_category'],\n",
              "      dtype='object')"
            ]
          },
          "metadata": {
            "tags": []
          },
          "execution_count": 549
        }
      ]
    },
    {
      "cell_type": "code",
      "metadata": {
        "id": "Xmsvk2ngq9Zb",
        "colab_type": "code",
        "colab": {}
      },
      "source": [
        "def add_label_names(row):\n",
        "  tags = []\n",
        "  if row['presence_label'] == 1:\n",
        "    tags.append('Presence')\n",
        "  if row['verbal_label'] == 1:\n",
        "    tags.append('Verbalization')\n",
        "  if row['ehc-soft_technique'] == 1:\n",
        "    tags.append('EHC Soft Technique')\n",
        "  if row['ehc-hard_technique'] == 1:\n",
        "    tags.append('EHC Hard Technique')\n",
        "  if row['blunt_impact'] == 1:\n",
        "    tags.append('Blunt Impact')\n",
        "  if row['projectile'] == 1 or row['projectile'] == 0:\n",
        "    tags.append('Projectiles')\n",
        "  if row['chemical'] == 1:\n",
        "    tags.append('Chemical')\n",
        "  if row['ced_category'] == 1:\n",
        "    tags.append('Conductive Energy')\n",
        "  if not tags:\n",
        "    tags.append('Other')\n",
        "  return tags\n",
        "    "
      ],
      "execution_count": 585,
      "outputs": []
    },
    {
      "cell_type": "code",
      "metadata": {
        "id": "5Z3v9sUGrMiu",
        "colab_type": "code",
        "colab": {}
      },
      "source": [
        "df2['tags'] = df2.apply(add_label_names,axis=1)"
      ],
      "execution_count": 586,
      "outputs": []
    },
    {
      "cell_type": "code",
      "metadata": {
        "id": "9eBolp0pIYT5",
        "colab_type": "code",
        "colab": {}
      },
      "source": [
        "def join_tags(content):\n",
        "  return ', '.join(content)"
      ],
      "execution_count": 592,
      "outputs": []
    },
    {
      "cell_type": "code",
      "metadata": {
        "id": "MZWvjG9cqvhP",
        "colab_type": "code",
        "colab": {}
      },
      "source": [
        "df['tags_str'] = df2['tags'].apply(join_tags)"
      ],
      "execution_count": 595,
      "outputs": []
    },
    {
      "cell_type": "code",
      "metadata": {
        "id": "-s6WPsC2qyx4",
        "colab_type": "code",
        "colab": {
          "base_uri": "https://localhost:8080/",
          "height": 137
        },
        "outputId": "ac6088d7-3b6c-48b5-b61f-2318da3c5869"
      },
      "source": [
        "df2[['text','tags']].head(3)"
      ],
      "execution_count": 588,
      "outputs": [
        {
          "output_type": "execute_result",
          "data": {
            "text/html": [
              "<div>\n",
              "<style scoped>\n",
              "    .dataframe tbody tr th:only-of-type {\n",
              "        vertical-align: middle;\n",
              "    }\n",
              "\n",
              "    .dataframe tbody tr th {\n",
              "        vertical-align: top;\n",
              "    }\n",
              "\n",
              "    .dataframe thead th {\n",
              "        text-align: right;\n",
              "    }\n",
              "</style>\n",
              "<table border=\"1\" class=\"dataframe\">\n",
              "  <thead>\n",
              "    <tr style=\"text-align: right;\">\n",
              "      <th></th>\n",
              "      <th>text</th>\n",
              "      <th>tags</th>\n",
              "    </tr>\n",
              "  </thead>\n",
              "  <tbody>\n",
              "    <tr>\n",
              "      <th>0</th>\n",
              "      <td>Police throw tear-gas at protesters on a bridge.</td>\n",
              "      <td>[Projectiles]</td>\n",
              "    </tr>\n",
              "    <tr>\n",
              "      <th>1</th>\n",
              "      <td>Police throw tear-gas at protesters on a bridge.</td>\n",
              "      <td>[Projectiles]</td>\n",
              "    </tr>\n",
              "    <tr>\n",
              "      <th>2</th>\n",
              "      <td>Police assault protesters</td>\n",
              "      <td>[EHC Hard Technique]</td>\n",
              "    </tr>\n",
              "  </tbody>\n",
              "</table>\n",
              "</div>"
            ],
            "text/plain": [
              "                                               text                  tags\n",
              "0  Police throw tear-gas at protesters on a bridge.         [Projectiles]\n",
              "1  Police throw tear-gas at protesters on a bridge.         [Projectiles]\n",
              "2                         Police assault protesters  [EHC Hard Technique]"
            ]
          },
          "metadata": {
            "tags": []
          },
          "execution_count": 588
        }
      ]
    },
    {
      "cell_type": "code",
      "metadata": {
        "id": "yciDOhptFF5Z",
        "colab_type": "code",
        "colab": {
          "base_uri": "https://localhost:8080/",
          "height": 496
        },
        "outputId": "af069712-4bcf-40a5-fc15-7c9752ea9888"
      },
      "source": [
        "df['tags_str'].value_counts()"
      ],
      "execution_count": 596,
      "outputs": [
        {
          "output_type": "execute_result",
          "data": {
            "text/plain": [
              "Projectiles                                                                    596\n",
              "Other                                                                          351\n",
              "EHC Soft Technique                                                             275\n",
              "Projectiles, Chemical                                                          199\n",
              "EHC Hard Technique                                                              77\n",
              "EHC Soft Technique, Projectiles, Chemical                                       41\n",
              "EHC Soft Technique, EHC Hard Technique                                          28\n",
              "EHC Soft Technique, Projectiles                                                 24\n",
              "EHC Hard Technique, Blunt Impact                                                18\n",
              "Blunt Impact                                                                    16\n",
              "Presence                                                                        14\n",
              "EHC Hard Technique, Projectiles, Chemical                                       11\n",
              "Verbalization                                                                    6\n",
              "Presence, Projectiles                                                            6\n",
              "Conductive Energy                                                                5\n",
              "EHC Hard Technique, Blunt Impact, Projectiles, Chemical                          5\n",
              "EHC Soft Technique, Blunt Impact                                                 5\n",
              "Blunt Impact, Projectiles, Chemical                                              5\n",
              "Blunt Impact, Projectiles                                                        4\n",
              "EHC Soft Technique, EHC Hard Technique, Projectiles                              3\n",
              "Verbalization, EHC Soft Technique                                                3\n",
              "Projectiles, Conductive Energy                                                   3\n",
              "EHC Soft Technique, EHC Hard Technique, Projectiles, Chemical                    3\n",
              "Presence, EHC Hard Technique                                                     2\n",
              "EHC Soft Technique, EHC Hard Technique, Blunt Impact, Projectiles, Chemical      2\n",
              "EHC Soft Technique, EHC Hard Technique, Blunt Impact, Projectiles                1\n",
              "Name: tags_str, dtype: int64"
            ]
          },
          "metadata": {
            "tags": []
          },
          "execution_count": 596
        }
      ]
    },
    {
      "cell_type": "code",
      "metadata": {
        "id": "UpJTC_lpDK2e",
        "colab_type": "code",
        "colab": {
          "base_uri": "https://localhost:8080/",
          "height": 84
        },
        "outputId": "00899866-2493-4991-a73d-443b7683fbde"
      },
      "source": [
        "df2[df2['tags_str'] == '[]'][20:30]"
      ],
      "execution_count": 590,
      "outputs": [
        {
          "output_type": "execute_result",
          "data": {
            "text/html": [
              "<div>\n",
              "<style scoped>\n",
              "    .dataframe tbody tr th:only-of-type {\n",
              "        vertical-align: middle;\n",
              "    }\n",
              "\n",
              "    .dataframe tbody tr th {\n",
              "        vertical-align: top;\n",
              "    }\n",
              "\n",
              "    .dataframe thead th {\n",
              "        text-align: right;\n",
              "    }\n",
              "</style>\n",
              "<table border=\"1\" class=\"dataframe\">\n",
              "  <thead>\n",
              "    <tr style=\"text-align: right;\">\n",
              "      <th></th>\n",
              "      <th>text</th>\n",
              "      <th>presence_label</th>\n",
              "      <th>verbal_label</th>\n",
              "      <th>ehc-soft_technique</th>\n",
              "      <th>ehc-hard_technique</th>\n",
              "      <th>blunt_impact</th>\n",
              "      <th>projectile</th>\n",
              "      <th>chemical</th>\n",
              "      <th>ced_category</th>\n",
              "      <th>tags</th>\n",
              "      <th>tags_str</th>\n",
              "    </tr>\n",
              "  </thead>\n",
              "  <tbody>\n",
              "  </tbody>\n",
              "</table>\n",
              "</div>"
            ],
            "text/plain": [
              "Empty DataFrame\n",
              "Columns: [text, presence_label, verbal_label, ehc-soft_technique, ehc-hard_technique, blunt_impact, projectile, chemical, ced_category, tags, tags_str]\n",
              "Index: []"
            ]
          },
          "metadata": {
            "tags": []
          },
          "execution_count": 590
        }
      ]
    },
    {
      "cell_type": "code",
      "metadata": {
        "id": "m9Uyg0BJJKVS",
        "colab_type": "code",
        "colab": {}
      },
      "source": [
        "df = df.rename(columns={'name':'text'})"
      ],
      "execution_count": 599,
      "outputs": []
    },
    {
      "cell_type": "code",
      "metadata": {
        "id": "-NrpH1P0Fyri",
        "colab_type": "code",
        "colab": {}
      },
      "source": [
        "df[['date_text','text','tags_str','LATITUDE','LONGITUDE','Link 1','Link 2']].to_csv('training_data.csv')"
      ],
      "execution_count": 601,
      "outputs": []
    },
    {
      "cell_type": "code",
      "metadata": {
        "id": "SaGuprNzIM2_",
        "colab_type": "code",
        "colab": {}
      },
      "source": [
        ""
      ],
      "execution_count": null,
      "outputs": []
    }
  ]
}