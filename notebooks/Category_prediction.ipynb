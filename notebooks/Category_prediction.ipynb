{
  "nbformat": 4,
  "nbformat_minor": 0,
  "metadata": {
    "colab": {
      "name": "Category_prediction.ipynb",
      "provenance": [],
      "collapsed_sections": []
    },
    "language_info": {
      "codemirror_mode": {
        "name": "ipython",
        "version": 3
      },
      "file_extension": ".py",
      "mimetype": "text/x-python",
      "name": "python",
      "nbconvert_exporter": "python",
      "pygments_lexer": "ipython3",
      "version": "3.6.7"
    },
    "kernelspec": {
      "display_name": "Python 3",
      "language": "python",
      "name": "python3"
    }
  },
  "cells": [
    {
      "cell_type": "markdown",
      "metadata": {
        "id": "QdDc_NWWkRm9",
        "colab_type": "text"
      },
      "source": [
        "This notebook is following the direction and notes of: https://github.com/prateekjoshi565/movie_genre_prediction/blob/master/Movie_Genre_Prediction.ipynb\n",
        "\n",
        "We will start by importing the required libraries. "
      ]
    },
    {
      "cell_type": "code",
      "metadata": {
        "id": "qOO_PawwF2tI",
        "colab_type": "code",
        "colab": {}
      },
      "source": [
        "import pandas as pd\n",
        "import numpy as np\n",
        "import json\n",
        "import nltk\n",
        "import re\n",
        "import csv\n",
        "import matplotlib.pyplot as plt \n",
        "import seaborn as sns\n",
        "from tqdm import tqdm\n",
        "from sklearn.feature_extraction.text import TfidfVectorizer\n",
        "from sklearn.model_selection import train_test_split\n",
        "\n",
        "%matplotlib inline\n",
        "pd.set_option('display.max_colwidth', 300)"
      ],
      "execution_count": 3,
      "outputs": []
    },
    {
      "cell_type": "markdown",
      "metadata": {
        "id": "kQ5GUrYJk3Ae",
        "colab_type": "text"
      },
      "source": [
        "### Load Data\n"
      ]
    },
    {
      "cell_type": "code",
      "metadata": {
        "id": "pZ5z5yrvGHty",
        "colab_type": "code",
        "colab": {}
      },
      "source": [
        "import pandas as pd\n",
        "df = pd.read_csv('https://raw.githubusercontent.com/Lambda-School-Labs/Labs25-Human_Rights_First-TeamC-DS/main/dbsetup/training_data.csv', na_values=False)"
      ],
      "execution_count": 4,
      "outputs": []
    },
    {
      "cell_type": "code",
      "metadata": {
        "id": "yxCPm8R6F2tY",
        "colab_type": "code",
        "colab": {
          "base_uri": "https://localhost:8080/",
          "height": 584
        },
        "outputId": "b1e45329-a2a8-4370-f5f4-537377f870e7"
      },
      "source": [
        "df = df.drop(columns=df.columns[0])\n",
        "\n",
        "df.head()"
      ],
      "execution_count": 5,
      "outputs": [
        {
          "output_type": "execute_result",
          "data": {
            "text/html": [
              "<div>\n",
              "<style scoped>\n",
              "    .dataframe tbody tr th:only-of-type {\n",
              "        vertical-align: middle;\n",
              "    }\n",
              "\n",
              "    .dataframe tbody tr th {\n",
              "        vertical-align: top;\n",
              "    }\n",
              "\n",
              "    .dataframe thead th {\n",
              "        text-align: right;\n",
              "    }\n",
              "</style>\n",
              "<table border=\"1\" class=\"dataframe\">\n",
              "  <thead>\n",
              "    <tr style=\"text-align: right;\">\n",
              "      <th></th>\n",
              "      <th>STATE_NAME</th>\n",
              "      <th>edit_at</th>\n",
              "      <th>CITY</th>\n",
              "      <th>text</th>\n",
              "      <th>date</th>\n",
              "      <th>id</th>\n",
              "      <th>STATE_CODE</th>\n",
              "      <th>COUNTY</th>\n",
              "      <th>LATITUDE</th>\n",
              "      <th>LONGITUDE</th>\n",
              "      <th>human_tags</th>\n",
              "      <th>force_tags</th>\n",
              "      <th>links</th>\n",
              "    </tr>\n",
              "  </thead>\n",
              "  <tbody>\n",
              "    <tr>\n",
              "      <th>0</th>\n",
              "      <td>Louisiana</td>\n",
              "      <td>https://github.com/2020PB/police-brutality/blob/master/reports/Louisiana.md</td>\n",
              "      <td>New Orleans</td>\n",
              "      <td>police throw tear gas at protesters on a bridge</td>\n",
              "      <td>6/3/2020</td>\n",
              "      <td>la-neworleans-1</td>\n",
              "      <td>LA</td>\n",
              "      <td>Jefferson</td>\n",
              "      <td>29.963071</td>\n",
              "      <td>-90.160953</td>\n",
              "      <td>Police, Protester</td>\n",
              "      <td>Projectiles</td>\n",
              "      <td>['https://twitter.com/misaacstein/status/1268381797081022464', 'https://twitter.com/ckm_news/status/1268382403367763970', 'https://twitter.com/brynstole/status/1268381340073971713', 'https://twitter.com/xxnthe/status/1268427759870775298', 'https://twitter.com/greg_doucette/status/126852053839113...</td>\n",
              "    </tr>\n",
              "    <tr>\n",
              "      <th>1</th>\n",
              "      <td>Texas</td>\n",
              "      <td>https://github.com/2020PB/police-brutality/blob/master/reports/Texas.md</td>\n",
              "      <td>Austin</td>\n",
              "      <td>police assault protesters</td>\n",
              "      <td>5/30/2020</td>\n",
              "      <td>tx-austin-2</td>\n",
              "      <td>TX</td>\n",
              "      <td>Hays</td>\n",
              "      <td>30.210692</td>\n",
              "      <td>-97.942749</td>\n",
              "      <td>Police, Protester</td>\n",
              "      <td>EHC Hard Technique</td>\n",
              "      <td>['https://gfycat.com/tautimaginativedore', 'https://www.reddit.com/r/2020PoliceBrutality/comments/hhhbeh/5302020_austin/']</td>\n",
              "    </tr>\n",
              "    <tr>\n",
              "      <th>2</th>\n",
              "      <td>Texas</td>\n",
              "      <td>https://github.com/2020PB/police-brutality/blob/master/reports/Texas.md</td>\n",
              "      <td>Austin</td>\n",
              "      <td>police shoot non violent protester in the head</td>\n",
              "      <td>5/30/2020</td>\n",
              "      <td>tx-austin-3</td>\n",
              "      <td>TX</td>\n",
              "      <td>Hays</td>\n",
              "      <td>30.210692</td>\n",
              "      <td>-97.942749</td>\n",
              "      <td>Police, Protester</td>\n",
              "      <td>Projectiles</td>\n",
              "      <td>['https://www.reddit.com/r/PublicFreakout/comments/guwc4y/austin_tx_nonviolent_protestor_shot_in_the_head/', 'https://www.instagram.com/p/CA6TCIGnuWm/', 'https://www.youtube.com/watch?v=-BGyTi-KdKc (aftermath)', 'https://streamable.com/o1uqgy (aftermath)', 'https://cbsaustin.com/news/local/austi...</td>\n",
              "    </tr>\n",
              "    <tr>\n",
              "      <th>3</th>\n",
              "      <td>Texas</td>\n",
              "      <td>https://github.com/2020PB/police-brutality/blob/master/reports/Texas.md</td>\n",
              "      <td>Austin</td>\n",
              "      <td>police use tear gas   rubber bullets on protesters</td>\n",
              "      <td>5/30/2020</td>\n",
              "      <td>tx-austin-4</td>\n",
              "      <td>TX</td>\n",
              "      <td>Hays</td>\n",
              "      <td>30.210692</td>\n",
              "      <td>-97.942749</td>\n",
              "      <td>Police, Protester</td>\n",
              "      <td>Projectiles</td>\n",
              "      <td>['https://twitter.com/highsettler/status/1266876480929349633', 'https://imgur.com/gallery/VKuIIvu', 'https://gfycat.com/weirdthankfulgnatcatcher']</td>\n",
              "    </tr>\n",
              "    <tr>\n",
              "      <th>4</th>\n",
              "      <td>Texas</td>\n",
              "      <td>https://github.com/2020PB/police-brutality/blob/master/reports/Texas.md</td>\n",
              "      <td>Austin</td>\n",
              "      <td>police open fire on crowd with rubber bullets</td>\n",
              "      <td>5/30/2020</td>\n",
              "      <td>tx-austin-5</td>\n",
              "      <td>TX</td>\n",
              "      <td>Hays</td>\n",
              "      <td>30.210692</td>\n",
              "      <td>-97.942749</td>\n",
              "      <td>Police</td>\n",
              "      <td>Projectiles</td>\n",
              "      <td>['https://twitter.com/ironfront7/status/1267133400156196870']</td>\n",
              "    </tr>\n",
              "  </tbody>\n",
              "</table>\n",
              "</div>"
            ],
            "text/plain": [
              "  STATE_NAME  ...                                                                                                                                                                                                                                                                                                        links\n",
              "0  Louisiana  ...  ['https://twitter.com/misaacstein/status/1268381797081022464', 'https://twitter.com/ckm_news/status/1268382403367763970', 'https://twitter.com/brynstole/status/1268381340073971713', 'https://twitter.com/xxnthe/status/1268427759870775298', 'https://twitter.com/greg_doucette/status/126852053839113...\n",
              "1      Texas  ...                                                                                                                                                                                   ['https://gfycat.com/tautimaginativedore', 'https://www.reddit.com/r/2020PoliceBrutality/comments/hhhbeh/5302020_austin/']\n",
              "2      Texas  ...  ['https://www.reddit.com/r/PublicFreakout/comments/guwc4y/austin_tx_nonviolent_protestor_shot_in_the_head/', 'https://www.instagram.com/p/CA6TCIGnuWm/', 'https://www.youtube.com/watch?v=-BGyTi-KdKc (aftermath)', 'https://streamable.com/o1uqgy (aftermath)', 'https://cbsaustin.com/news/local/austi...\n",
              "3      Texas  ...                                                                                                                                                           ['https://twitter.com/highsettler/status/1266876480929349633', 'https://imgur.com/gallery/VKuIIvu', 'https://gfycat.com/weirdthankfulgnatcatcher']\n",
              "4      Texas  ...                                                                                                                                                                                                                                                ['https://twitter.com/ironfront7/status/1267133400156196870']\n",
              "\n",
              "[5 rows x 13 columns]"
            ]
          },
          "metadata": {
            "tags": []
          },
          "execution_count": 5
        }
      ]
    },
    {
      "cell_type": "code",
      "metadata": {
        "id": "PIdRu39rAAyl",
        "colab_type": "code",
        "colab": {
          "base_uri": "https://localhost:8080/",
          "height": 390
        },
        "outputId": "c07b82d0-8448-4c30-aa9d-f5f509ca356b"
      },
      "source": [
        "df.force_tags.head(20)"
      ],
      "execution_count": 6,
      "outputs": [
        {
          "output_type": "execute_result",
          "data": {
            "text/plain": [
              "0                                   Projectiles\n",
              "1                            EHC Hard Technique\n",
              "2                                   Projectiles\n",
              "3                                   Projectiles\n",
              "4                                   Projectiles\n",
              "5                                   Projectiles\n",
              "6                                  Blunt Impact\n",
              "7                                 Other/Unknown\n",
              "8                                   Projectiles\n",
              "9                                      Chemical\n",
              "10                                  Projectiles\n",
              "11                                  Projectiles\n",
              "12                           EHC Soft Technique\n",
              "13       EHC Soft Technique, EHC Hard Technique\n",
              "14       EHC Soft Technique, EHC Hard Technique\n",
              "15       EHC Soft Technique, EHC Hard Technique\n",
              "16    EHC Soft Technique, Projectiles, Chemical\n",
              "17                                 Blunt Impact\n",
              "18                           EHC Hard Technique\n",
              "19                                  Projectiles\n",
              "Name: force_tags, dtype: object"
            ]
          },
          "metadata": {
            "tags": []
          },
          "execution_count": 6
        }
      ]
    },
    {
      "cell_type": "code",
      "metadata": {
        "id": "FRaeWXCB5ZUs",
        "colab_type": "code",
        "colab": {
          "base_uri": "https://localhost:8080/",
          "height": 230
        },
        "outputId": "9f8b6021-9b9a-40ba-b346-0197e4166fa4"
      },
      "source": [
        "df['force_tags']"
      ],
      "execution_count": 7,
      "outputs": [
        {
          "output_type": "execute_result",
          "data": {
            "text/plain": [
              "0                            Projectiles\n",
              "1                     EHC Hard Technique\n",
              "2                            Projectiles\n",
              "3                            Projectiles\n",
              "4                            Projectiles\n",
              "                      ...               \n",
              "1034               Presence, Projectiles\n",
              "1035                         Projectiles\n",
              "1036               Projectiles, Chemical\n",
              "1037                  EHC Soft Technique\n",
              "1038    EHC Soft Technique, Blunt Impact\n",
              "Name: force_tags, Length: 1039, dtype: object"
            ]
          },
          "metadata": {
            "tags": []
          },
          "execution_count": 7
        }
      ]
    },
    {
      "cell_type": "code",
      "metadata": {
        "id": "rZn-ngGdDGiJ",
        "colab_type": "code",
        "colab": {
          "base_uri": "https://localhost:8080/",
          "height": 230
        },
        "outputId": "606a42af-3450-4ab5-82ae-4ef7eb221776"
      },
      "source": [
        "\n",
        "def tags_cleaner(text):\n",
        "  # remove whitespaces\n",
        "    text = ' '.join(text.split())\n",
        "    return text\n",
        "\n",
        "df['tags_new_clean'] = df['force_tags'].apply(lambda x: tags_cleaner(x))\n",
        "df['tags_new_clean']"
      ],
      "execution_count": 8,
      "outputs": [
        {
          "output_type": "execute_result",
          "data": {
            "text/plain": [
              "0                            Projectiles\n",
              "1                     EHC Hard Technique\n",
              "2                            Projectiles\n",
              "3                            Projectiles\n",
              "4                            Projectiles\n",
              "                      ...               \n",
              "1034               Presence, Projectiles\n",
              "1035                         Projectiles\n",
              "1036               Projectiles, Chemical\n",
              "1037                  EHC Soft Technique\n",
              "1038    EHC Soft Technique, Blunt Impact\n",
              "Name: tags_new_clean, Length: 1039, dtype: object"
            ]
          },
          "metadata": {
            "tags": []
          },
          "execution_count": 8
        }
      ]
    },
    {
      "cell_type": "code",
      "metadata": {
        "id": "emb97XokxJiw",
        "colab_type": "code",
        "colab": {
          "base_uri": "https://localhost:8080/",
          "height": 230
        },
        "outputId": "c3e0a830-7c59-4bc9-dd0f-e85226abd2bd"
      },
      "source": [
        "df['tags_new'] = df['tags_new_clean'].apply(lambda x: x.split(', '))\n",
        "df.tags_new"
      ],
      "execution_count": 9,
      "outputs": [
        {
          "output_type": "execute_result",
          "data": {
            "text/plain": [
              "0                            [Projectiles]\n",
              "1                     [EHC Hard Technique]\n",
              "2                            [Projectiles]\n",
              "3                            [Projectiles]\n",
              "4                            [Projectiles]\n",
              "                       ...                \n",
              "1034               [Presence, Projectiles]\n",
              "1035                         [Projectiles]\n",
              "1036               [Projectiles, Chemical]\n",
              "1037                  [EHC Soft Technique]\n",
              "1038    [EHC Soft Technique, Blunt Impact]\n",
              "Name: tags_new, Length: 1039, dtype: object"
            ]
          },
          "metadata": {
            "tags": []
          },
          "execution_count": 9
        }
      ]
    },
    {
      "cell_type": "markdown",
      "metadata": {
        "id": "_2fcBkzNGAqJ",
        "colab_type": "text"
      },
      "source": [
        "Here is an overview of the police force tags that are being used on this data."
      ]
    },
    {
      "cell_type": "code",
      "metadata": {
        "id": "eceNopMGF2ve",
        "colab_type": "code",
        "colab": {
          "base_uri": "https://localhost:8080/",
          "height": 52
        },
        "outputId": "17afa0e3-05d6-4ea3-afae-22aa512cf04d"
      },
      "source": [
        "# get all tags in a list\n",
        "tags = []\n",
        "\n",
        "for i in df['force_tags']:\n",
        "  tags.append(i)\n",
        "\n",
        "tag_words = [word for line in tags for word in line.split(', ')]\n",
        "print(len(set(tag_words)))\n",
        "print(set(tag_words))"
      ],
      "execution_count": 10,
      "outputs": [
        {
          "output_type": "stream",
          "text": [
            "9\n",
            "{'Presence', 'Chemical', 'EHC Hard Technique', 'EHC Soft Technique', 'Other/Unknown', 'Blunt Impact', 'Projectiles', 'Verbalization', 'Conductive Energy'}\n"
          ],
          "name": "stdout"
        }
      ]
    },
    {
      "cell_type": "code",
      "metadata": {
        "id": "MXikclL-F2v1",
        "colab_type": "code",
        "colab": {}
      },
      "source": [
        "tags = nltk.FreqDist(tag_words)\n",
        "tags_df = pd.DataFrame({'Tags': list(tags.keys()), 'Count': list(tags.values())})"
      ],
      "execution_count": 11,
      "outputs": []
    },
    {
      "cell_type": "markdown",
      "metadata": {
        "id": "bYkZUVueIdTm",
        "colab_type": "text"
      },
      "source": [
        "Sometimes visualizing data is better than putting out numbers. Let's plot the distribution of the tags."
      ]
    },
    {
      "cell_type": "code",
      "metadata": {
        "id": "ljJeSX0hF2v7",
        "colab_type": "code",
        "colab": {
          "base_uri": "https://localhost:8080/",
          "height": 496
        },
        "outputId": "eda1dc75-8c92-481e-d07b-164e57fd7319"
      },
      "source": [
        "g = tags_df.nlargest(columns=\"Count\", n = 50) \n",
        "plt.figure(figsize=(6,8))\n",
        "ax = sns.barplot(data=g, x= \"Count\", y = \"Tags\")\n",
        "ax.set(ylabel = 'Count')\n",
        "plt.show()"
      ],
      "execution_count": 12,
      "outputs": [
        {
          "output_type": "display_data",
          "data": {
            "image/png": "[encoded data removed]",
            "text/plain": [
              "<Figure size 432x576 with 1 Axes>"
            ]
          },
          "metadata": {
            "tags": [],
            "needs_background": "light"
          }
        }
      ]
    },
    {
      "cell_type": "markdown",
      "metadata": {
        "id": "eCLjE_3VMBJr",
        "colab_type": "text"
      },
      "source": [
        " Basic text cleaning steps..\n"
      ]
    },
    {
      "cell_type": "code",
      "metadata": {
        "id": "EkZHbKwlF2wa",
        "colab_type": "code",
        "colab": {}
      },
      "source": [
        "# function for text cleaning\n",
        "def clean_text(text):\n",
        "    # remove backslash-apostrophe\n",
        "    text = re.sub(\"\\'\", \"\", text)\n",
        "    # remove everything alphabets\n",
        "    text = re.sub(\"[^a-zA-Z]\",\" \",text)\n",
        "    # remove whitespaces\n",
        "    text = ' '.join(text.split())\n",
        "    # convert text to lowercase\n",
        "    text = text.lower()\n",
        "    \n",
        "    return text"
      ],
      "execution_count": 13,
      "outputs": []
    },
    {
      "cell_type": "markdown",
      "metadata": {
        "id": "V7RVglMbMmx1",
        "colab_type": "text"
      },
      "source": [
        "Apply the function on the new text by using the apply-lambda duo."
      ]
    },
    {
      "cell_type": "code",
      "metadata": {
        "id": "iD700PMqF2wf",
        "colab_type": "code",
        "colab": {}
      },
      "source": [
        "df['new_text'] = df['text'].apply(lambda x: clean_text(x))"
      ],
      "execution_count": 14,
      "outputs": []
    },
    {
      "cell_type": "markdown",
      "metadata": {
        "id": "uiK-I7A9A_Z3",
        "colab_type": "text"
      },
      "source": [
        "Here is a visual of the old text compared to the cleaned new text.This step made more sense before we cleaned the dataframe in another file first. Now its just a good habit to clean the data in my own process just in case its not clean (but as you can see, it is)."
      ]
    },
    {
      "cell_type": "code",
      "metadata": {
        "id": "Ndw6uH0YM3uf",
        "colab_type": "code",
        "colab": {
          "base_uri": "https://localhost:8080/",
          "height": 197
        },
        "outputId": "9e87abb0-d0ab-453f-cfb8-cde8746c66be"
      },
      "source": [
        "df[['text', 'new_text']].sample(5)"
      ],
      "execution_count": 15,
      "outputs": [
        {
          "output_type": "execute_result",
          "data": {
            "text/html": [
              "<div>\n",
              "<style scoped>\n",
              "    .dataframe tbody tr th:only-of-type {\n",
              "        vertical-align: middle;\n",
              "    }\n",
              "\n",
              "    .dataframe tbody tr th {\n",
              "        vertical-align: top;\n",
              "    }\n",
              "\n",
              "    .dataframe thead th {\n",
              "        text-align: right;\n",
              "    }\n",
              "</style>\n",
              "<table border=\"1\" class=\"dataframe\">\n",
              "  <thead>\n",
              "    <tr style=\"text-align: right;\">\n",
              "      <th></th>\n",
              "      <th>text</th>\n",
              "      <th>new_text</th>\n",
              "    </tr>\n",
              "  </thead>\n",
              "  <tbody>\n",
              "    <tr>\n",
              "      <th>619</th>\n",
              "      <td>police arrest protester without warning or clear justification</td>\n",
              "      <td>police arrest protester without warning or clear justification</td>\n",
              "    </tr>\n",
              "    <tr>\n",
              "      <th>776</th>\n",
              "      <td>police deploy tear gas and flashbangs against protesters</td>\n",
              "      <td>police deploy tear gas and flashbangs against protesters</td>\n",
              "    </tr>\n",
              "    <tr>\n",
              "      <th>570</th>\n",
              "      <td>law enforcement push and shove a crowd of protesters</td>\n",
              "      <td>law enforcement push and shove a crowd of protesters</td>\n",
              "    </tr>\n",
              "    <tr>\n",
              "      <th>921</th>\n",
              "      <td>protester shot in head</td>\n",
              "      <td>protester shot in head</td>\n",
              "    </tr>\n",
              "    <tr>\n",
              "      <th>187</th>\n",
              "      <td>federal officer tackles two protesters</td>\n",
              "      <td>federal officer tackles two protesters</td>\n",
              "    </tr>\n",
              "  </tbody>\n",
              "</table>\n",
              "</div>"
            ],
            "text/plain": [
              "                                                               text                                                        new_text\n",
              "619  police arrest protester without warning or clear justification  police arrest protester without warning or clear justification\n",
              "776        police deploy tear gas and flashbangs against protesters        police deploy tear gas and flashbangs against protesters\n",
              "570           law enforcement push and shove a crowd of protesters             law enforcement push and shove a crowd of protesters\n",
              "921                                          protester shot in head                                          protester shot in head\n",
              "187                          federal officer tackles two protesters                          federal officer tackles two protesters"
            ]
          },
          "metadata": {
            "tags": []
          },
          "execution_count": 15
        }
      ]
    },
    {
      "cell_type": "code",
      "metadata": {
        "id": "2xihIWUjF2wt",
        "colab_type": "code",
        "colab": {}
      },
      "source": [
        "def freq_words(x, terms = 30):\n",
        "  all_words = ' '.join([text for text in x])\n",
        "  all_words = all_words.split()\n",
        "  \n",
        "  fdist = nltk.FreqDist(all_words)\n",
        "  words_df = pd.DataFrame({'word':list(fdist.keys()), 'count':list(fdist.values())})\n",
        "  \n",
        "  # selecting top 20 most frequent words\n",
        "  d = words_df.nlargest(columns=\"count\", n = terms) \n",
        "  plt.figure(figsize=(12,14))\n",
        "  ax = sns.barplot(data=d, x= \"count\", y = \"word\")\n",
        "  ax.set(ylabel = 'Word')\n",
        "  plt.show()"
      ],
      "execution_count": 16,
      "outputs": []
    },
    {
      "cell_type": "code",
      "metadata": {
        "id": "kNHRpL7zOSmm",
        "colab_type": "code",
        "colab": {
          "base_uri": "https://localhost:8080/",
          "height": 70
        },
        "outputId": "10167441-2cda-4919-bdfe-40bb0a677c26"
      },
      "source": [
        "nltk.download('stopwords')"
      ],
      "execution_count": 17,
      "outputs": [
        {
          "output_type": "stream",
          "text": [
            "[nltk_data] Downloading package stopwords to /root/nltk_data...\n",
            "[nltk_data]   Unzipping corpora/stopwords.zip.\n"
          ],
          "name": "stdout"
        },
        {
          "output_type": "execute_result",
          "data": {
            "text/plain": [
              "True"
            ]
          },
          "metadata": {
            "tags": []
          },
          "execution_count": 17
        }
      ]
    },
    {
      "cell_type": "markdown",
      "metadata": {
        "id": "6l6U_YxpPOMd",
        "colab_type": "text"
      },
      "source": [
        "Remove the stopwords."
      ]
    },
    {
      "cell_type": "code",
      "metadata": {
        "id": "qljT-V5rF2xC",
        "colab_type": "code",
        "colab": {}
      },
      "source": [
        "from nltk.corpus import stopwords\n",
        "stop_words = set(stopwords.words('english'))\n",
        "\n",
        "# function to remove stopwords\n",
        "def remove_stopwords(text):\n",
        "    no_stopword_text = [w for w in text.split() if not w in stop_words]\n",
        "    return ' '.join(no_stopword_text)\n",
        "  \n",
        "df['new_text'] = df['new_text'].apply(lambda x: remove_stopwords(x))"
      ],
      "execution_count": 18,
      "outputs": []
    },
    {
      "cell_type": "code",
      "metadata": {
        "id": "v_kCfw6TF2xN",
        "colab_type": "code",
        "colab": {
          "base_uri": "https://localhost:8080/",
          "height": 823
        },
        "outputId": "d43e1f81-c37f-40f0-9fba-b0c638d4bf8e"
      },
      "source": [
        "freq_words(df['new_text'], 100)"
      ],
      "execution_count": 19,
      "outputs": [
        {
          "output_type": "display_data",
          "data": {
            "image/png": "[encoded data removed]",
            "text/plain": [
              "<Figure size 864x1008 with 1 Axes>"
            ]
          },
          "metadata": {
            "tags": [],
            "needs_background": "light"
          }
        }
      ]
    },
    {
      "cell_type": "markdown",
      "metadata": {
        "id": "QuE4iqHTQRRw",
        "colab_type": "text"
      },
      "source": [
        "### Converting Text to Features"
      ]
    },
    {
      "cell_type": "markdown",
      "metadata": {
        "id": "tKyJYhRnRAUF",
        "colab_type": "text"
      },
      "source": [
        "I will treat this multilable classification problem as a Binary Relevance problem. Hence, now I am going to one hot encode the target variable, i.e. *tags_new* by using sklearn's **MultiLabelBinarizer( )**. Since there are 9 unique  tags, there are going to be 9 new target variables.\n"
      ]
    },
    {
      "cell_type": "code",
      "metadata": {
        "id": "9l3TjWUPF2xV",
        "colab_type": "code",
        "colab": {
          "base_uri": "https://localhost:8080/",
          "height": 70
        },
        "outputId": "1969b00e-3d83-4625-82e4-e68abfb96405"
      },
      "source": [
        "from sklearn.preprocessing import MultiLabelBinarizer\n",
        "\n",
        "multilabel_binarizer = MultiLabelBinarizer()\n",
        "\n",
        "multilabel_binarizer.fit(df['tags_new'])\n",
        "print(multilabel_binarizer.classes_)\n",
        "\n",
        "# transform target variable\n",
        "\n",
        "y = multilabel_binarizer.transform(df['tags_new'])"
      ],
      "execution_count": 20,
      "outputs": [
        {
          "output_type": "stream",
          "text": [
            "['Blunt Impact' 'Chemical' 'Conductive Energy' 'EHC Hard Technique'\n",
            " 'EHC Soft Technique' 'Other/Unknown' 'Presence' 'Projectiles'\n",
            " 'Verbalization']\n"
          ],
          "name": "stdout"
        }
      ]
    },
    {
      "cell_type": "code",
      "metadata": {
        "id": "azhLytr5oMGO",
        "colab_type": "code",
        "colab": {
          "base_uri": "https://localhost:8080/",
          "height": 34
        },
        "outputId": "b2f59024-de73-4d8e-d7f8-91891e6dcd2c"
      },
      "source": [
        "print(y.shape)"
      ],
      "execution_count": 21,
      "outputs": [
        {
          "output_type": "stream",
          "text": [
            "(1039, 9)\n"
          ],
          "name": "stdout"
        }
      ]
    },
    {
      "cell_type": "markdown",
      "metadata": {
        "id": "BIb2sjjq4pp9",
        "colab_type": "text"
      },
      "source": [
        "We have successfully transformed the target variable and now let's turn our focus to extract features from the cleaned version of the df text. I have decided to use TF-IDF features. Any other feature extraction method such as Bag-of-Words, word2vec, GloVe, or ELMo would work. \n",
        "\n",
        "Learn more about different ways of creating features from text:\n",
        "\n",
        "*   [An Intuitive Understanding of Word Embeddings: From Count Vectors to Word2Vec](https://www.analyticsvidhya.com/blog/2017/06/word-embeddings-count-word2veec/)\n",
        "*   [A Step-by-Step NLP Guide to Learn ELMo for Extracting Features from Text](https://www.analyticsvidhya.com/blog/2019/03/learn-to-use-elmo-to-extract-features-from-text/)\n",
        "\n"
      ]
    },
    {
      "cell_type": "code",
      "metadata": {
        "id": "uV1pJhmiF2xd",
        "colab_type": "code",
        "colab": {}
      },
      "source": [
        "tfidf_vectorizer = TfidfVectorizer(max_df=0.8, max_features=10000)"
      ],
      "execution_count": 22,
      "outputs": []
    },
    {
      "cell_type": "markdown",
      "metadata": {
        "id": "zTpRfqVD6sel",
        "colab_type": "text"
      },
      "source": [
        "Please note that I have used the 10,000 most frequent words in the data as my features. You can try any other number as well for the parameter max_features. Before creating TF-IDF features, we will split our data into train and validation sets for training our and evaluating its performance, respectively. 80% of the data samples have been kept in the train set and the rest of the data is in the validation set."
      ]
    },
    {
      "cell_type": "code",
      "metadata": {
        "id": "QLQpqZBYF2xw",
        "colab_type": "code",
        "colab": {}
      },
      "source": [
        "# split dataset into training and validation set\n",
        "xtrain, xval, ytrain, yval = train_test_split(df['new_text'], y, test_size=0.2, random_state=9)"
      ],
      "execution_count": 23,
      "outputs": []
    },
    {
      "cell_type": "markdown",
      "metadata": {
        "id": "ylE2fyMZ9QbF",
        "colab_type": "text"
      },
      "source": [
        "Now we can create features for the train and the validation set."
      ]
    },
    {
      "cell_type": "code",
      "metadata": {
        "id": "yfAkXKJRF2x0",
        "colab_type": "code",
        "colab": {}
      },
      "source": [
        "# create TF-IDF features\n",
        "xtrain_tfidf = tfidf_vectorizer.fit_transform(xtrain)\n",
        "xval_tfidf = tfidf_vectorizer.transform(xval)"
      ],
      "execution_count": 24,
      "outputs": []
    },
    {
      "cell_type": "markdown",
      "metadata": {
        "id": "Rmdfnd0q9jvl",
        "colab_type": "text"
      },
      "source": [
        "### Build the Category Prediction Model\n",
        "\n",
        "As we have already discussed earlier, if we are using the Binary Relevance approach to solve a multilable problem, then we will have to one hot encode the target variable and then build model for each and every one hot encoded target variables. Since we have 9 target variables, we will have to fit 9 different models with the same set of predictors (TF-IDF features). \n",
        "\n",
        "Training 9 models can take a considerable amount of time on a modest system. I will go ahead with the Logistic Regression model as it is quick to train and easy on the limited hardware. Then I will look at SVC (Support Vector Machines) and compare.  \n",
        "\n",
        "I have compared lr and svc. Both performed around 85%. I am going with SVC right now because lr had 0 results for the last three categories of verbalization, conductive energy and presence. I think its important that these categories get represented here."
      ]
    },
    {
      "cell_type": "code",
      "metadata": {
        "id": "QifsulBzF2x5",
        "colab_type": "code",
        "colab": {}
      },
      "source": [
        "from sklearn.linear_model import LogisticRegression\n",
        "from sklearn.svm import SVC\n",
        "# Binary Relevance\n",
        "from sklearn.multiclass import OneVsRestClassifier\n",
        "\n",
        "# Performance metric\n",
        "from sklearn.metrics import f1_score"
      ],
      "execution_count": 25,
      "outputs": []
    },
    {
      "cell_type": "markdown",
      "metadata": {
        "id": "1MXsU1Mu_Zfz",
        "colab_type": "text"
      },
      "source": [
        "We will use sklearn's OneVsRestClassifier class to solve this problem as a Binary Relevance or one-vs-all problem."
      ]
    },
    {
      "cell_type": "code",
      "metadata": {
        "id": "SMx1lAY6F2x8",
        "colab_type": "code",
        "colab": {}
      },
      "source": [
        "model = SVC()\n",
        "lr = LogisticRegression()\n",
        "clf = OneVsRestClassifier(model)"
      ],
      "execution_count": 26,
      "outputs": []
    },
    {
      "cell_type": "markdown",
      "metadata": {
        "id": "AW0h3Jz1_-Mm",
        "colab_type": "text"
      },
      "source": [
        "Finally we are going to fit our model on the train set"
      ]
    },
    {
      "cell_type": "code",
      "metadata": {
        "id": "mlAzsg8OF2x-",
        "colab_type": "code",
        "colab": {
          "base_uri": "https://localhost:8080/",
          "height": 141
        },
        "outputId": "9cd2b3ef-020d-46e1-81df-b343c60624e8"
      },
      "source": [
        "# fit model on train data\n",
        "clf.fit(xtrain_tfidf, ytrain)"
      ],
      "execution_count": 27,
      "outputs": [
        {
          "output_type": "execute_result",
          "data": {
            "text/plain": [
              "OneVsRestClassifier(estimator=SVC(C=1.0, break_ties=False, cache_size=200,\n",
              "                                  class_weight=None, coef0=0.0,\n",
              "                                  decision_function_shape='ovr', degree=3,\n",
              "                                  gamma='scale', kernel='rbf', max_iter=-1,\n",
              "                                  probability=False, random_state=None,\n",
              "                                  shrinking=True, tol=0.001, verbose=False),\n",
              "                    n_jobs=None)"
            ]
          },
          "metadata": {
            "tags": []
          },
          "execution_count": 27
        }
      ]
    },
    {
      "cell_type": "markdown",
      "metadata": {
        "id": "oZo2QZtVBjFi",
        "colab_type": "text"
      },
      "source": [
        "Once our model is trained, we can then predict categories for the validation set. Let's do it."
      ]
    },
    {
      "cell_type": "code",
      "metadata": {
        "id": "JDgWCi2hF2yF",
        "colab_type": "code",
        "colab": {}
      },
      "source": [
        "# make predictions for validation set\n",
        "y_pred = clf.predict(xval_tfidf)"
      ],
      "execution_count": 28,
      "outputs": []
    },
    {
      "cell_type": "markdown",
      "metadata": {
        "id": "XSxiV_E8BzSx",
        "colab_type": "text"
      },
      "source": [
        "Here is a prediction..."
      ]
    },
    {
      "cell_type": "code",
      "metadata": {
        "id": "Sj9l1s9yB4kR",
        "colab_type": "code",
        "colab": {
          "base_uri": "https://localhost:8080/",
          "height": 34
        },
        "outputId": "2d34bacf-6285-4354-b61a-220561e3c893"
      },
      "source": [
        "y_pred[9]"
      ],
      "execution_count": 29,
      "outputs": [
        {
          "output_type": "execute_result",
          "data": {
            "text/plain": [
              "array([0, 0, 0, 1, 0, 0, 0, 0, 0])"
            ]
          },
          "metadata": {
            "tags": []
          },
          "execution_count": 29
        }
      ]
    },
    {
      "cell_type": "markdown",
      "metadata": {
        "id": "hRjJt8z3CV5A",
        "colab_type": "text"
      },
      "source": [
        "It is a binary one dimensional array of length 32. Basically it is the one hot encoded form of the unique tags. We will have to find some way to convert it into categories. We will use **inverse_transform( )** function along with the MultiLabelBinarizer( ) object to convert the predicted arrays into tags."
      ]
    },
    {
      "cell_type": "code",
      "metadata": {
        "id": "ivmaB8yJF2yI",
        "colab_type": "code",
        "colab": {
          "base_uri": "https://localhost:8080/",
          "height": 34
        },
        "outputId": "1ccaea10-b717-4cd5-9756-69d78a08b468"
      },
      "source": [
        "multilabel_binarizer.inverse_transform(y_pred)[9]"
      ],
      "execution_count": 30,
      "outputs": [
        {
          "output_type": "execute_result",
          "data": {
            "text/plain": [
              "('EHC Hard Technique',)"
            ]
          },
          "metadata": {
            "tags": []
          },
          "execution_count": 30
        }
      ]
    },
    {
      "cell_type": "markdown",
      "metadata": {
        "id": "f4HkqKOsDuoK",
        "colab_type": "text"
      },
      "source": [
        "To evaluate our model's overall performance, we will have to take into consideration all the predictions and the entire target variable of the validation set."
      ]
    },
    {
      "cell_type": "code",
      "metadata": {
        "id": "ekSfgVp3F2yM",
        "colab_type": "code",
        "colab": {
          "base_uri": "https://localhost:8080/",
          "height": 34
        },
        "outputId": "860b65ee-a9fd-47eb-ce92-da5ed1fc1d6a"
      },
      "source": [
        "# evaluate performance\n",
        "f1_score(yval, y_pred, average=\"micro\")"
      ],
      "execution_count": 31,
      "outputs": [
        {
          "output_type": "execute_result",
          "data": {
            "text/plain": [
              "0.8421052631578948"
            ]
          },
          "metadata": {
            "tags": []
          },
          "execution_count": 31
        }
      ]
    },
    {
      "cell_type": "code",
      "metadata": {
        "id": "Im6QjRHKHPym",
        "colab_type": "code",
        "colab": {}
      },
      "source": [
        "# predict probabilities\n",
        "#y_pred_prob = clf.predict_proba(xval_tfidf)\n"
      ],
      "execution_count": 32,
      "outputs": []
    },
    {
      "cell_type": "markdown",
      "metadata": {
        "id": "sOXXV8LmHf1J",
        "colab_type": "text"
      },
      "source": [
        "Now set a threshold value."
      ]
    },
    {
      "cell_type": "code",
      "metadata": {
        "id": "UbFne8EVHaIY",
        "colab_type": "code",
        "colab": {}
      },
      "source": [
        "# t = 0.3 # threshold value\n",
        "# y_pred_new = (y_pred_prob >= t).astype(int)"
      ],
      "execution_count": 33,
      "outputs": []
    },
    {
      "cell_type": "markdown",
      "metadata": {
        "id": "XV0hYWo5H-Yd",
        "colab_type": "text"
      },
      "source": [
        "I have tried 0.3 as the threshold value. You may try any other value as well. Let's check the F1 score again on these new predictions."
      ]
    },
    {
      "cell_type": "code",
      "metadata": {
        "id": "emACNSFUIMpy",
        "colab_type": "code",
        "colab": {}
      },
      "source": [
        "# # evaluate performance\n",
        "# f1_score(yval, y_pred_new, average=\"micro\")"
      ],
      "execution_count": 34,
      "outputs": []
    },
    {
      "cell_type": "markdown",
      "metadata": {
        "id": "yaat4MXFJxZk",
        "colab_type": "text"
      },
      "source": [
        "A better approach to find the right threshold value would be to use a k-fold cross validation setup and try different threshold values."
      ]
    },
    {
      "cell_type": "markdown",
      "metadata": {
        "id": "hpURW_KLKSA2",
        "colab_type": "text"
      },
      "source": [
        "### Create Inference Function\n",
        "\n",
        "Our job is still not over. We have trained our model and we have also made predictions for the validation set. However, we also have to take care of the new data or that would come in the future. Our prediction system should be able to take a text in raw form as input and give out its category tags as output.\n",
        "\n",
        "To achieve this objective, let's build an inference function. It will take in a text and follow the steps below:\n",
        "\n",
        "\n",
        "\n",
        "*   Clean the text\n",
        "*   Remove stopwords from the cleaned text\n",
        "*   Extract features from the text\n",
        "*   Make predictions\n",
        "*   Return the predicted category tags\n",
        "\n",
        "\n"
      ]
    },
    {
      "cell_type": "code",
      "metadata": {
        "id": "aU_nuhCHF2yQ",
        "colab_type": "code",
        "colab": {}
      },
      "source": [
        "def infer_tags(q):\n",
        "    q = clean_text(q)\n",
        "    q = remove_stopwords(q)\n",
        "    q_vec = tfidf_vectorizer.transform([q])\n",
        "    q_pred = clf.predict(q_vec)\n",
        "    return multilabel_binarizer.inverse_transform(q_pred)"
      ],
      "execution_count": 35,
      "outputs": []
    },
    {
      "cell_type": "markdown",
      "metadata": {
        "id": "68RwoDzrNG_h",
        "colab_type": "text"
      },
      "source": [
        "Let's test this inference function on a few samples from the validation set."
      ]
    },
    {
      "cell_type": "code",
      "metadata": {
        "id": "eMIcpA6BOjVh",
        "colab_type": "code",
        "colab": {
          "base_uri": "https://localhost:8080/",
          "height": 727
        },
        "outputId": "acef77eb-bbc5-4fc6-e77a-37e5fd402e54"
      },
      "source": [
        "for i in range(10):\n",
        "    k = xval.sample(1).index[0]\n",
        "    print(\"Category of Violence: \", df['text'][k], \"\\nPredicted category: \", infer_tags(xval[k])), print(\"Actual tag: \",df['force_tags'][k], \"\\n\")   "
      ],
      "execution_count": 36,
      "outputs": [
        {
          "output_type": "stream",
          "text": [
            "Category of Violence:  protester shows wound inflicted by less lethal round \n",
            "Predicted category:  [()]\n",
            "Actual tag:  Presence \n",
            "\n",
            "Category of Violence:  police fire at protesters on ground \n",
            "Predicted category:  [('Projectiles',)]\n",
            "Actual tag:  Projectiles \n",
            "\n",
            "Category of Violence:  officer forces woman into car and wrestles with another \n",
            "Predicted category:  [('Blunt Impact',)]\n",
            "Actual tag:  Blunt Impact \n",
            "\n",
            "Category of Violence:  police harass and assault john cusack \n",
            "Predicted category:  [('EHC Hard Technique',)]\n",
            "Actual tag:  EHC Hard Technique \n",
            "\n",
            "Category of Violence:  tattoo artist arrested while painting the outside of his shop  police fail to deescalate \n",
            "Predicted category:  [('EHC Soft Technique',)]\n",
            "Actual tag:  EHC Soft Technique \n",
            "\n",
            "Category of Violence:  police shove and pepper spray protesters \n",
            "Predicted category:  [('Chemical', 'EHC Soft Technique', 'Projectiles')]\n",
            "Actual tag:  EHC Soft Technique, Projectiles, Chemical \n",
            "\n",
            "Category of Violence:  police collide with woman  she pushes back  police escalate \n",
            "Predicted category:  [()]\n",
            "Actual tag:  Other/Unknown \n",
            "\n",
            "Category of Violence:  police fire at peaceful protesters \n",
            "Predicted category:  [('Projectiles',)]\n",
            "Actual tag:  Projectiles \n",
            "\n",
            "Category of Violence:  officers shove and pepper spray protesters on sidewalk \n",
            "Predicted category:  [('Chemical', 'EHC Soft Technique', 'Projectiles')]\n",
            "Actual tag:  EHC Soft Technique, Projectiles, Chemical \n",
            "\n",
            "Category of Violence:  police drive by man and hit him with car door \n",
            "Predicted category:  [('Blunt Impact',)]\n",
            "Actual tag:  Blunt Impact \n",
            "\n"
          ],
          "name": "stdout"
        }
      ]
    },
    {
      "cell_type": "code",
      "metadata": {
        "id": "JNeuZtje_tLU",
        "colab_type": "code",
        "colab": {}
      },
      "source": [
        "df_new = df.copy()\n"
      ],
      "execution_count": 37,
      "outputs": []
    },
    {
      "cell_type": "code",
      "metadata": {
        "id": "iiYwEpNtB8Rl",
        "colab_type": "code",
        "colab": {
          "base_uri": "https://localhost:8080/",
          "height": 197
        },
        "outputId": "4551b1c4-62c8-439a-c650-e1665c5a1f0e"
      },
      "source": [
        "df_new = df_new[['id', 'date', 'LATITUDE', 'LONGITUDE', 'new_text']]\n",
        "df_new.head(5)"
      ],
      "execution_count": 38,
      "outputs": [
        {
          "output_type": "execute_result",
          "data": {
            "text/html": [
              "<div>\n",
              "<style scoped>\n",
              "    .dataframe tbody tr th:only-of-type {\n",
              "        vertical-align: middle;\n",
              "    }\n",
              "\n",
              "    .dataframe tbody tr th {\n",
              "        vertical-align: top;\n",
              "    }\n",
              "\n",
              "    .dataframe thead th {\n",
              "        text-align: right;\n",
              "    }\n",
              "</style>\n",
              "<table border=\"1\" class=\"dataframe\">\n",
              "  <thead>\n",
              "    <tr style=\"text-align: right;\">\n",
              "      <th></th>\n",
              "      <th>id</th>\n",
              "      <th>date</th>\n",
              "      <th>LATITUDE</th>\n",
              "      <th>LONGITUDE</th>\n",
              "      <th>new_text</th>\n",
              "    </tr>\n",
              "  </thead>\n",
              "  <tbody>\n",
              "    <tr>\n",
              "      <th>0</th>\n",
              "      <td>la-neworleans-1</td>\n",
              "      <td>6/3/2020</td>\n",
              "      <td>29.963071</td>\n",
              "      <td>-90.160953</td>\n",
              "      <td>police throw tear gas protesters bridge</td>\n",
              "    </tr>\n",
              "    <tr>\n",
              "      <th>1</th>\n",
              "      <td>tx-austin-2</td>\n",
              "      <td>5/30/2020</td>\n",
              "      <td>30.210692</td>\n",
              "      <td>-97.942749</td>\n",
              "      <td>police assault protesters</td>\n",
              "    </tr>\n",
              "    <tr>\n",
              "      <th>2</th>\n",
              "      <td>tx-austin-3</td>\n",
              "      <td>5/30/2020</td>\n",
              "      <td>30.210692</td>\n",
              "      <td>-97.942749</td>\n",
              "      <td>police shoot non violent protester head</td>\n",
              "    </tr>\n",
              "    <tr>\n",
              "      <th>3</th>\n",
              "      <td>tx-austin-4</td>\n",
              "      <td>5/30/2020</td>\n",
              "      <td>30.210692</td>\n",
              "      <td>-97.942749</td>\n",
              "      <td>police use tear gas rubber bullets protesters</td>\n",
              "    </tr>\n",
              "    <tr>\n",
              "      <th>4</th>\n",
              "      <td>tx-austin-5</td>\n",
              "      <td>5/30/2020</td>\n",
              "      <td>30.210692</td>\n",
              "      <td>-97.942749</td>\n",
              "      <td>police open fire crowd rubber bullets</td>\n",
              "    </tr>\n",
              "  </tbody>\n",
              "</table>\n",
              "</div>"
            ],
            "text/plain": [
              "                id  ...                                       new_text\n",
              "0  la-neworleans-1  ...        police throw tear gas protesters bridge\n",
              "1      tx-austin-2  ...                      police assault protesters\n",
              "2      tx-austin-3  ...        police shoot non violent protester head\n",
              "3      tx-austin-4  ...  police use tear gas rubber bullets protesters\n",
              "4      tx-austin-5  ...          police open fire crowd rubber bullets\n",
              "\n",
              "[5 rows x 5 columns]"
            ]
          },
          "metadata": {
            "tags": []
          },
          "execution_count": 38
        }
      ]
    },
    {
      "cell_type": "code",
      "metadata": {
        "id": "gPWymQqF7ncV",
        "colab_type": "code",
        "colab": {}
      },
      "source": [
        "new__tfidf = tfidf_vectorizer.transform(df_new['new_text'])\n",
        "y_pred = clf.predict(new__tfidf)\n",
        "\n",
        "df_new['tag_predicted'] = multilabel_binarizer.inverse_transform(y_pred)\n"
      ],
      "execution_count": 39,
      "outputs": []
    },
    {
      "cell_type": "code",
      "metadata": {
        "id": "hqIIJav6LdH8",
        "colab_type": "code",
        "colab": {
          "base_uri": "https://localhost:8080/",
          "height": 230
        },
        "outputId": "34456f9e-c49c-452e-c057-332c30256afa"
      },
      "source": [
        "df_new['tag_predicted']"
      ],
      "execution_count": 40,
      "outputs": [
        {
          "output_type": "execute_result",
          "data": {
            "text/plain": [
              "0                           (Projectiles,)\n",
              "1                    (EHC Hard Technique,)\n",
              "2                           (Projectiles,)\n",
              "3                           (Projectiles,)\n",
              "4                           (Projectiles,)\n",
              "                       ...                \n",
              "1034                        (Projectiles,)\n",
              "1035                        (Projectiles,)\n",
              "1036               (Chemical, Projectiles)\n",
              "1037                 (EHC Soft Technique,)\n",
              "1038    (Blunt Impact, EHC Soft Technique)\n",
              "Name: tag_predicted, Length: 1039, dtype: object"
            ]
          },
          "metadata": {
            "tags": []
          },
          "execution_count": 40
        }
      ]
    },
    {
      "cell_type": "code",
      "metadata": {
        "id": "Uhl8AL80SE7t",
        "colab_type": "code",
        "colab": {}
      },
      "source": [
        "#df_new['tag_predicted'] = df_new['tag_predicted'].apply(lambda x: ', '.join(x))"
      ],
      "execution_count": 41,
      "outputs": []
    },
    {
      "cell_type": "code",
      "metadata": {
        "id": "phoBuueR95P0",
        "colab_type": "code",
        "colab": {
          "base_uri": "https://localhost:8080/",
          "height": 532
        },
        "outputId": "deabc6c4-2657-4c0f-ff39-4a84baca7c4f"
      },
      "source": [
        "df_new['tag_predicted'].value_counts()"
      ],
      "execution_count": 42,
      "outputs": [
        {
          "output_type": "execute_result",
          "data": {
            "text/plain": [
              "(Projectiles,)                                                                   232\n",
              "(EHC Soft Technique,)                                                            207\n",
              "(Other/Unknown,)                                                                 191\n",
              "(Chemical, Projectiles)                                                          117\n",
              "()                                                                                63\n",
              "(EHC Hard Technique,)                                                             60\n",
              "(Blunt Impact,)                                                                   38\n",
              "(Chemical, EHC Soft Technique, Projectiles)                                       22\n",
              "(Blunt Impact, EHC Hard Technique)                                                21\n",
              "(Blunt Impact, EHC Soft Technique)                                                18\n",
              "(EHC Hard Technique, EHC Soft Technique)                                          17\n",
              "(EHC Soft Technique, Projectiles)                                                 10\n",
              "(Blunt Impact, Projectiles)                                                        9\n",
              "(Chemical, EHC Hard Technique, Projectiles)                                        9\n",
              "(Conductive Energy, Projectiles)                                                   5\n",
              "(Chemical,)                                                                        4\n",
              "(Blunt Impact, Chemical, Projectiles)                                              4\n",
              "(Blunt Impact, Chemical, EHC Hard Technique, Projectiles)                          2\n",
              "(Chemical, EHC Soft Technique)                                                     1\n",
              "(Presence,)                                                                        1\n",
              "(Conductive Energy,)                                                               1\n",
              "(Blunt Impact, EHC Hard Technique, EHC Soft Technique)                             1\n",
              "(EHC Hard Technique, Projectiles)                                                  1\n",
              "(Blunt Impact, EHC Hard Technique, EHC Soft Technique, Projectiles)                1\n",
              "(Blunt Impact, EHC Soft Technique, Projectiles)                                    1\n",
              "(Blunt Impact, Chemical, EHC Hard Technique, EHC Soft Technique, Projectiles)      1\n",
              "(Presence, Projectiles)                                                            1\n",
              "(Chemical, EHC Hard Technique, EHC Soft Technique, Projectiles)                    1\n",
              "Name: tag_predicted, dtype: int64"
            ]
          },
          "metadata": {
            "tags": []
          },
          "execution_count": 42
        }
      ]
    },
    {
      "cell_type": "code",
      "metadata": {
        "id": "BL7CNAOA7KcM",
        "colab_type": "code",
        "colab": {
          "base_uri": "https://localhost:8080/",
          "height": 1000
        },
        "outputId": "db2bb8f8-5a87-4677-bb29-16d59d70e93e"
      },
      "source": [
        "df_newer = df_new.explode('tag_predicted')\n",
        "\n",
        "df_newer.head(40)"
      ],
      "execution_count": 43,
      "outputs": [
        {
          "output_type": "execute_result",
          "data": {
            "text/html": [
              "<div>\n",
              "<style scoped>\n",
              "    .dataframe tbody tr th:only-of-type {\n",
              "        vertical-align: middle;\n",
              "    }\n",
              "\n",
              "    .dataframe tbody tr th {\n",
              "        vertical-align: top;\n",
              "    }\n",
              "\n",
              "    .dataframe thead th {\n",
              "        text-align: right;\n",
              "    }\n",
              "</style>\n",
              "<table border=\"1\" class=\"dataframe\">\n",
              "  <thead>\n",
              "    <tr style=\"text-align: right;\">\n",
              "      <th></th>\n",
              "      <th>id</th>\n",
              "      <th>date</th>\n",
              "      <th>LATITUDE</th>\n",
              "      <th>LONGITUDE</th>\n",
              "      <th>new_text</th>\n",
              "      <th>tag_predicted</th>\n",
              "    </tr>\n",
              "  </thead>\n",
              "  <tbody>\n",
              "    <tr>\n",
              "      <th>0</th>\n",
              "      <td>la-neworleans-1</td>\n",
              "      <td>6/3/2020</td>\n",
              "      <td>29.963071</td>\n",
              "      <td>-90.160953</td>\n",
              "      <td>police throw tear gas protesters bridge</td>\n",
              "      <td>Projectiles</td>\n",
              "    </tr>\n",
              "    <tr>\n",
              "      <th>1</th>\n",
              "      <td>tx-austin-2</td>\n",
              "      <td>5/30/2020</td>\n",
              "      <td>30.210692</td>\n",
              "      <td>-97.942749</td>\n",
              "      <td>police assault protesters</td>\n",
              "      <td>EHC Hard Technique</td>\n",
              "    </tr>\n",
              "    <tr>\n",
              "      <th>2</th>\n",
              "      <td>tx-austin-3</td>\n",
              "      <td>5/30/2020</td>\n",
              "      <td>30.210692</td>\n",
              "      <td>-97.942749</td>\n",
              "      <td>police shoot non violent protester head</td>\n",
              "      <td>Projectiles</td>\n",
              "    </tr>\n",
              "    <tr>\n",
              "      <th>3</th>\n",
              "      <td>tx-austin-4</td>\n",
              "      <td>5/30/2020</td>\n",
              "      <td>30.210692</td>\n",
              "      <td>-97.942749</td>\n",
              "      <td>police use tear gas rubber bullets protesters</td>\n",
              "      <td>Projectiles</td>\n",
              "    </tr>\n",
              "    <tr>\n",
              "      <th>4</th>\n",
              "      <td>tx-austin-5</td>\n",
              "      <td>5/30/2020</td>\n",
              "      <td>30.210692</td>\n",
              "      <td>-97.942749</td>\n",
              "      <td>police open fire crowd rubber bullets</td>\n",
              "      <td>Projectiles</td>\n",
              "    </tr>\n",
              "    <tr>\n",
              "      <th>5</th>\n",
              "      <td>tx-austin-8</td>\n",
              "      <td>5/30/2020</td>\n",
              "      <td>30.210692</td>\n",
              "      <td>-97.942749</td>\n",
              "      <td>pregnant woman shot bean bags police</td>\n",
              "      <td>Projectiles</td>\n",
              "    </tr>\n",
              "    <tr>\n",
              "      <th>6</th>\n",
              "      <td>tx-austin-10</td>\n",
              "      <td>5/30/2020</td>\n",
              "      <td>30.210692</td>\n",
              "      <td>-97.942749</td>\n",
              "      <td>police use horses weapons</td>\n",
              "      <td>Blunt Impact</td>\n",
              "    </tr>\n",
              "    <tr>\n",
              "      <th>7</th>\n",
              "      <td>tx-austin-1</td>\n",
              "      <td>5/31/2020</td>\n",
              "      <td>30.210692</td>\n",
              "      <td>-97.942749</td>\n",
              "      <td>police critically injure year old black protester protests police violence</td>\n",
              "      <td>Other/Unknown</td>\n",
              "    </tr>\n",
              "    <tr>\n",
              "      <th>8</th>\n",
              "      <td>tx-austin-6</td>\n",
              "      <td>5/31/2020</td>\n",
              "      <td>30.210692</td>\n",
              "      <td>-97.942749</td>\n",
              "      <td>police open fire crowd protester throws water</td>\n",
              "      <td>Projectiles</td>\n",
              "    </tr>\n",
              "    <tr>\n",
              "      <th>9</th>\n",
              "      <td>tx-austin-7</td>\n",
              "      <td>5/31/2020</td>\n",
              "      <td>30.210692</td>\n",
              "      <td>-97.942749</td>\n",
              "      <td>police spray man face stands still feet away</td>\n",
              "      <td>Chemical</td>\n",
              "    </tr>\n",
              "    <tr>\n",
              "      <th>10</th>\n",
              "      <td>tx-austin-13</td>\n",
              "      <td>5/31/2020</td>\n",
              "      <td>30.210692</td>\n",
              "      <td>-97.942749</td>\n",
              "      <td>woman shot face bean bag</td>\n",
              "      <td>Projectiles</td>\n",
              "    </tr>\n",
              "    <tr>\n",
              "      <th>11</th>\n",
              "      <td>tx-austin-9</td>\n",
              "      <td>6/2/2020</td>\n",
              "      <td>30.210692</td>\n",
              "      <td>-97.942749</td>\n",
              "      <td>police fire upon protesters seeking medical help</td>\n",
              "      <td>Projectiles</td>\n",
              "    </tr>\n",
              "    <tr>\n",
              "      <th>12</th>\n",
              "      <td>tx-austin-14</td>\n",
              "      <td>6/7/2020</td>\n",
              "      <td>30.210692</td>\n",
              "      <td>-97.942749</td>\n",
              "      <td>police violently arrest drummer</td>\n",
              "      <td>EHC Soft Technique</td>\n",
              "    </tr>\n",
              "    <tr>\n",
              "      <th>13</th>\n",
              "      <td>tx-austin-11</td>\n",
              "      <td>6/12/2020</td>\n",
              "      <td>30.210692</td>\n",
              "      <td>-97.942749</td>\n",
              "      <td>police kneel mans neck make arrest</td>\n",
              "      <td>EHC Hard Technique</td>\n",
              "    </tr>\n",
              "    <tr>\n",
              "      <th>13</th>\n",
              "      <td>tx-austin-11</td>\n",
              "      <td>6/12/2020</td>\n",
              "      <td>30.210692</td>\n",
              "      <td>-97.942749</td>\n",
              "      <td>police kneel mans neck make arrest</td>\n",
              "      <td>EHC Soft Technique</td>\n",
              "    </tr>\n",
              "    <tr>\n",
              "      <th>14</th>\n",
              "      <td>tx-austin-12</td>\n",
              "      <td>6/27/2020</td>\n",
              "      <td>30.210692</td>\n",
              "      <td>-97.942749</td>\n",
              "      <td>police punch arrestee ground</td>\n",
              "      <td>EHC Hard Technique</td>\n",
              "    </tr>\n",
              "    <tr>\n",
              "      <th>14</th>\n",
              "      <td>tx-austin-12</td>\n",
              "      <td>6/27/2020</td>\n",
              "      <td>30.210692</td>\n",
              "      <td>-97.942749</td>\n",
              "      <td>police punch arrestee ground</td>\n",
              "      <td>EHC Soft Technique</td>\n",
              "    </tr>\n",
              "    <tr>\n",
              "      <th>15</th>\n",
              "      <td>tx-austin-15</td>\n",
              "      <td>7/17/2020</td>\n",
              "      <td>30.210692</td>\n",
              "      <td>-97.942749</td>\n",
              "      <td>livestreamer arrested punched</td>\n",
              "      <td>EHC Hard Technique</td>\n",
              "    </tr>\n",
              "    <tr>\n",
              "      <th>15</th>\n",
              "      <td>tx-austin-15</td>\n",
              "      <td>7/17/2020</td>\n",
              "      <td>30.210692</td>\n",
              "      <td>-97.942749</td>\n",
              "      <td>livestreamer arrested punched</td>\n",
              "      <td>EHC Soft Technique</td>\n",
              "    </tr>\n",
              "    <tr>\n",
              "      <th>16</th>\n",
              "      <td>tx-austin-16</td>\n",
              "      <td>8/1/2020</td>\n",
              "      <td>30.210692</td>\n",
              "      <td>-97.942749</td>\n",
              "      <td>police shove pepper spray protesters</td>\n",
              "      <td>Chemical</td>\n",
              "    </tr>\n",
              "    <tr>\n",
              "      <th>16</th>\n",
              "      <td>tx-austin-16</td>\n",
              "      <td>8/1/2020</td>\n",
              "      <td>30.210692</td>\n",
              "      <td>-97.942749</td>\n",
              "      <td>police shove pepper spray protesters</td>\n",
              "      <td>EHC Soft Technique</td>\n",
              "    </tr>\n",
              "    <tr>\n",
              "      <th>16</th>\n",
              "      <td>tx-austin-16</td>\n",
              "      <td>8/1/2020</td>\n",
              "      <td>30.210692</td>\n",
              "      <td>-97.942749</td>\n",
              "      <td>police shove pepper spray protesters</td>\n",
              "      <td>Projectiles</td>\n",
              "    </tr>\n",
              "    <tr>\n",
              "      <th>17</th>\n",
              "      <td>tx-austin-17</td>\n",
              "      <td>8/1/2020</td>\n",
              "      <td>30.210692</td>\n",
              "      <td>-97.942749</td>\n",
              "      <td>police push protesters horses</td>\n",
              "      <td>NaN</td>\n",
              "    </tr>\n",
              "    <tr>\n",
              "      <th>18</th>\n",
              "      <td>tx-baytown-1</td>\n",
              "      <td>6/2/2020</td>\n",
              "      <td>29.746063</td>\n",
              "      <td>-94.965265</td>\n",
              "      <td>police officer tackles knees man ground</td>\n",
              "      <td>NaN</td>\n",
              "    </tr>\n",
              "    <tr>\n",
              "      <th>19</th>\n",
              "      <td>tx-dallas-1</td>\n",
              "      <td>5/30/2020</td>\n",
              "      <td>32.996848</td>\n",
              "      <td>-96.792113</td>\n",
              "      <td>police shoot unarmed woman face rubber bullet</td>\n",
              "      <td>Projectiles</td>\n",
              "    </tr>\n",
              "    <tr>\n",
              "      <th>20</th>\n",
              "      <td>tx-dallas-4</td>\n",
              "      <td>5/30/2020</td>\n",
              "      <td>32.996848</td>\n",
              "      <td>-96.792113</td>\n",
              "      <td>man shot eye</td>\n",
              "      <td>Projectiles</td>\n",
              "    </tr>\n",
              "    <tr>\n",
              "      <th>21</th>\n",
              "      <td>tx-dallas-2</td>\n",
              "      <td>5/31/2020</td>\n",
              "      <td>32.996848</td>\n",
              "      <td>-96.792113</td>\n",
              "      <td>police use flashbangs tear gas protesters</td>\n",
              "      <td>Other/Unknown</td>\n",
              "    </tr>\n",
              "    <tr>\n",
              "      <th>22</th>\n",
              "      <td>tx-dallas-5</td>\n",
              "      <td>6/1/2020</td>\n",
              "      <td>32.996848</td>\n",
              "      <td>-96.792113</td>\n",
              "      <td>police fire rubber bullet peaceful protester</td>\n",
              "      <td>Projectiles</td>\n",
              "    </tr>\n",
              "    <tr>\n",
              "      <th>23</th>\n",
              "      <td>tx-dallas-3</td>\n",
              "      <td>6/2/2020</td>\n",
              "      <td>32.996848</td>\n",
              "      <td>-96.792113</td>\n",
              "      <td>police maneuver protesters onto bridge fire tear gas rubber bullets</td>\n",
              "      <td>Projectiles</td>\n",
              "    </tr>\n",
              "    <tr>\n",
              "      <th>24</th>\n",
              "      <td>tx-elpaso-1</td>\n",
              "      <td>5/31/2020</td>\n",
              "      <td>31.758411</td>\n",
              "      <td>-106.478311</td>\n",
              "      <td>police fire teargas canisters projectiles peaceful crowd unarmed protesters</td>\n",
              "      <td>Projectiles</td>\n",
              "    </tr>\n",
              "    <tr>\n",
              "      <th>25</th>\n",
              "      <td>tx-houston-1</td>\n",
              "      <td>5/29/2020</td>\n",
              "      <td>29.596156</td>\n",
              "      <td>-95.458709</td>\n",
              "      <td>police trample protester horse</td>\n",
              "      <td>NaN</td>\n",
              "    </tr>\n",
              "    <tr>\n",
              "      <th>26</th>\n",
              "      <td>tx-houston-2</td>\n",
              "      <td>5/29/2020</td>\n",
              "      <td>29.596156</td>\n",
              "      <td>-95.458709</td>\n",
              "      <td>officers shove woman pavement</td>\n",
              "      <td>EHC Soft Technique</td>\n",
              "    </tr>\n",
              "    <tr>\n",
              "      <th>27</th>\n",
              "      <td>tx-houston-4</td>\n",
              "      <td>6/2/2020</td>\n",
              "      <td>29.596156</td>\n",
              "      <td>-95.458709</td>\n",
              "      <td>police beat protester batons pepper spray another man recording</td>\n",
              "      <td>Blunt Impact</td>\n",
              "    </tr>\n",
              "    <tr>\n",
              "      <th>27</th>\n",
              "      <td>tx-houston-4</td>\n",
              "      <td>6/2/2020</td>\n",
              "      <td>29.596156</td>\n",
              "      <td>-95.458709</td>\n",
              "      <td>police beat protester batons pepper spray another man recording</td>\n",
              "      <td>Chemical</td>\n",
              "    </tr>\n",
              "    <tr>\n",
              "      <th>27</th>\n",
              "      <td>tx-houston-4</td>\n",
              "      <td>6/2/2020</td>\n",
              "      <td>29.596156</td>\n",
              "      <td>-95.458709</td>\n",
              "      <td>police beat protester batons pepper spray another man recording</td>\n",
              "      <td>EHC Hard Technique</td>\n",
              "    </tr>\n",
              "    <tr>\n",
              "      <th>27</th>\n",
              "      <td>tx-houston-4</td>\n",
              "      <td>6/2/2020</td>\n",
              "      <td>29.596156</td>\n",
              "      <td>-95.458709</td>\n",
              "      <td>police beat protester batons pepper spray another man recording</td>\n",
              "      <td>Projectiles</td>\n",
              "    </tr>\n",
              "    <tr>\n",
              "      <th>28</th>\n",
              "      <td>tx-houston-5</td>\n",
              "      <td>6/2/2020</td>\n",
              "      <td>29.596156</td>\n",
              "      <td>-95.458709</td>\n",
              "      <td>officers violently arrest protesters sidewalk</td>\n",
              "      <td>EHC Soft Technique</td>\n",
              "    </tr>\n",
              "    <tr>\n",
              "      <th>29</th>\n",
              "      <td>tx-lewisville-1</td>\n",
              "      <td>6/2/2020</td>\n",
              "      <td>33.046111</td>\n",
              "      <td>-96.993889</td>\n",
              "      <td>officers deploy tear gas peaceful protesters</td>\n",
              "      <td>Other/Unknown</td>\n",
              "    </tr>\n",
              "    <tr>\n",
              "      <th>30</th>\n",
              "      <td>tx-sanantonio-1</td>\n",
              "      <td>5/31/2020</td>\n",
              "      <td>29.468525</td>\n",
              "      <td>-98.526352</td>\n",
              "      <td>police shoot man filming allegedly rubber bullets</td>\n",
              "      <td>Projectiles</td>\n",
              "    </tr>\n",
              "    <tr>\n",
              "      <th>31</th>\n",
              "      <td>tx-sanantonio-2</td>\n",
              "      <td>6/2/2020</td>\n",
              "      <td>29.468525</td>\n",
              "      <td>-98.526352</td>\n",
              "      <td>police fire protesters without warning</td>\n",
              "      <td>Projectiles</td>\n",
              "    </tr>\n",
              "  </tbody>\n",
              "</table>\n",
              "</div>"
            ],
            "text/plain": [
              "                 id  ...       tag_predicted\n",
              "0   la-neworleans-1  ...         Projectiles\n",
              "1       tx-austin-2  ...  EHC Hard Technique\n",
              "2       tx-austin-3  ...         Projectiles\n",
              "3       tx-austin-4  ...         Projectiles\n",
              "4       tx-austin-5  ...         Projectiles\n",
              "5       tx-austin-8  ...         Projectiles\n",
              "6      tx-austin-10  ...        Blunt Impact\n",
              "7       tx-austin-1  ...       Other/Unknown\n",
              "8       tx-austin-6  ...         Projectiles\n",
              "9       tx-austin-7  ...            Chemical\n",
              "10     tx-austin-13  ...         Projectiles\n",
              "11      tx-austin-9  ...         Projectiles\n",
              "12     tx-austin-14  ...  EHC Soft Technique\n",
              "13     tx-austin-11  ...  EHC Hard Technique\n",
              "13     tx-austin-11  ...  EHC Soft Technique\n",
              "14     tx-austin-12  ...  EHC Hard Technique\n",
              "14     tx-austin-12  ...  EHC Soft Technique\n",
              "15     tx-austin-15  ...  EHC Hard Technique\n",
              "15     tx-austin-15  ...  EHC Soft Technique\n",
              "16     tx-austin-16  ...            Chemical\n",
              "16     tx-austin-16  ...  EHC Soft Technique\n",
              "16     tx-austin-16  ...         Projectiles\n",
              "17     tx-austin-17  ...                 NaN\n",
              "18     tx-baytown-1  ...                 NaN\n",
              "19      tx-dallas-1  ...         Projectiles\n",
              "20      tx-dallas-4  ...         Projectiles\n",
              "21      tx-dallas-2  ...       Other/Unknown\n",
              "22      tx-dallas-5  ...         Projectiles\n",
              "23      tx-dallas-3  ...         Projectiles\n",
              "24      tx-elpaso-1  ...         Projectiles\n",
              "25     tx-houston-1  ...                 NaN\n",
              "26     tx-houston-2  ...  EHC Soft Technique\n",
              "27     tx-houston-4  ...        Blunt Impact\n",
              "27     tx-houston-4  ...            Chemical\n",
              "27     tx-houston-4  ...  EHC Hard Technique\n",
              "27     tx-houston-4  ...         Projectiles\n",
              "28     tx-houston-5  ...  EHC Soft Technique\n",
              "29  tx-lewisville-1  ...       Other/Unknown\n",
              "30  tx-sanantonio-1  ...         Projectiles\n",
              "31  tx-sanantonio-2  ...         Projectiles\n",
              "\n",
              "[40 rows x 6 columns]"
            ]
          },
          "metadata": {
            "tags": []
          },
          "execution_count": 43
        }
      ]
    },
    {
      "cell_type": "code",
      "metadata": {
        "id": "jEsi-xF5BmUi",
        "colab_type": "code",
        "colab": {}
      },
      "source": [
        "# #pickle that data for use in other files\n",
        "# import pickle\n",
        "# #pickle currently used for project:\n",
        "# filename = 'vect_bin_pickle.pkl'\n",
        "# with open(filename, 'wb') as file:\n",
        "#     pickle.dump({'clf': clf, 'tfidf': tfidf_vectorizer, 'mlb': multilabel_binarizer}, file)"
      ],
      "execution_count": 46,
      "outputs": []
    },
    {
      "cell_type": "markdown",
      "metadata": {
        "id": "cQFSgu0Ma0Yo",
        "colab_type": "text"
      },
      "source": [
        "## Types of force to find in data:  \n",
        "Blunt Impact  \n",
        "Chemical  \n",
        "Conductive Energy  \n",
        "EHC Hard Technique  \n",
        "EHC Soft Technique  \n",
        "Other/Unknown  \n",
        "Presence  \n",
        "Projectiles  \n",
        "Verbalization"
      ]
    }
  ]
}