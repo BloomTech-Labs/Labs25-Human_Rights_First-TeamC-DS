{
  "nbformat": 4,
  "nbformat_minor": 0,
  "metadata": {
    "colab": {
      "name": "Category_prediction.ipynb",
      "provenance": [],
      "collapsed_sections": []
    },
    "language_info": {
      "codemirror_mode": {
        "name": "ipython",
        "version": 3
      },
      "file_extension": ".py",
      "mimetype": "text/x-python",
      "name": "python",
      "nbconvert_exporter": "python",
      "pygments_lexer": "ipython3",
      "version": "3.6.7"
    },
    "kernelspec": {
      "display_name": "Python 3",
      "language": "python",
      "name": "python3"
    }
  },
  "cells": [
    {
      "cell_type": "markdown",
      "metadata": {
        "id": "QdDc_NWWkRm9",
        "colab_type": "text"
      },
      "source": [
        "This notebook is following the direction and notes of: https://github.com/prateekjoshi565/movie_genre_prediction/blob/master/Movie_Genre_Prediction.ipynb\n",
        "\n",
        "We will start by importing the required libraries. "
      ]
    },
    {
      "cell_type": "code",
      "metadata": {
        "id": "qOO_PawwF2tI",
        "colab_type": "code",
        "colab": {
          "base_uri": "https://localhost:8080/",
          "height": 72
        },
        "outputId": "525211c3-b600-4ffa-e297-33ea26f4680a"
      },
      "source": [
        "import pandas as pd\n",
        "import numpy as np\n",
        "import json\n",
        "import nltk\n",
        "import re\n",
        "import csv\n",
        "import matplotlib.pyplot as plt \n",
        "import seaborn as sns\n",
        "from tqdm import tqdm\n",
        "from sklearn.feature_extraction.text import TfidfVectorizer\n",
        "from sklearn.model_selection import train_test_split\n",
        "\n",
        "%matplotlib inline\n",
        "pd.set_option('display.max_colwidth', 300)"
      ],
      "execution_count": 1,
      "outputs": [
        {
          "output_type": "stream",
          "text": [
            "/usr/local/lib/python3.6/dist-packages/statsmodels/tools/_testing.py:19: FutureWarning: pandas.util.testing is deprecated. Use the functions in the public API at pandas.testing instead.\n",
            "  import pandas.util.testing as tm\n"
          ],
          "name": "stderr"
        }
      ]
    },
    {
      "cell_type": "markdown",
      "metadata": {
        "id": "kQ5GUrYJk3Ae",
        "colab_type": "text"
      },
      "source": [
        "### Load Data\n"
      ]
    },
    {
      "cell_type": "code",
      "metadata": {
        "id": "pZ5z5yrvGHty",
        "colab_type": "code",
        "colab": {}
      },
      "source": [
        "import pandas as pd\n",
        "df = pd.read_csv('https://raw.githubusercontent.com/Lambda-School-Labs/Labs25-Human_Rights_First-TeamC-DS/main/Data/training_data.csv', na_values=False)"
      ],
      "execution_count": 2,
      "outputs": []
    },
    {
      "cell_type": "code",
      "metadata": {
        "id": "yxCPm8R6F2tY",
        "colab_type": "code",
        "colab": {
          "base_uri": "https://localhost:8080/",
          "height": 517
        },
        "outputId": "5d96b477-3e5a-41c8-fa06-b814db1bbb52"
      },
      "source": [
        "df = df.drop(columns=df.columns[0])\n",
        "df.head()"
      ],
      "execution_count": 3,
      "outputs": [
        {
          "output_type": "execute_result",
          "data": {
            "text/html": [
              "<div>\n",
              "<style scoped>\n",
              "    .dataframe tbody tr th:only-of-type {\n",
              "        vertical-align: middle;\n",
              "    }\n",
              "\n",
              "    .dataframe tbody tr th {\n",
              "        vertical-align: top;\n",
              "    }\n",
              "\n",
              "    .dataframe thead th {\n",
              "        text-align: right;\n",
              "    }\n",
              "</style>\n",
              "<table border=\"1\" class=\"dataframe\">\n",
              "  <thead>\n",
              "    <tr style=\"text-align: right;\">\n",
              "      <th></th>\n",
              "      <th>date_text</th>\n",
              "      <th>text</th>\n",
              "      <th>tags_str</th>\n",
              "      <th>LATITUDE</th>\n",
              "      <th>LONGITUDE</th>\n",
              "      <th>Link 1</th>\n",
              "      <th>Link 2</th>\n",
              "    </tr>\n",
              "  </thead>\n",
              "  <tbody>\n",
              "    <tr>\n",
              "      <th>0</th>\n",
              "      <td>June 3rd</td>\n",
              "      <td>Police throw tear-gas at protesters on a bridge.</td>\n",
              "      <td>Projectiles</td>\n",
              "      <td>29.963071</td>\n",
              "      <td>-90.160953</td>\n",
              "      <td>https://twitter.com/misaacstein/status/1268381797081022464</td>\n",
              "      <td>https://twitter.com/ckm_news/status/1268382403367763970</td>\n",
              "    </tr>\n",
              "    <tr>\n",
              "      <th>1</th>\n",
              "      <td>June 3rd</td>\n",
              "      <td>Police throw tear-gas at protesters on a bridge.</td>\n",
              "      <td>Projectiles</td>\n",
              "      <td>29.960484</td>\n",
              "      <td>-90.075301</td>\n",
              "      <td>https://twitter.com/misaacstein/status/1268381797081022464</td>\n",
              "      <td>https://twitter.com/ckm_news/status/1268382403367763970</td>\n",
              "    </tr>\n",
              "    <tr>\n",
              "      <th>2</th>\n",
              "      <td>May 30th</td>\n",
              "      <td>Police assault protesters</td>\n",
              "      <td>EHC Hard Technique</td>\n",
              "      <td>30.210692</td>\n",
              "      <td>-97.942749</td>\n",
              "      <td>https://gfycat.com/tautimaginativedore</td>\n",
              "      <td>https://www.reddit.com/r/2020PoliceBrutality/comments/hhhbeh/5302020_austin/</td>\n",
              "    </tr>\n",
              "    <tr>\n",
              "      <th>3</th>\n",
              "      <td>May 30th</td>\n",
              "      <td>Police assault protesters</td>\n",
              "      <td>EHC Hard Technique</td>\n",
              "      <td>30.230300</td>\n",
              "      <td>-97.714400</td>\n",
              "      <td>https://gfycat.com/tautimaginativedore</td>\n",
              "      <td>https://www.reddit.com/r/2020PoliceBrutality/comments/hhhbeh/5302020_austin/</td>\n",
              "    </tr>\n",
              "    <tr>\n",
              "      <th>4</th>\n",
              "      <td>May 30th</td>\n",
              "      <td>Police assault protesters</td>\n",
              "      <td>EHC Hard Technique</td>\n",
              "      <td>30.505972</td>\n",
              "      <td>-97.747187</td>\n",
              "      <td>https://gfycat.com/tautimaginativedore</td>\n",
              "      <td>https://www.reddit.com/r/2020PoliceBrutality/comments/hhhbeh/5302020_austin/</td>\n",
              "    </tr>\n",
              "  </tbody>\n",
              "</table>\n",
              "</div>"
            ],
            "text/plain": [
              "  date_text  ...                                                                        Link 2\n",
              "0  June 3rd  ...                       https://twitter.com/ckm_news/status/1268382403367763970\n",
              "1  June 3rd  ...                       https://twitter.com/ckm_news/status/1268382403367763970\n",
              "2  May 30th  ...  https://www.reddit.com/r/2020PoliceBrutality/comments/hhhbeh/5302020_austin/\n",
              "3  May 30th  ...  https://www.reddit.com/r/2020PoliceBrutality/comments/hhhbeh/5302020_austin/\n",
              "4  May 30th  ...  https://www.reddit.com/r/2020PoliceBrutality/comments/hhhbeh/5302020_austin/\n",
              "\n",
              "[5 rows x 7 columns]"
            ]
          },
          "metadata": {
            "tags": []
          },
          "execution_count": 3
        }
      ]
    },
    {
      "cell_type": "code",
      "metadata": {
        "id": "0cSwigsOF2ul",
        "colab_type": "code",
        "colab": {}
      },
      "source": [
        "# change datatype of 'movie_id'\n",
        "df['text'] = df['text'].astype(str)\n",
        "df['tags_str'] = df['tags_str'].astype(str)\n"
      ],
      "execution_count": 4,
      "outputs": []
    },
    {
      "cell_type": "code",
      "metadata": {
        "id": "qlnt5G_R-2pV",
        "colab_type": "code",
        "colab": {
          "base_uri": "https://localhost:8080/",
          "height": 35
        },
        "outputId": "765d679a-f48e-4e22-b15d-5ee461d0c813"
      },
      "source": [
        "df['tags_str'][0]"
      ],
      "execution_count": 5,
      "outputs": [
        {
          "output_type": "execute_result",
          "data": {
            "application/vnd.google.colaboratory.intrinsic+json": {
              "type": "string"
            },
            "text/plain": [
              "'Projectiles'"
            ]
          },
          "metadata": {
            "tags": []
          },
          "execution_count": 5
        }
      ]
    },
    {
      "cell_type": "code",
      "metadata": {
        "id": "wQ-s57now3xM",
        "colab_type": "code",
        "colab": {
          "base_uri": "https://localhost:8080/",
          "height": 141
        },
        "outputId": "d8ad67a0-ad86-45e9-e629-fc0395d95747"
      },
      "source": [
        "print((df['tags_str'][0]))\n",
        "print(df['tags_str'][:5])"
      ],
      "execution_count": 6,
      "outputs": [
        {
          "output_type": "stream",
          "text": [
            "Projectiles\n",
            "0           Projectiles\n",
            "1           Projectiles\n",
            "2    EHC Hard Technique\n",
            "3    EHC Hard Technique\n",
            "4    EHC Hard Technique\n",
            "Name: tags_str, dtype: object\n"
          ],
          "name": "stdout"
        }
      ]
    },
    {
      "cell_type": "code",
      "metadata": {
        "id": "rZn-ngGdDGiJ",
        "colab_type": "code",
        "colab": {}
      },
      "source": [
        "def tags_cleaner(text):\n",
        "  # remove whitespaces\n",
        "    text = ' '.join(text.split())\n",
        "    # convert text to lowercase\n",
        "    text = text.lower()\n",
        "    \n",
        "    return text\n",
        "\n",
        "\n",
        "\n",
        "df['tags_new_clean'] = df['tags_str'].apply(lambda x: tags_cleaner(x))"
      ],
      "execution_count": 10,
      "outputs": []
    },
    {
      "cell_type": "code",
      "metadata": {
        "id": "emb97XokxJiw",
        "colab_type": "code",
        "colab": {
          "base_uri": "https://localhost:8080/",
          "height": 230
        },
        "outputId": "ac8fa85f-884c-4deb-f51f-aacb7bbab47c"
      },
      "source": [
        "df['tags_new'] = df['tags_new_clean'].apply(lambda x: x.split(', '))\n",
        "df.tags_new"
      ],
      "execution_count": 11,
      "outputs": [
        {
          "output_type": "execute_result",
          "data": {
            "text/plain": [
              "0                 [projectiles]\n",
              "1                 [projectiles]\n",
              "2          [ehc hard technique]\n",
              "3          [ehc hard technique]\n",
              "4          [ehc hard technique]\n",
              "                 ...           \n",
              "1698    [projectiles, chemical]\n",
              "1699       [ehc soft technique]\n",
              "1700       [ehc soft technique]\n",
              "1701       [ehc soft technique]\n",
              "1702       [ehc soft technique]\n",
              "Name: tags_new, Length: 1703, dtype: object"
            ]
          },
          "metadata": {
            "tags": []
          },
          "execution_count": 11
        }
      ]
    },
    {
      "cell_type": "markdown",
      "metadata": {
        "id": "_2fcBkzNGAqJ",
        "colab_type": "text"
      },
      "source": [
        "If you are curious to know which all movie genres have been covered in this dataset, then the following code will be useful for you."
      ]
    },
    {
      "cell_type": "code",
      "metadata": {
        "id": "h7aa0aGO6mfC",
        "colab_type": "code",
        "colab": {
          "base_uri": "https://localhost:8080/",
          "height": 517
        },
        "outputId": "b8072a01-49d2-4712-9568-3f078012810f"
      },
      "source": [
        "df.head(5)"
      ],
      "execution_count": 12,
      "outputs": [
        {
          "output_type": "execute_result",
          "data": {
            "text/html": [
              "<div>\n",
              "<style scoped>\n",
              "    .dataframe tbody tr th:only-of-type {\n",
              "        vertical-align: middle;\n",
              "    }\n",
              "\n",
              "    .dataframe tbody tr th {\n",
              "        vertical-align: top;\n",
              "    }\n",
              "\n",
              "    .dataframe thead th {\n",
              "        text-align: right;\n",
              "    }\n",
              "</style>\n",
              "<table border=\"1\" class=\"dataframe\">\n",
              "  <thead>\n",
              "    <tr style=\"text-align: right;\">\n",
              "      <th></th>\n",
              "      <th>date_text</th>\n",
              "      <th>text</th>\n",
              "      <th>tags_str</th>\n",
              "      <th>LATITUDE</th>\n",
              "      <th>LONGITUDE</th>\n",
              "      <th>Link 1</th>\n",
              "      <th>Link 2</th>\n",
              "      <th>tags_new_clean</th>\n",
              "      <th>tags_new</th>\n",
              "    </tr>\n",
              "  </thead>\n",
              "  <tbody>\n",
              "    <tr>\n",
              "      <th>0</th>\n",
              "      <td>June 3rd</td>\n",
              "      <td>Police throw tear-gas at protesters on a bridge.</td>\n",
              "      <td>Projectiles</td>\n",
              "      <td>29.963071</td>\n",
              "      <td>-90.160953</td>\n",
              "      <td>https://twitter.com/misaacstein/status/1268381797081022464</td>\n",
              "      <td>https://twitter.com/ckm_news/status/1268382403367763970</td>\n",
              "      <td>projectiles</td>\n",
              "      <td>[projectiles]</td>\n",
              "    </tr>\n",
              "    <tr>\n",
              "      <th>1</th>\n",
              "      <td>June 3rd</td>\n",
              "      <td>Police throw tear-gas at protesters on a bridge.</td>\n",
              "      <td>Projectiles</td>\n",
              "      <td>29.960484</td>\n",
              "      <td>-90.075301</td>\n",
              "      <td>https://twitter.com/misaacstein/status/1268381797081022464</td>\n",
              "      <td>https://twitter.com/ckm_news/status/1268382403367763970</td>\n",
              "      <td>projectiles</td>\n",
              "      <td>[projectiles]</td>\n",
              "    </tr>\n",
              "    <tr>\n",
              "      <th>2</th>\n",
              "      <td>May 30th</td>\n",
              "      <td>Police assault protesters</td>\n",
              "      <td>EHC Hard Technique</td>\n",
              "      <td>30.210692</td>\n",
              "      <td>-97.942749</td>\n",
              "      <td>https://gfycat.com/tautimaginativedore</td>\n",
              "      <td>https://www.reddit.com/r/2020PoliceBrutality/comments/hhhbeh/5302020_austin/</td>\n",
              "      <td>ehc hard technique</td>\n",
              "      <td>[ehc hard technique]</td>\n",
              "    </tr>\n",
              "    <tr>\n",
              "      <th>3</th>\n",
              "      <td>May 30th</td>\n",
              "      <td>Police assault protesters</td>\n",
              "      <td>EHC Hard Technique</td>\n",
              "      <td>30.230300</td>\n",
              "      <td>-97.714400</td>\n",
              "      <td>https://gfycat.com/tautimaginativedore</td>\n",
              "      <td>https://www.reddit.com/r/2020PoliceBrutality/comments/hhhbeh/5302020_austin/</td>\n",
              "      <td>ehc hard technique</td>\n",
              "      <td>[ehc hard technique]</td>\n",
              "    </tr>\n",
              "    <tr>\n",
              "      <th>4</th>\n",
              "      <td>May 30th</td>\n",
              "      <td>Police assault protesters</td>\n",
              "      <td>EHC Hard Technique</td>\n",
              "      <td>30.505972</td>\n",
              "      <td>-97.747187</td>\n",
              "      <td>https://gfycat.com/tautimaginativedore</td>\n",
              "      <td>https://www.reddit.com/r/2020PoliceBrutality/comments/hhhbeh/5302020_austin/</td>\n",
              "      <td>ehc hard technique</td>\n",
              "      <td>[ehc hard technique]</td>\n",
              "    </tr>\n",
              "  </tbody>\n",
              "</table>\n",
              "</div>"
            ],
            "text/plain": [
              "  date_text  ...              tags_new\n",
              "0  June 3rd  ...         [projectiles]\n",
              "1  June 3rd  ...         [projectiles]\n",
              "2  May 30th  ...  [ehc hard technique]\n",
              "3  May 30th  ...  [ehc hard technique]\n",
              "4  May 30th  ...  [ehc hard technique]\n",
              "\n",
              "[5 rows x 9 columns]"
            ]
          },
          "metadata": {
            "tags": []
          },
          "execution_count": 12
        }
      ]
    },
    {
      "cell_type": "code",
      "metadata": {
        "id": "eceNopMGF2ve",
        "colab_type": "code",
        "colab": {
          "base_uri": "https://localhost:8080/",
          "height": 72
        },
        "outputId": "c3d57924-bfab-41cc-b961-27f34f3d71d5"
      },
      "source": [
        "# get all genre tags in a list\n",
        "tags = []\n",
        "\n",
        "for i in df['tags_str']:\n",
        "  tags.append(i)\n",
        "\n",
        "\n",
        "\n",
        "print(len(set(tags)))\n",
        "print(set(tags))"
      ],
      "execution_count": 13,
      "outputs": [
        {
          "output_type": "stream",
          "text": [
            "26\n",
            "{'Verbalization, EHC Soft Technique', 'EHC Hard Technique, Projectiles, Chemical', 'Conductive Energy', 'Blunt Impact', 'EHC Soft Technique, EHC Hard Technique, Blunt Impact, Projectiles', 'Blunt Impact, Projectiles, Chemical', 'Projectiles', 'EHC Hard Technique, Blunt Impact', 'Presence, EHC Hard Technique', 'EHC Hard Technique, Blunt Impact, Projectiles, Chemical', 'Blunt Impact, Projectiles', 'EHC Soft Technique, EHC Hard Technique, Projectiles', 'EHC Soft Technique, EHC Hard Technique, Projectiles, Chemical', 'Other', 'EHC Hard Technique', 'Projectiles, Chemical', 'Verbalization', 'EHC Soft Technique, EHC Hard Technique, Blunt Impact, Projectiles, Chemical', 'EHC Soft Technique, Projectiles', 'EHC Soft Technique, EHC Hard Technique', 'Presence, Projectiles', 'EHC Soft Technique, Blunt Impact', 'Presence', 'EHC Soft Technique', 'EHC Soft Technique, Projectiles, Chemical', 'Projectiles, Conductive Energy'}\n"
          ],
          "name": "stdout"
        }
      ]
    },
    {
      "cell_type": "code",
      "metadata": {
        "id": "MXikclL-F2v1",
        "colab_type": "code",
        "colab": {}
      },
      "source": [
        "tags = nltk.FreqDist(tags)\n",
        "tags_df = pd.DataFrame({'Tags': list(tags.keys()), 'Count': list(tags.values())})"
      ],
      "execution_count": 14,
      "outputs": []
    },
    {
      "cell_type": "markdown",
      "metadata": {
        "id": "bYkZUVueIdTm",
        "colab_type": "text"
      },
      "source": [
        "Sometimes visualizing data is better than putting out numbers. Let's plot the distribution of the movie genres."
      ]
    },
    {
      "cell_type": "code",
      "metadata": {
        "id": "ljJeSX0hF2v7",
        "colab_type": "code",
        "colab": {
          "base_uri": "https://localhost:8080/",
          "height": 876
        },
        "outputId": "aece4edf-4463-49d4-dc0c-70b721fd7321"
      },
      "source": [
        "g = tags_df.nlargest(columns=\"Count\", n = 50) \n",
        "plt.figure(figsize=(12,15))\n",
        "ax = sns.barplot(data=g, x= \"Count\", y = \"Tags\")\n",
        "ax.set(ylabel = 'Count')\n",
        "plt.show()"
      ],
      "execution_count": 15,
      "outputs": [
        {
          "output_type": "display_data",
          "data": {
            "image/png": "[encoded data removed]",
            "text/plain": [
              "<Figure size 864x1080 with 1 Axes>"
            ]
          },
          "metadata": {
            "tags": [],
            "needs_background": "light"
          }
        }
      ]
    },
    {
      "cell_type": "markdown",
      "metadata": {
        "id": "eCLjE_3VMBJr",
        "colab_type": "text"
      },
      "source": [
        "Next we will clean our a bit. I will use some very basic text cleaning steps as that is not the focus area of this article."
      ]
    },
    {
      "cell_type": "code",
      "metadata": {
        "id": "EkZHbKwlF2wa",
        "colab_type": "code",
        "colab": {}
      },
      "source": [
        "# function for text cleaning\n",
        "def clean_text(text):\n",
        "    # remove backslash-apostrophe\n",
        "    text = re.sub(\"\\'\", \"\", text)\n",
        "    # remove everything alphabets\n",
        "    text = re.sub(\"[^a-zA-Z]\",\" \",text)\n",
        "    # remove whitespaces\n",
        "    text = ' '.join(text.split())\n",
        "    # convert text to lowercase\n",
        "    text = text.lower()\n",
        "    \n",
        "    return text"
      ],
      "execution_count": 16,
      "outputs": []
    },
    {
      "cell_type": "markdown",
      "metadata": {
        "id": "V7RVglMbMmx1",
        "colab_type": "text"
      },
      "source": [
        "Apply the function on the new text plots by using the apply-lambda duo."
      ]
    },
    {
      "cell_type": "code",
      "metadata": {
        "id": "iD700PMqF2wf",
        "colab_type": "code",
        "colab": {}
      },
      "source": [
        "df['new_text'] = df['text'].apply(lambda x: clean_text(x))"
      ],
      "execution_count": 17,
      "outputs": []
    },
    {
      "cell_type": "markdown",
      "metadata": {
        "id": "uiK-I7A9A_Z3",
        "colab_type": "text"
      },
      "source": [
        ""
      ]
    },
    {
      "cell_type": "code",
      "metadata": {
        "id": "Ndw6uH0YM3uf",
        "colab_type": "code",
        "colab": {
          "base_uri": "https://localhost:8080/",
          "height": 197
        },
        "outputId": "d4db19db-5062-4243-d61a-b37f6157d544"
      },
      "source": [
        "df[['text', 'new_text']].sample(5)"
      ],
      "execution_count": 18,
      "outputs": [
        {
          "output_type": "execute_result",
          "data": {
            "text/html": [
              "<div>\n",
              "<style scoped>\n",
              "    .dataframe tbody tr th:only-of-type {\n",
              "        vertical-align: middle;\n",
              "    }\n",
              "\n",
              "    .dataframe tbody tr th {\n",
              "        vertical-align: top;\n",
              "    }\n",
              "\n",
              "    .dataframe thead th {\n",
              "        text-align: right;\n",
              "    }\n",
              "</style>\n",
              "<table border=\"1\" class=\"dataframe\">\n",
              "  <thead>\n",
              "    <tr style=\"text-align: right;\">\n",
              "      <th></th>\n",
              "      <th>text</th>\n",
              "      <th>new_text</th>\n",
              "    </tr>\n",
              "  </thead>\n",
              "  <tbody>\n",
              "    <tr>\n",
              "      <th>196</th>\n",
              "      <td>Police charge protesters, shoving them and beating them with batons</td>\n",
              "      <td>police charge protesters shoving them and beating them with batons</td>\n",
              "    </tr>\n",
              "    <tr>\n",
              "      <th>1558</th>\n",
              "      <td>Police tackle protesters in street</td>\n",
              "      <td>police tackle protesters in street</td>\n",
              "    </tr>\n",
              "    <tr>\n",
              "      <th>1482</th>\n",
              "      <td>Police slashes tires</td>\n",
              "      <td>police slashes tires</td>\n",
              "    </tr>\n",
              "    <tr>\n",
              "      <th>1459</th>\n",
              "      <td>Police drive by spraying</td>\n",
              "      <td>police drive by spraying</td>\n",
              "    </tr>\n",
              "    <tr>\n",
              "      <th>975</th>\n",
              "      <td>Police pepper spray protesters on sidewalk</td>\n",
              "      <td>police pepper spray protesters on sidewalk</td>\n",
              "    </tr>\n",
              "  </tbody>\n",
              "</table>\n",
              "</div>"
            ],
            "text/plain": [
              "                                                                     text                                                            new_text\n",
              "196   Police charge protesters, shoving them and beating them with batons  police charge protesters shoving them and beating them with batons\n",
              "1558                                   Police tackle protesters in street                                  police tackle protesters in street\n",
              "1482                                                 Police slashes tires                                                police slashes tires\n",
              "1459                                             Police drive by spraying                                            police drive by spraying\n",
              "975                            Police pepper spray protesters on sidewalk                          police pepper spray protesters on sidewalk"
            ]
          },
          "metadata": {
            "tags": []
          },
          "execution_count": 18
        }
      ]
    },
    {
      "cell_type": "code",
      "metadata": {
        "id": "2xihIWUjF2wt",
        "colab_type": "code",
        "colab": {}
      },
      "source": [
        "def freq_words(x, terms = 30):\n",
        "  all_words = ' '.join([text for text in x])\n",
        "  all_words = all_words.split()\n",
        "  \n",
        "  fdist = nltk.FreqDist(all_words)\n",
        "  words_df = pd.DataFrame({'word':list(fdist.keys()), 'count':list(fdist.values())})\n",
        "  \n",
        "  # selecting top 20 most frequent words\n",
        "  d = words_df.nlargest(columns=\"count\", n = terms) \n",
        "  plt.figure(figsize=(12,15))\n",
        "  ax = sns.barplot(data=d, x= \"count\", y = \"word\")\n",
        "  ax.set(ylabel = 'Word')\n",
        "  plt.show()"
      ],
      "execution_count": 19,
      "outputs": []
    },
    {
      "cell_type": "code",
      "metadata": {
        "id": "kNHRpL7zOSmm",
        "colab_type": "code",
        "colab": {
          "base_uri": "https://localhost:8080/",
          "height": 70
        },
        "outputId": "8bd6c01d-d5b4-4a30-dcb9-8b2af82d740e"
      },
      "source": [
        "nltk.download('stopwords')"
      ],
      "execution_count": 20,
      "outputs": [
        {
          "output_type": "stream",
          "text": [
            "[nltk_data] Downloading package stopwords to /root/nltk_data...\n",
            "[nltk_data]   Package stopwords is already up-to-date!\n"
          ],
          "name": "stdout"
        },
        {
          "output_type": "execute_result",
          "data": {
            "text/plain": [
              "True"
            ]
          },
          "metadata": {
            "tags": []
          },
          "execution_count": 20
        }
      ]
    },
    {
      "cell_type": "markdown",
      "metadata": {
        "id": "6l6U_YxpPOMd",
        "colab_type": "text"
      },
      "source": [
        "Remove the stopwords."
      ]
    },
    {
      "cell_type": "code",
      "metadata": {
        "id": "qljT-V5rF2xC",
        "colab_type": "code",
        "colab": {}
      },
      "source": [
        "from nltk.corpus import stopwords\n",
        "stop_words = set(stopwords.words('english'))\n",
        "\n",
        "# function to remove stopwords\n",
        "def remove_stopwords(text):\n",
        "    no_stopword_text = [w for w in text.split() if not w in stop_words]\n",
        "    return ' '.join(no_stopword_text)\n",
        "  \n",
        "df['new_text'] = df['new_text'].apply(lambda x: remove_stopwords(x))"
      ],
      "execution_count": 21,
      "outputs": []
    },
    {
      "cell_type": "code",
      "metadata": {
        "id": "v_kCfw6TF2xN",
        "colab_type": "code",
        "colab": {
          "base_uri": "https://localhost:8080/",
          "height": 876
        },
        "outputId": "56194bf4-c06a-4ba1-b7fe-0eab851f31a4"
      },
      "source": [
        "freq_words(df['new_text'], 100)"
      ],
      "execution_count": 22,
      "outputs": [
        {
          "output_type": "display_data",
          "data": {
            "image/png": "[encoded data removed]",
            "text/plain": [
              "<Figure size 864x1080 with 1 Axes>"
            ]
          },
          "metadata": {
            "tags": [],
            "needs_background": "light"
          }
        }
      ]
    },
    {
      "cell_type": "markdown",
      "metadata": {
        "id": "QuE4iqHTQRRw",
        "colab_type": "text"
      },
      "source": [
        "### Converting Text to Features"
      ]
    },
    {
      "cell_type": "markdown",
      "metadata": {
        "id": "tKyJYhRnRAUF",
        "colab_type": "text"
      },
      "source": [
        "I will treat this multilable classification problem as a Binary Relevance problem. Hence, now I am going to one hot encode the target variable, i.e. *tags_new* by using sklearn's **MultiLabelBinarizer( )**. Since there are 26 unique genre tags, there are going to be 26 new target variables.\n"
      ]
    },
    {
      "cell_type": "code",
      "metadata": {
        "id": "9l3TjWUPF2xV",
        "colab_type": "code",
        "colab": {
          "base_uri": "https://localhost:8080/",
          "height": 52
        },
        "outputId": "016fc3da-6341-416b-8114-eb8122bd7c99"
      },
      "source": [
        "from sklearn.preprocessing import MultiLabelBinarizer\n",
        "\n",
        "multilabel_binarizer = MultiLabelBinarizer()\n",
        "\n",
        "multilabel_binarizer.fit(df['tags_new'])\n",
        "print(multilabel_binarizer.classes_)\n",
        "# transform target variable\n",
        "y = multilabel_binarizer.transform(df['tags_new'])"
      ],
      "execution_count": 24,
      "outputs": [
        {
          "output_type": "stream",
          "text": [
            "['blunt impact' 'chemical' 'conductive energy' 'ehc hard technique'\n",
            " 'ehc soft technique' 'other' 'presence' 'projectiles' 'verbalization']\n"
          ],
          "name": "stdout"
        }
      ]
    },
    {
      "cell_type": "code",
      "metadata": {
        "id": "azhLytr5oMGO",
        "colab_type": "code",
        "colab": {
          "base_uri": "https://localhost:8080/",
          "height": 34
        },
        "outputId": "ebcf26ab-eca1-4e87-84a6-d3f1322f360e"
      },
      "source": [
        "print(y.shape)"
      ],
      "execution_count": 25,
      "outputs": [
        {
          "output_type": "stream",
          "text": [
            "(1703, 9)\n"
          ],
          "name": "stdout"
        }
      ]
    },
    {
      "cell_type": "markdown",
      "metadata": {
        "id": "BIb2sjjq4pp9",
        "colab_type": "text"
      },
      "source": [
        "We have successfully transformed the target variable and now let's turn our focus to extract features from the cleaned version of the df text. I have decided to use TF-IDF features. Any other feature extraction method such as Bag-of-Words, word2vec, GloVe, or ELMo would work. \n",
        "\n",
        "Learn more about different ways of creating features from text:\n",
        "\n",
        "*   [An Intuitive Understanding of Word Embeddings: From Count Vectors to Word2Vec](https://www.analyticsvidhya.com/blog/2017/06/word-embeddings-count-word2veec/)\n",
        "*   [A Step-by-Step NLP Guide to Learn ELMo for Extracting Features from Text](https://www.analyticsvidhya.com/blog/2019/03/learn-to-use-elmo-to-extract-features-from-text/)\n",
        "\n"
      ]
    },
    {
      "cell_type": "code",
      "metadata": {
        "id": "uV1pJhmiF2xd",
        "colab_type": "code",
        "colab": {}
      },
      "source": [
        "tfidf_vectorizer = TfidfVectorizer(max_df=0.8, max_features=10000)"
      ],
      "execution_count": 26,
      "outputs": []
    },
    {
      "cell_type": "markdown",
      "metadata": {
        "id": "zTpRfqVD6sel",
        "colab_type": "text"
      },
      "source": [
        "Please note that I have used the 10,000 most frequent words in the data as my features. You can try any other number as well for the parameter max_features. Before creating TF-IDF features, we will split our data into train and validation sets for training our and evaluating its performance, respectively. 80% of the data samples have been kept in the train set and the rest of the data is in the validation set."
      ]
    },
    {
      "cell_type": "code",
      "metadata": {
        "id": "QLQpqZBYF2xw",
        "colab_type": "code",
        "colab": {}
      },
      "source": [
        "# split dataset into training and validation set\n",
        "xtrain, xval, ytrain, yval = train_test_split(df['new_text'], y, test_size=0.2, random_state=9)"
      ],
      "execution_count": 27,
      "outputs": []
    },
    {
      "cell_type": "markdown",
      "metadata": {
        "id": "ylE2fyMZ9QbF",
        "colab_type": "text"
      },
      "source": [
        "Now we can create features for the train and the validation set."
      ]
    },
    {
      "cell_type": "code",
      "metadata": {
        "id": "yfAkXKJRF2x0",
        "colab_type": "code",
        "colab": {}
      },
      "source": [
        "# create TF-IDF features\n",
        "xtrain_tfidf = tfidf_vectorizer.fit_transform(xtrain)\n",
        "xval_tfidf = tfidf_vectorizer.transform(xval)"
      ],
      "execution_count": 28,
      "outputs": []
    },
    {
      "cell_type": "markdown",
      "metadata": {
        "id": "Rmdfnd0q9jvl",
        "colab_type": "text"
      },
      "source": [
        "### Build the Category Prediction Model\n",
        "\n",
        "As we have already discussed earlier, if we are using the Binary Relevance approach to solve a multilable problem, then we will have to one hot encode the target variable and then build model for each and every one hot encoded target variables. Since we have 26 target variables, we will have to fit 26 different models with the same set of predictors (TF-IDF features). \n",
        "\n",
        "Training 26 models can take a considerable amount of time on a modest system. Hence, I will go ahead with the Logistic Regression model as it is quick to train and easy on the limited hardware."
      ]
    },
    {
      "cell_type": "code",
      "metadata": {
        "id": "QifsulBzF2x5",
        "colab_type": "code",
        "colab": {}
      },
      "source": [
        "from sklearn.linear_model import LogisticRegression\n",
        "\n",
        "# Binary Relevance\n",
        "from sklearn.multiclass import OneVsRestClassifier\n",
        "\n",
        "# Performance metric\n",
        "from sklearn.metrics import f1_score"
      ],
      "execution_count": 29,
      "outputs": []
    },
    {
      "cell_type": "markdown",
      "metadata": {
        "id": "1MXsU1Mu_Zfz",
        "colab_type": "text"
      },
      "source": [
        "We will use sklearn's OneVsRestClassifier class to solve this problem as a Binary Relevance or one-vs-all problem."
      ]
    },
    {
      "cell_type": "code",
      "metadata": {
        "id": "SMx1lAY6F2x8",
        "colab_type": "code",
        "colab": {}
      },
      "source": [
        "lr = LogisticRegression()\n",
        "clf = OneVsRestClassifier(lr)"
      ],
      "execution_count": 30,
      "outputs": []
    },
    {
      "cell_type": "markdown",
      "metadata": {
        "id": "AW0h3Jz1_-Mm",
        "colab_type": "text"
      },
      "source": [
        "Finally we are going to fit our model on the train set"
      ]
    },
    {
      "cell_type": "code",
      "metadata": {
        "id": "mlAzsg8OF2x-",
        "colab_type": "code",
        "colab": {
          "base_uri": "https://localhost:8080/",
          "height": 194
        },
        "outputId": "a66e253c-0d92-4007-9660-be58507cdba7"
      },
      "source": [
        "# fit model on train data\n",
        "clf.fit(xtrain_tfidf, ytrain)"
      ],
      "execution_count": 31,
      "outputs": [
        {
          "output_type": "execute_result",
          "data": {
            "text/plain": [
              "OneVsRestClassifier(estimator=LogisticRegression(C=1.0, class_weight=None,\n",
              "                                                 dual=False, fit_intercept=True,\n",
              "                                                 intercept_scaling=1,\n",
              "                                                 l1_ratio=None, max_iter=100,\n",
              "                                                 multi_class='auto',\n",
              "                                                 n_jobs=None, penalty='l2',\n",
              "                                                 random_state=None,\n",
              "                                                 solver='lbfgs', tol=0.0001,\n",
              "                                                 verbose=0, warm_start=False),\n",
              "                    n_jobs=None)"
            ]
          },
          "metadata": {
            "tags": []
          },
          "execution_count": 31
        }
      ]
    },
    {
      "cell_type": "markdown",
      "metadata": {
        "id": "oZo2QZtVBjFi",
        "colab_type": "text"
      },
      "source": [
        "Once our model is trained, we can then predict categories for the validation set. Let's do it."
      ]
    },
    {
      "cell_type": "code",
      "metadata": {
        "id": "JDgWCi2hF2yF",
        "colab_type": "code",
        "colab": {}
      },
      "source": [
        "# make predictions for validation set\n",
        "y_pred = clf.predict(xval_tfidf)"
      ],
      "execution_count": 32,
      "outputs": []
    },
    {
      "cell_type": "markdown",
      "metadata": {
        "id": "XSxiV_E8BzSx",
        "colab_type": "text"
      },
      "source": [
        "Here is a prediction..."
      ]
    },
    {
      "cell_type": "code",
      "metadata": {
        "id": "Sj9l1s9yB4kR",
        "colab_type": "code",
        "colab": {
          "base_uri": "https://localhost:8080/",
          "height": 34
        },
        "outputId": "400fb65a-f224-424f-ac1f-085c568bda8b"
      },
      "source": [
        "y_pred[9]"
      ],
      "execution_count": 33,
      "outputs": [
        {
          "output_type": "execute_result",
          "data": {
            "text/plain": [
              "array([0, 0, 0, 0, 1, 0, 0, 0, 0])"
            ]
          },
          "metadata": {
            "tags": []
          },
          "execution_count": 33
        }
      ]
    },
    {
      "cell_type": "markdown",
      "metadata": {
        "id": "hRjJt8z3CV5A",
        "colab_type": "text"
      },
      "source": [
        "It is a binary one dimensional array of length 26. Basically it is the one hot encoded form of the unique tags. We will have to find some way to convert it into categories. We will use **inverse_transform( )** function along with the MultiLabelBinarizer( ) object to convert the predicted arrays into tags."
      ]
    },
    {
      "cell_type": "code",
      "metadata": {
        "id": "ivmaB8yJF2yI",
        "colab_type": "code",
        "colab": {
          "base_uri": "https://localhost:8080/",
          "height": 34
        },
        "outputId": "58c29eb6-017e-470a-bf05-e9e885b3578e"
      },
      "source": [
        "multilabel_binarizer.inverse_transform(y_pred)[9]"
      ],
      "execution_count": 34,
      "outputs": [
        {
          "output_type": "execute_result",
          "data": {
            "text/plain": [
              "('ehc soft technique',)"
            ]
          },
          "metadata": {
            "tags": []
          },
          "execution_count": 34
        }
      ]
    },
    {
      "cell_type": "markdown",
      "metadata": {
        "id": "f4HkqKOsDuoK",
        "colab_type": "text"
      },
      "source": [
        "To evaluate our model's overall performance, we will have to take into consideration all the predictions and the entire target variable of the validation set."
      ]
    },
    {
      "cell_type": "code",
      "metadata": {
        "id": "ekSfgVp3F2yM",
        "colab_type": "code",
        "colab": {
          "base_uri": "https://localhost:8080/",
          "height": 34
        },
        "outputId": "a41eed64-0978-4f83-bb0a-feb1f4696864"
      },
      "source": [
        "# evaluate performance\n",
        "f1_score(yval, y_pred, average=\"micro\")"
      ],
      "execution_count": 35,
      "outputs": [
        {
          "output_type": "execute_result",
          "data": {
            "text/plain": [
              "0.9041769041769041"
            ]
          },
          "metadata": {
            "tags": []
          },
          "execution_count": 35
        }
      ]
    },
    {
      "cell_type": "code",
      "metadata": {
        "id": "Im6QjRHKHPym",
        "colab_type": "code",
        "colab": {}
      },
      "source": [
        "# predict probabilities\n",
        "y_pred_prob = clf.predict_proba(xval_tfidf)"
      ],
      "execution_count": 36,
      "outputs": []
    },
    {
      "cell_type": "markdown",
      "metadata": {
        "id": "sOXXV8LmHf1J",
        "colab_type": "text"
      },
      "source": [
        "Now set a threshold value."
      ]
    },
    {
      "cell_type": "code",
      "metadata": {
        "id": "UbFne8EVHaIY",
        "colab_type": "code",
        "colab": {}
      },
      "source": [
        "t = 0.3 # threshold value\n",
        "y_pred_new = (y_pred_prob >= t).astype(int)"
      ],
      "execution_count": 37,
      "outputs": []
    },
    {
      "cell_type": "markdown",
      "metadata": {
        "id": "XV0hYWo5H-Yd",
        "colab_type": "text"
      },
      "source": [
        "I have tried 0.3 as the threshold value. You may try any other value as well. Let's check the F1 score again on these new predictions."
      ]
    },
    {
      "cell_type": "code",
      "metadata": {
        "id": "emACNSFUIMpy",
        "colab_type": "code",
        "colab": {
          "base_uri": "https://localhost:8080/",
          "height": 34
        },
        "outputId": "aa1e1b06-f7bb-401c-f63f-e4edd9685451"
      },
      "source": [
        "# evaluate performance\n",
        "f1_score(yval, y_pred_new, average=\"micro\")"
      ],
      "execution_count": 38,
      "outputs": [
        {
          "output_type": "execute_result",
          "data": {
            "text/plain": [
              "0.9638009049773756"
            ]
          },
          "metadata": {
            "tags": []
          },
          "execution_count": 38
        }
      ]
    },
    {
      "cell_type": "markdown",
      "metadata": {
        "id": "yaat4MXFJxZk",
        "colab_type": "text"
      },
      "source": [
        "A better approach to find the right threshold value would be to use a k-fold cross validation setup and try different threshold values."
      ]
    },
    {
      "cell_type": "markdown",
      "metadata": {
        "id": "hpURW_KLKSA2",
        "colab_type": "text"
      },
      "source": [
        "### Create Inference Function\n",
        "\n",
        "Our job is still not over. We have trained our model and we have also made predictions for the validation set. However, we also have to take care of the new data or that would come in the future. Our prediction system should be able to take a text in raw form as input and give out its category tags as output.\n",
        "\n",
        "To achieve this objective, let's build an inference function. It will take in a text and follow the steps below:\n",
        "\n",
        "\n",
        "\n",
        "*   Clean the text\n",
        "*   Remove stopwords from the cleaned text\n",
        "*   Extract features from the text\n",
        "*   Make predictions\n",
        "*   Return the predicted category tags\n",
        "\n",
        "\n"
      ]
    },
    {
      "cell_type": "code",
      "metadata": {
        "id": "aU_nuhCHF2yQ",
        "colab_type": "code",
        "colab": {}
      },
      "source": [
        "def infer_tags(q):\n",
        "    q = clean_text(q)\n",
        "    q = remove_stopwords(q)\n",
        "    q_vec = tfidf_vectorizer.transform([q])\n",
        "    q_pred = clf.predict(q_vec)\n",
        "    return multilabel_binarizer.inverse_transform(q_pred)"
      ],
      "execution_count": 39,
      "outputs": []
    },
    {
      "cell_type": "markdown",
      "metadata": {
        "id": "68RwoDzrNG_h",
        "colab_type": "text"
      },
      "source": [
        "Let's test this inference function on a few samples from the validation set."
      ]
    },
    {
      "cell_type": "code",
      "metadata": {
        "id": "eMIcpA6BOjVh",
        "colab_type": "code",
        "colab": {
          "base_uri": "https://localhost:8080/",
          "height": 372
        },
        "outputId": "d7e58c45-48fc-4956-d9e8-993396dab037"
      },
      "source": [
        "for i in range(5):\n",
        "    k = xval.sample(1).index[0]\n",
        "    print(\"Category of Violence: \", df['text'][k], \"\\nPredicted category: \", infer_tags(xval[k])), print(\"Actual tag: \",df['tags_str'][k], \"\\n\")   "
      ],
      "execution_count": 40,
      "outputs": [
        {
          "output_type": "stream",
          "text": [
            "Category of Violence:  Police fire tear gas at fleeing protesters \n",
            "Predicted category:  [('projectiles',)]\n",
            "Actual tag:  Projectiles \n",
            "\n",
            "Category of Violence:  Officers fire tear gas as they leave the scene \n",
            "Predicted category:  [('projectiles',)]\n",
            "Actual tag:  Projectiles \n",
            "\n",
            "Category of Violence:  Police shoot at people filming \n",
            "Predicted category:  [('projectiles',)]\n",
            "Actual tag:  Projectiles \n",
            "\n",
            "Category of Violence:  Peaceful protester on sidewalk pepper sprayed \n",
            "Predicted category:  [('chemical', 'projectiles')]\n",
            "Actual tag:  Projectiles, Chemical \n",
            "\n",
            "Category of Violence:  Officer stomps on protester trapped under shield \n",
            "Predicted category:  [()]\n",
            "Actual tag:  Blunt Impact \n",
            "\n"
          ],
          "name": "stdout"
        }
      ]
    }
  ]
}