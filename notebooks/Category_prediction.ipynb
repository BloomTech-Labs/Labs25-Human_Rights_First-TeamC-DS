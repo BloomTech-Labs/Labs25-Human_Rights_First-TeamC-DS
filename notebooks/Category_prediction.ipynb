{
  "nbformat": 4,
  "nbformat_minor": 0,
  "metadata": {
    "colab": {
      "name": "Category_prediction.ipynb",
      "provenance": [],
      "collapsed_sections": []
    },
    "language_info": {
      "codemirror_mode": {
        "name": "ipython",
        "version": 3
      },
      "file_extension": ".py",
      "mimetype": "text/x-python",
      "name": "python",
      "nbconvert_exporter": "python",
      "pygments_lexer": "ipython3",
      "version": "3.6.7"
    },
    "kernelspec": {
      "display_name": "Python 3",
      "language": "python",
      "name": "python3"
    }
  },
  "cells": [
    {
      "cell_type": "markdown",
      "metadata": {
        "id": "QdDc_NWWkRm9",
        "colab_type": "text"
      },
      "source": [
        "This notebook is following the direction and notes of: https://github.com/prateekjoshi565/movie_genre_prediction/blob/master/Movie_Genre_Prediction.ipynb\n",
        "\n",
        "We will start by importing the required libraries. "
      ]
    },
    {
      "cell_type": "code",
      "metadata": {
        "id": "qOO_PawwF2tI",
        "colab_type": "code",
        "colab": {
          "base_uri": "https://localhost:8080/",
          "height": 72
        },
        "outputId": "4e5a344c-52b9-470d-8c0b-ab8719804fa5"
      },
      "source": [
        "import pandas as pd\n",
        "import numpy as np\n",
        "import json\n",
        "import nltk\n",
        "import re\n",
        "import csv\n",
        "import matplotlib.pyplot as plt \n",
        "import seaborn as sns\n",
        "from tqdm import tqdm\n",
        "from sklearn.feature_extraction.text import TfidfVectorizer\n",
        "from sklearn.model_selection import train_test_split\n",
        "\n",
        "%matplotlib inline\n",
        "pd.set_option('display.max_colwidth', 300)"
      ],
      "execution_count": 1,
      "outputs": [
        {
          "output_type": "stream",
          "text": [
            "/usr/local/lib/python3.6/dist-packages/statsmodels/tools/_testing.py:19: FutureWarning: pandas.util.testing is deprecated. Use the functions in the public API at pandas.testing instead.\n",
            "  import pandas.util.testing as tm\n"
          ],
          "name": "stderr"
        }
      ]
    },
    {
      "cell_type": "markdown",
      "metadata": {
        "id": "kQ5GUrYJk3Ae",
        "colab_type": "text"
      },
      "source": [
        "### Load Data\n"
      ]
    },
    {
      "cell_type": "code",
      "metadata": {
        "id": "pZ5z5yrvGHty",
        "colab_type": "code",
        "colab": {}
      },
      "source": [
        "import pandas as pd\n",
        "df = pd.read_csv('https://raw.githubusercontent.com/Lambda-School-Labs/Labs25-Human_Rights_First-TeamC-DS/main/Data/training_data.csv', na_values=False)"
      ],
      "execution_count": 2,
      "outputs": []
    },
    {
      "cell_type": "code",
      "metadata": {
        "id": "yxCPm8R6F2tY",
        "colab_type": "code",
        "colab": {
          "base_uri": "https://localhost:8080/",
          "height": 601
        },
        "outputId": "94e0a3e5-6669-4ff7-adbc-05a19554b33c"
      },
      "source": [
        "df = df.drop(columns=df.columns[0])\n",
        "df.head()"
      ],
      "execution_count": 6,
      "outputs": [
        {
          "output_type": "execute_result",
          "data": {
            "text/html": [
              "<div>\n",
              "<style scoped>\n",
              "    .dataframe tbody tr th:only-of-type {\n",
              "        vertical-align: middle;\n",
              "    }\n",
              "\n",
              "    .dataframe tbody tr th {\n",
              "        vertical-align: top;\n",
              "    }\n",
              "\n",
              "    .dataframe thead th {\n",
              "        text-align: right;\n",
              "    }\n",
              "</style>\n",
              "<table border=\"1\" class=\"dataframe\">\n",
              "  <thead>\n",
              "    <tr style=\"text-align: right;\">\n",
              "      <th></th>\n",
              "      <th>STATE_NAME</th>\n",
              "      <th>edit_at</th>\n",
              "      <th>CITY</th>\n",
              "      <th>text</th>\n",
              "      <th>date</th>\n",
              "      <th>date_text</th>\n",
              "      <th>id</th>\n",
              "      <th>Link 1</th>\n",
              "      <th>Link 2</th>\n",
              "      <th>Link 3</th>\n",
              "      <th>Link 4</th>\n",
              "      <th>Link 5</th>\n",
              "      <th>Link 6</th>\n",
              "      <th>Link 7</th>\n",
              "      <th>Link 8</th>\n",
              "      <th>Link 9</th>\n",
              "      <th>Link 10</th>\n",
              "      <th>Link 11</th>\n",
              "      <th>Link 12</th>\n",
              "      <th>Link 13</th>\n",
              "      <th>Link 14</th>\n",
              "      <th>Link 15</th>\n",
              "      <th>Link 16</th>\n",
              "      <th>Link 17</th>\n",
              "      <th>Link 18</th>\n",
              "      <th>Link 19</th>\n",
              "      <th>Link 20</th>\n",
              "      <th>STATE_CODE</th>\n",
              "      <th>COUNTY</th>\n",
              "      <th>LATITUDE</th>\n",
              "      <th>LONGITUDE</th>\n",
              "      <th>force_tags</th>\n",
              "      <th>human_tags</th>\n",
              "    </tr>\n",
              "  </thead>\n",
              "  <tbody>\n",
              "    <tr>\n",
              "      <th>0</th>\n",
              "      <td>Louisiana</td>\n",
              "      <td>https://github.com/2020PB/police-brutality/blob/master/reports/Louisiana.md</td>\n",
              "      <td>New Orleans</td>\n",
              "      <td>police throw tear gas at protesters on a bridge</td>\n",
              "      <td>2020-06-03</td>\n",
              "      <td>June 3rd</td>\n",
              "      <td>la-neworleans-1</td>\n",
              "      <td>https://twitter.com/misaacstein/status/1268381797081022464</td>\n",
              "      <td>https://twitter.com/ckm_news/status/1268382403367763970</td>\n",
              "      <td>https://twitter.com/brynstole/status/1268381340073971713</td>\n",
              "      <td>https://twitter.com/xxnthe/status/1268427759870775298</td>\n",
              "      <td>https://twitter.com/greg_doucette/status/1268520538391134208</td>\n",
              "      <td>https://www.wdsu.com/article/protesters-on-i-10-reach-top-of-crescent-city-connection/32761790</td>\n",
              "      <td>NaN</td>\n",
              "      <td>NaN</td>\n",
              "      <td>NaN</td>\n",
              "      <td>NaN</td>\n",
              "      <td>NaN</td>\n",
              "      <td>NaN</td>\n",
              "      <td>NaN</td>\n",
              "      <td>NaN</td>\n",
              "      <td>NaN</td>\n",
              "      <td>NaN</td>\n",
              "      <td>NaN</td>\n",
              "      <td>NaN</td>\n",
              "      <td>NaN</td>\n",
              "      <td>NaN</td>\n",
              "      <td>LA</td>\n",
              "      <td>Jefferson</td>\n",
              "      <td>29.963071</td>\n",
              "      <td>-90.160953</td>\n",
              "      <td>Projectiles</td>\n",
              "      <td>Police, Protester</td>\n",
              "    </tr>\n",
              "    <tr>\n",
              "      <th>1</th>\n",
              "      <td>Texas</td>\n",
              "      <td>https://github.com/2020PB/police-brutality/blob/master/reports/Texas.md</td>\n",
              "      <td>Austin</td>\n",
              "      <td>police assault protesters</td>\n",
              "      <td>2020-05-30</td>\n",
              "      <td>May 30th</td>\n",
              "      <td>tx-austin-2</td>\n",
              "      <td>https://gfycat.com/tautimaginativedore</td>\n",
              "      <td>https://www.reddit.com/r/2020PoliceBrutality/comments/hhhbeh/5302020_austin/</td>\n",
              "      <td>NaN</td>\n",
              "      <td>NaN</td>\n",
              "      <td>NaN</td>\n",
              "      <td>NaN</td>\n",
              "      <td>NaN</td>\n",
              "      <td>NaN</td>\n",
              "      <td>NaN</td>\n",
              "      <td>NaN</td>\n",
              "      <td>NaN</td>\n",
              "      <td>NaN</td>\n",
              "      <td>NaN</td>\n",
              "      <td>NaN</td>\n",
              "      <td>NaN</td>\n",
              "      <td>NaN</td>\n",
              "      <td>NaN</td>\n",
              "      <td>NaN</td>\n",
              "      <td>NaN</td>\n",
              "      <td>NaN</td>\n",
              "      <td>TX</td>\n",
              "      <td>Hays</td>\n",
              "      <td>30.210692</td>\n",
              "      <td>-97.942749</td>\n",
              "      <td>EHC Hard Technique</td>\n",
              "      <td>Police, Protester</td>\n",
              "    </tr>\n",
              "    <tr>\n",
              "      <th>2</th>\n",
              "      <td>Texas</td>\n",
              "      <td>https://github.com/2020PB/police-brutality/blob/master/reports/Texas.md</td>\n",
              "      <td>Austin</td>\n",
              "      <td>police shoot non violent protester in the head</td>\n",
              "      <td>2020-05-30</td>\n",
              "      <td>May 30th</td>\n",
              "      <td>tx-austin-3</td>\n",
              "      <td>https://www.reddit.com/r/PublicFreakout/comments/guwc4y/austin_tx_nonviolent_protestor_shot_in_the_head/</td>\n",
              "      <td>https://www.instagram.com/p/CA6TCIGnuWm/</td>\n",
              "      <td>https://www.youtube.com/watch?v=-BGyTi-KdKc (aftermath)</td>\n",
              "      <td>https://streamable.com/o1uqgy (aftermath)</td>\n",
              "      <td>https://cbsaustin.com/news/local/austin-teen-hospitalized-with-head-injury-after-police-shoot-him-with-bean-bags-at-protest</td>\n",
              "      <td>NaN</td>\n",
              "      <td>NaN</td>\n",
              "      <td>NaN</td>\n",
              "      <td>NaN</td>\n",
              "      <td>NaN</td>\n",
              "      <td>NaN</td>\n",
              "      <td>NaN</td>\n",
              "      <td>NaN</td>\n",
              "      <td>NaN</td>\n",
              "      <td>NaN</td>\n",
              "      <td>NaN</td>\n",
              "      <td>NaN</td>\n",
              "      <td>NaN</td>\n",
              "      <td>NaN</td>\n",
              "      <td>NaN</td>\n",
              "      <td>TX</td>\n",
              "      <td>Hays</td>\n",
              "      <td>30.210692</td>\n",
              "      <td>-97.942749</td>\n",
              "      <td>Projectiles</td>\n",
              "      <td>Police, Protester</td>\n",
              "    </tr>\n",
              "    <tr>\n",
              "      <th>3</th>\n",
              "      <td>Texas</td>\n",
              "      <td>https://github.com/2020PB/police-brutality/blob/master/reports/Texas.md</td>\n",
              "      <td>Austin</td>\n",
              "      <td>police use tear gas   rubber bullets on protesters</td>\n",
              "      <td>2020-05-30</td>\n",
              "      <td>May 30th</td>\n",
              "      <td>tx-austin-4</td>\n",
              "      <td>https://twitter.com/highsettler/status/1266876480929349633</td>\n",
              "      <td>https://imgur.com/gallery/VKuIIvu</td>\n",
              "      <td>https://gfycat.com/weirdthankfulgnatcatcher</td>\n",
              "      <td>NaN</td>\n",
              "      <td>NaN</td>\n",
              "      <td>NaN</td>\n",
              "      <td>NaN</td>\n",
              "      <td>NaN</td>\n",
              "      <td>NaN</td>\n",
              "      <td>NaN</td>\n",
              "      <td>NaN</td>\n",
              "      <td>NaN</td>\n",
              "      <td>NaN</td>\n",
              "      <td>NaN</td>\n",
              "      <td>NaN</td>\n",
              "      <td>NaN</td>\n",
              "      <td>NaN</td>\n",
              "      <td>NaN</td>\n",
              "      <td>NaN</td>\n",
              "      <td>NaN</td>\n",
              "      <td>TX</td>\n",
              "      <td>Hays</td>\n",
              "      <td>30.210692</td>\n",
              "      <td>-97.942749</td>\n",
              "      <td>Projectiles</td>\n",
              "      <td>Police, Protester</td>\n",
              "    </tr>\n",
              "    <tr>\n",
              "      <th>4</th>\n",
              "      <td>Texas</td>\n",
              "      <td>https://github.com/2020PB/police-brutality/blob/master/reports/Texas.md</td>\n",
              "      <td>Austin</td>\n",
              "      <td>police open fire on crowd with rubber bullets</td>\n",
              "      <td>2020-05-30</td>\n",
              "      <td>May 30th</td>\n",
              "      <td>tx-austin-5</td>\n",
              "      <td>https://twitter.com/ironfront7/status/1267133400156196870</td>\n",
              "      <td>NaN</td>\n",
              "      <td>NaN</td>\n",
              "      <td>NaN</td>\n",
              "      <td>NaN</td>\n",
              "      <td>NaN</td>\n",
              "      <td>NaN</td>\n",
              "      <td>NaN</td>\n",
              "      <td>NaN</td>\n",
              "      <td>NaN</td>\n",
              "      <td>NaN</td>\n",
              "      <td>NaN</td>\n",
              "      <td>NaN</td>\n",
              "      <td>NaN</td>\n",
              "      <td>NaN</td>\n",
              "      <td>NaN</td>\n",
              "      <td>NaN</td>\n",
              "      <td>NaN</td>\n",
              "      <td>NaN</td>\n",
              "      <td>NaN</td>\n",
              "      <td>TX</td>\n",
              "      <td>Hays</td>\n",
              "      <td>30.210692</td>\n",
              "      <td>-97.942749</td>\n",
              "      <td>Projectiles</td>\n",
              "      <td>Police</td>\n",
              "    </tr>\n",
              "  </tbody>\n",
              "</table>\n",
              "</div>"
            ],
            "text/plain": [
              "  STATE_NAME  ...         human_tags\n",
              "0  Louisiana  ...  Police, Protester\n",
              "1      Texas  ...  Police, Protester\n",
              "2      Texas  ...  Police, Protester\n",
              "3      Texas  ...  Police, Protester\n",
              "4      Texas  ...             Police\n",
              "\n",
              "[5 rows x 33 columns]"
            ]
          },
          "metadata": {
            "tags": []
          },
          "execution_count": 6
        }
      ]
    },
    {
      "cell_type": "code",
      "metadata": {
        "id": "0cSwigsOF2ul",
        "colab_type": "code",
        "colab": {}
      },
      "source": [
        "# change datatype of 'text'\n",
        "# df['text'] = df['text'].astype(str)\n",
        "# df['force_tags'] = df['force_tags'].astype(str)\n"
      ],
      "execution_count": 8,
      "outputs": []
    },
    {
      "cell_type": "code",
      "metadata": {
        "id": "qlnt5G_R-2pV",
        "colab_type": "code",
        "colab": {
          "base_uri": "https://localhost:8080/",
          "height": 35
        },
        "outputId": "0d9455d8-8172-4ab9-94d7-cc96dc16dc47"
      },
      "source": [
        "df['force_tags'][0]"
      ],
      "execution_count": 9,
      "outputs": [
        {
          "output_type": "execute_result",
          "data": {
            "application/vnd.google.colaboratory.intrinsic+json": {
              "type": "string"
            },
            "text/plain": [
              "'Projectiles'"
            ]
          },
          "metadata": {
            "tags": []
          },
          "execution_count": 9
        }
      ]
    },
    {
      "cell_type": "code",
      "metadata": {
        "id": "wQ-s57now3xM",
        "colab_type": "code",
        "colab": {
          "base_uri": "https://localhost:8080/",
          "height": 141
        },
        "outputId": "50507c93-e681-404d-b24c-5481ef0106c5"
      },
      "source": [
        "print((df['force_tags'][0]))\n",
        "print(df['force_tags'][:5])"
      ],
      "execution_count": 10,
      "outputs": [
        {
          "output_type": "stream",
          "text": [
            "Projectiles\n",
            "0           Projectiles\n",
            "1    EHC Hard Technique\n",
            "2           Projectiles\n",
            "3           Projectiles\n",
            "4           Projectiles\n",
            "Name: force_tags, dtype: object\n"
          ],
          "name": "stdout"
        }
      ]
    },
    {
      "cell_type": "code",
      "metadata": {
        "id": "rZn-ngGdDGiJ",
        "colab_type": "code",
        "colab": {}
      },
      "source": [
        "def tags_cleaner(text):\n",
        "  # remove whitespaces\n",
        "    text = ' '.join(text.split())\n",
        "    # convert text to lowercase\n",
        "    text = text.lower()\n",
        "    \n",
        "    return text\n",
        "\n",
        "\n",
        "\n",
        "df['tags_new_clean'] = df['force_tags'].apply(lambda x: tags_cleaner(x))"
      ],
      "execution_count": 11,
      "outputs": []
    },
    {
      "cell_type": "code",
      "metadata": {
        "id": "emb97XokxJiw",
        "colab_type": "code",
        "colab": {
          "base_uri": "https://localhost:8080/",
          "height": 230
        },
        "outputId": "b9bdedba-47a4-466f-e86a-c98aa93618e9"
      },
      "source": [
        "df['tags_new'] = df['tags_new_clean'].apply(lambda x: x.split(', '))\n",
        "df.tags_new"
      ],
      "execution_count": 12,
      "outputs": [
        {
          "output_type": "execute_result",
          "data": {
            "text/plain": [
              "0                            [projectiles]\n",
              "1                     [ehc hard technique]\n",
              "2                            [projectiles]\n",
              "3                            [projectiles]\n",
              "4                            [projectiles]\n",
              "                       ...                \n",
              "1064               [presence, projectiles]\n",
              "1065                         [projectiles]\n",
              "1066               [projectiles, chemical]\n",
              "1067                  [ehc soft technique]\n",
              "1068    [ehc soft technique, blunt impact]\n",
              "Name: tags_new, Length: 1069, dtype: object"
            ]
          },
          "metadata": {
            "tags": []
          },
          "execution_count": 12
        }
      ]
    },
    {
      "cell_type": "markdown",
      "metadata": {
        "id": "_2fcBkzNGAqJ",
        "colab_type": "text"
      },
      "source": [
        "If you are curious to know which all movie genres have been covered in this dataset, then the following code will be useful for you."
      ]
    },
    {
      "cell_type": "code",
      "metadata": {
        "id": "h7aa0aGO6mfC",
        "colab_type": "code",
        "colab": {
          "base_uri": "https://localhost:8080/",
          "height": 601
        },
        "outputId": "690b373b-8d50-4f1a-e6dd-616f3ef0f44f"
      },
      "source": [
        "df.head(5)"
      ],
      "execution_count": 13,
      "outputs": [
        {
          "output_type": "execute_result",
          "data": {
            "text/html": [
              "<div>\n",
              "<style scoped>\n",
              "    .dataframe tbody tr th:only-of-type {\n",
              "        vertical-align: middle;\n",
              "    }\n",
              "\n",
              "    .dataframe tbody tr th {\n",
              "        vertical-align: top;\n",
              "    }\n",
              "\n",
              "    .dataframe thead th {\n",
              "        text-align: right;\n",
              "    }\n",
              "</style>\n",
              "<table border=\"1\" class=\"dataframe\">\n",
              "  <thead>\n",
              "    <tr style=\"text-align: right;\">\n",
              "      <th></th>\n",
              "      <th>STATE_NAME</th>\n",
              "      <th>edit_at</th>\n",
              "      <th>CITY</th>\n",
              "      <th>text</th>\n",
              "      <th>date</th>\n",
              "      <th>date_text</th>\n",
              "      <th>id</th>\n",
              "      <th>Link 1</th>\n",
              "      <th>Link 2</th>\n",
              "      <th>Link 3</th>\n",
              "      <th>Link 4</th>\n",
              "      <th>Link 5</th>\n",
              "      <th>Link 6</th>\n",
              "      <th>Link 7</th>\n",
              "      <th>Link 8</th>\n",
              "      <th>Link 9</th>\n",
              "      <th>Link 10</th>\n",
              "      <th>Link 11</th>\n",
              "      <th>Link 12</th>\n",
              "      <th>Link 13</th>\n",
              "      <th>Link 14</th>\n",
              "      <th>Link 15</th>\n",
              "      <th>Link 16</th>\n",
              "      <th>Link 17</th>\n",
              "      <th>Link 18</th>\n",
              "      <th>Link 19</th>\n",
              "      <th>Link 20</th>\n",
              "      <th>STATE_CODE</th>\n",
              "      <th>COUNTY</th>\n",
              "      <th>LATITUDE</th>\n",
              "      <th>LONGITUDE</th>\n",
              "      <th>force_tags</th>\n",
              "      <th>human_tags</th>\n",
              "      <th>tags_new_clean</th>\n",
              "      <th>tags_new</th>\n",
              "    </tr>\n",
              "  </thead>\n",
              "  <tbody>\n",
              "    <tr>\n",
              "      <th>0</th>\n",
              "      <td>Louisiana</td>\n",
              "      <td>https://github.com/2020PB/police-brutality/blob/master/reports/Louisiana.md</td>\n",
              "      <td>New Orleans</td>\n",
              "      <td>police throw tear gas at protesters on a bridge</td>\n",
              "      <td>2020-06-03</td>\n",
              "      <td>June 3rd</td>\n",
              "      <td>la-neworleans-1</td>\n",
              "      <td>https://twitter.com/misaacstein/status/1268381797081022464</td>\n",
              "      <td>https://twitter.com/ckm_news/status/1268382403367763970</td>\n",
              "      <td>https://twitter.com/brynstole/status/1268381340073971713</td>\n",
              "      <td>https://twitter.com/xxnthe/status/1268427759870775298</td>\n",
              "      <td>https://twitter.com/greg_doucette/status/1268520538391134208</td>\n",
              "      <td>https://www.wdsu.com/article/protesters-on-i-10-reach-top-of-crescent-city-connection/32761790</td>\n",
              "      <td>NaN</td>\n",
              "      <td>NaN</td>\n",
              "      <td>NaN</td>\n",
              "      <td>NaN</td>\n",
              "      <td>NaN</td>\n",
              "      <td>NaN</td>\n",
              "      <td>NaN</td>\n",
              "      <td>NaN</td>\n",
              "      <td>NaN</td>\n",
              "      <td>NaN</td>\n",
              "      <td>NaN</td>\n",
              "      <td>NaN</td>\n",
              "      <td>NaN</td>\n",
              "      <td>NaN</td>\n",
              "      <td>LA</td>\n",
              "      <td>Jefferson</td>\n",
              "      <td>29.963071</td>\n",
              "      <td>-90.160953</td>\n",
              "      <td>Projectiles</td>\n",
              "      <td>Police, Protester</td>\n",
              "      <td>projectiles</td>\n",
              "      <td>[projectiles]</td>\n",
              "    </tr>\n",
              "    <tr>\n",
              "      <th>1</th>\n",
              "      <td>Texas</td>\n",
              "      <td>https://github.com/2020PB/police-brutality/blob/master/reports/Texas.md</td>\n",
              "      <td>Austin</td>\n",
              "      <td>police assault protesters</td>\n",
              "      <td>2020-05-30</td>\n",
              "      <td>May 30th</td>\n",
              "      <td>tx-austin-2</td>\n",
              "      <td>https://gfycat.com/tautimaginativedore</td>\n",
              "      <td>https://www.reddit.com/r/2020PoliceBrutality/comments/hhhbeh/5302020_austin/</td>\n",
              "      <td>NaN</td>\n",
              "      <td>NaN</td>\n",
              "      <td>NaN</td>\n",
              "      <td>NaN</td>\n",
              "      <td>NaN</td>\n",
              "      <td>NaN</td>\n",
              "      <td>NaN</td>\n",
              "      <td>NaN</td>\n",
              "      <td>NaN</td>\n",
              "      <td>NaN</td>\n",
              "      <td>NaN</td>\n",
              "      <td>NaN</td>\n",
              "      <td>NaN</td>\n",
              "      <td>NaN</td>\n",
              "      <td>NaN</td>\n",
              "      <td>NaN</td>\n",
              "      <td>NaN</td>\n",
              "      <td>NaN</td>\n",
              "      <td>TX</td>\n",
              "      <td>Hays</td>\n",
              "      <td>30.210692</td>\n",
              "      <td>-97.942749</td>\n",
              "      <td>EHC Hard Technique</td>\n",
              "      <td>Police, Protester</td>\n",
              "      <td>ehc hard technique</td>\n",
              "      <td>[ehc hard technique]</td>\n",
              "    </tr>\n",
              "    <tr>\n",
              "      <th>2</th>\n",
              "      <td>Texas</td>\n",
              "      <td>https://github.com/2020PB/police-brutality/blob/master/reports/Texas.md</td>\n",
              "      <td>Austin</td>\n",
              "      <td>police shoot non violent protester in the head</td>\n",
              "      <td>2020-05-30</td>\n",
              "      <td>May 30th</td>\n",
              "      <td>tx-austin-3</td>\n",
              "      <td>https://www.reddit.com/r/PublicFreakout/comments/guwc4y/austin_tx_nonviolent_protestor_shot_in_the_head/</td>\n",
              "      <td>https://www.instagram.com/p/CA6TCIGnuWm/</td>\n",
              "      <td>https://www.youtube.com/watch?v=-BGyTi-KdKc (aftermath)</td>\n",
              "      <td>https://streamable.com/o1uqgy (aftermath)</td>\n",
              "      <td>https://cbsaustin.com/news/local/austin-teen-hospitalized-with-head-injury-after-police-shoot-him-with-bean-bags-at-protest</td>\n",
              "      <td>NaN</td>\n",
              "      <td>NaN</td>\n",
              "      <td>NaN</td>\n",
              "      <td>NaN</td>\n",
              "      <td>NaN</td>\n",
              "      <td>NaN</td>\n",
              "      <td>NaN</td>\n",
              "      <td>NaN</td>\n",
              "      <td>NaN</td>\n",
              "      <td>NaN</td>\n",
              "      <td>NaN</td>\n",
              "      <td>NaN</td>\n",
              "      <td>NaN</td>\n",
              "      <td>NaN</td>\n",
              "      <td>NaN</td>\n",
              "      <td>TX</td>\n",
              "      <td>Hays</td>\n",
              "      <td>30.210692</td>\n",
              "      <td>-97.942749</td>\n",
              "      <td>Projectiles</td>\n",
              "      <td>Police, Protester</td>\n",
              "      <td>projectiles</td>\n",
              "      <td>[projectiles]</td>\n",
              "    </tr>\n",
              "    <tr>\n",
              "      <th>3</th>\n",
              "      <td>Texas</td>\n",
              "      <td>https://github.com/2020PB/police-brutality/blob/master/reports/Texas.md</td>\n",
              "      <td>Austin</td>\n",
              "      <td>police use tear gas   rubber bullets on protesters</td>\n",
              "      <td>2020-05-30</td>\n",
              "      <td>May 30th</td>\n",
              "      <td>tx-austin-4</td>\n",
              "      <td>https://twitter.com/highsettler/status/1266876480929349633</td>\n",
              "      <td>https://imgur.com/gallery/VKuIIvu</td>\n",
              "      <td>https://gfycat.com/weirdthankfulgnatcatcher</td>\n",
              "      <td>NaN</td>\n",
              "      <td>NaN</td>\n",
              "      <td>NaN</td>\n",
              "      <td>NaN</td>\n",
              "      <td>NaN</td>\n",
              "      <td>NaN</td>\n",
              "      <td>NaN</td>\n",
              "      <td>NaN</td>\n",
              "      <td>NaN</td>\n",
              "      <td>NaN</td>\n",
              "      <td>NaN</td>\n",
              "      <td>NaN</td>\n",
              "      <td>NaN</td>\n",
              "      <td>NaN</td>\n",
              "      <td>NaN</td>\n",
              "      <td>NaN</td>\n",
              "      <td>NaN</td>\n",
              "      <td>TX</td>\n",
              "      <td>Hays</td>\n",
              "      <td>30.210692</td>\n",
              "      <td>-97.942749</td>\n",
              "      <td>Projectiles</td>\n",
              "      <td>Police, Protester</td>\n",
              "      <td>projectiles</td>\n",
              "      <td>[projectiles]</td>\n",
              "    </tr>\n",
              "    <tr>\n",
              "      <th>4</th>\n",
              "      <td>Texas</td>\n",
              "      <td>https://github.com/2020PB/police-brutality/blob/master/reports/Texas.md</td>\n",
              "      <td>Austin</td>\n",
              "      <td>police open fire on crowd with rubber bullets</td>\n",
              "      <td>2020-05-30</td>\n",
              "      <td>May 30th</td>\n",
              "      <td>tx-austin-5</td>\n",
              "      <td>https://twitter.com/ironfront7/status/1267133400156196870</td>\n",
              "      <td>NaN</td>\n",
              "      <td>NaN</td>\n",
              "      <td>NaN</td>\n",
              "      <td>NaN</td>\n",
              "      <td>NaN</td>\n",
              "      <td>NaN</td>\n",
              "      <td>NaN</td>\n",
              "      <td>NaN</td>\n",
              "      <td>NaN</td>\n",
              "      <td>NaN</td>\n",
              "      <td>NaN</td>\n",
              "      <td>NaN</td>\n",
              "      <td>NaN</td>\n",
              "      <td>NaN</td>\n",
              "      <td>NaN</td>\n",
              "      <td>NaN</td>\n",
              "      <td>NaN</td>\n",
              "      <td>NaN</td>\n",
              "      <td>NaN</td>\n",
              "      <td>TX</td>\n",
              "      <td>Hays</td>\n",
              "      <td>30.210692</td>\n",
              "      <td>-97.942749</td>\n",
              "      <td>Projectiles</td>\n",
              "      <td>Police</td>\n",
              "      <td>projectiles</td>\n",
              "      <td>[projectiles]</td>\n",
              "    </tr>\n",
              "  </tbody>\n",
              "</table>\n",
              "</div>"
            ],
            "text/plain": [
              "  STATE_NAME  ...              tags_new\n",
              "0  Louisiana  ...         [projectiles]\n",
              "1      Texas  ...  [ehc hard technique]\n",
              "2      Texas  ...         [projectiles]\n",
              "3      Texas  ...         [projectiles]\n",
              "4      Texas  ...         [projectiles]\n",
              "\n",
              "[5 rows x 35 columns]"
            ]
          },
          "metadata": {
            "tags": []
          },
          "execution_count": 13
        }
      ]
    },
    {
      "cell_type": "code",
      "metadata": {
        "id": "eceNopMGF2ve",
        "colab_type": "code",
        "colab": {
          "base_uri": "https://localhost:8080/",
          "height": 72
        },
        "outputId": "ea53471d-bbc0-4d5d-d519-7dc8766e5b31"
      },
      "source": [
        "# get all genre tags in a list\n",
        "tags = []\n",
        "\n",
        "for i in df['force_tags']:\n",
        "  tags.append(i)\n",
        "\n",
        "\n",
        "\n",
        "print(len(set(tags)))\n",
        "print(set(tags))"
      ],
      "execution_count": 14,
      "outputs": [
        {
          "output_type": "stream",
          "text": [
            "32\n",
            "{'EHC Soft Technique', 'EHC Soft Technique, EHC Hard Technique, Projectiles', 'Presence', 'Presence, EHC Hard Technique', 'Other/Unknown', 'EHC Soft Technique, Blunt Impact', 'EHC Hard Technique, Blunt Impact, Projectiles, Chemical', 'Projectiles, Conductive Energy', 'Conductive Energy', 'EHC Soft Technique, EHC Hard Technique, Blunt Impact, Projectiles', 'EHC Hard Technique, Projectiles', 'EHC Soft Technique, Blunt Impact, Projectiles', 'Verbalization, EHC Soft Technique', 'EHC Hard Technique, Projectiles, Chemical', 'EHC Soft Technique, EHC Hard Technique', 'EHC Soft Technique, Chemical', 'Verbalization', 'Projectiles, Chemical', 'EHC Hard Technique, Blunt Impact', 'EHC Soft Technique, EHC Hard Technique, Projectiles, Chemical', 'Projectiles', 'Presence, Projectiles', 'EHC Soft Technique, Projectiles, Chemical', 'Blunt Impact, Projectiles, Chemical', 'EHC Soft Technique, EHC Hard Technique, Blunt Impact, Projectiles, Chemical', 'EHC Hard Technique', 'Chemical', 'Blunt Impact', 'EHC Soft Technique, EHC Hard Technique, Blunt Impact', 'EHC Hard Technique, Chemical', 'EHC Soft Technique, Projectiles', 'Blunt Impact, Projectiles'}\n"
          ],
          "name": "stdout"
        }
      ]
    },
    {
      "cell_type": "code",
      "metadata": {
        "id": "MXikclL-F2v1",
        "colab_type": "code",
        "colab": {}
      },
      "source": [
        "tags = nltk.FreqDist(tags)\n",
        "tags_df = pd.DataFrame({'Tags': list(tags.keys()), 'Count': list(tags.values())})"
      ],
      "execution_count": 15,
      "outputs": []
    },
    {
      "cell_type": "markdown",
      "metadata": {
        "id": "bYkZUVueIdTm",
        "colab_type": "text"
      },
      "source": [
        "Sometimes visualizing data is better than putting out numbers. Let's plot the distribution of the tags."
      ]
    },
    {
      "cell_type": "code",
      "metadata": {
        "id": "ljJeSX0hF2v7",
        "colab_type": "code",
        "colab": {
          "base_uri": "https://localhost:8080/",
          "height": 714
        },
        "outputId": "2a615295-cc40-4912-fe4c-4cf3f4828b6f"
      },
      "source": [
        "g = tags_df.nlargest(columns=\"Count\", n = 50) \n",
        "plt.figure(figsize=(8,12))\n",
        "ax = sns.barplot(data=g, x= \"Count\", y = \"Tags\")\n",
        "ax.set(ylabel = 'Count')\n",
        "plt.show()"
      ],
      "execution_count": 16,
      "outputs": [
        {
          "output_type": "display_data",
          "data": {
            "image/png": "[encoded data removed]",
            "text/plain": [
              "<Figure size 576x864 with 1 Axes>"
            ]
          },
          "metadata": {
            "tags": [],
            "needs_background": "light"
          }
        }
      ]
    },
    {
      "cell_type": "markdown",
      "metadata": {
        "id": "eCLjE_3VMBJr",
        "colab_type": "text"
      },
      "source": [
        " Basic text cleaning steps..\n"
      ]
    },
    {
      "cell_type": "code",
      "metadata": {
        "id": "EkZHbKwlF2wa",
        "colab_type": "code",
        "colab": {}
      },
      "source": [
        "# function for text cleaning\n",
        "def clean_text(text):\n",
        "    # remove backslash-apostrophe\n",
        "    text = re.sub(\"\\'\", \"\", text)\n",
        "    # remove everything alphabets\n",
        "    text = re.sub(\"[^a-zA-Z]\",\" \",text)\n",
        "    # remove whitespaces\n",
        "    text = ' '.join(text.split())\n",
        "    # convert text to lowercase\n",
        "    text = text.lower()\n",
        "    \n",
        "    return text"
      ],
      "execution_count": 17,
      "outputs": []
    },
    {
      "cell_type": "markdown",
      "metadata": {
        "id": "V7RVglMbMmx1",
        "colab_type": "text"
      },
      "source": [
        "Apply the function on the new text by using the apply-lambda duo."
      ]
    },
    {
      "cell_type": "code",
      "metadata": {
        "id": "iD700PMqF2wf",
        "colab_type": "code",
        "colab": {}
      },
      "source": [
        "df['new_text'] = df['text'].apply(lambda x: clean_text(x))"
      ],
      "execution_count": 18,
      "outputs": []
    },
    {
      "cell_type": "markdown",
      "metadata": {
        "id": "uiK-I7A9A_Z3",
        "colab_type": "text"
      },
      "source": [
        ""
      ]
    },
    {
      "cell_type": "code",
      "metadata": {
        "id": "Ndw6uH0YM3uf",
        "colab_type": "code",
        "colab": {
          "base_uri": "https://localhost:8080/",
          "height": 197
        },
        "outputId": "398d37a2-1e5b-4f53-ce1f-631a2633c152"
      },
      "source": [
        "df[['text', 'new_text']].sample(5)"
      ],
      "execution_count": 19,
      "outputs": [
        {
          "output_type": "execute_result",
          "data": {
            "text/html": [
              "<div>\n",
              "<style scoped>\n",
              "    .dataframe tbody tr th:only-of-type {\n",
              "        vertical-align: middle;\n",
              "    }\n",
              "\n",
              "    .dataframe tbody tr th {\n",
              "        vertical-align: top;\n",
              "    }\n",
              "\n",
              "    .dataframe thead th {\n",
              "        text-align: right;\n",
              "    }\n",
              "</style>\n",
              "<table border=\"1\" class=\"dataframe\">\n",
              "  <thead>\n",
              "    <tr style=\"text-align: right;\">\n",
              "      <th></th>\n",
              "      <th>text</th>\n",
              "      <th>new_text</th>\n",
              "    </tr>\n",
              "  </thead>\n",
              "  <tbody>\n",
              "    <tr>\n",
              "      <th>505</th>\n",
              "      <td>police detain des moines register reporter while covering event</td>\n",
              "      <td>police detain des moines register reporter while covering event</td>\n",
              "    </tr>\n",
              "    <tr>\n",
              "      <th>598</th>\n",
              "      <td>police pepper spray protesters during arrest</td>\n",
              "      <td>police pepper spray protesters during arrest</td>\n",
              "    </tr>\n",
              "    <tr>\n",
              "      <th>252</th>\n",
              "      <td>protester in wheelchair struck repeatedly</td>\n",
              "      <td>protester in wheelchair struck repeatedly</td>\n",
              "    </tr>\n",
              "    <tr>\n",
              "      <th>466</th>\n",
              "      <td>officer refuses to give diabetic arrestee her insulin back</td>\n",
              "      <td>officer refuses to give diabetic arrestee her insulin back</td>\n",
              "    </tr>\n",
              "    <tr>\n",
              "      <th>458</th>\n",
              "      <td>man struck by counter protester while police look on</td>\n",
              "      <td>man struck by counter protester while police look on</td>\n",
              "    </tr>\n",
              "  </tbody>\n",
              "</table>\n",
              "</div>"
            ],
            "text/plain": [
              "                                                                text                                                         new_text\n",
              "505  police detain des moines register reporter while covering event  police detain des moines register reporter while covering event\n",
              "598                     police pepper spray protesters during arrest                     police pepper spray protesters during arrest\n",
              "252                        protester in wheelchair struck repeatedly                        protester in wheelchair struck repeatedly\n",
              "466       officer refuses to give diabetic arrestee her insulin back       officer refuses to give diabetic arrestee her insulin back\n",
              "458             man struck by counter protester while police look on             man struck by counter protester while police look on"
            ]
          },
          "metadata": {
            "tags": []
          },
          "execution_count": 19
        }
      ]
    },
    {
      "cell_type": "code",
      "metadata": {
        "id": "2xihIWUjF2wt",
        "colab_type": "code",
        "colab": {}
      },
      "source": [
        "def freq_words(x, terms = 30):\n",
        "  all_words = ' '.join([text for text in x])\n",
        "  all_words = all_words.split()\n",
        "  \n",
        "  fdist = nltk.FreqDist(all_words)\n",
        "  words_df = pd.DataFrame({'word':list(fdist.keys()), 'count':list(fdist.values())})\n",
        "  \n",
        "  # selecting top 20 most frequent words\n",
        "  d = words_df.nlargest(columns=\"count\", n = terms) \n",
        "  plt.figure(figsize=(8,12))\n",
        "  ax = sns.barplot(data=d, x= \"count\", y = \"word\")\n",
        "  ax.set(ylabel = 'Word')\n",
        "  plt.show()"
      ],
      "execution_count": 20,
      "outputs": []
    },
    {
      "cell_type": "code",
      "metadata": {
        "id": "kNHRpL7zOSmm",
        "colab_type": "code",
        "colab": {
          "base_uri": "https://localhost:8080/",
          "height": 70
        },
        "outputId": "3d357c97-1f8b-4da4-e08f-0d4e2b653715"
      },
      "source": [
        "nltk.download('stopwords')"
      ],
      "execution_count": 21,
      "outputs": [
        {
          "output_type": "stream",
          "text": [
            "[nltk_data] Downloading package stopwords to /root/nltk_data...\n",
            "[nltk_data]   Unzipping corpora/stopwords.zip.\n"
          ],
          "name": "stdout"
        },
        {
          "output_type": "execute_result",
          "data": {
            "text/plain": [
              "True"
            ]
          },
          "metadata": {
            "tags": []
          },
          "execution_count": 21
        }
      ]
    },
    {
      "cell_type": "markdown",
      "metadata": {
        "id": "6l6U_YxpPOMd",
        "colab_type": "text"
      },
      "source": [
        "Remove the stopwords."
      ]
    },
    {
      "cell_type": "code",
      "metadata": {
        "id": "qljT-V5rF2xC",
        "colab_type": "code",
        "colab": {}
      },
      "source": [
        "from nltk.corpus import stopwords\n",
        "stop_words = set(stopwords.words('english'))\n",
        "\n",
        "# function to remove stopwords\n",
        "def remove_stopwords(text):\n",
        "    no_stopword_text = [w for w in text.split() if not w in stop_words]\n",
        "    return ' '.join(no_stopword_text)\n",
        "  \n",
        "df['new_text'] = df['new_text'].apply(lambda x: remove_stopwords(x))"
      ],
      "execution_count": 22,
      "outputs": []
    },
    {
      "cell_type": "code",
      "metadata": {
        "id": "v_kCfw6TF2xN",
        "colab_type": "code",
        "colab": {
          "base_uri": "https://localhost:8080/",
          "height": 714
        },
        "outputId": "1cf77457-55ff-460e-a38e-cce24a3d7dcc"
      },
      "source": [
        "freq_words(df['new_text'], 20)"
      ],
      "execution_count": 23,
      "outputs": [
        {
          "output_type": "display_data",
          "data": {
            "image/png": "[encoded data removed]",
            "text/plain": [
              "<Figure size 576x864 with 1 Axes>"
            ]
          },
          "metadata": {
            "tags": [],
            "needs_background": "light"
          }
        }
      ]
    },
    {
      "cell_type": "markdown",
      "metadata": {
        "id": "QuE4iqHTQRRw",
        "colab_type": "text"
      },
      "source": [
        "### Converting Text to Features"
      ]
    },
    {
      "cell_type": "markdown",
      "metadata": {
        "id": "tKyJYhRnRAUF",
        "colab_type": "text"
      },
      "source": [
        "I will treat this multilable classification problem as a Binary Relevance problem. Hence, now I am going to one hot encode the target variable, i.e. *tags_new* by using sklearn's **MultiLabelBinarizer( )**. Since there are 26 unique  tags, there are going to be 26 new target variables.\n"
      ]
    },
    {
      "cell_type": "code",
      "metadata": {
        "id": "9l3TjWUPF2xV",
        "colab_type": "code",
        "colab": {
          "base_uri": "https://localhost:8080/",
          "height": 70
        },
        "outputId": "be80fdcb-1a15-46e2-d7d9-49922385d437"
      },
      "source": [
        "from sklearn.preprocessing import MultiLabelBinarizer\n",
        "\n",
        "multilabel_binarizer = MultiLabelBinarizer()\n",
        "\n",
        "multilabel_binarizer.fit(df['tags_new'])\n",
        "print(multilabel_binarizer.classes_)\n",
        "\n",
        "# transform target variable\n",
        "\n",
        "y = multilabel_binarizer.transform(df['tags_new'])"
      ],
      "execution_count": 24,
      "outputs": [
        {
          "output_type": "stream",
          "text": [
            "['blunt impact' 'chemical' 'conductive energy' 'ehc hard technique'\n",
            " 'ehc soft technique' 'other/unknown' 'presence' 'projectiles'\n",
            " 'verbalization']\n"
          ],
          "name": "stdout"
        }
      ]
    },
    {
      "cell_type": "code",
      "metadata": {
        "id": "azhLytr5oMGO",
        "colab_type": "code",
        "colab": {
          "base_uri": "https://localhost:8080/",
          "height": 34
        },
        "outputId": "b48d8b09-f98d-4bb5-83b2-eb1b2dff1918"
      },
      "source": [
        "print(y.shape)"
      ],
      "execution_count": 25,
      "outputs": [
        {
          "output_type": "stream",
          "text": [
            "(1069, 9)\n"
          ],
          "name": "stdout"
        }
      ]
    },
    {
      "cell_type": "markdown",
      "metadata": {
        "id": "BIb2sjjq4pp9",
        "colab_type": "text"
      },
      "source": [
        "We have successfully transformed the target variable and now let's turn our focus to extract features from the cleaned version of the df text. I have decided to use TF-IDF features. Any other feature extraction method such as Bag-of-Words, word2vec, GloVe, or ELMo would work. \n",
        "\n",
        "Learn more about different ways of creating features from text:\n",
        "\n",
        "*   [An Intuitive Understanding of Word Embeddings: From Count Vectors to Word2Vec](https://www.analyticsvidhya.com/blog/2017/06/word-embeddings-count-word2veec/)\n",
        "*   [A Step-by-Step NLP Guide to Learn ELMo for Extracting Features from Text](https://www.analyticsvidhya.com/blog/2019/03/learn-to-use-elmo-to-extract-features-from-text/)\n",
        "\n"
      ]
    },
    {
      "cell_type": "code",
      "metadata": {
        "id": "uV1pJhmiF2xd",
        "colab_type": "code",
        "colab": {}
      },
      "source": [
        "tfidf_vectorizer = TfidfVectorizer(max_df=0.8, max_features=10000)"
      ],
      "execution_count": 26,
      "outputs": []
    },
    {
      "cell_type": "markdown",
      "metadata": {
        "id": "zTpRfqVD6sel",
        "colab_type": "text"
      },
      "source": [
        "Please note that I have used the 10,000 most frequent words in the data as my features. You can try any other number as well for the parameter max_features. Before creating TF-IDF features, we will split our data into train and validation sets for training our and evaluating its performance, respectively. 80% of the data samples have been kept in the train set and the rest of the data is in the validation set."
      ]
    },
    {
      "cell_type": "code",
      "metadata": {
        "id": "QLQpqZBYF2xw",
        "colab_type": "code",
        "colab": {}
      },
      "source": [
        "# split dataset into training and validation set\n",
        "xtrain, xval, ytrain, yval = train_test_split(df['new_text'], y, test_size=0.2, random_state=9)"
      ],
      "execution_count": 27,
      "outputs": []
    },
    {
      "cell_type": "markdown",
      "metadata": {
        "id": "ylE2fyMZ9QbF",
        "colab_type": "text"
      },
      "source": [
        "Now we can create features for the train and the validation set."
      ]
    },
    {
      "cell_type": "code",
      "metadata": {
        "id": "yfAkXKJRF2x0",
        "colab_type": "code",
        "colab": {}
      },
      "source": [
        "# create TF-IDF features\n",
        "xtrain_tfidf = tfidf_vectorizer.fit_transform(xtrain)\n",
        "xval_tfidf = tfidf_vectorizer.transform(xval)"
      ],
      "execution_count": 28,
      "outputs": []
    },
    {
      "cell_type": "markdown",
      "metadata": {
        "id": "Rmdfnd0q9jvl",
        "colab_type": "text"
      },
      "source": [
        "### Build the Category Prediction Model\n",
        "\n",
        "As we have already discussed earlier, if we are using the Binary Relevance approach to solve a multilable problem, then we will have to one hot encode the target variable and then build model for each and every one hot encoded target variables. Since we have 26 target variables, we will have to fit 26 different models with the same set of predictors (TF-IDF features). \n",
        "\n",
        "Training 26 models can take a considerable amount of time on a modest system. Hence, I will go ahead with the Logistic Regression model as it is quick to train and easy on the limited hardware."
      ]
    },
    {
      "cell_type": "code",
      "metadata": {
        "id": "QifsulBzF2x5",
        "colab_type": "code",
        "colab": {}
      },
      "source": [
        "from sklearn.linear_model import LogisticRegression\n",
        "\n",
        "# Binary Relevance\n",
        "from sklearn.multiclass import OneVsRestClassifier\n",
        "\n",
        "# Performance metric\n",
        "from sklearn.metrics import f1_score"
      ],
      "execution_count": 29,
      "outputs": []
    },
    {
      "cell_type": "markdown",
      "metadata": {
        "id": "1MXsU1Mu_Zfz",
        "colab_type": "text"
      },
      "source": [
        "We will use sklearn's OneVsRestClassifier class to solve this problem as a Binary Relevance or one-vs-all problem."
      ]
    },
    {
      "cell_type": "code",
      "metadata": {
        "id": "SMx1lAY6F2x8",
        "colab_type": "code",
        "colab": {}
      },
      "source": [
        "lr = LogisticRegression()\n",
        "clf = OneVsRestClassifier(lr)"
      ],
      "execution_count": 30,
      "outputs": []
    },
    {
      "cell_type": "markdown",
      "metadata": {
        "id": "AW0h3Jz1_-Mm",
        "colab_type": "text"
      },
      "source": [
        "Finally we are going to fit our model on the train set"
      ]
    },
    {
      "cell_type": "code",
      "metadata": {
        "id": "mlAzsg8OF2x-",
        "colab_type": "code",
        "colab": {
          "base_uri": "https://localhost:8080/",
          "height": 194
        },
        "outputId": "da72f57c-3bf0-41aa-d157-1f08dbbb8b4f"
      },
      "source": [
        "# fit model on train data\n",
        "clf.fit(xtrain_tfidf, ytrain)"
      ],
      "execution_count": 31,
      "outputs": [
        {
          "output_type": "execute_result",
          "data": {
            "text/plain": [
              "OneVsRestClassifier(estimator=LogisticRegression(C=1.0, class_weight=None,\n",
              "                                                 dual=False, fit_intercept=True,\n",
              "                                                 intercept_scaling=1,\n",
              "                                                 l1_ratio=None, max_iter=100,\n",
              "                                                 multi_class='auto',\n",
              "                                                 n_jobs=None, penalty='l2',\n",
              "                                                 random_state=None,\n",
              "                                                 solver='lbfgs', tol=0.0001,\n",
              "                                                 verbose=0, warm_start=False),\n",
              "                    n_jobs=None)"
            ]
          },
          "metadata": {
            "tags": []
          },
          "execution_count": 31
        }
      ]
    },
    {
      "cell_type": "markdown",
      "metadata": {
        "id": "oZo2QZtVBjFi",
        "colab_type": "text"
      },
      "source": [
        "Once our model is trained, we can then predict categories for the validation set. Let's do it."
      ]
    },
    {
      "cell_type": "code",
      "metadata": {
        "id": "JDgWCi2hF2yF",
        "colab_type": "code",
        "colab": {}
      },
      "source": [
        "# make predictions for validation set\n",
        "y_pred = clf.predict(xval_tfidf)"
      ],
      "execution_count": 32,
      "outputs": []
    },
    {
      "cell_type": "markdown",
      "metadata": {
        "id": "XSxiV_E8BzSx",
        "colab_type": "text"
      },
      "source": [
        "Here is a prediction..."
      ]
    },
    {
      "cell_type": "code",
      "metadata": {
        "id": "Sj9l1s9yB4kR",
        "colab_type": "code",
        "colab": {
          "base_uri": "https://localhost:8080/",
          "height": 34
        },
        "outputId": "48d59dd4-3ced-443b-c01d-a4fda3ddd830"
      },
      "source": [
        "y_pred[9]"
      ],
      "execution_count": 33,
      "outputs": [
        {
          "output_type": "execute_result",
          "data": {
            "text/plain": [
              "array([0, 1, 0, 0, 0, 0, 0, 1, 0])"
            ]
          },
          "metadata": {
            "tags": []
          },
          "execution_count": 33
        }
      ]
    },
    {
      "cell_type": "markdown",
      "metadata": {
        "id": "hRjJt8z3CV5A",
        "colab_type": "text"
      },
      "source": [
        "It is a binary one dimensional array of length 26. Basically it is the one hot encoded form of the unique tags. We will have to find some way to convert it into categories. We will use **inverse_transform( )** function along with the MultiLabelBinarizer( ) object to convert the predicted arrays into tags."
      ]
    },
    {
      "cell_type": "code",
      "metadata": {
        "id": "ivmaB8yJF2yI",
        "colab_type": "code",
        "colab": {
          "base_uri": "https://localhost:8080/",
          "height": 34
        },
        "outputId": "7392d342-4ad9-427b-a597-f0f05a7237e6"
      },
      "source": [
        "multilabel_binarizer.inverse_transform(y_pred)[9]"
      ],
      "execution_count": 34,
      "outputs": [
        {
          "output_type": "execute_result",
          "data": {
            "text/plain": [
              "('chemical', 'projectiles')"
            ]
          },
          "metadata": {
            "tags": []
          },
          "execution_count": 34
        }
      ]
    },
    {
      "cell_type": "markdown",
      "metadata": {
        "id": "f4HkqKOsDuoK",
        "colab_type": "text"
      },
      "source": [
        "To evaluate our model's overall performance, we will have to take into consideration all the predictions and the entire target variable of the validation set."
      ]
    },
    {
      "cell_type": "code",
      "metadata": {
        "id": "ekSfgVp3F2yM",
        "colab_type": "code",
        "colab": {
          "base_uri": "https://localhost:8080/",
          "height": 34
        },
        "outputId": "0c728bf1-25e1-41b5-ce39-8750d3e8a06c"
      },
      "source": [
        "# evaluate performance\n",
        "f1_score(yval, y_pred, average=\"micro\")"
      ],
      "execution_count": 35,
      "outputs": [
        {
          "output_type": "execute_result",
          "data": {
            "text/plain": [
              "0.7817047817047817"
            ]
          },
          "metadata": {
            "tags": []
          },
          "execution_count": 35
        }
      ]
    },
    {
      "cell_type": "code",
      "metadata": {
        "id": "Im6QjRHKHPym",
        "colab_type": "code",
        "colab": {}
      },
      "source": [
        "# predict probabilities\n",
        "y_pred_prob = clf.predict_proba(xval_tfidf)"
      ],
      "execution_count": 36,
      "outputs": []
    },
    {
      "cell_type": "markdown",
      "metadata": {
        "id": "sOXXV8LmHf1J",
        "colab_type": "text"
      },
      "source": [
        "Now set a threshold value."
      ]
    },
    {
      "cell_type": "code",
      "metadata": {
        "id": "UbFne8EVHaIY",
        "colab_type": "code",
        "colab": {}
      },
      "source": [
        "t = 0.3 # threshold value\n",
        "y_pred_new = (y_pred_prob >= t).astype(int)"
      ],
      "execution_count": 37,
      "outputs": []
    },
    {
      "cell_type": "markdown",
      "metadata": {
        "id": "XV0hYWo5H-Yd",
        "colab_type": "text"
      },
      "source": [
        "I have tried 0.3 as the threshold value. You may try any other value as well. Let's check the F1 score again on these new predictions."
      ]
    },
    {
      "cell_type": "code",
      "metadata": {
        "id": "emACNSFUIMpy",
        "colab_type": "code",
        "colab": {
          "base_uri": "https://localhost:8080/",
          "height": 34
        },
        "outputId": "024dba58-10e4-4ed4-d6bc-ee3d9071c33c"
      },
      "source": [
        "# evaluate performance\n",
        "f1_score(yval, y_pred_new, average=\"micro\")"
      ],
      "execution_count": 38,
      "outputs": [
        {
          "output_type": "execute_result",
          "data": {
            "text/plain": [
              "0.8734402852049911"
            ]
          },
          "metadata": {
            "tags": []
          },
          "execution_count": 38
        }
      ]
    },
    {
      "cell_type": "markdown",
      "metadata": {
        "id": "yaat4MXFJxZk",
        "colab_type": "text"
      },
      "source": [
        "A better approach to find the right threshold value would be to use a k-fold cross validation setup and try different threshold values."
      ]
    },
    {
      "cell_type": "markdown",
      "metadata": {
        "id": "hpURW_KLKSA2",
        "colab_type": "text"
      },
      "source": [
        "### Create Inference Function\n",
        "\n",
        "Our job is still not over. We have trained our model and we have also made predictions for the validation set. However, we also have to take care of the new data or that would come in the future. Our prediction system should be able to take a text in raw form as input and give out its category tags as output.\n",
        "\n",
        "To achieve this objective, let's build an inference function. It will take in a text and follow the steps below:\n",
        "\n",
        "\n",
        "\n",
        "*   Clean the text\n",
        "*   Remove stopwords from the cleaned text\n",
        "*   Extract features from the text\n",
        "*   Make predictions\n",
        "*   Return the predicted category tags\n",
        "\n",
        "\n"
      ]
    },
    {
      "cell_type": "code",
      "metadata": {
        "id": "aU_nuhCHF2yQ",
        "colab_type": "code",
        "colab": {}
      },
      "source": [
        "def infer_tags(q):\n",
        "    q = clean_text(q)\n",
        "    q = remove_stopwords(q)\n",
        "    q_vec = tfidf_vectorizer.transform([q])\n",
        "    q_pred = clf.predict(q_vec)\n",
        "    return multilabel_binarizer.inverse_transform(q_pred)"
      ],
      "execution_count": 51,
      "outputs": []
    },
    {
      "cell_type": "markdown",
      "metadata": {
        "id": "68RwoDzrNG_h",
        "colab_type": "text"
      },
      "source": [
        "Let's test this inference function on a few samples from the validation set."
      ]
    },
    {
      "cell_type": "code",
      "metadata": {
        "id": "eMIcpA6BOjVh",
        "colab_type": "code",
        "colab": {
          "base_uri": "https://localhost:8080/",
          "height": 727
        },
        "outputId": "04e9a56a-b5e3-4b1c-a247-91ac5049830a"
      },
      "source": [
        "for i in range(10):\n",
        "    k = xval.sample(1).index[0]\n",
        "    print(\"Category of Violence: \", df['text'][k], \"\\nPredicted category: \", infer_tags(xval[k])), print(\"Actual tag: \",df['force_tags'][k], \"\\n\")   "
      ],
      "execution_count": 52,
      "outputs": [
        {
          "output_type": "stream",
          "text": [
            "Category of Violence:  police kettle and fire on fleeing protesters \n",
            "Predicted category:  [('projectiles',)]\n",
            "Actual tag:  Projectiles \n",
            "\n",
            "Category of Violence:  police strike journalist with tear gas canister \n",
            "Predicted category:  [()]\n",
            "Actual tag:  Other/Unknown \n",
            "\n",
            "Category of Violence:  protester medic beaten and arrested \n",
            "Predicted category:  [('ehc soft technique',)]\n",
            "Actual tag:  EHC Soft Technique, EHC Hard Technique \n",
            "\n",
            "Category of Violence:  police arrest protesters en masse  confine them for long periods  and improperly zip tie them \n",
            "Predicted category:  [('ehc soft technique',)]\n",
            "Actual tag:  EHC Soft Technique \n",
            "\n",
            "Category of Violence:  federal agents arrest protester without identifying themselves or stating charges \n",
            "Predicted category:  [('ehc soft technique',)]\n",
            "Actual tag:  EHC Soft Technique \n",
            "\n",
            "Category of Violence:  la times employee recounts getting shot \n",
            "Predicted category:  [()]\n",
            "Actual tag:  Projectiles \n",
            "\n",
            "Category of Violence:  police fire teargas canisters and projectiles into peaceful crowd of unarmed protesters \n",
            "Predicted category:  [('projectiles',)]\n",
            "Actual tag:  Projectiles \n",
            "\n",
            "Category of Violence:  police shove protesters with bikes \n",
            "Predicted category:  [('ehc soft technique',)]\n",
            "Actual tag:  EHC Soft Technique, Blunt Impact \n",
            "\n",
            "Category of Violence:  water bottle tossed at police  police retaliate against crowd \n",
            "Predicted category:  [()]\n",
            "Actual tag:  Other/Unknown \n",
            "\n",
            "Category of Violence:  police shove protester from behind \n",
            "Predicted category:  [('ehc soft technique',)]\n",
            "Actual tag:  EHC Soft Technique \n",
            "\n"
          ],
          "name": "stdout"
        }
      ]
    },
    {
      "cell_type": "code",
      "metadata": {
        "id": "JNeuZtje_tLU",
        "colab_type": "code",
        "colab": {}
      },
      "source": [
        "df_new = df.copy()\n"
      ],
      "execution_count": 54,
      "outputs": []
    },
    {
      "cell_type": "code",
      "metadata": {
        "id": "iiYwEpNtB8Rl",
        "colab_type": "code",
        "colab": {
          "base_uri": "https://localhost:8080/",
          "height": 197
        },
        "outputId": "b5a33d8e-f5f7-4f13-d60a-5ef600b4f6d7"
      },
      "source": [
        "df_new = df_new[['date_text', 'LATITUDE', 'LONGITUDE', 'new_text']]\n",
        "df_new.head(5)"
      ],
      "execution_count": 55,
      "outputs": [
        {
          "output_type": "execute_result",
          "data": {
            "text/html": [
              "<div>\n",
              "<style scoped>\n",
              "    .dataframe tbody tr th:only-of-type {\n",
              "        vertical-align: middle;\n",
              "    }\n",
              "\n",
              "    .dataframe tbody tr th {\n",
              "        vertical-align: top;\n",
              "    }\n",
              "\n",
              "    .dataframe thead th {\n",
              "        text-align: right;\n",
              "    }\n",
              "</style>\n",
              "<table border=\"1\" class=\"dataframe\">\n",
              "  <thead>\n",
              "    <tr style=\"text-align: right;\">\n",
              "      <th></th>\n",
              "      <th>date_text</th>\n",
              "      <th>LATITUDE</th>\n",
              "      <th>LONGITUDE</th>\n",
              "      <th>new_text</th>\n",
              "    </tr>\n",
              "  </thead>\n",
              "  <tbody>\n",
              "    <tr>\n",
              "      <th>0</th>\n",
              "      <td>June 3rd</td>\n",
              "      <td>29.963071</td>\n",
              "      <td>-90.160953</td>\n",
              "      <td>police throw tear gas protesters bridge</td>\n",
              "    </tr>\n",
              "    <tr>\n",
              "      <th>1</th>\n",
              "      <td>May 30th</td>\n",
              "      <td>30.210692</td>\n",
              "      <td>-97.942749</td>\n",
              "      <td>police assault protesters</td>\n",
              "    </tr>\n",
              "    <tr>\n",
              "      <th>2</th>\n",
              "      <td>May 30th</td>\n",
              "      <td>30.210692</td>\n",
              "      <td>-97.942749</td>\n",
              "      <td>police shoot non violent protester head</td>\n",
              "    </tr>\n",
              "    <tr>\n",
              "      <th>3</th>\n",
              "      <td>May 30th</td>\n",
              "      <td>30.210692</td>\n",
              "      <td>-97.942749</td>\n",
              "      <td>police use tear gas rubber bullets protesters</td>\n",
              "    </tr>\n",
              "    <tr>\n",
              "      <th>4</th>\n",
              "      <td>May 30th</td>\n",
              "      <td>30.210692</td>\n",
              "      <td>-97.942749</td>\n",
              "      <td>police open fire crowd rubber bullets</td>\n",
              "    </tr>\n",
              "  </tbody>\n",
              "</table>\n",
              "</div>"
            ],
            "text/plain": [
              "  date_text  ...                                       new_text\n",
              "0  June 3rd  ...        police throw tear gas protesters bridge\n",
              "1  May 30th  ...                      police assault protesters\n",
              "2  May 30th  ...        police shoot non violent protester head\n",
              "3  May 30th  ...  police use tear gas rubber bullets protesters\n",
              "4  May 30th  ...          police open fire crowd rubber bullets\n",
              "\n",
              "[5 rows x 4 columns]"
            ]
          },
          "metadata": {
            "tags": []
          },
          "execution_count": 55
        }
      ]
    },
    {
      "cell_type": "code",
      "metadata": {
        "id": "gPWymQqF7ncV",
        "colab_type": "code",
        "colab": {}
      },
      "source": [
        "new__tfidf = tfidf_vectorizer.transform(df_new['new_text'])\n",
        "y_pred = clf.predict(new__tfidf)\n",
        "\n",
        "df_new['tag_predicted'] = multilabel_binarizer.inverse_transform(y_pred)\n"
      ],
      "execution_count": 58,
      "outputs": []
    },
    {
      "cell_type": "code",
      "metadata": {
        "id": "hqIIJav6LdH8",
        "colab_type": "code",
        "colab": {
          "base_uri": "https://localhost:8080/",
          "height": 123
        },
        "outputId": "cc19d8be-b5ee-4c76-fdf7-b36339338d87"
      },
      "source": [
        "df_new.dtypes"
      ],
      "execution_count": 59,
      "outputs": [
        {
          "output_type": "execute_result",
          "data": {
            "text/plain": [
              "date_text         object\n",
              "LATITUDE         float64\n",
              "LONGITUDE        float64\n",
              "new_text          object\n",
              "tag_predicted     object\n",
              "dtype: object"
            ]
          },
          "metadata": {
            "tags": []
          },
          "execution_count": 59
        }
      ]
    },
    {
      "cell_type": "code",
      "metadata": {
        "id": "6Ahjj-RA_S-t",
        "colab_type": "code",
        "colab": {}
      },
      "source": [
        "df_new['tag_predicted'] = df_new[\"tag_predicted\"].astype(str)\n",
        "df_new['tags_pred'] = df_new['tag_predicted'].apply(lambda x: clean_text(x))"
      ],
      "execution_count": 61,
      "outputs": []
    },
    {
      "cell_type": "code",
      "metadata": {
        "id": "GNoffgUm_0mn",
        "colab_type": "code",
        "colab": {
          "base_uri": "https://localhost:8080/",
          "height": 123
        },
        "outputId": "e3de3b65-2e6a-4d28-dd11-567e0ef19cf7"
      },
      "source": [
        "df_new.tags_pred.head(5)"
      ],
      "execution_count": 62,
      "outputs": [
        {
          "output_type": "execute_result",
          "data": {
            "text/plain": [
              "0           projectiles\n",
              "1    ehc hard technique\n",
              "2           projectiles\n",
              "3           projectiles\n",
              "4           projectiles\n",
              "Name: tags_pred, dtype: object"
            ]
          },
          "metadata": {
            "tags": []
          },
          "execution_count": 62
        }
      ]
    },
    {
      "cell_type": "code",
      "metadata": {
        "id": "jEsi-xF5BmUi",
        "colab_type": "code",
        "colab": {}
      },
      "source": [
        "#pickle that data for use in other files\n",
        "import pickle\n",
        "s = pickle.dumps(clf)\n"
      ],
      "execution_count": 65,
      "outputs": []
    },
    {
      "cell_type": "code",
      "metadata": {
        "id": "zIkfzBslBSPs",
        "colab_type": "code",
        "colab": {
          "base_uri": "https://localhost:8080/",
          "height": 240
        },
        "outputId": "7f642847-1966-49ba-a3d4-93991eb9cf75"
      },
      "source": [
        "clf2 = pickle.loads(s)\n",
        "def clean_text(text):\n",
        "    # remove backslash-apostrophe\n",
        "    text = re.sub(\"\\'\", \"\", text)\n",
        "    # remove everything alphabets\n",
        "    text = re.sub(\"[^a-zA-Z]\",\" \",text)\n",
        "    # remove whitespaces\n",
        "    text = ' '.join(text.split())\n",
        "    # convert text to lowercase\n",
        "    text = text.lower()\n",
        "    return text\n",
        "\n",
        "#what format will new data be received?\n",
        "X = new_data\n",
        "X_tfidf = tfidf_vectorizer.transform(X)\n",
        "new_pred = clf2.predict(X_tfidf)\n",
        "new_tags = multilabel_binarizer.inverse_transform(new_pred)\n",
        "clean_tags = new_tags.apply(lambda x: clean_text(x))"
      ],
      "execution_count": 66,
      "outputs": [
        {
          "output_type": "error",
          "ename": "NameError",
          "evalue": "ignored",
          "traceback": [
            "\u001b[0;31m---------------------------------------------------------------------------\u001b[0m",
            "\u001b[0;31mNameError\u001b[0m                                 Traceback (most recent call last)",
            "\u001b[0;32m<ipython-input-66-242ab8f3b830>\u001b[0m in \u001b[0;36m<module>\u001b[0;34m()\u001b[0m\n\u001b[1;32m     10\u001b[0m     \u001b[0mtext\u001b[0m \u001b[0;34m=\u001b[0m \u001b[0mtext\u001b[0m\u001b[0;34m.\u001b[0m\u001b[0mlower\u001b[0m\u001b[0;34m(\u001b[0m\u001b[0;34m)\u001b[0m\u001b[0;34m\u001b[0m\u001b[0;34m\u001b[0m\u001b[0m\n\u001b[1;32m     11\u001b[0m     \u001b[0;32mreturn\u001b[0m \u001b[0mtext\u001b[0m\u001b[0;34m\u001b[0m\u001b[0;34m\u001b[0m\u001b[0m\n\u001b[0;32m---> 12\u001b[0;31m \u001b[0mX\u001b[0m \u001b[0;34m=\u001b[0m \u001b[0mnew_data\u001b[0m\u001b[0;34m\u001b[0m\u001b[0;34m\u001b[0m\u001b[0m\n\u001b[0m\u001b[1;32m     13\u001b[0m \u001b[0mX_tfidf\u001b[0m \u001b[0;34m=\u001b[0m \u001b[0mtfidf_vectorizer\u001b[0m\u001b[0;34m.\u001b[0m\u001b[0mtransform\u001b[0m\u001b[0;34m(\u001b[0m\u001b[0;34m)\u001b[0m\u001b[0;34m\u001b[0m\u001b[0;34m\u001b[0m\u001b[0m\n\u001b[1;32m     14\u001b[0m \u001b[0mnew_pred\u001b[0m \u001b[0;34m=\u001b[0m \u001b[0mclf2\u001b[0m\u001b[0;34m.\u001b[0m\u001b[0mpredict\u001b[0m\u001b[0;34m(\u001b[0m\u001b[0mX_tfidf\u001b[0m\u001b[0;34m)\u001b[0m\u001b[0;34m\u001b[0m\u001b[0;34m\u001b[0m\u001b[0m\n",
            "\u001b[0;31mNameError\u001b[0m: name 'new_data' is not defined"
          ]
        }
      ]
    }
  ]
}